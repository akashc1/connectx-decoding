{
 "cells": [
  {
   "cell_type": "code",
   "execution_count": 45,
   "id": "ee11766a",
   "metadata": {},
   "outputs": [],
   "source": [
    "import torch\n",
    "from train import get_data\n",
    "from models import MovementPredictor\n",
    "from util.data import ROIS\n",
    "import numpy as np\n",
    "import pandas as pd"
   ]
  },
  {
   "cell_type": "code",
   "execution_count": 16,
   "id": "7a7559e9",
   "metadata": {},
   "outputs": [],
   "source": [
    "device = torch.device('cuda')\n",
    "model = MovementPredictor(\n",
    "    num_regions=len(ROIS),\n",
    "    hidden_dim=512,\n",
    "    num_convs=1,\n",
    "    attn_hidden_dim=256,\n",
    "    t_in=120,\n",
    ").to(device)"
   ]
  },
  {
   "cell_type": "code",
   "execution_count": 17,
   "id": "9d2b12bc",
   "metadata": {},
   "outputs": [
    {
     "data": {
      "text/plain": [
       "MovementPredictor(\n",
       "  (region_embed): Embedding(4, 512)\n",
       "  (initial_conv): Conv1d(1, 512, kernel_size=(25,), stride=(1,), padding=(12,))\n",
       "  (convs): Sequential(\n",
       "    (0): Conv1d(512, 512, kernel_size=(25,), stride=(1,), padding=(12,))\n",
       "    (1): ReLU()\n",
       "  )\n",
       "  (pre_attn_proj): Linear(in_features=61440, out_features=512, bias=True)\n",
       "  (attn): RegionAttention(\n",
       "    (val_proj): Linear(in_features=512, out_features=256, bias=True)\n",
       "    (key_proj): Linear(in_features=512, out_features=256, bias=True)\n",
       "    (query_proj): Linear(in_features=512, out_features=256, bias=True)\n",
       "    (out_proj): Linear(in_features=256, out_features=512, bias=True)\n",
       "  )\n",
       "  (mlp): MLP(\n",
       "    (initial_proj): Linear(in_features=512, out_features=512, bias=True)\n",
       "    (mlp): Sequential(\n",
       "      (0): Linear(in_features=512, out_features=512, bias=True)\n",
       "      (1): GELU(approximate='none')\n",
       "      (2): Linear(in_features=512, out_features=512, bias=True)\n",
       "      (3): GELU(approximate='none')\n",
       "      (4): Linear(in_features=512, out_features=512, bias=True)\n",
       "      (5): GELU(approximate='none')\n",
       "    )\n",
       "    (out_proj): Linear(in_features=512, out_features=256, bias=True)\n",
       "  )\n",
       "  (final_proj): Linear(in_features=1024, out_features=1, bias=True)\n",
       ")"
      ]
     },
     "execution_count": 17,
     "metadata": {},
     "output_type": "execute_result"
    }
   ],
   "source": [
    "model"
   ]
  },
  {
   "cell_type": "code",
   "execution_count": 18,
   "id": "13de4a46",
   "metadata": {},
   "outputs": [],
   "source": [
    "state_dict = torch.load('model.pt')"
   ]
  },
  {
   "cell_type": "code",
   "execution_count": 19,
   "id": "b721a247",
   "metadata": {},
   "outputs": [
    {
     "data": {
      "text/plain": [
       "<All keys matched successfully>"
      ]
     },
     "execution_count": 19,
     "metadata": {},
     "output_type": "execute_result"
    }
   ],
   "source": [
    "model.load_state_dict(state_dict)"
   ]
  },
  {
   "cell_type": "code",
   "execution_count": 93,
   "id": "a0a08811",
   "metadata": {},
   "outputs": [
    {
     "data": {
      "text/plain": [
       "(tensor([[0.1302]], device='cuda:0', grad_fn=<AddmmBackward0>),\n",
       " tensor([[[[0., 1., 0., 0.],\n",
       "           [1., 0., 0., 0.],\n",
       "           [1., 0., 0., 0.],\n",
       "           [0., 0., 0., 1.]]]], device='cuda:0', grad_fn=<SoftmaxBackward0>))"
      ]
     },
     "execution_count": 93,
     "metadata": {},
     "output_type": "execute_result"
    }
   ],
   "source": [
    "model(x_torch)"
   ]
  },
  {
   "cell_type": "code",
   "execution_count": 81,
   "id": "41d19031",
   "metadata": {},
   "outputs": [
    {
     "name": "stdout",
     "output_type": "stream",
     "text": [
      "Loading cached data from /scratch/users/akashc/misc_proj/cs339n/final/connectx-decoding/data/raw_data_t0.05.pkl\n",
      "Recording ee8b36de-779f-4dea-901f-e0141c95722b: 551 trials, T=120\n",
      "(551, 120) (551,)\n",
      "(551, 120) (551,)\n",
      "(551, 120) (551,)\n",
      "(551, 120) (551,)\n",
      "eid='ee8b36de-779f-4dea-901f-e0141c95722b' all_inputs[-1].shape=(551, 4, 120)\n",
      "Recording 81a78eac-9d36-4f90-a73a-7eb3ad7f770b: 1103 trials, T=120\n",
      "(1103, 120) (1103,)\n",
      "(1103, 120) (1103,)\n",
      "(1103, 120) (1103,)\n",
      "(1103, 120) (1103,)\n",
      "eid='81a78eac-9d36-4f90-a73a-7eb3ad7f770b' all_inputs[-1].shape=(1103, 4, 120)\n",
      "Recording 88d24c31-52e4-49cc-9f32-6adbeb9eba87: 545 trials, T=120\n",
      "(545, 120) (545,)\n",
      "(545, 120) (545,)\n",
      "(545, 120) (545,)\n",
      "(545, 120) (545,)\n",
      "eid='88d24c31-52e4-49cc-9f32-6adbeb9eba87' all_inputs[-1].shape=(545, 4, 120)\n",
      "(2199, 4, 120) (2199, 4)\n",
      "Num blank trials:  0\n"
     ]
    }
   ],
   "source": [
    "tr_dataset, _ = get_data()\n",
    "tr_loader = torch.utils.data.DataLoader(tr_dataset, batch_size=256)"
   ]
  },
  {
   "cell_type": "code",
   "execution_count": 82,
   "id": "23fb4253",
   "metadata": {},
   "outputs": [],
   "source": [
    "results = []\n",
    "for x, _ in tr_loader:\n",
    "    x = x.to(device).float()\n",
    "    _, attn_weights = model(x)\n",
    "    results.append(attn_weights)\n",
    "    \n",
    "all_attn_weights = torch.cat(results)"
   ]
  },
  {
   "cell_type": "code",
   "execution_count": 83,
   "id": "b2bae41a",
   "metadata": {},
   "outputs": [
    {
     "data": {
      "text/plain": [
       "torch.Size([1979, 1, 4, 4])"
      ]
     },
     "execution_count": 83,
     "metadata": {},
     "output_type": "execute_result"
    }
   ],
   "source": [
    "all_attn_weights.shape"
   ]
  },
  {
   "cell_type": "code",
   "execution_count": 87,
   "id": "085e543f",
   "metadata": {},
   "outputs": [],
   "source": [
    "sum_attn_weights = all_attn_weights.squeeze().sum(0)\n",
    "# norm_train_attn_weights = "
   ]
  },
  {
   "cell_type": "code",
   "execution_count": 89,
   "id": "fe808a2a",
   "metadata": {},
   "outputs": [],
   "source": [
    "norm_tr_attn_weights = sum_attn_weights / sum_attn_weights.sum(1, keepdim=True)"
   ]
  },
  {
   "cell_type": "code",
   "execution_count": 90,
   "id": "69eb27fd",
   "metadata": {},
   "outputs": [
    {
     "data": {
      "text/plain": [
       "tensor([[0., 1., 0., 0.],\n",
       "        [1., 0., 0., 0.],\n",
       "        [1., 0., 0., 0.],\n",
       "        [0., 0., 0., 1.]], device='cuda:0', grad_fn=<DivBackward0>)"
      ]
     },
     "execution_count": 90,
     "metadata": {},
     "output_type": "execute_result"
    }
   ],
   "source": [
    "norm_tr_attn_weights"
   ]
  },
  {
   "cell_type": "code",
   "execution_count": 66,
   "id": "0a2bdeb3",
   "metadata": {},
   "outputs": [],
   "source": [
    "region_map = {\n",
    "    0: ['ACB', 'FS'],\n",
    "    1: 'CP',\n",
    "    2: 'MOp',\n",
    "    3: 'MOs',\n",
    "}\n",
    "\n",
    "def get_connectome_mat(file='proj_strengths.xlsx'):\n",
    "    projectome = pd.read_excel(file, sheet_name='W_ipsi', index_col=0)\n",
    "    mat = np.zeros((len(ROIS), len(ROIS)))\n",
    "    for i, r_src in region_map.items():\n",
    "        for j, r_tgt in region_map.items():\n",
    "            res = projectome.loc[r_src, r_tgt].sum()\n",
    "            if isinstance(res, pd.Series):\n",
    "                res = res.sum()\n",
    "\n",
    "            mat[i, j] = res\n",
    "    \n",
    "    mat /= mat.sum(1, keepdims=True)\n",
    "    \n",
    "    return mat"
   ]
  },
  {
   "cell_type": "code",
   "execution_count": 77,
   "id": "ebc0f690",
   "metadata": {},
   "outputs": [
    {
     "name": "stderr",
     "output_type": "stream",
     "text": [
      "/home/groups/willhies/anaconda3/envs/sutr/lib/python3.10/site-packages/openpyxl/worksheet/header_footer.py:48: UserWarning: Cannot parse header or footer so it will be ignored\n",
      "  warn(\"\"\"Cannot parse header or footer so it will be ignored\"\"\")\n"
     ]
    },
    {
     "data": {
      "text/plain": [
       "Text(0.5, 1.0, 'Connectome-derived projection strengths')"
      ]
     },
     "execution_count": 77,
     "metadata": {},
     "output_type": "execute_result"
    },
    {
     "data": {
      "image/png": "[encoded data removed]",
      "text/plain": [
       "<Figure size 640x480 with 2 Axes>"
      ]
     },
     "metadata": {},
     "output_type": "display_data"
    }
   ],
   "source": [
    "from matplotlib import pyplot as plt\n",
    "%matplotlib inline\n",
    "plt.figure()\n",
    "ax = plt.gca()\n",
    "ax.set_xticks(np.arange(len(ROIS)), labels=ROIS)\n",
    "ax.set_yticks(np.arange(len(ROIS)), labels=ROIS)\n",
    "\n",
    "plt.imshow(get_connectome_mat())\n",
    "plt.colorbar()\n",
    "plt.title('Connectome-derived projection strengths')"
   ]
  },
  {
   "cell_type": "code",
   "execution_count": 92,
   "id": "89221ca2",
   "metadata": {},
   "outputs": [
    {
     "data": {
      "text/plain": [
       "Text(0.5, 1.0, 'Learned inter-region projection strengths')"
      ]
     },
     "execution_count": 92,
     "metadata": {},
     "output_type": "execute_result"
    },
    {
     "data": {
      "image/png": "[encoded data removed]",
      "text/plain": [
       "<Figure size 640x480 with 2 Axes>"
      ]
     },
     "metadata": {},
     "output_type": "display_data"
    }
   ],
   "source": [
    "norm_tr_attn_weights = norm_tr_attn_weights.detach().cpu().numpy()\n",
    "\n",
    "plt.figure()\n",
    "ax = plt.gca()\n",
    "ax.set_xticks(np.arange(len(ROIS)), labels=ROIS)\n",
    "ax.set_yticks(np.arange(len(ROIS)), labels=ROIS)\n",
    "\n",
    "plt.imshow(norm_tr_attn_weights)\n",
    "plt.colorbar()\n",
    "plt.title('Learned inter-region projection strengths')"
   ]
  }
 ],
 "metadata": {
  "kernelspec": {
   "display_name": "Python 3 (ipykernel)",
   "language": "python",
   "name": "python3"
  },
  "language_info": {
   "codemirror_mode": {
    "name": "ipython",
    "version": 3
   },
   "file_extension": ".py",
   "mimetype": "text/x-python",
   "name": "python",
   "nbconvert_exporter": "python",
   "pygments_lexer": "ipython3",
   "version": "3.10.6"
  }
 },
 "nbformat": 4,
 "nbformat_minor": 5
}
