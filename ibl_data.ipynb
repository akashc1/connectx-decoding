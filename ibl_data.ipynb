{
  "nbformat": 4,
  "nbformat_minor": 0,
  "metadata": {
    "colab": {
      "provenance": []
    },
    "kernelspec": {
      "name": "python3",
      "display_name": "Python 3"
    },
    "language_info": {
      "name": "python"
    }
  },
  "cells": [
    {
      "cell_type": "markdown",
      "source": [
        "First let's set up the environment by installing the required packages and importing them. We'll also setup a connection with the database using the ONE api."
      ],
      "metadata": {
        "id": "21RJnx0ZBhIo"
      }
    },
    {
      "cell_type": "code",
      "execution_count": null,
      "metadata": {
        "id": "klbBkBIjBYYT",
        "colab": {
          "base_uri": "https://localhost:8080/",
          "height": 1000
        },
        "outputId": "daad9c53-6b7e-4fa5-facf-5a8f5b4bc1af"
      },
      "outputs": [
        {
          "output_type": "stream",
          "name": "stdout",
          "text": [
            "Looking in indexes: https://pypi.org/simple, https://us-python.pkg.dev/colab-wheels/public/simple/\n",
            "Collecting ONE-api\n",
            "  Downloading ONE_api-1.16.3-py3-none-any.whl (96 kB)\n",
            "\u001b[K     |████████████████████████████████| 96 kB 4.7 MB/s \n",
            "\u001b[?25hRequirement already satisfied: packaging in /usr/local/lib/python3.8/dist-packages (from ONE-api) (21.3)\n",
            "Requirement already satisfied: pandas>=1.2.4 in /usr/local/lib/python3.8/dist-packages (from ONE-api) (1.3.5)\n",
            "Requirement already satisfied: tqdm>=4.32.1 in /usr/local/lib/python3.8/dist-packages (from ONE-api) (4.64.1)\n",
            "Collecting flake8>=3.7.8\n",
            "  Downloading flake8-6.0.0-py2.py3-none-any.whl (57 kB)\n",
            "\u001b[K     |████████████████████████████████| 57 kB 6.6 MB/s \n",
            "\u001b[?25hRequirement already satisfied: numpy>=1.18 in /usr/local/lib/python3.8/dist-packages (from ONE-api) (1.21.6)\n",
            "Requirement already satisfied: requests>=2.22.0 in /usr/local/lib/python3.8/dist-packages (from ONE-api) (2.23.0)\n",
            "Collecting boto3\n",
            "  Downloading boto3-1.26.35-py3-none-any.whl (132 kB)\n",
            "\u001b[K     |████████████████████████████████| 132 kB 64.8 MB/s \n",
            "\u001b[?25hCollecting iblutil>=1.1.0\n",
            "  Downloading iblutil-1.4.0-py3-none-any.whl (27 kB)\n",
            "Requirement already satisfied: pyyaml in /usr/local/lib/python3.8/dist-packages (from ONE-api) (6.0)\n",
            "Collecting mccabe<0.8.0,>=0.7.0\n",
            "  Downloading mccabe-0.7.0-py2.py3-none-any.whl (7.3 kB)\n",
            "Collecting pyflakes<3.1.0,>=3.0.0\n",
            "  Downloading pyflakes-3.0.1-py2.py3-none-any.whl (62 kB)\n",
            "\u001b[K     |████████████████████████████████| 62 kB 1.6 MB/s \n",
            "\u001b[?25hCollecting pycodestyle<2.11.0,>=2.10.0\n",
            "  Downloading pycodestyle-2.10.0-py2.py3-none-any.whl (41 kB)\n",
            "\u001b[K     |████████████████████████████████| 41 kB 272 kB/s \n",
            "\u001b[?25hCollecting colorlog>=6.0.0\n",
            "  Downloading colorlog-6.7.0-py2.py3-none-any.whl (11 kB)\n",
            "Requirement already satisfied: numba in /usr/local/lib/python3.8/dist-packages (from iblutil>=1.1.0->ONE-api) (0.56.4)\n",
            "Requirement already satisfied: pyarrow in /usr/local/lib/python3.8/dist-packages (from iblutil>=1.1.0->ONE-api) (9.0.0)\n",
            "Requirement already satisfied: pytz>=2017.3 in /usr/local/lib/python3.8/dist-packages (from pandas>=1.2.4->ONE-api) (2022.6)\n",
            "Requirement already satisfied: python-dateutil>=2.7.3 in /usr/local/lib/python3.8/dist-packages (from pandas>=1.2.4->ONE-api) (2.8.2)\n",
            "Requirement already satisfied: six>=1.5 in /usr/local/lib/python3.8/dist-packages (from python-dateutil>=2.7.3->pandas>=1.2.4->ONE-api) (1.15.0)\n",
            "Requirement already satisfied: urllib3!=1.25.0,!=1.25.1,<1.26,>=1.21.1 in /usr/local/lib/python3.8/dist-packages (from requests>=2.22.0->ONE-api) (1.24.3)\n",
            "Requirement already satisfied: idna<3,>=2.5 in /usr/local/lib/python3.8/dist-packages (from requests>=2.22.0->ONE-api) (2.10)\n",
            "Requirement already satisfied: certifi>=2017.4.17 in /usr/local/lib/python3.8/dist-packages (from requests>=2.22.0->ONE-api) (2022.12.7)\n",
            "Requirement already satisfied: chardet<4,>=3.0.2 in /usr/local/lib/python3.8/dist-packages (from requests>=2.22.0->ONE-api) (3.0.4)\n",
            "Collecting jmespath<2.0.0,>=0.7.1\n",
            "  Downloading jmespath-1.0.1-py3-none-any.whl (20 kB)\n",
            "Collecting s3transfer<0.7.0,>=0.6.0\n",
            "  Downloading s3transfer-0.6.0-py3-none-any.whl (79 kB)\n",
            "\u001b[K     |████████████████████████████████| 79 kB 9.7 MB/s \n",
            "\u001b[?25hCollecting botocore<1.30.0,>=1.29.35\n",
            "  Downloading botocore-1.29.35-py3-none-any.whl (10.3 MB)\n",
            "\u001b[K     |████████████████████████████████| 10.3 MB 38.6 MB/s \n",
            "\u001b[?25hCollecting urllib3!=1.25.0,!=1.25.1,<1.26,>=1.21.1\n",
            "  Downloading urllib3-1.25.11-py2.py3-none-any.whl (127 kB)\n",
            "\u001b[K     |████████████████████████████████| 127 kB 49.3 MB/s \n",
            "\u001b[?25hRequirement already satisfied: llvmlite<0.40,>=0.39.0dev0 in /usr/local/lib/python3.8/dist-packages (from numba->iblutil>=1.1.0->ONE-api) (0.39.1)\n",
            "Requirement already satisfied: setuptools in /usr/local/lib/python3.8/dist-packages (from numba->iblutil>=1.1.0->ONE-api) (57.4.0)\n",
            "Requirement already satisfied: importlib-metadata in /usr/local/lib/python3.8/dist-packages (from numba->iblutil>=1.1.0->ONE-api) (5.1.0)\n",
            "Requirement already satisfied: zipp>=0.5 in /usr/local/lib/python3.8/dist-packages (from importlib-metadata->numba->iblutil>=1.1.0->ONE-api) (3.11.0)\n",
            "Requirement already satisfied: pyparsing!=3.0.5,>=2.0.2 in /usr/local/lib/python3.8/dist-packages (from packaging->ONE-api) (3.0.9)\n",
            "Installing collected packages: urllib3, jmespath, botocore, s3transfer, pyflakes, pycodestyle, mccabe, colorlog, iblutil, flake8, boto3, ONE-api\n",
            "  Attempting uninstall: urllib3\n",
            "    Found existing installation: urllib3 1.24.3\n",
            "    Uninstalling urllib3-1.24.3:\n",
            "      Successfully uninstalled urllib3-1.24.3\n",
            "Successfully installed ONE-api-1.16.3 boto3-1.26.35 botocore-1.29.35 colorlog-6.7.0 flake8-6.0.0 iblutil-1.4.0 jmespath-1.0.1 mccabe-0.7.0 pycodestyle-2.10.0 pyflakes-3.0.1 s3transfer-0.6.0 urllib3-1.25.11\n",
            "Looking in indexes: https://pypi.org/simple, https://us-python.pkg.dev/colab-wheels/public/simple/\n",
            "Collecting ibllib\n",
            "  Downloading ibllib-2.19.0-py3-none-any.whl (8.6 MB)\n",
            "\u001b[K     |████████████████████████████████| 8.6 MB 28.4 MB/s \n",
            "\u001b[?25hRequirement already satisfied: opencv-python in /usr/local/lib/python3.8/dist-packages (from ibllib) (4.6.0.66)\n",
            "Requirement already satisfied: seaborn>=0.9.0 in /usr/local/lib/python3.8/dist-packages (from ibllib) (0.11.2)\n",
            "Requirement already satisfied: pandas>=0.24.2 in /usr/local/lib/python3.8/dist-packages (from ibllib) (1.3.5)\n",
            "Requirement already satisfied: numpy>=1.18 in /usr/local/lib/python3.8/dist-packages (from ibllib) (1.21.6)\n",
            "Requirement already satisfied: graphviz in /usr/local/lib/python3.8/dist-packages (from ibllib) (0.10.1)\n",
            "Collecting ibl-neuropixel>=0.4.0\n",
            "  Downloading ibl_neuropixel-0.4.1-py3-none-any.whl (47 kB)\n",
            "\u001b[K     |████████████████████████████████| 47 kB 6.0 MB/s \n",
            "\u001b[?25hRequirement already satisfied: matplotlib>=3.0.3 in /usr/local/lib/python3.8/dist-packages (from ibllib) (3.2.2)\n",
            "Requirement already satisfied: ONE-api>=1.16.1 in /usr/local/lib/python3.8/dist-packages (from ibllib) (1.16.3)\n",
            "Requirement already satisfied: pytest in /usr/local/lib/python3.8/dist-packages (from ibllib) (3.6.4)\n",
            "Requirement already satisfied: flake8>=3.7.8 in /usr/local/lib/python3.8/dist-packages (from ibllib) (6.0.0)\n",
            "Collecting wfield>=0.3.6\n",
            "  Downloading wfield-0.3.7-py3-none-any.whl (87 kB)\n",
            "\u001b[K     |████████████████████████████████| 87 kB 8.6 MB/s \n",
            "\u001b[?25hRequirement already satisfied: colorlog>=4.0.2 in /usr/local/lib/python3.8/dist-packages (from ibllib) (6.7.0)\n",
            "Collecting jupyter>=1.0\n",
            "  Downloading jupyter-1.0.0-py2.py3-none-any.whl (2.7 kB)\n",
            "Requirement already satisfied: tqdm>=4.32.1 in /usr/local/lib/python3.8/dist-packages (from ibllib) (4.64.1)\n",
            "Collecting jupyterlab>=1.0\n",
            "  Downloading jupyterlab-3.5.2-py3-none-any.whl (8.8 MB)\n",
            "\u001b[K     |████████████████████████████████| 8.8 MB 41.8 MB/s \n",
            "\u001b[?25hCollecting globus-sdk==3.2.1\n",
            "  Downloading globus_sdk-3.2.1-py3-none-any.whl (131 kB)\n",
            "\u001b[K     |████████████████████████████████| 131 kB 41.7 MB/s \n",
            "\u001b[?25hCollecting nptdms\n",
            "  Downloading npTDMS-1.6.0.tar.gz (175 kB)\n",
            "\u001b[K     |████████████████████████████████| 175 kB 74.9 MB/s \n",
            "\u001b[?25hRequirement already satisfied: requests>=2.22.0 in /usr/local/lib/python3.8/dist-packages (from ibllib) (2.23.0)\n",
            "Requirement already satisfied: scikit-learn>=0.22.1 in /usr/local/lib/python3.8/dist-packages (from ibllib) (1.0.2)\n",
            "Collecting mtscomp>=1.0.1\n",
            "  Downloading mtscomp-1.0.2-py2.py3-none-any.whl (16 kB)\n",
            "Requirement already satisfied: scipy>=1.3.0 in /usr/local/lib/python3.8/dist-packages (from ibllib) (1.7.3)\n",
            "Collecting phylib>=2.4\n",
            "  Downloading phylib-2.4.3-py2.py3-none-any.whl (80 kB)\n",
            "\u001b[K     |████████████████████████████████| 80 kB 10.8 MB/s \n",
            "\u001b[?25hRequirement already satisfied: boto3 in /usr/local/lib/python3.8/dist-packages (from ibllib) (1.26.35)\n",
            "Collecting labcams\n",
            "  Downloading labcams-0.6.5-py3-none-any.whl (93 kB)\n",
            "\u001b[K     |████████████████████████████████| 93 kB 2.4 MB/s \n",
            "\u001b[?25hRequirement already satisfied: iblutil>=1.4.0 in /usr/local/lib/python3.8/dist-packages (from ibllib) (1.4.0)\n",
            "Requirement already satisfied: numba>=0.56 in /usr/local/lib/python3.8/dist-packages (from ibllib) (0.56.4)\n",
            "Requirement already satisfied: pyarrow in /usr/local/lib/python3.8/dist-packages (from ibllib) (9.0.0)\n",
            "Collecting slidingRP>=1.0.0\n",
            "  Downloading slidingRP-1.0.0-py3-none-any.whl (25 kB)\n",
            "Collecting pynrrd>=0.4.0\n",
            "  Downloading pynrrd-1.0.0-py2.py3-none-any.whl (19 kB)\n",
            "Requirement already satisfied: click>=7.0.0 in /usr/local/lib/python3.8/dist-packages (from ibllib) (7.1.2)\n",
            "Collecting pyjwt[crypto]<3.0.0,>=2.0.0\n",
            "  Downloading PyJWT-2.6.0-py3-none-any.whl (20 kB)\n",
            "Collecting cryptography!=3.4.0,>=3.3.1\n",
            "  Downloading cryptography-38.0.4-cp36-abi3-manylinux_2_24_x86_64.whl (4.0 MB)\n",
            "\u001b[K     |████████████████████████████████| 4.0 MB 63.7 MB/s \n",
            "\u001b[?25hRequirement already satisfied: cffi>=1.12 in /usr/local/lib/python3.8/dist-packages (from cryptography!=3.4.0,>=3.3.1->globus-sdk==3.2.1->ibllib) (1.15.1)\n",
            "Requirement already satisfied: pycparser in /usr/local/lib/python3.8/dist-packages (from cffi>=1.12->cryptography!=3.4.0,>=3.3.1->globus-sdk==3.2.1->ibllib) (2.21)\n",
            "Requirement already satisfied: mccabe<0.8.0,>=0.7.0 in /usr/local/lib/python3.8/dist-packages (from flake8>=3.7.8->ibllib) (0.7.0)\n",
            "Requirement already satisfied: pyflakes<3.1.0,>=3.0.0 in /usr/local/lib/python3.8/dist-packages (from flake8>=3.7.8->ibllib) (3.0.1)\n",
            "Requirement already satisfied: pycodestyle<2.11.0,>=2.10.0 in /usr/local/lib/python3.8/dist-packages (from flake8>=3.7.8->ibllib) (2.10.0)\n",
            "Requirement already satisfied: joblib in /usr/local/lib/python3.8/dist-packages (from ibl-neuropixel>=0.4.0->ibllib) (1.2.0)\n",
            "Collecting qtconsole\n",
            "  Downloading qtconsole-5.4.0-py3-none-any.whl (121 kB)\n",
            "\u001b[K     |████████████████████████████████| 121 kB 54.0 MB/s \n",
            "\u001b[?25hRequirement already satisfied: nbconvert in /usr/local/lib/python3.8/dist-packages (from jupyter>=1.0->ibllib) (5.6.1)\n",
            "Requirement already satisfied: ipywidgets in /usr/local/lib/python3.8/dist-packages (from jupyter>=1.0->ibllib) (7.7.1)\n",
            "Requirement already satisfied: notebook in /usr/local/lib/python3.8/dist-packages (from jupyter>=1.0->ibllib) (5.7.16)\n",
            "Requirement already satisfied: jupyter-console in /usr/local/lib/python3.8/dist-packages (from jupyter>=1.0->ibllib) (6.1.0)\n",
            "Requirement already satisfied: ipykernel in /usr/local/lib/python3.8/dist-packages (from jupyter>=1.0->ibllib) (5.3.4)\n",
            "Collecting nbclassic\n",
            "  Downloading nbclassic-0.4.8-py3-none-any.whl (9.8 MB)\n",
            "\u001b[K     |████████████████████████████████| 9.8 MB 66.9 MB/s \n",
            "\u001b[?25hCollecting jupyterlab-server~=2.10\n",
            "  Downloading jupyterlab_server-2.16.5-py3-none-any.whl (54 kB)\n",
            "\u001b[K     |████████████████████████████████| 54 kB 3.2 MB/s \n",
            "\u001b[?25hRequirement already satisfied: ipython in /usr/local/lib/python3.8/dist-packages (from jupyterlab>=1.0->ibllib) (7.9.0)\n",
            "Requirement already satisfied: jupyter-core in /usr/local/lib/python3.8/dist-packages (from jupyterlab>=1.0->ibllib) (5.1.0)\n",
            "Requirement already satisfied: jinja2>=2.1 in /usr/local/lib/python3.8/dist-packages (from jupyterlab>=1.0->ibllib) (2.11.3)\n",
            "Requirement already satisfied: tomli in /usr/local/lib/python3.8/dist-packages (from jupyterlab>=1.0->ibllib) (2.0.1)\n",
            "Requirement already satisfied: packaging in /usr/local/lib/python3.8/dist-packages (from jupyterlab>=1.0->ibllib) (21.3)\n",
            "Collecting jupyter-server<3,>=1.16.0\n",
            "  Downloading jupyter_server-2.0.4-py3-none-any.whl (361 kB)\n",
            "\u001b[K     |████████████████████████████████| 361 kB 64.4 MB/s \n",
            "\u001b[?25hCollecting tornado>=6.1.0\n",
            "  Downloading tornado-6.2-cp37-abi3-manylinux_2_5_x86_64.manylinux1_x86_64.manylinux_2_17_x86_64.manylinux2014_x86_64.whl (423 kB)\n",
            "\u001b[K     |████████████████████████████████| 423 kB 74.0 MB/s \n",
            "\u001b[?25hRequirement already satisfied: MarkupSafe>=0.23 in /usr/local/lib/python3.8/dist-packages (from jinja2>=2.1->jupyterlab>=1.0->ibllib) (2.0.1)\n",
            "Collecting jupyter-server-terminals\n",
            "  Downloading jupyter_server_terminals-0.4.3-py3-none-any.whl (13 kB)\n",
            "Collecting jupyter-client>=7.4.4\n",
            "  Downloading jupyter_client-7.4.8-py3-none-any.whl (133 kB)\n",
            "\u001b[K     |████████████████████████████████| 133 kB 82.2 MB/s \n",
            "\u001b[?25hRequirement already satisfied: nbformat>=5.3.0 in /usr/local/lib/python3.8/dist-packages (from jupyter-server<3,>=1.16.0->jupyterlab>=1.0->ibllib) (5.7.0)\n",
            "Collecting argon2-cffi\n",
            "  Downloading argon2_cffi-21.3.0-py3-none-any.whl (14 kB)\n",
            "Collecting jupyter-events>=0.4.0\n",
            "  Downloading jupyter_events-0.5.0-py3-none-any.whl (17 kB)\n",
            "Requirement already satisfied: send2trash in /usr/local/lib/python3.8/dist-packages (from jupyter-server<3,>=1.16.0->jupyterlab>=1.0->ibllib) (1.8.0)\n",
            "Requirement already satisfied: traitlets>=5.6.0 in /usr/local/lib/python3.8/dist-packages (from jupyter-server<3,>=1.16.0->jupyterlab>=1.0->ibllib) (5.7.1)\n",
            "Collecting anyio<4,>=3.1.0\n",
            "  Downloading anyio-3.6.2-py3-none-any.whl (80 kB)\n",
            "\u001b[K     |████████████████████████████████| 80 kB 10.4 MB/s \n",
            "\u001b[?25hCollecting websocket-client\n",
            "  Downloading websocket_client-1.4.2-py3-none-any.whl (55 kB)\n",
            "\u001b[K     |████████████████████████████████| 55 kB 4.3 MB/s \n",
            "\u001b[?25hCollecting nbconvert\n",
            "  Downloading nbconvert-7.2.7-py3-none-any.whl (273 kB)\n",
            "\u001b[K     |████████████████████████████████| 273 kB 57.9 MB/s \n",
            "\u001b[?25hRequirement already satisfied: terminado>=0.8.3 in /usr/local/lib/python3.8/dist-packages (from jupyter-server<3,>=1.16.0->jupyterlab>=1.0->ibllib) (0.13.3)\n",
            "Collecting pyzmq>=24\n",
            "  Downloading pyzmq-24.0.1-cp38-cp38-manylinux_2_12_x86_64.manylinux2010_x86_64.whl (1.1 MB)\n",
            "\u001b[K     |████████████████████████████████| 1.1 MB 63.9 MB/s \n",
            "\u001b[?25hRequirement already satisfied: prometheus-client in /usr/local/lib/python3.8/dist-packages (from jupyter-server<3,>=1.16.0->jupyterlab>=1.0->ibllib) (0.15.0)\n",
            "Collecting sniffio>=1.1\n",
            "  Downloading sniffio-1.3.0-py3-none-any.whl (10 kB)\n",
            "Requirement already satisfied: idna>=2.8 in /usr/local/lib/python3.8/dist-packages (from anyio<4,>=3.1.0->jupyter-server<3,>=1.16.0->jupyterlab>=1.0->ibllib) (2.10)\n",
            "Requirement already satisfied: entrypoints in /usr/local/lib/python3.8/dist-packages (from jupyter-client>=7.4.4->jupyter-server<3,>=1.16.0->jupyterlab>=1.0->ibllib) (0.4)\n",
            "Collecting nest-asyncio>=1.5.4\n",
            "  Downloading nest_asyncio-1.5.6-py3-none-any.whl (5.2 kB)\n",
            "Requirement already satisfied: python-dateutil>=2.8.2 in /usr/local/lib/python3.8/dist-packages (from jupyter-client>=7.4.4->jupyter-server<3,>=1.16.0->jupyterlab>=1.0->ibllib) (2.8.2)\n",
            "Requirement already satisfied: platformdirs>=2.5 in /usr/local/lib/python3.8/dist-packages (from jupyter-core->jupyterlab>=1.0->ibllib) (2.6.0)\n",
            "Collecting python-json-logger\n",
            "  Downloading python_json_logger-2.0.4-py3-none-any.whl (7.8 kB)\n",
            "Requirement already satisfied: pyyaml in /usr/local/lib/python3.8/dist-packages (from jupyter-events>=0.4.0->jupyter-server<3,>=1.16.0->jupyterlab>=1.0->ibllib) (6.0)\n",
            "Requirement already satisfied: jsonschema[format-nongpl]>=4.3.0 in /usr/local/lib/python3.8/dist-packages (from jupyter-events>=0.4.0->jupyter-server<3,>=1.16.0->jupyterlab>=1.0->ibllib) (4.3.3)\n",
            "\u001b[33mWARNING: jsonschema 4.3.3 does not provide the extra 'format-nongpl'\u001b[0m\n",
            "Requirement already satisfied: importlib-resources>=1.4.0 in /usr/local/lib/python3.8/dist-packages (from jsonschema[format-nongpl]>=4.3.0->jupyter-events>=0.4.0->jupyter-server<3,>=1.16.0->jupyterlab>=1.0->ibllib) (5.10.1)\n",
            "Requirement already satisfied: pyrsistent!=0.17.0,!=0.17.1,!=0.17.2,>=0.14.0 in /usr/local/lib/python3.8/dist-packages (from jsonschema[format-nongpl]>=4.3.0->jupyter-events>=0.4.0->jupyter-server<3,>=1.16.0->jupyterlab>=1.0->ibllib) (0.19.2)\n",
            "Requirement already satisfied: attrs>=17.4.0 in /usr/local/lib/python3.8/dist-packages (from jsonschema[format-nongpl]>=4.3.0->jupyter-events>=0.4.0->jupyter-server<3,>=1.16.0->jupyterlab>=1.0->ibllib) (22.1.0)\n",
            "Requirement already satisfied: zipp>=3.1.0 in /usr/local/lib/python3.8/dist-packages (from importlib-resources>=1.4.0->jsonschema[format-nongpl]>=4.3.0->jupyter-events>=0.4.0->jupyter-server<3,>=1.16.0->jupyterlab>=1.0->ibllib) (3.11.0)\n",
            "Collecting requests>=2.22.0\n",
            "  Downloading requests-2.28.1-py3-none-any.whl (62 kB)\n",
            "\u001b[K     |████████████████████████████████| 62 kB 1.9 MB/s \n",
            "\u001b[?25hCollecting json5>=0.9.0\n",
            "  Downloading json5-0.9.10-py2.py3-none-any.whl (19 kB)\n",
            "Collecting jinja2>=2.1\n",
            "  Downloading Jinja2-3.1.2-py3-none-any.whl (133 kB)\n",
            "\u001b[K     |████████████████████████████████| 133 kB 50.9 MB/s \n",
            "\u001b[?25hRequirement already satisfied: importlib-metadata>=4.8.3 in /usr/local/lib/python3.8/dist-packages (from jupyterlab-server~=2.10->jupyterlab>=1.0->ibllib) (5.1.0)\n",
            "Requirement already satisfied: babel>=2.10 in /usr/local/lib/python3.8/dist-packages (from jupyterlab-server~=2.10->jupyterlab>=1.0->ibllib) (2.11.0)\n",
            "Requirement already satisfied: pytz>=2015.7 in /usr/local/lib/python3.8/dist-packages (from babel>=2.10->jupyterlab-server~=2.10->jupyterlab>=1.0->ibllib) (2022.6)\n",
            "Requirement already satisfied: kiwisolver>=1.0.1 in /usr/local/lib/python3.8/dist-packages (from matplotlib>=3.0.3->ibllib) (1.4.4)\n",
            "Requirement already satisfied: cycler>=0.10 in /usr/local/lib/python3.8/dist-packages (from matplotlib>=3.0.3->ibllib) (0.11.0)\n",
            "Requirement already satisfied: pyparsing!=2.0.4,!=2.1.2,!=2.1.6,>=2.0.1 in /usr/local/lib/python3.8/dist-packages (from matplotlib>=3.0.3->ibllib) (3.0.9)\n",
            "Collecting tinycss2\n",
            "  Downloading tinycss2-1.2.1-py3-none-any.whl (21 kB)\n",
            "Collecting mistune<3,>=2.0.3\n",
            "  Downloading mistune-2.0.4-py2.py3-none-any.whl (24 kB)\n",
            "Collecting nbclient>=0.5.0\n",
            "  Downloading nbclient-0.7.2-py3-none-any.whl (71 kB)\n",
            "\u001b[K     |████████████████████████████████| 71 kB 418 kB/s \n",
            "\u001b[?25hRequirement already satisfied: defusedxml in /usr/local/lib/python3.8/dist-packages (from nbconvert->jupyter>=1.0->ibllib) (0.7.1)\n",
            "Collecting jupyterlab-pygments\n",
            "  Downloading jupyterlab_pygments-0.2.2-py2.py3-none-any.whl (21 kB)\n",
            "Requirement already satisfied: pandocfilters>=1.4.1 in /usr/local/lib/python3.8/dist-packages (from nbconvert->jupyter>=1.0->ibllib) (1.5.0)\n",
            "Requirement already satisfied: beautifulsoup4 in /usr/local/lib/python3.8/dist-packages (from nbconvert->jupyter>=1.0->ibllib) (4.6.3)\n",
            "Requirement already satisfied: pygments>=2.4.1 in /usr/local/lib/python3.8/dist-packages (from nbconvert->jupyter>=1.0->ibllib) (2.6.1)\n",
            "Requirement already satisfied: bleach in /usr/local/lib/python3.8/dist-packages (from nbconvert->jupyter>=1.0->ibllib) (5.0.1)\n",
            "Requirement already satisfied: fastjsonschema in /usr/local/lib/python3.8/dist-packages (from nbformat>=5.3.0->jupyter-server<3,>=1.16.0->jupyterlab>=1.0->ibllib) (2.16.2)\n",
            "Collecting notebook\n",
            "  Downloading notebook-6.5.2-py3-none-any.whl (439 kB)\n",
            "\u001b[K     |████████████████████████████████| 439 kB 66.6 MB/s \n",
            "\u001b[?25hRequirement already satisfied: ipython-genutils in /usr/local/lib/python3.8/dist-packages (from notebook->jupyter>=1.0->ibllib) (0.2.0)\n",
            "Collecting notebook-shim>=0.1.0\n",
            "  Downloading notebook_shim-0.2.2-py3-none-any.whl (13 kB)\n",
            "Requirement already satisfied: setuptools in /usr/local/lib/python3.8/dist-packages (from numba>=0.56->ibllib) (57.4.0)\n",
            "Requirement already satisfied: llvmlite<0.40,>=0.39.0dev0 in /usr/local/lib/python3.8/dist-packages (from numba>=0.56->ibllib) (0.39.1)\n",
            "Requirement already satisfied: toolz in /usr/local/lib/python3.8/dist-packages (from phylib>=2.4->ibllib) (0.12.0)\n",
            "Requirement already satisfied: dask in /usr/local/lib/python3.8/dist-packages (from phylib>=2.4->ibllib) (2022.2.1)\n",
            "Requirement already satisfied: typing-extensions in /usr/local/lib/python3.8/dist-packages (from pynrrd>=0.4.0->ibllib) (4.4.0)\n",
            "Collecting nptyping\n",
            "  Downloading nptyping-2.4.1-py3-none-any.whl (36 kB)\n",
            "Requirement already satisfied: six>=1.5 in /usr/local/lib/python3.8/dist-packages (from python-dateutil>=2.8.2->jupyter-client>=7.4.4->jupyter-server<3,>=1.16.0->jupyterlab>=1.0->ibllib) (1.15.0)\n",
            "Requirement already satisfied: certifi>=2017.4.17 in /usr/local/lib/python3.8/dist-packages (from requests>=2.22.0->ibllib) (2022.12.7)\n",
            "Requirement already satisfied: charset-normalizer<3,>=2 in /usr/local/lib/python3.8/dist-packages (from requests>=2.22.0->ibllib) (2.1.1)\n",
            "Requirement already satisfied: urllib3<1.27,>=1.21.1 in /usr/local/lib/python3.8/dist-packages (from requests>=2.22.0->ibllib) (1.25.11)\n",
            "Requirement already satisfied: threadpoolctl>=2.0.0 in /usr/local/lib/python3.8/dist-packages (from scikit-learn>=0.22.1->ibllib) (3.1.0)\n",
            "Requirement already satisfied: ptyprocess in /usr/local/lib/python3.8/dist-packages (from terminado>=0.8.3->jupyter-server<3,>=1.16.0->jupyterlab>=1.0->ibllib) (0.7.0)\n",
            "Collecting scikit-video\n",
            "  Downloading scikit_video-1.1.11-py2.py3-none-any.whl (2.3 MB)\n",
            "\u001b[K     |████████████████████████████████| 2.3 MB 72.7 MB/s \n",
            "\u001b[?25hCollecting pyqtgraph\n",
            "  Downloading pyqtgraph-0.13.1-py3-none-any.whl (966 kB)\n",
            "\u001b[K     |████████████████████████████████| 966 kB 44.8 MB/s \n",
            "\u001b[?25hCollecting pims\n",
            "  Downloading PIMS-0.6.1.tar.gz (86 kB)\n",
            "\u001b[K     |████████████████████████████████| 86 kB 5.6 MB/s \n",
            "\u001b[?25hRequirement already satisfied: tifffile in /usr/local/lib/python3.8/dist-packages (from wfield>=0.3.6->ibllib) (2022.10.10)\n",
            "Collecting pyserial\n",
            "  Downloading pyserial-3.5-py2.py3-none-any.whl (90 kB)\n",
            "\u001b[K     |████████████████████████████████| 90 kB 10.3 MB/s \n",
            "\u001b[?25hCollecting pyqt5\n",
            "  Downloading PyQt5-5.15.7-cp37-abi3-manylinux1_x86_64.whl (8.4 MB)\n",
            "\u001b[K     |████████████████████████████████| 8.4 MB 68.4 MB/s \n",
            "\u001b[?25hRequirement already satisfied: scikit-image in /usr/local/lib/python3.8/dist-packages (from wfield>=0.3.6->ibllib) (0.18.3)\n",
            "Collecting pyqtwebengine\n",
            "  Downloading PyQtWebEngine-5.15.6-cp37-abi3-manylinux1_x86_64.whl (230 kB)\n",
            "\u001b[K     |████████████████████████████████| 230 kB 63.8 MB/s \n",
            "\u001b[?25hRequirement already satisfied: natsort in /usr/local/lib/python3.8/dist-packages (from wfield>=0.3.6->ibllib) (5.5.0)\n",
            "Requirement already satisfied: pillow in /usr/local/lib/python3.8/dist-packages (from wfield>=0.3.6->ibllib) (7.1.2)\n",
            "Collecting argon2-cffi-bindings\n",
            "  Downloading argon2_cffi_bindings-21.2.0-cp36-abi3-manylinux_2_17_x86_64.manylinux2014_x86_64.whl (86 kB)\n",
            "\u001b[K     |████████████████████████████████| 86 kB 6.0 MB/s \n",
            "\u001b[?25hRequirement already satisfied: webencodings in /usr/local/lib/python3.8/dist-packages (from bleach->nbconvert->jupyter>=1.0->ibllib) (0.5.1)\n",
            "Requirement already satisfied: s3transfer<0.7.0,>=0.6.0 in /usr/local/lib/python3.8/dist-packages (from boto3->ibllib) (0.6.0)\n",
            "Requirement already satisfied: botocore<1.30.0,>=1.29.35 in /usr/local/lib/python3.8/dist-packages (from boto3->ibllib) (1.29.35)\n",
            "Requirement already satisfied: jmespath<2.0.0,>=0.7.1 in /usr/local/lib/python3.8/dist-packages (from boto3->ibllib) (1.0.1)\n",
            "Requirement already satisfied: cloudpickle>=1.1.1 in /usr/local/lib/python3.8/dist-packages (from dask->phylib>=2.4->ibllib) (1.5.0)\n",
            "Requirement already satisfied: partd>=0.3.10 in /usr/local/lib/python3.8/dist-packages (from dask->phylib>=2.4->ibllib) (1.3.0)\n",
            "Requirement already satisfied: fsspec>=0.6.0 in /usr/local/lib/python3.8/dist-packages (from dask->phylib>=2.4->ibllib) (2022.11.0)\n",
            "Requirement already satisfied: locket in /usr/local/lib/python3.8/dist-packages (from partd>=0.3.10->dask->phylib>=2.4->ibllib) (1.0.0)\n",
            "Requirement already satisfied: pexpect in /usr/local/lib/python3.8/dist-packages (from ipython->jupyterlab>=1.0->ibllib) (4.8.0)\n",
            "Requirement already satisfied: backcall in /usr/local/lib/python3.8/dist-packages (from ipython->jupyterlab>=1.0->ibllib) (0.2.0)\n",
            "Collecting jedi>=0.10\n",
            "  Downloading jedi-0.18.2-py2.py3-none-any.whl (1.6 MB)\n",
            "\u001b[K     |████████████████████████████████| 1.6 MB 46.8 MB/s \n",
            "\u001b[?25hRequirement already satisfied: decorator in /usr/local/lib/python3.8/dist-packages (from ipython->jupyterlab>=1.0->ibllib) (4.4.2)\n",
            "Requirement already satisfied: pickleshare in /usr/local/lib/python3.8/dist-packages (from ipython->jupyterlab>=1.0->ibllib) (0.7.5)\n",
            "Requirement already satisfied: prompt-toolkit<2.1.0,>=2.0.0 in /usr/local/lib/python3.8/dist-packages (from ipython->jupyterlab>=1.0->ibllib) (2.0.10)\n",
            "Requirement already satisfied: parso<0.9.0,>=0.8.0 in /usr/local/lib/python3.8/dist-packages (from jedi>=0.10->ipython->jupyterlab>=1.0->ibllib) (0.8.3)\n",
            "Requirement already satisfied: wcwidth in /usr/local/lib/python3.8/dist-packages (from prompt-toolkit<2.1.0,>=2.0.0->ipython->jupyterlab>=1.0->ibllib) (0.2.5)\n",
            "Requirement already satisfied: jupyterlab-widgets>=1.0.0 in /usr/local/lib/python3.8/dist-packages (from ipywidgets->jupyter>=1.0->ibllib) (3.0.4)\n",
            "Requirement already satisfied: widgetsnbextension~=3.6.0 in /usr/local/lib/python3.8/dist-packages (from ipywidgets->jupyter>=1.0->ibllib) (3.6.1)\n",
            "Requirement already satisfied: imageio in /usr/local/lib/python3.8/dist-packages (from pims->wfield>=0.3.6->ibllib) (2.9.0)\n",
            "Collecting slicerator>=0.9.8\n",
            "  Downloading slicerator-1.1.0-py3-none-any.whl (10 kB)\n",
            "Collecting PyQt5-sip<13,>=12.11\n",
            "  Downloading PyQt5_sip-12.11.0-cp38-cp38-manylinux1_x86_64.whl (361 kB)\n",
            "\u001b[K     |████████████████████████████████| 361 kB 54.6 MB/s \n",
            "\u001b[?25hCollecting PyQt5-Qt5>=5.15.0\n",
            "  Downloading PyQt5_Qt5-5.15.2-py3-none-manylinux2014_x86_64.whl (59.9 MB)\n",
            "\u001b[K     |████████████████████████████████| 59.9 MB 1.3 MB/s \n",
            "\u001b[?25hCollecting PyQtWebEngine-Qt5>=5.15.0\n",
            "  Downloading PyQtWebEngine_Qt5-5.15.2-py3-none-manylinux2014_x86_64.whl (67.5 MB)\n",
            "\u001b[K     |████████████████████████████████| 67.5 MB 125 kB/s \n",
            "\u001b[?25hRequirement already satisfied: more-itertools>=4.0.0 in /usr/local/lib/python3.8/dist-packages (from pytest->ibllib) (9.0.0)\n",
            "Requirement already satisfied: atomicwrites>=1.0 in /usr/local/lib/python3.8/dist-packages (from pytest->ibllib) (1.4.1)\n",
            "Requirement already satisfied: pluggy<0.8,>=0.5 in /usr/local/lib/python3.8/dist-packages (from pytest->ibllib) (0.7.1)\n",
            "Requirement already satisfied: py>=1.5.0 in /usr/local/lib/python3.8/dist-packages (from pytest->ibllib) (1.11.0)\n",
            "Collecting qtpy>=2.0.1\n",
            "  Downloading QtPy-2.3.0-py3-none-any.whl (83 kB)\n",
            "\u001b[K     |████████████████████████████████| 83 kB 2.3 MB/s \n",
            "\u001b[?25hRequirement already satisfied: networkx>=2.0 in /usr/local/lib/python3.8/dist-packages (from scikit-image->wfield>=0.3.6->ibllib) (2.8.8)\n",
            "Requirement already satisfied: PyWavelets>=1.1.1 in /usr/local/lib/python3.8/dist-packages (from scikit-image->wfield>=0.3.6->ibllib) (1.4.1)\n",
            "Building wheels for collected packages: nptdms, pims\n",
            "  Building wheel for nptdms (setup.py) ... \u001b[?25l\u001b[?25hdone\n",
            "  Created wheel for nptdms: filename=npTDMS-1.6.0-py3-none-any.whl size=103812 sha256=b3b0de4fcc53187128d08892088f110eb80377b9b913e0ca06bd16baf2420bc9\n",
            "  Stored in directory: /root/.cache/pip/wheels/dd/f3/d7/a0f1d5ee7990eba2fa241a5b34453f55800424db9b8931d23d\n",
            "  Building wheel for pims (setup.py) ... \u001b[?25l\u001b[?25hdone\n",
            "  Created wheel for pims: filename=PIMS-0.6.1-py3-none-any.whl size=82635 sha256=4f415b476352e72df5dc13d7a8ebe1d62573101083119ea6cc1ed69c3366030d\n",
            "  Stored in directory: /root/.cache/pip/wheels/5c/bd/a9/9cede777cb4fcdd2ba712cdb0d0c9082aba544322eb5ad7af1\n",
            "Successfully built nptdms pims\n",
            "Installing collected packages: tornado, pyzmq, nest-asyncio, jupyter-client, tinycss2, sniffio, python-json-logger, nbclient, mistune, jupyterlab-pygments, jinja2, argon2-cffi-bindings, websocket-client, nbconvert, jupyter-server-terminals, jupyter-events, jedi, argon2-cffi, anyio, jupyter-server, notebook-shim, nbclassic, PyQt5-sip, PyQt5-Qt5, notebook, slicerator, requests, qtpy, PyQtWebEngine-Qt5, pyqt5, pyjwt, json5, cryptography, scikit-video, qtconsole, pyserial, pyqtwebengine, pyqtgraph, pims, nptyping, mtscomp, jupyterlab-server, wfield, slidingRP, pynrrd, phylib, nptdms, labcams, jupyterlab, jupyter, ibl-neuropixel, globus-sdk, ibllib\n",
            "  Attempting uninstall: tornado\n",
            "    Found existing installation: tornado 6.0.4\n",
            "    Uninstalling tornado-6.0.4:\n",
            "      Successfully uninstalled tornado-6.0.4\n",
            "  Attempting uninstall: pyzmq\n",
            "    Found existing installation: pyzmq 23.2.1\n",
            "    Uninstalling pyzmq-23.2.1:\n",
            "      Successfully uninstalled pyzmq-23.2.1\n",
            "  Attempting uninstall: jupyter-client\n",
            "    Found existing installation: jupyter-client 6.1.12\n",
            "    Uninstalling jupyter-client-6.1.12:\n",
            "      Successfully uninstalled jupyter-client-6.1.12\n",
            "  Attempting uninstall: mistune\n",
            "    Found existing installation: mistune 0.8.4\n",
            "    Uninstalling mistune-0.8.4:\n",
            "      Successfully uninstalled mistune-0.8.4\n",
            "  Attempting uninstall: jinja2\n",
            "    Found existing installation: Jinja2 2.11.3\n",
            "    Uninstalling Jinja2-2.11.3:\n",
            "      Successfully uninstalled Jinja2-2.11.3\n",
            "  Attempting uninstall: nbconvert\n",
            "    Found existing installation: nbconvert 5.6.1\n",
            "    Uninstalling nbconvert-5.6.1:\n",
            "      Successfully uninstalled nbconvert-5.6.1\n",
            "  Attempting uninstall: notebook\n",
            "    Found existing installation: notebook 5.7.16\n",
            "    Uninstalling notebook-5.7.16:\n",
            "      Successfully uninstalled notebook-5.7.16\n",
            "  Attempting uninstall: requests\n",
            "    Found existing installation: requests 2.23.0\n",
            "    Uninstalling requests-2.23.0:\n",
            "      Successfully uninstalled requests-2.23.0\n",
            "\u001b[31mERROR: pip's dependency resolver does not currently take into account all the packages that are installed. This behaviour is the source of the following dependency conflicts.\n",
            "google-colab 1.0.0 requires notebook~=5.7.16, but you have notebook 6.5.2 which is incompatible.\n",
            "google-colab 1.0.0 requires tornado~=6.0.4, but you have tornado 6.2 which is incompatible.\n",
            "flask 1.1.4 requires Jinja2<3.0,>=2.10.1, but you have jinja2 3.1.2 which is incompatible.\u001b[0m\n",
            "Successfully installed PyQt5-Qt5-5.15.2 PyQt5-sip-12.11.0 PyQtWebEngine-Qt5-5.15.2 anyio-3.6.2 argon2-cffi-21.3.0 argon2-cffi-bindings-21.2.0 cryptography-38.0.4 globus-sdk-3.2.1 ibl-neuropixel-0.4.1 ibllib-2.19.0 jedi-0.18.2 jinja2-3.1.2 json5-0.9.10 jupyter-1.0.0 jupyter-client-7.4.8 jupyter-events-0.5.0 jupyter-server-2.0.4 jupyter-server-terminals-0.4.3 jupyterlab-3.5.2 jupyterlab-pygments-0.2.2 jupyterlab-server-2.16.5 labcams-0.6.5 mistune-2.0.4 mtscomp-1.0.2 nbclassic-0.4.8 nbclient-0.7.2 nbconvert-7.2.7 nest-asyncio-1.5.6 notebook-6.5.2 notebook-shim-0.2.2 nptdms-1.6.0 nptyping-2.4.1 phylib-2.4.3 pims-0.6.1 pyjwt-2.6.0 pynrrd-1.0.0 pyqt5-5.15.7 pyqtgraph-0.13.1 pyqtwebengine-5.15.6 pyserial-3.5 python-json-logger-2.0.4 pyzmq-24.0.1 qtconsole-5.4.0 qtpy-2.3.0 requests-2.28.1 scikit-video-1.1.11 slicerator-1.1.0 slidingRP-1.0.0 sniffio-1.3.0 tinycss2-1.2.1 tornado-6.2 websocket-client-1.4.2 wfield-0.3.7\n"
          ]
        },
        {
          "output_type": "display_data",
          "data": {
            "application/vnd.colab-display-data+json": {
              "pip_warning": {
                "packages": [
                  "tornado",
                  "zmq"
                ]
              }
            }
          },
          "metadata": {}
        },
        {
          "output_type": "stream",
          "name": "stdout",
          "text": [
            "Downloading: /root/Downloads/ONE/openalyx.internationalbrainlab.org/histology/ATLAS/Needles/Allen/average_template_25.nrrd Bytes: 32998960\n"
          ]
        },
        {
          "output_type": "stream",
          "name": "stderr",
          "text": [
            "100%|██████████| 31.470260620117188/31.470260620117188 [00:03<00:00,  8.67it/s]\n"
          ]
        },
        {
          "output_type": "stream",
          "name": "stdout",
          "text": [
            "Downloading: /root/Downloads/ONE/openalyx.internationalbrainlab.org/histology/ATLAS/Needles/Allen/annotation_25.nrrd Bytes: 4035363\n"
          ]
        },
        {
          "output_type": "stream",
          "name": "stderr",
          "text": [
            "100%|██████████| 3.848422050476074/3.848422050476074 [00:01<00:00,  2.43it/s]\n"
          ]
        }
      ],
      "source": [
        "! pip install ONE-api\n",
        "! pip install ibllib\n",
        "\n",
        "import numpy as np\n",
        "import pandas as pd\n",
        "import matplotlib.pyplot as plt\n",
        "\n",
        "from brainbox.io.one import SpikeSortingLoader\n",
        "from brainbox.plot import peri_event_time_histogram\n",
        "from brainbox.singlecell import calculate_peths\n",
        "\n",
        "from ibllib.atlas import AllenAtlas\n",
        "from one.api import ONE\n",
        "\n",
        "one = ONE(base_url='https://openalyx.internationalbrainlab.org', password='international', silent=True)\n",
        "ba = AllenAtlas()"
      ]
    },
    {
      "cell_type": "markdown",
      "source": [
        "Our first aim is to find recording sessions that recorded from the brain region we're interested in. In this example we'll look for recordings done in the primary visual cortex. Brain regions are found using their Allen atlas acronyms. The primary visual cortex has the acronym \"VISp\". To find the acronym of your region of interest you can look it up here: http://atlas.brain-map.org/atlas"
      ],
      "metadata": {
        "id": "OoH9qNyYB4xc"
      }
    },
    {
      "cell_type": "code",
      "source": [
        "len(one.search(dataset=['spikes', 'trials'])) "
      ],
      "metadata": {
        "colab": {
          "base_uri": "https://localhost:8080/"
        },
        "id": "q_yY1gnpO6w3",
        "outputId": "c0cf3f3f-7365-4a42-da92-0c234b57ad48"
      },
      "execution_count": null,
      "outputs": [
        {
          "output_type": "execute_result",
          "data": {
            "text/plain": [
              "373"
            ]
          },
          "metadata": {},
          "execution_count": 19
        }
      ]
    },
    {
      "cell_type": "code",
      "source": [
        "ses = one.alyx.rest('insertions', 'list', atlas_acronym=\"VISp\")\n",
        "print(f'Found {len(ses)} recordings')"
      ],
      "metadata": {
        "colab": {
          "base_uri": "https://localhost:8080/"
        },
        "id": "OSjCCSZGCIeV",
        "outputId": "8e0f18d2-6fdc-4195-9abc-c97ec005cb9e"
      },
      "execution_count": null,
      "outputs": [
        {
          "output_type": "stream",
          "name": "stdout",
          "text": [
            "Found 373 recordings\n",
            "ae8787b1-4229-4d56-b0c2-566b61a25b77\n"
          ]
        }
      ]
    },
    {
      "cell_type": "markdown",
      "source": [
        "Recordings in the IBL dataset have two distinct identifiers: EID and PID. The EID is the identifier of the recording session while the PID is the identifier of a specific probe in a recording session. A single recording session often has two probes. Let's get a list of all the probes that recorded primary visual cortex like so:  "
      ],
      "metadata": {
        "id": "wW1V2FizCdHs"
      }
    },
    {
      "cell_type": "code",
      "source": [
        "pids = [i['id'] for i in ses]"
      ],
      "metadata": {
        "id": "a0veV2gsDeAG"
      },
      "execution_count": null,
      "outputs": []
    },
    {
      "cell_type": "markdown",
      "source": [
        "Or a list of EIDs like so:"
      ],
      "metadata": {
        "id": "-yXPp7AXD6uX"
      }
    },
    {
      "cell_type": "code",
      "source": [
        "eids = [i['session'] for i in ses]"
      ],
      "metadata": {
        "id": "Cf-IJeqVD8tZ"
      },
      "execution_count": null,
      "outputs": []
    },
    {
      "cell_type": "markdown",
      "source": [
        "Let's now load in the spikes of the first recording of the list."
      ],
      "metadata": {
        "id": "cJyR7d6ZED0I"
      }
    },
    {
      "cell_type": "code",
      "source": [
        "PID = pids[0]  # Get the first PID of the list\n",
        "sl = SpikeSortingLoader(pid=PID, one=one, atlas=ba)\n",
        "spikes, clusters, channels = sl.load_spike_sorting()\n",
        "clusters = sl.merge_clusters(spikes, clusters, channels)"
      ],
      "metadata": {
        "colab": {
          "base_uri": "https://localhost:8080/"
        },
        "id": "qJ0PTIBJEgFs",
        "outputId": "6b74b96f-8e2e-457e-ea73-37790254d424"
      },
      "execution_count": null,
      "outputs": [
        {
          "output_type": "stream",
          "name": "stderr",
          "text": [
            "/root/Downloads/ONE/openalyx.internationalbrainlab.org/steinmetzlab/Subjects/NR_0021/2022-07-08/001/alf/probe01/pykilosort/spikes.amps.npy: 100%|██████████| 29.3M/29.3M [00:00<00:00, 46.6MB/s]\n",
            "/root/Downloads/ONE/openalyx.internationalbrainlab.org/steinmetzlab/Subjects/NR_0021/2022-07-08/001/alf/probe01/pykilosort/spikes.clusters.npy: 100%|██████████| 14.6M/14.6M [00:00<00:00, 42.0MB/s]\n",
            "/root/Downloads/ONE/openalyx.internationalbrainlab.org/steinmetzlab/Subjects/NR_0021/2022-07-08/001/alf/probe01/pykilosort/spikes.depths.npy: 100%|██████████| 29.3M/29.3M [00:00<00:00, 51.8MB/s]\n",
            "/root/Downloads/ONE/openalyx.internationalbrainlab.org/steinmetzlab/Subjects/NR_0021/2022-07-08/001/alf/probe01/pykilosort/spikes.times.npy: 100%|██████████| 29.3M/29.3M [00:00<00:00, 43.2MB/s]\n",
            "/root/Downloads/ONE/openalyx.internationalbrainlab.org/steinmetzlab/Subjects/NR_0021/2022-07-08/001/alf/probe01/pykilosort/channels.brainLocationIds_ccf_2017.npy: 100%|██████████| 3.20k/3.20k [00:00<00:00, 34.3kB/s]\n",
            "/root/Downloads/ONE/openalyx.internationalbrainlab.org/steinmetzlab/Subjects/NR_0021/2022-07-08/001/alf/probe01/pykilosort/channels.localCoordinates.npy: 100%|██████████| 3.20k/3.20k [00:00<00:00, 29.0kB/s]\n",
            "/root/Downloads/ONE/openalyx.internationalbrainlab.org/steinmetzlab/Subjects/NR_0021/2022-07-08/001/alf/probe01/pykilosort/channels.mlapdv.npy: 100%|██████████| 4.74k/4.74k [00:00<00:00, 47.5kB/s]\n",
            "/root/Downloads/ONE/openalyx.internationalbrainlab.org/steinmetzlab/Subjects/NR_0021/2022-07-08/001/alf/probe01/pykilosort/channels.rawInd.npy: 100%|██████████| 3.20k/3.20k [00:00<00:00, 23.5kB/s]\n"
          ]
        }
      ]
    },
    {
      "cell_type": "markdown",
      "source": [
        "Of course this recording will not only have visual cortex neurons so let's get a list of the neurons that were actually in VISp."
      ],
      "metadata": {
        "id": "lTbRX_yQEw09"
      }
    },
    {
      "cell_type": "code",
      "source": [
        "VISp_neurons = [i for i, acronym in enumerate(clusters['acronym']) if 'VISp' in acronym]\n",
        "print(f'Found {len(VISp_neurons)} VISp neurons')"
      ],
      "metadata": {
        "colab": {
          "base_uri": "https://localhost:8080/"
        },
        "id": "GIOtJdOQE3As",
        "outputId": "61ec2861-ad29-45d8-9f69-384037e0eded"
      },
      "execution_count": null,
      "outputs": [
        {
          "output_type": "stream",
          "name": "stdout",
          "text": [
            "Found 97 VISp neurons\n"
          ]
        }
      ]
    },
    {
      "cell_type": "markdown",
      "source": [
        "We now have the neural activity of the visual cortex neurons in this recording. Let's now get the trial data so that we can align the neural activity to trial events. For this we'll need to convert our PID (which references individual probes) to an EID (which references the entire recording session)"
      ],
      "metadata": {
        "id": "FZYZEbbkFsrl"
      }
    },
    {
      "cell_type": "code",
      "source": [
        "EID, _ = one.pid2eid(PID)\n",
        "trials = one.load_object(EID, 'trials')\n",
        "print(trials.keys())"
      ],
      "metadata": {
        "colab": {
          "base_uri": "https://localhost:8080/"
        },
        "id": "4fdw2RtPF31x",
        "outputId": "9452b5f4-0cf6-4d3c-85c0-dd42fbde78fe"
      },
      "execution_count": null,
      "outputs": [
        {
          "output_type": "stream",
          "name": "stderr",
          "text": [
            "/root/Downloads/ONE/openalyx.internationalbrainlab.org/steinmetzlab/Subjects/NR_0021/2022-07-08/001/alf/_ibl_trials.goCueTrigger_times.npy: 100%|██████████| 3.92k/3.92k [00:00<00:00, 36.2kB/s]\n",
            "/root/Downloads/ONE/openalyx.internationalbrainlab.org/steinmetzlab/Subjects/NR_0021/2022-07-08/001/alf/_ibl_trials.stimOff_times.npy: 100%|██████████| 3.92k/3.92k [00:00<00:00, 26.5kB/s]\n",
            "/root/Downloads/ONE/openalyx.internationalbrainlab.org/steinmetzlab/Subjects/NR_0021/2022-07-08/001/alf/_ibl_trials.table.pqt: 100%|██████████| 41.2k/41.2k [00:00<00:00, 307kB/s]\n"
          ]
        },
        {
          "output_type": "stream",
          "name": "stdout",
          "text": [
            "dict_keys(['goCueTrigger_times', 'stimOff_times', 'goCue_times', 'response_times', 'choice', 'stimOn_times', 'contrastLeft', 'contrastRight', 'probabilityLeft', 'feedback_times', 'feedbackType', 'rewardVolume', 'firstMovement_times', 'intervals'])\n"
          ]
        }
      ]
    },
    {
      "cell_type": "markdown",
      "source": [
        "Let's now plot the neural activity of the first neuron in the list around all the trial onsets."
      ],
      "metadata": {
        "id": "DV69G5IbGhpG"
      }
    },
    {
      "cell_type": "code",
      "source": [
        "f, ax = plt.subplots(1, 1, figsize=(3, 3))\n",
        "peri_event_time_histogram(spikes.times, spikes.clusters, trials['stimOn_times'],\n",
        "                          VISp_neurons[0],\n",
        "                          t_before=0.5, t_after=2,\n",
        "                          include_raster=True, error_bars='sem', ax=ax,\n",
        "                          pethline_kwargs={'color': 'black', 'lw': 1},\n",
        "                          errbar_kwargs={'color': 'black', 'alpha': 0.3},\n",
        "                          raster_kwargs={'color': 'black', 'lw': 0.3},\n",
        "                          eventline_kwargs={'lw': 0})\n",
        "ax.set(ylabel='spikes/s', xlabel='Time (s)')\n",
        "plt.tight_layout()"
      ],
      "metadata": {
        "colab": {
          "base_uri": "https://localhost:8080/",
          "height": 260
        },
        "id": "TPebzyI9Gns4",
        "outputId": "8a47f5a9-b888-4791-8126-37f4525e09f4"
      },
      "execution_count": null,
      "outputs": [
        {
          "output_type": "stream",
          "name": "stderr",
          "text": [
            "/usr/local/lib/python3.7/dist-packages/brainbox/plot.py:602: UserWarning: Number of raster traces is greater than 60. This might look bad on the plot.\n",
            "  warn(\"Number of raster traces is greater than 60. This might look bad on the plot.\")\n"
          ]
        },
        {
          "output_type": "display_data",
          "data": {
            "text/plain": [
              "<Figure size 216x216 with 1 Axes>"
            ],
            "image/png": "[encoded data removed]"
          },
          "metadata": {
            "needs_background": "light"
          }
        }
      ]
    },
    {
      "cell_type": "markdown",
      "source": [
        "For population level analysis you'll want to get a large array of spike counts of all neurons in a certain time window relative to a trial event. In this example we'll get the spike counts of all primary visual cortex neurons 0-300 ms after the onset of a 100% contrast stimulus on the right side. The function will chop up the 300 ms window into 25 ms windows (as set by bin_size)."
      ],
      "metadata": {
        "id": "pWUSXl4HIPDk"
      }
    },
    {
      "cell_type": "code",
      "source": [
        "peth, spike_counts = calculate_peths(\n",
        "    spikes.times, spikes.clusters, VISp_neurons,\n",
        "    trials['stimOn_times'][trials['contrastRight'] == 1],\n",
        "    pre_time=0, post_time=0.3, bin_size=0.025, smoothing=0)\n",
        "\n",
        "print('peth[\"tscale\"] contains the timebin centers relative to the event')\n",
        "print(f'\\npeth[\"means\"] is shaped: {peth[\"means\"].shape}')\n",
        "print('This variable is NxB (neurons x timebins) and contains the mean spike rates over trials')\n",
        "print(f'\\nspike_counts is shaped: {spike_counts.shape}')\n",
        "print('This variable is TxNxB (trials x neurons x timebins) and contains all spike rates per trial')\n",
        "\n",
        "# If you just want all the spikes over the entire 0-300 ms window you can sum like this:\n",
        "whole_window = np.sum(spike_counts, axis=2)\n",
        "\n",
        "print(f'\\nwhole_window is shaped: {whole_window.shape}')\n",
        "print('This variable is TxN (trials x neurons) and contains summed spike rates per trial')"
      ],
      "metadata": {
        "colab": {
          "base_uri": "https://localhost:8080/"
        },
        "id": "p7e6_sSdIkEH",
        "outputId": "72980575-5231-4ab2-bd5b-a610fee6a99a"
      },
      "execution_count": null,
      "outputs": [
        {
          "output_type": "stream",
          "name": "stdout",
          "text": [
            "peth[\"tscale\"] contains the timebin centers relative to the event\n",
            "\n",
            "peth[\"means\"] is shaped: (97, 12)\n",
            "This variable is NxB (neurons x timebins) and contains the mean spike rates over trials\n",
            "\n",
            "spike_counts is shaped: (50, 97, 12)\n",
            "This variable is TxNxB (trials x neurons x timebins) and contains all spike rates per trial\n",
            "\n",
            "whole_window is shaped: (50, 97)\n",
            "This variable is TxN (trials x neurons) and contains summed spike rates per trial\n"
          ]
        }
      ]
    },
    {
      "cell_type": "markdown",
      "source": [
        "Some of you will want to find sessions that have recorded from a group of different regions at the same time. This is slightly more complicated but I'll walk you through it. Because now we want to look for simultaneous recordings we'll have to work on the session level and not the insertion level. We'll look for recordings that targeted CA1, thalamic nucleus PO and the anterior cingulate cortex (ACA)."
      ],
      "metadata": {
        "id": "4g0H1cTrH0rh"
      }
    },
    {
      "cell_type": "code",
      "source": [
        "# First launch three seperate queries looking for recordings in these brain regions\n",
        "CA1_ses = one.alyx.rest('sessions', 'list', atlas_acronym='CA1')\n",
        "CA1_eids = [i['id'] for i in CA1_ses]\n",
        "PO_ses = one.alyx.rest('sessions', 'list', atlas_acronym='PO')\n",
        "PO_eids = [i['id'] for i in PO_ses]\n",
        "ACA_ses = one.alyx.rest('sessions', 'list', atlas_acronym='ACA')\n",
        "ACA_eids = [i['id'] for i in ACA_ses]\n",
        "\n",
        "# Now check if there are recordings that contain all three regions\n",
        "eid_list = list(set(CA1_eids) & set(PO_eids) & set(ACA_eids))\n",
        "print(f'Found {len(eid_list)} recording sessions')\n"
      ],
      "metadata": {
        "colab": {
          "base_uri": "https://localhost:8080/"
        },
        "id": "PwiZPYWFHmQK",
        "outputId": "3ddd9b6d-5a65-424d-c7ed-9e87af4db844"
      },
      "execution_count": null,
      "outputs": [
        {
          "output_type": "stream",
          "name": "stdout",
          "text": [
            "Found 2 recording sessions\n"
          ]
        }
      ]
    },
    {
      "cell_type": "markdown",
      "source": [
        "Great, we found 2! Now you can use these EIDs to load in the data from those recordings. Bear in mind that the regions we're now interested in are likely to be on two different probes. This example just uses the first recording session from the list."
      ],
      "metadata": {
        "id": "D6k8qLsOJ2nK"
      }
    },
    {
      "cell_type": "code",
      "source": [
        "# Load in the first probe\n",
        "sl = SpikeSortingLoader(eid=eid_list[0], pname='probe00', one=one, atlas=ba)\n",
        "spikes_probe00, clusters_probe00, channels_probe00 = sl.load_spike_sorting()\n",
        "clusters_probe00 = sl.merge_clusters(spikes_probe00, clusters_probe00, channels_probe00)\n",
        "\n",
        "# Load in the second probe\n",
        "sl = SpikeSortingLoader(eid=eid_list[0], pname='probe01', one=one, atlas=ba)\n",
        "spikes_probe01, clusters_probe01, channels_probe01 = sl.load_spike_sorting()\n",
        "clusters_probe01 = sl.merge_clusters(spikes_probe01, clusters_probe01, channels_probe01)"
      ],
      "metadata": {
        "id": "VsobmfuYKEdy"
      },
      "execution_count": null,
      "outputs": []
    },
    {
      "cell_type": "markdown",
      "source": [
        "Now we can do the same thing as before and plot the neural activity from threse three regions. I already found out for you that CA1 and PO was recorded on probe01 and ACA was recorded on probe00."
      ],
      "metadata": {
        "id": "n3Ep6IVPMSbn"
      }
    },
    {
      "cell_type": "code",
      "source": [
        "# Get the neuron indices\n",
        "CA1_neurons = [i for i, acronym in enumerate(clusters_probe01['acronym']) if 'CA1' in acronym]\n",
        "PO_neurons = [i for i, acronym in enumerate(clusters_probe01['acronym']) if 'PO' in acronym]\n",
        "ACA_neurons = [i for i, acronym in enumerate(clusters_probe00['acronym']) if 'ACA' in acronym]\n",
        "\n",
        "# Load in the trials\n",
        "trials = one.load_object(eid_list[0], 'trials')\n",
        "\n",
        "# Plot the figures\n",
        "f, (ax1, ax2, ax3) = plt.subplots(1, 3, figsize=(7, 3))\n",
        "peri_event_time_histogram(spikes_probe01.times, spikes_probe01.clusters,\n",
        "                          trials['stimOn_times'], CA1_neurons[0],\n",
        "                          t_before=0.5, t_after=2,\n",
        "                          include_raster=True, error_bars='sem', ax=ax1,\n",
        "                          pethline_kwargs={'color': 'black', 'lw': 1},\n",
        "                          errbar_kwargs={'color': 'black', 'alpha': 0.3},\n",
        "                          raster_kwargs={'color': 'black', 'lw': 0.3},\n",
        "                          eventline_kwargs={'lw': 0})\n",
        "ax1.set(ylabel='spikes/s', xlabel='Time (s)', title='Hippocampus (CA1)')\n",
        "\n",
        "peri_event_time_histogram(spikes_probe01.times, spikes_probe01.clusters,\n",
        "                          trials['stimOn_times'], PO_neurons[0],\n",
        "                          t_before=0.5, t_after=2,\n",
        "                          include_raster=True, error_bars='sem', ax=ax2,\n",
        "                          pethline_kwargs={'color': 'black', 'lw': 1},\n",
        "                          errbar_kwargs={'color': 'black', 'alpha': 0.3},\n",
        "                          raster_kwargs={'color': 'black', 'lw': 0.3},\n",
        "                          eventline_kwargs={'lw': 0})\n",
        "ax2.set(ylabel='spikes/s', xlabel='Time (s)', title='Thalamus (PO)')\n",
        "\n",
        "peri_event_time_histogram(spikes_probe00.times, spikes_probe00.clusters,\n",
        "                          trials['stimOn_times'], ACA_neurons[2],\n",
        "                          t_before=0.5, t_after=2,\n",
        "                          include_raster=True, error_bars='sem', ax=ax3,\n",
        "                          pethline_kwargs={'color': 'black', 'lw': 1},\n",
        "                          errbar_kwargs={'color': 'black', 'alpha': 0.3},\n",
        "                          raster_kwargs={'color': 'black', 'lw': 0.3},\n",
        "                          eventline_kwargs={'lw': 0})\n",
        "ax3.set(ylabel='spikes/s', xlabel='Time (s)', title='Frontal cortex (ACA)')\n",
        "\n",
        "plt.tight_layout()\n"
      ],
      "metadata": {
        "colab": {
          "base_uri": "https://localhost:8080/",
          "height": 384
        },
        "id": "33JW8NWcMZ7R",
        "outputId": "064974e1-9b0d-4998-923f-9ad28ecf1782"
      },
      "execution_count": null,
      "outputs": [
        {
          "output_type": "stream",
          "name": "stderr",
          "text": [
            "WARNING:one.api:local md5 mismatch on dataset: cortexlab/Subjects/KS023/2019-12-10/001/alf/_ibl_trials.goCueTrigger_times.npy\n",
            "/root/Downloads/ONE/openalyx.internationalbrainlab.org/cortexlab/Subjects/KS023/2019-12-10/001/alf/_ibl_trials.goCueTrigger_times.npy: 100%|██████████| 5.26k/5.26k [00:00<00:00, 59.0kB/s]\n",
            "/usr/local/lib/python3.7/dist-packages/brainbox/plot.py:602: UserWarning: Number of raster traces is greater than 60. This might look bad on the plot.\n",
            "  warn(\"Number of raster traces is greater than 60. This might look bad on the plot.\")\n",
            "/usr/local/lib/python3.7/dist-packages/brainbox/plot.py:602: UserWarning: Number of raster traces is greater than 60. This might look bad on the plot.\n",
            "  warn(\"Number of raster traces is greater than 60. This might look bad on the plot.\")\n",
            "/usr/local/lib/python3.7/dist-packages/brainbox/plot.py:602: UserWarning: Number of raster traces is greater than 60. This might look bad on the plot.\n",
            "  warn(\"Number of raster traces is greater than 60. This might look bad on the plot.\")\n"
          ]
        },
        {
          "output_type": "display_data",
          "data": {
            "text/plain": [
              "<Figure size 504x216 with 3 Axes>"
            ],
            "image/png": "[encoded data removed]"
          },
          "metadata": {
            "needs_background": "light"
          }
        }
      ]
    }
  ]
}