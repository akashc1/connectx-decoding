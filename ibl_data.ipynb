{
 "cells": [
  {
   "cell_type": "code",
   "execution_count": 1,
   "metadata": {
    "colab": {
     "base_uri": "https://localhost:8080/"
    },
    "executionInfo": {
     "elapsed": 40034,
     "status": "ok",
     "timestamp": 1679032419491,
     "user": {
      "displayName": "Charlie Huang",
      "userId": "05785404896816634261"
     },
     "user_tz": 420
    },
    "id": "cVvlv2wyvhCN",
    "outputId": "e28efdf3-28ba-49b4-a164-ddc0154958bd"
   },
   "outputs": [
    {
     "name": "stdout",
     "output_type": "stream",
     "text": [
      "Looking in indexes: https://pypi.org/simple, https://us-python.pkg.dev/colab-wheels/public/simple/\n",
      "Requirement already satisfied: ONE-api in /usr/local/lib/python3.9/dist-packages (1.21.3)\n",
      "Requirement already satisfied: numpy>=1.18 in /usr/local/lib/python3.9/dist-packages (from ONE-api) (1.22.4)\n",
      "Requirement already satisfied: flake8>=3.7.8 in /usr/local/lib/python3.9/dist-packages (from ONE-api) (6.0.0)\n",
      "Requirement already satisfied: tqdm>=4.32.1 in /usr/local/lib/python3.9/dist-packages (from ONE-api) (4.65.0)\n",
      "Requirement already satisfied: pandas>=1.2.4 in /usr/local/lib/python3.9/dist-packages (from ONE-api) (1.4.4)\n",
      "Requirement already satisfied: boto3 in /usr/local/lib/python3.9/dist-packages (from ONE-api) (1.26.93)\n",
      "Requirement already satisfied: iblutil>=1.1.0 in /usr/local/lib/python3.9/dist-packages (from ONE-api) (1.6.0)\n",
      "Requirement already satisfied: pyyaml in /usr/local/lib/python3.9/dist-packages (from ONE-api) (6.0)\n",
      "Requirement already satisfied: requests>=2.22.0 in /usr/local/lib/python3.9/dist-packages (from ONE-api) (2.25.1)\n",
      "Requirement already satisfied: packaging in /usr/local/lib/python3.9/dist-packages (from ONE-api) (23.0)\n",
      "Requirement already satisfied: pyflakes<3.1.0,>=3.0.0 in /usr/local/lib/python3.9/dist-packages (from flake8>=3.7.8->ONE-api) (3.0.1)\n",
      "Requirement already satisfied: mccabe<0.8.0,>=0.7.0 in /usr/local/lib/python3.9/dist-packages (from flake8>=3.7.8->ONE-api) (0.7.0)\n",
      "Requirement already satisfied: pycodestyle<2.11.0,>=2.10.0 in /usr/local/lib/python3.9/dist-packages (from flake8>=3.7.8->ONE-api) (2.10.0)\n",
      "Requirement already satisfied: colorlog>=6.0.0 in /usr/local/lib/python3.9/dist-packages (from iblutil>=1.1.0->ONE-api) (6.7.0)\n",
      "Requirement already satisfied: numba in /usr/local/lib/python3.9/dist-packages (from iblutil>=1.1.0->ONE-api) (0.56.4)\n",
      "Requirement already satisfied: pyarrow in /usr/local/lib/python3.9/dist-packages (from iblutil>=1.1.0->ONE-api) (9.0.0)\n",
      "Requirement already satisfied: pytz>=2020.1 in /usr/local/lib/python3.9/dist-packages (from pandas>=1.2.4->ONE-api) (2022.7.1)\n",
      "Requirement already satisfied: python-dateutil>=2.8.1 in /usr/local/lib/python3.9/dist-packages (from pandas>=1.2.4->ONE-api) (2.8.2)\n",
      "Requirement already satisfied: certifi>=2017.4.17 in /usr/local/lib/python3.9/dist-packages (from requests>=2.22.0->ONE-api) (2022.12.7)\n",
      "Requirement already satisfied: idna<3,>=2.5 in /usr/local/lib/python3.9/dist-packages (from requests>=2.22.0->ONE-api) (2.10)\n",
      "Requirement already satisfied: urllib3<1.27,>=1.21.1 in /usr/local/lib/python3.9/dist-packages (from requests>=2.22.0->ONE-api) (1.26.15)\n",
      "Requirement already satisfied: chardet<5,>=3.0.2 in /usr/local/lib/python3.9/dist-packages (from requests>=2.22.0->ONE-api) (4.0.0)\n",
      "Requirement already satisfied: s3transfer<0.7.0,>=0.6.0 in /usr/local/lib/python3.9/dist-packages (from boto3->ONE-api) (0.6.0)\n",
      "Requirement already satisfied: botocore<1.30.0,>=1.29.93 in /usr/local/lib/python3.9/dist-packages (from boto3->ONE-api) (1.29.93)\n",
      "Requirement already satisfied: jmespath<2.0.0,>=0.7.1 in /usr/local/lib/python3.9/dist-packages (from boto3->ONE-api) (1.0.1)\n",
      "Requirement already satisfied: six>=1.5 in /usr/local/lib/python3.9/dist-packages (from python-dateutil>=2.8.1->pandas>=1.2.4->ONE-api) (1.15.0)\n",
      "Requirement already satisfied: llvmlite<0.40,>=0.39.0dev0 in /usr/local/lib/python3.9/dist-packages (from numba->iblutil>=1.1.0->ONE-api) (0.39.1)\n",
      "Requirement already satisfied: setuptools in /usr/local/lib/python3.9/dist-packages (from numba->iblutil>=1.1.0->ONE-api) (63.4.3)\n",
      "Looking in indexes: https://pypi.org/simple, https://us-python.pkg.dev/colab-wheels/public/simple/\n",
      "Requirement already satisfied: ibllib in /usr/local/lib/python3.9/dist-packages (2.21.2)\n",
      "Requirement already satisfied: phylib>=2.4 in /usr/local/lib/python3.9/dist-packages (from ibllib) (2.4.3)\n",
      "Requirement already satisfied: graphviz in /usr/local/lib/python3.9/dist-packages (from ibllib) (0.10.1)\n",
      "Requirement already satisfied: iblutil>=1.5.0 in /usr/local/lib/python3.9/dist-packages (from ibllib) (1.6.0)\n",
      "Requirement already satisfied: scipy>=1.7.0 in /usr/local/lib/python3.9/dist-packages (from ibllib) (1.10.1)\n",
      "Requirement already satisfied: colorlog>=4.0.2 in /usr/local/lib/python3.9/dist-packages (from ibllib) (6.7.0)\n",
      "Requirement already satisfied: matplotlib>=3.0.3 in /usr/local/lib/python3.9/dist-packages (from ibllib) (3.7.1)\n",
      "Requirement already satisfied: pytest in /usr/local/lib/python3.9/dist-packages (from ibllib) (3.6.4)\n",
      "Requirement already satisfied: numpy>=1.18 in /usr/local/lib/python3.9/dist-packages (from ibllib) (1.22.4)\n",
      "Requirement already satisfied: seaborn>=0.9.0 in /usr/local/lib/python3.9/dist-packages (from ibllib) (0.12.2)\n",
      "Requirement already satisfied: click>=7.0.0 in /usr/local/lib/python3.9/dist-packages (from ibllib) (8.1.3)\n",
      "Requirement already satisfied: pyarrow in /usr/local/lib/python3.9/dist-packages (from ibllib) (9.0.0)\n",
      "Requirement already satisfied: scikit-learn>=0.22.1 in /usr/local/lib/python3.9/dist-packages (from ibllib) (1.2.2)\n",
      "Requirement already satisfied: tqdm>=4.32.1 in /usr/local/lib/python3.9/dist-packages (from ibllib) (4.65.0)\n",
      "Requirement already satisfied: boto3 in /usr/local/lib/python3.9/dist-packages (from ibllib) (1.26.93)\n",
      "Requirement already satisfied: ONE-api>=1.19.1 in /usr/local/lib/python3.9/dist-packages (from ibllib) (1.21.3)\n",
      "Requirement already satisfied: globus-sdk==3.2.1 in /usr/local/lib/python3.9/dist-packages (from ibllib) (3.2.1)\n",
      "Requirement already satisfied: mtscomp>=1.0.1 in /usr/local/lib/python3.9/dist-packages (from ibllib) (1.0.2)\n",
      "Requirement already satisfied: slidingRP>=1.0.0 in /usr/local/lib/python3.9/dist-packages (from ibllib) (1.0.0)\n",
      "Requirement already satisfied: wfield>=0.3.6 in /usr/local/lib/python3.9/dist-packages (from ibllib) (0.3.7)\n",
      "Requirement already satisfied: pynrrd>=0.4.0 in /usr/local/lib/python3.9/dist-packages (from ibllib) (1.0.0)\n",
      "Requirement already satisfied: flake8>=3.7.8 in /usr/local/lib/python3.9/dist-packages (from ibllib) (6.0.0)\n",
      "Requirement already satisfied: opencv-python-headless in /usr/local/lib/python3.9/dist-packages (from ibllib) (4.7.0.72)\n",
      "Requirement already satisfied: labcams in /usr/local/lib/python3.9/dist-packages (from ibllib) (0.6.5)\n",
      "Requirement already satisfied: ibl-neuropixel>=0.4.0 in /usr/local/lib/python3.9/dist-packages (from ibllib) (0.5.1)\n",
      "Requirement already satisfied: numba>=0.56 in /usr/local/lib/python3.9/dist-packages (from ibllib) (0.56.4)\n",
      "Requirement already satisfied: nptdms in /usr/local/lib/python3.9/dist-packages (from ibllib) (1.6.1)\n",
      "Requirement already satisfied: requests>=2.22.0 in /usr/local/lib/python3.9/dist-packages (from ibllib) (2.25.1)\n",
      "Requirement already satisfied: pandas>=0.24.2 in /usr/local/lib/python3.9/dist-packages (from ibllib) (1.4.4)\n",
      "Requirement already satisfied: cryptography!=3.4.0,>=3.3.1 in /usr/local/lib/python3.9/dist-packages (from globus-sdk==3.2.1->ibllib) (39.0.2)\n",
      "Requirement already satisfied: pyjwt[crypto]<3.0.0,>=2.0.0 in /usr/local/lib/python3.9/dist-packages (from globus-sdk==3.2.1->ibllib) (2.6.0)\n",
      "Requirement already satisfied: pyflakes<3.1.0,>=3.0.0 in /usr/local/lib/python3.9/dist-packages (from flake8>=3.7.8->ibllib) (3.0.1)\n",
      "Requirement already satisfied: mccabe<0.8.0,>=0.7.0 in /usr/local/lib/python3.9/dist-packages (from flake8>=3.7.8->ibllib) (0.7.0)\n",
      "Requirement already satisfied: pycodestyle<2.11.0,>=2.10.0 in /usr/local/lib/python3.9/dist-packages (from flake8>=3.7.8->ibllib) (2.10.0)\n",
      "Requirement already satisfied: joblib in /usr/local/lib/python3.9/dist-packages (from ibl-neuropixel>=0.4.0->ibllib) (1.1.1)\n",
      "Requirement already satisfied: kiwisolver>=1.0.1 in /usr/local/lib/python3.9/dist-packages (from matplotlib>=3.0.3->ibllib) (1.4.4)\n",
      "Requirement already satisfied: pillow>=6.2.0 in /usr/local/lib/python3.9/dist-packages (from matplotlib>=3.0.3->ibllib) (8.4.0)\n",
      "Requirement already satisfied: cycler>=0.10 in /usr/local/lib/python3.9/dist-packages (from matplotlib>=3.0.3->ibllib) (0.11.0)\n",
      "Requirement already satisfied: pyparsing>=2.3.1 in /usr/local/lib/python3.9/dist-packages (from matplotlib>=3.0.3->ibllib) (3.0.9)\n",
      "Requirement already satisfied: python-dateutil>=2.7 in /usr/local/lib/python3.9/dist-packages (from matplotlib>=3.0.3->ibllib) (2.8.2)\n",
      "Requirement already satisfied: contourpy>=1.0.1 in /usr/local/lib/python3.9/dist-packages (from matplotlib>=3.0.3->ibllib) (1.0.7)\n",
      "Requirement already satisfied: fonttools>=4.22.0 in /usr/local/lib/python3.9/dist-packages (from matplotlib>=3.0.3->ibllib) (4.39.0)\n",
      "Requirement already satisfied: importlib-resources>=3.2.0 in /usr/local/lib/python3.9/dist-packages (from matplotlib>=3.0.3->ibllib) (5.12.0)\n",
      "Requirement already satisfied: packaging>=20.0 in /usr/local/lib/python3.9/dist-packages (from matplotlib>=3.0.3->ibllib) (23.0)\n",
      "Requirement already satisfied: setuptools in /usr/local/lib/python3.9/dist-packages (from numba>=0.56->ibllib) (63.4.3)\n",
      "Requirement already satisfied: llvmlite<0.40,>=0.39.0dev0 in /usr/local/lib/python3.9/dist-packages (from numba>=0.56->ibllib) (0.39.1)\n",
      "Requirement already satisfied: pyyaml in /usr/local/lib/python3.9/dist-packages (from ONE-api>=1.19.1->ibllib) (6.0)\n",
      "Requirement already satisfied: pytz>=2020.1 in /usr/local/lib/python3.9/dist-packages (from pandas>=0.24.2->ibllib) (2022.7.1)\n",
      "Requirement already satisfied: dask in /usr/local/lib/python3.9/dist-packages (from phylib>=2.4->ibllib) (2022.2.1)\n",
      "Requirement already satisfied: toolz in /usr/local/lib/python3.9/dist-packages (from phylib>=2.4->ibllib) (0.12.0)\n",
      "Requirement already satisfied: typing-extensions in /usr/local/lib/python3.9/dist-packages (from pynrrd>=0.4.0->ibllib) (4.5.0)\n",
      "Requirement already satisfied: nptyping in /usr/local/lib/python3.9/dist-packages (from pynrrd>=0.4.0->ibllib) (2.5.0)\n",
      "Requirement already satisfied: idna<3,>=2.5 in /usr/local/lib/python3.9/dist-packages (from requests>=2.22.0->ibllib) (2.10)\n",
      "Requirement already satisfied: chardet<5,>=3.0.2 in /usr/local/lib/python3.9/dist-packages (from requests>=2.22.0->ibllib) (4.0.0)\n",
      "Requirement already satisfied: certifi>=2017.4.17 in /usr/local/lib/python3.9/dist-packages (from requests>=2.22.0->ibllib) (2022.12.7)\n",
      "Requirement already satisfied: urllib3<1.27,>=1.21.1 in /usr/local/lib/python3.9/dist-packages (from requests>=2.22.0->ibllib) (1.26.15)\n",
      "Requirement already satisfied: threadpoolctl>=2.0.0 in /usr/local/lib/python3.9/dist-packages (from scikit-learn>=0.22.1->ibllib) (3.1.0)\n",
      "Requirement already satisfied: tifffile in /usr/local/lib/python3.9/dist-packages (from wfield>=0.3.6->ibllib) (2023.2.28)\n",
      "Requirement already satisfied: opencv-python in /usr/local/lib/python3.9/dist-packages (from wfield>=0.3.6->ibllib) (4.6.0.66)\n",
      "Requirement already satisfied: pyqtgraph in /usr/local/lib/python3.9/dist-packages (from wfield>=0.3.6->ibllib) (0.13.2)\n",
      "Requirement already satisfied: pims in /usr/local/lib/python3.9/dist-packages (from wfield>=0.3.6->ibllib) (0.6.1)\n",
      "Requirement already satisfied: scikit-image in /usr/local/lib/python3.9/dist-packages (from wfield>=0.3.6->ibllib) (0.19.3)\n",
      "Requirement already satisfied: pyserial in /usr/local/lib/python3.9/dist-packages (from wfield>=0.3.6->ibllib) (3.5)\n",
      "Requirement already satisfied: scikit-video in /usr/local/lib/python3.9/dist-packages (from wfield>=0.3.6->ibllib) (1.1.11)\n",
      "Requirement already satisfied: natsort in /usr/local/lib/python3.9/dist-packages (from wfield>=0.3.6->ibllib) (5.5.0)\n",
      "Requirement already satisfied: pyqtwebengine in /usr/local/lib/python3.9/dist-packages (from wfield>=0.3.6->ibllib) (5.15.6)\n",
      "Requirement already satisfied: pyqt5 in /usr/local/lib/python3.9/dist-packages (from wfield>=0.3.6->ibllib) (5.15.9)\n",
      "Requirement already satisfied: s3transfer<0.7.0,>=0.6.0 in /usr/local/lib/python3.9/dist-packages (from boto3->ibllib) (0.6.0)\n",
      "Requirement already satisfied: botocore<1.30.0,>=1.29.93 in /usr/local/lib/python3.9/dist-packages (from boto3->ibllib) (1.29.93)\n",
      "Requirement already satisfied: jmespath<2.0.0,>=0.7.1 in /usr/local/lib/python3.9/dist-packages (from boto3->ibllib) (1.0.1)\n",
      "Requirement already satisfied: pyzmq in /usr/local/lib/python3.9/dist-packages (from labcams->ibllib) (23.2.1)\n",
      "Requirement already satisfied: pluggy<0.8,>=0.5 in /usr/local/lib/python3.9/dist-packages (from pytest->ibllib) (0.7.1)\n",
      "Requirement already satisfied: atomicwrites>=1.0 in /usr/local/lib/python3.9/dist-packages (from pytest->ibllib) (1.4.1)\n",
      "Requirement already satisfied: six>=1.10.0 in /usr/local/lib/python3.9/dist-packages (from pytest->ibllib) (1.15.0)\n",
      "Requirement already satisfied: py>=1.5.0 in /usr/local/lib/python3.9/dist-packages (from pytest->ibllib) (1.11.0)\n",
      "Requirement already satisfied: attrs>=17.4.0 in /usr/local/lib/python3.9/dist-packages (from pytest->ibllib) (22.2.0)\n",
      "Requirement already satisfied: more-itertools>=4.0.0 in /usr/local/lib/python3.9/dist-packages (from pytest->ibllib) (9.1.0)\n",
      "Requirement already satisfied: cffi>=1.12 in /usr/local/lib/python3.9/dist-packages (from cryptography!=3.4.0,>=3.3.1->globus-sdk==3.2.1->ibllib) (1.15.1)\n",
      "Requirement already satisfied: zipp>=3.1.0 in /usr/local/lib/python3.9/dist-packages (from importlib-resources>=3.2.0->matplotlib>=3.0.3->ibllib) (3.15.0)\n",
      "Requirement already satisfied: fsspec>=0.6.0 in /usr/local/lib/python3.9/dist-packages (from dask->phylib>=2.4->ibllib) (2023.3.0)\n",
      "Requirement already satisfied: partd>=0.3.10 in /usr/local/lib/python3.9/dist-packages (from dask->phylib>=2.4->ibllib) (1.3.0)\n",
      "Requirement already satisfied: cloudpickle>=1.1.1 in /usr/local/lib/python3.9/dist-packages (from dask->phylib>=2.4->ibllib) (2.2.1)\n",
      "Requirement already satisfied: slicerator>=0.9.8 in /usr/local/lib/python3.9/dist-packages (from pims->wfield>=0.3.6->ibllib) (1.1.0)\n",
      "Requirement already satisfied: imageio in /usr/local/lib/python3.9/dist-packages (from pims->wfield>=0.3.6->ibllib) (2.9.0)\n",
      "Requirement already satisfied: PyQt5-sip<13,>=12.11 in /usr/local/lib/python3.9/dist-packages (from pyqt5->wfield>=0.3.6->ibllib) (12.11.1)\n",
      "Requirement already satisfied: PyQt5-Qt5>=5.15.2 in /usr/local/lib/python3.9/dist-packages (from pyqt5->wfield>=0.3.6->ibllib) (5.15.2)\n",
      "Requirement already satisfied: PyQtWebEngine-Qt5>=5.15.0 in /usr/local/lib/python3.9/dist-packages (from pyqtwebengine->wfield>=0.3.6->ibllib) (5.15.2)\n",
      "Requirement already satisfied: networkx>=2.2 in /usr/local/lib/python3.9/dist-packages (from scikit-image->wfield>=0.3.6->ibllib) (3.0)\n",
      "Requirement already satisfied: PyWavelets>=1.1.1 in /usr/local/lib/python3.9/dist-packages (from scikit-image->wfield>=0.3.6->ibllib) (1.4.1)\n",
      "Requirement already satisfied: pycparser in /usr/local/lib/python3.9/dist-packages (from cffi>=1.12->cryptography!=3.4.0,>=3.3.1->globus-sdk==3.2.1->ibllib) (2.21)\n",
      "Requirement already satisfied: locket in /usr/local/lib/python3.9/dist-packages (from partd>=0.3.10->dask->phylib>=2.4->ibllib) (1.0.0)\n",
      "Drive already mounted at /content/gdrive; to attempt to forcibly remount, call drive.mount(\"/content/gdrive\", force_remount=True).\n"
     ]
    }
   ],
   "source": [
    "! pip install ONE-api\n",
    "! pip install ibllib\n",
    "\n",
    "from google.colab import drive\n",
    "drive.mount('/content/gdrive')\n",
    "import os\n",
    "\n",
    "import math\n",
    "import numpy as np\n",
    "import pandas as pd\n",
    "import matplotlib.pyplot as plt\n",
    "\n",
    "from brainbox.io.one import SpikeSortingLoader\n",
    "from brainbox.plot import peri_event_time_histogram\n",
    "from brainbox.singlecell import calculate_peths\n",
    "\n",
    "from ibllib.atlas import AllenAtlas\n",
    "from one.api import ONE\n",
    "\n",
    "one = ONE(base_url='https://openalyx.internationalbrainlab.org', password='international', silent=True)\n",
    "ba = AllenAtlas()"
   ]
  },
  {
   "cell_type": "code",
   "execution_count": 2,
   "metadata": {
    "executionInfo": {
     "elapsed": 3,
     "status": "ok",
     "timestamp": 1679032419491,
     "user": {
      "displayName": "Charlie Huang",
      "userId": "05785404896816634261"
     },
     "user_tz": 420
    },
    "id": "bVXM3Nng6rHA"
   },
   "outputs": [],
   "source": [
    "from sklearn.preprocessing import StandardScaler\n",
    "from sklearn.svm import SVC\n",
    "from sklearn.pipeline import make_pipeline"
   ]
  },
  {
   "cell_type": "markdown",
   "metadata": {
    "id": "47muvajZwQFx"
   },
   "source": [
    "Helper functions"
   ]
  },
  {
   "cell_type": "code",
   "execution_count": 51,
   "metadata": {
    "executionInfo": {
     "elapsed": 1,
     "status": "ok",
     "timestamp": 1679034633320,
     "user": {
      "displayName": "Charlie Huang",
      "userId": "05785404896816634261"
     },
     "user_tz": 420
    },
    "id": "Sieru7gpwKa5"
   },
   "outputs": [],
   "source": [
    "# move_times = [time for time in trials['firstMovement_times'] if time == time]\n",
    "\n",
    "\n",
    "def remove_nans(lis, indices):\n",
    "    tes = np.array([[i,val] for i,val in enumerate(lis)])\n",
    "    # print(tes)\n",
    "    row_remove = np.argwhere(np.isnan(tes))\n",
    "    # print(\"***\")\n",
    "    # print(row_remove)\n",
    "    tes = tes[~np.isnan(tes).any(axis=1)]\n",
    "\n",
    "    return tes, row_remove[:,0]\n",
    "\n",
    "# move_times, removed_trials = remove_nans(trials['firstMovement_times'])\n",
    "# print(len(trials['firstMovement_times']), len(move_times))\n",
    "# print(removed_trials)\n",
    "\n",
    "def get_spikedata_pid(PID):\n",
    "    sl = SpikeSortingLoader(pid=PID, one=one, atlas=ba)\n",
    "    spikes, clusters, channels = sl.load_spike_sorting()\n",
    "    clusters = sl.merge_clusters(spikes, clusters, channels)\n",
    "    return spikes, clusters, channels\n",
    "\n",
    "def get_spikedata_eid(eid):\n",
    "    PIDlist = one.eid2pid(eid)\n",
    "    datalist = []\n",
    "    print(PIDlist)\n",
    "    for PID in PIDlist[0]:\n",
    "        sl = SpikeSortingLoader(pid=PID, one=one, atlas=ba)\n",
    "        spikes, clusters, channels = sl.load_spike_sorting()\n",
    "        clusters = sl.merge_clusters(spikes, clusters, channels)\n",
    "        datalist.append([spikes, clusters, channels])\n",
    "    return datalist\n",
    "\n",
    "def select_trials(trial_data, trial_condition, condition):\n",
    "    indices = [i for i, trial in enumerate(trial_data) if trial_condition[i] == condition and not math.isnan(trial)]\n",
    "    result = [trial for i, trial in enumerate(trial_data) if i in indices]\n",
    "    return result, indices\n",
    "\n",
    "\n",
    "def get_matrices(trials, spikes, relev_neur, param = 'choice', param_condition = -1, trial_def = [3,3,0.05]):\n",
    "\n",
    "\n",
    "    move_trials, trial_indices = select_trials(trials['firstMovement_times'], trials[param], param_condition)\n",
    "    print(len(move_trials), move_trials)\n",
    "    print(len(trial_indices), trial_indices)\n",
    "\n",
    "    #0D behavioral parameters \n",
    "    movement_choices = trials.choice[trial_indices]\n",
    "    trial_results = trials.feedbackType[trial_indices]\n",
    "    print(len(movement_choices))\n",
    "\n",
    "    peth, spike_counts = calculate_peths(\n",
    "        spikes.times, spikes.clusters, relev_neur,\n",
    "        move_trials,\n",
    "        pre_time=trial_def[0], post_time=trial_def[1], bin_size=trial_def[2], smoothing=0)\n",
    "\n",
    "    print('peth[\"tscale\"] contains the timebin centers relative to the event')\n",
    "    print(f'\\npeth[\"means\"] is shaped: {peth[\"means\"].shape}')\n",
    "    print('This variable is NxB (neurons x timebins) and contains the mean spike rates over trials')\n",
    "    print(f'\\nspike_counts is shaped: {spike_counts.shape}')\n",
    "    print('This variable is TxNxB (trials x neurons x timebins) and contains all spike rates per trial')\n",
    "\n",
    "    # If you just want all the spikes over the entire 0-300 ms window you can sum like this:\n",
    "    whole_window = np.sum(spike_counts, axis=2)\n",
    "\n",
    "    print(np.linalg.norm(whole_window))\n",
    "    print(f'\\nwhole_window is shaped: {whole_window.shape}')\n",
    "    print('This variable is TxN (trials x neurons) and contains summed spike rates per trial')\n",
    "\n",
    "    trial_data = {}\n",
    "    trial_data['movement_init_times'] = move_trials\n",
    "    trial_data['choices'] = movement_choices\n",
    "    trial_data['feedback'] = trial_results\n",
    "    trial_data['trial_indices'] = trial_indices\n",
    "\n",
    "    return peth, spike_counts, trial_data\n",
    "\n",
    "# get_matrices(trials, spikes, relev_neur)\n",
    "\n",
    "def gen_eidlist(roi_name):\n",
    "    ses = one.alyx.rest('sessions', 'list', atlas_acronym=roi_name)\n",
    "    eids = [i['id'] for i in ses]\n",
    "    return eids\n",
    "\n",
    "def gen_pidlist(roi_name):\n",
    "    ses = one.alyx.rest('insertions', 'list', atlas_acronym=roi_name)\n",
    "    # print(f'Found {len(ses)} recordings')\n",
    "    pids = [i['id'] for i in ses]\n",
    "    return pids\n",
    "\n",
    "def check_num_ses(list_of_eids):\n",
    "    roi_intersection = set(list_of_eids[0]).intersection(*list_of_eids[1:])\n",
    "    print('Found ' + str(len(list(roi_intersection))) +  'recording sessions')\n",
    "    return len(list(roi_intersection))"
   ]
  },
  {
   "cell_type": "markdown",
   "metadata": {
    "id": "eFPnsG5FmpSf"
   },
   "source": [
    "**Projectome data loading**"
   ]
  },
  {
   "cell_type": "code",
   "execution_count": 182,
   "metadata": {
    "colab": {
     "base_uri": "https://localhost:8080/"
    },
    "executionInfo": {
     "elapsed": 1673,
     "status": "ok",
     "timestamp": 1679041750919,
     "user": {
      "displayName": "Charlie Huang",
      "userId": "05785404896816634261"
     },
     "user_tz": 420
    },
    "id": "uI466qp_IjGO",
    "outputId": "fd1de068-525b-42c6-aba5-5dc0dde22eec"
   },
   "outputs": [
    {
     "name": "stdout",
     "output_type": "stream",
     "text": [
      "Source is rows, Target is columns\n"
     ]
    },
    {
     "name": "stderr",
     "output_type": "stream",
     "text": [
      "/usr/local/lib/python3.9/dist-packages/openpyxl/worksheet/header_footer.py:48: UserWarning: Cannot parse header or footer so it will be ignored\n",
      "  warn(\"\"\"Cannot parse header or footer so it will be ignored\"\"\")\n"
     ]
    }
   ],
   "source": [
    "projectome = pd.read_excel('proj_strengths_sup3.xlsx', sheet_name='W_ipsi', index_col = 0)\n",
    "print(\"Source is rows, Target is columns\")"
   ]
  },
  {
   "cell_type": "code",
   "execution_count": 184,
   "metadata": {
    "executionInfo": {
     "elapsed": 234,
     "status": "ok",
     "timestamp": 1679041780708,
     "user": {
      "displayName": "Charlie Huang",
      "userId": "05785404896816634261"
     },
     "user_tz": 420
    },
    "id": "ZUswWcryrE-R"
   },
   "outputs": [],
   "source": [
    "projec_roi = projectome.columns"
   ]
  },
  {
   "cell_type": "code",
   "execution_count": 209,
   "metadata": {
    "colab": {
     "base_uri": "https://localhost:8080/"
    },
    "executionInfo": {
     "elapsed": 176,
     "status": "ok",
     "timestamp": 1679042235349,
     "user": {
      "displayName": "Charlie Huang",
      "userId": "05785404896816634261"
     },
     "user_tz": 420
    },
    "id": "Ep5j2UB1sGCA",
    "outputId": "79c43dec-3ef5-47ee-b3c6-5d53965938d7"
   },
   "outputs": [
    {
     "data": {
      "text/plain": [
       "['CM', 'DG', 'CA1', 'LP', 'MRN', 'PTLp', 'APN']"
      ]
     },
     "execution_count": 209,
     "metadata": {},
     "output_type": "execute_result"
    }
   ],
   "source": [
    "rois_opt"
   ]
  },
  {
   "cell_type": "code",
   "execution_count": 229,
   "metadata": {
    "colab": {
     "base_uri": "https://localhost:8080/",
     "height": 265
    },
    "executionInfo": {
     "elapsed": 613,
     "status": "ok",
     "timestamp": 1679043215156,
     "user": {
      "displayName": "Charlie Huang",
      "userId": "05785404896816634261"
     },
     "user_tz": 420
    },
    "id": "QDfvBow-t10O",
    "outputId": "38b627f1-2c10-44c2-8736-f15af09c2f6d"
   },
   "outputs": [
    {
     "data": {
      "image/png": "[encoded data removed]",
      "text/plain": [
       "<Figure size 432x288 with 1 Axes>"
      ]
     },
     "metadata": {
      "needs_background": "light"
     },
     "output_type": "display_data"
    }
   ],
   "source": [
    "strengths = np.zeros([7,7])\n",
    "for i,source in enumerate(rois_opt):\n",
    "    for j, target in enumerate(rois_opt):\n",
    "        # print(round(projectome.loc[source, target], 2))\n",
    "        strengths[i,j] = projectome.loc[source, target]\n",
    "    if np.sum(strengths[i,:]) > 0:\n",
    "        strengths[i,:] /= np.sum(strengths[i,:])\n",
    "plt.imshow(strengths)\n",
    "strength_df = pd.DataFrame(strengths, columns = rois_opt, index = rois_opt)"
   ]
  },
  {
   "cell_type": "code",
   "execution_count": 230,
   "metadata": {
    "colab": {
     "base_uri": "https://localhost:8080/",
     "height": 269
    },
    "executionInfo": {
     "elapsed": 399,
     "status": "ok",
     "timestamp": 1679043220526,
     "user": {
      "displayName": "Charlie Huang",
      "userId": "05785404896816634261"
     },
     "user_tz": 420
    },
    "id": "r3244SvHqa9v",
    "outputId": "28b16bef-cb18-411d-a4bf-aa283e8a3c90"
   },
   "outputs": [
    {
     "data": {
      "text/html": [
       "\n",
       "  <div id=\"df-738a6df5-4e89-4014-8f77-aa4c2961e073\">\n",
       "    <div class=\"colab-df-container\">\n",
       "      <div>\n",
       "<style scoped>\n",
       "    .dataframe tbody tr th:only-of-type {\n",
       "        vertical-align: middle;\n",
       "    }\n",
       "\n",
       "    .dataframe tbody tr th {\n",
       "        vertical-align: top;\n",
       "    }\n",
       "\n",
       "    .dataframe thead th {\n",
       "        text-align: right;\n",
       "    }\n",
       "</style>\n",
       "<table border=\"1\" class=\"dataframe\">\n",
       "  <thead>\n",
       "    <tr style=\"text-align: right;\">\n",
       "      <th></th>\n",
       "      <th>CM</th>\n",
       "      <th>DG</th>\n",
       "      <th>CA1</th>\n",
       "      <th>LP</th>\n",
       "      <th>MRN</th>\n",
       "      <th>PTLp</th>\n",
       "      <th>APN</th>\n",
       "    </tr>\n",
       "  </thead>\n",
       "  <tbody>\n",
       "    <tr>\n",
       "      <th>CM</th>\n",
       "      <td>0.000000</td>\n",
       "      <td>0.000000</td>\n",
       "      <td>0.000000</td>\n",
       "      <td>0.000000</td>\n",
       "      <td>0.000000</td>\n",
       "      <td>0.000000</td>\n",
       "      <td>0.000000</td>\n",
       "    </tr>\n",
       "    <tr>\n",
       "      <th>DG</th>\n",
       "      <td>0.000000</td>\n",
       "      <td>0.786168</td>\n",
       "      <td>0.213832</td>\n",
       "      <td>0.000000</td>\n",
       "      <td>0.000000</td>\n",
       "      <td>0.000000</td>\n",
       "      <td>0.000000</td>\n",
       "    </tr>\n",
       "    <tr>\n",
       "      <th>CA1</th>\n",
       "      <td>0.000000</td>\n",
       "      <td>0.000000</td>\n",
       "      <td>0.000000</td>\n",
       "      <td>1.000000</td>\n",
       "      <td>0.000000</td>\n",
       "      <td>0.000000</td>\n",
       "      <td>0.000000</td>\n",
       "    </tr>\n",
       "    <tr>\n",
       "      <th>LP</th>\n",
       "      <td>0.000000</td>\n",
       "      <td>0.000000</td>\n",
       "      <td>0.000000</td>\n",
       "      <td>0.000000</td>\n",
       "      <td>0.000000</td>\n",
       "      <td>0.988383</td>\n",
       "      <td>0.011617</td>\n",
       "    </tr>\n",
       "    <tr>\n",
       "      <th>MRN</th>\n",
       "      <td>0.554347</td>\n",
       "      <td>0.000000</td>\n",
       "      <td>0.000000</td>\n",
       "      <td>0.000000</td>\n",
       "      <td>0.000000</td>\n",
       "      <td>0.000000</td>\n",
       "      <td>0.445653</td>\n",
       "    </tr>\n",
       "    <tr>\n",
       "      <th>PTLp</th>\n",
       "      <td>0.000070</td>\n",
       "      <td>0.000000</td>\n",
       "      <td>0.010600</td>\n",
       "      <td>0.162417</td>\n",
       "      <td>0.111364</td>\n",
       "      <td>0.557438</td>\n",
       "      <td>0.158112</td>\n",
       "    </tr>\n",
       "    <tr>\n",
       "      <th>APN</th>\n",
       "      <td>0.000000</td>\n",
       "      <td>0.000000</td>\n",
       "      <td>0.000000</td>\n",
       "      <td>0.000000</td>\n",
       "      <td>1.000000</td>\n",
       "      <td>0.000000</td>\n",
       "      <td>0.000000</td>\n",
       "    </tr>\n",
       "  </tbody>\n",
       "</table>\n",
       "</div>\n",
       "      <button class=\"colab-df-convert\" onclick=\"convertToInteractive('df-738a6df5-4e89-4014-8f77-aa4c2961e073')\"\n",
       "              title=\"Convert this dataframe to an interactive table.\"\n",
       "              style=\"display:none;\">\n",
       "        \n",
       "  <svg xmlns=\"http://www.w3.org/2000/svg\" height=\"24px\"viewBox=\"0 0 24 24\"\n",
       "       width=\"24px\">\n",
       "    <path d=\"M0 0h24v24H0V0z\" fill=\"none\"/>\n",
       "    <path d=\"M18.56 5.44l.94 2.06.94-2.06 2.06-.94-2.06-.94-.94-2.06-.94 2.06-2.06.94zm-11 1L8.5 8.5l.94-2.06 2.06-.94-2.06-.94L8.5 2.5l-.94 2.06-2.06.94zm10 10l.94 2.06.94-2.06 2.06-.94-2.06-.94-.94-2.06-.94 2.06-2.06.94z\"/><path d=\"M17.41 7.96l-1.37-1.37c-.4-.4-.92-.59-1.43-.59-.52 0-1.04.2-1.43.59L10.3 9.45l-7.72 7.72c-.78.78-.78 2.05 0 2.83L4 21.41c.39.39.9.59 1.41.59.51 0 1.02-.2 1.41-.59l7.78-7.78 2.81-2.81c.8-.78.8-2.07 0-2.86zM5.41 20L4 18.59l7.72-7.72 1.47 1.35L5.41 20z\"/>\n",
       "  </svg>\n",
       "      </button>\n",
       "      \n",
       "  <style>\n",
       "    .colab-df-container {\n",
       "      display:flex;\n",
       "      flex-wrap:wrap;\n",
       "      gap: 12px;\n",
       "    }\n",
       "\n",
       "    .colab-df-convert {\n",
       "      background-color: #E8F0FE;\n",
       "      border: none;\n",
       "      border-radius: 50%;\n",
       "      cursor: pointer;\n",
       "      display: none;\n",
       "      fill: #1967D2;\n",
       "      height: 32px;\n",
       "      padding: 0 0 0 0;\n",
       "      width: 32px;\n",
       "    }\n",
       "\n",
       "    .colab-df-convert:hover {\n",
       "      background-color: #E2EBFA;\n",
       "      box-shadow: 0px 1px 2px rgba(60, 64, 67, 0.3), 0px 1px 3px 1px rgba(60, 64, 67, 0.15);\n",
       "      fill: #174EA6;\n",
       "    }\n",
       "\n",
       "    [theme=dark] .colab-df-convert {\n",
       "      background-color: #3B4455;\n",
       "      fill: #D2E3FC;\n",
       "    }\n",
       "\n",
       "    [theme=dark] .colab-df-convert:hover {\n",
       "      background-color: #434B5C;\n",
       "      box-shadow: 0px 1px 3px 1px rgba(0, 0, 0, 0.15);\n",
       "      filter: drop-shadow(0px 1px 2px rgba(0, 0, 0, 0.3));\n",
       "      fill: #FFFFFF;\n",
       "    }\n",
       "  </style>\n",
       "\n",
       "      <script>\n",
       "        const buttonEl =\n",
       "          document.querySelector('#df-738a6df5-4e89-4014-8f77-aa4c2961e073 button.colab-df-convert');\n",
       "        buttonEl.style.display =\n",
       "          google.colab.kernel.accessAllowed ? 'block' : 'none';\n",
       "\n",
       "        async function convertToInteractive(key) {\n",
       "          const element = document.querySelector('#df-738a6df5-4e89-4014-8f77-aa4c2961e073');\n",
       "          const dataTable =\n",
       "            await google.colab.kernel.invokeFunction('convertToInteractive',\n",
       "                                                     [key], {});\n",
       "          if (!dataTable) return;\n",
       "\n",
       "          const docLinkHtml = 'Like what you see? Visit the ' +\n",
       "            '<a target=\"_blank\" href=https://colab.research.google.com/notebooks/data_table.ipynb>data table notebook</a>'\n",
       "            + ' to learn more about interactive tables.';\n",
       "          element.innerHTML = '';\n",
       "          dataTable['output_type'] = 'display_data';\n",
       "          await google.colab.output.renderOutput(dataTable, element);\n",
       "          const docLink = document.createElement('div');\n",
       "          docLink.innerHTML = docLinkHtml;\n",
       "          element.appendChild(docLink);\n",
       "        }\n",
       "      </script>\n",
       "    </div>\n",
       "  </div>\n",
       "  "
      ],
      "text/plain": [
       "            CM        DG       CA1        LP       MRN      PTLp       APN\n",
       "CM    0.000000  0.000000  0.000000  0.000000  0.000000  0.000000  0.000000\n",
       "DG    0.000000  0.786168  0.213832  0.000000  0.000000  0.000000  0.000000\n",
       "CA1   0.000000  0.000000  0.000000  1.000000  0.000000  0.000000  0.000000\n",
       "LP    0.000000  0.000000  0.000000  0.000000  0.000000  0.988383  0.011617\n",
       "MRN   0.554347  0.000000  0.000000  0.000000  0.000000  0.000000  0.445653\n",
       "PTLp  0.000070  0.000000  0.010600  0.162417  0.111364  0.557438  0.158112\n",
       "APN   0.000000  0.000000  0.000000  0.000000  1.000000  0.000000  0.000000"
      ]
     },
     "execution_count": 230,
     "metadata": {},
     "output_type": "execute_result"
    }
   ],
   "source": [
    "strength_df"
   ]
  },
  {
   "cell_type": "code",
   "execution_count": 228,
   "metadata": {
    "colab": {
     "base_uri": "https://localhost:8080/"
    },
    "executionInfo": {
     "elapsed": 208,
     "status": "ok",
     "timestamp": 1679042987829,
     "user": {
      "displayName": "Charlie Huang",
      "userId": "05785404896816634261"
     },
     "user_tz": 420
    },
    "id": "jICrdjnTwKg8",
    "outputId": "7804d8d8-c5f8-4d67-a26c-779e7b8b9adb"
   },
   "outputs": [
    {
     "data": {
      "text/plain": [
       "array([0., 0., 0., 1., 0., 0., 0.])"
      ]
     },
     "execution_count": 228,
     "metadata": {},
     "output_type": "execute_result"
    }
   ],
   "source": [
    "strengths[,:]"
   ]
  },
  {
   "cell_type": "markdown",
   "metadata": {
    "id": "yGuKE08I57yU"
   },
   "source": [
    "1.5) Other dataset gen"
   ]
  },
  {
   "cell_type": "code",
   "execution_count": 23,
   "metadata": {
    "executionInfo": {
     "elapsed": 178,
     "status": "ok",
     "timestamp": 1679033533979,
     "user": {
      "displayName": "Charlie Huang",
      "userId": "05785404896816634261"
     },
     "user_tz": 420
    },
    "id": "-vlTfcAmIkv8"
   },
   "outputs": [],
   "source": [
    "example_regions = ['VM']#, 'VAL']#, 'MOp']"
   ]
  },
  {
   "cell_type": "code",
   "execution_count": 63,
   "metadata": {
    "colab": {
     "base_uri": "https://localhost:8080/"
    },
    "executionInfo": {
     "elapsed": 149,
     "status": "ok",
     "timestamp": 1679034915712,
     "user": {
      "displayName": "Charlie Huang",
      "userId": "05785404896816634261"
     },
     "user_tz": 420
    },
    "id": "9oDrl3iyQN6Z",
    "outputId": "dbf88364-4204-4a04-ca06-644d8ea897f4"
   },
   "outputs": [
    {
     "name": "stdout",
     "output_type": "stream",
     "text": [
      "['LP', 'CP', 'MOp', 'MOs', 'VM', 'VAL', 'CA1', 'SCm', 'VPM', 'VISp', 'MRN', 'DG', 'CA1', 'PTLp']\n"
     ]
    }
   ],
   "source": [
    "regions = [region[0] for region in pd.read_csv('chosen_brainregions.csv', header = None).values]\n",
    "print(regions)"
   ]
  },
  {
   "cell_type": "code",
   "execution_count": 65,
   "metadata": {
    "colab": {
     "base_uri": "https://localhost:8080/"
    },
    "executionInfo": {
     "elapsed": 65727,
     "status": "ok",
     "timestamp": 1679034996173,
     "user": {
      "displayName": "Charlie Huang",
      "userId": "05785404896816634261"
     },
     "user_tz": 420
    },
    "id": "LFaGhtHUQbmL",
    "outputId": "866be5de-9114-46c9-ef59-dc600bd84258"
   },
   "outputs": [
    {
     "name": "stdout",
     "output_type": "stream",
     "text": [
      "VM\n",
      "63c70ae8-4dfb-418b-b21b-f0b1e5fba6c9\n",
      "1b715600-0cbc-442c-bd00-5b0ac2865de1\n",
      "1f095590-6669-46c9-986b-ccaf0620c5e9\n",
      "71e03be6-b497-4991-a121-9416dcc1a6e7\n",
      "9a629642-3a9c-42ed-b70a-532db0e86199\n",
      "5386aba9-9b97-4557-abcd-abc2da66b863\n",
      "f8d5c8b0-b931-4151-b86c-c471e2e80e5d\n",
      "ee40aece-cffd-4edb-a4b6-155f158c666a\n",
      "d33baf74-263c-4b37-a0d0-b79dcb80a764\n",
      "VAL\n",
      "63c70ae8-4dfb-418b-b21b-f0b1e5fba6c9\n",
      "948fd27b-507b-41b3-bdf8-f9f5f0af8e0b\n",
      "c7bd79c9-c47e-4ea5-aea3-74dda991b48e\n",
      "5adab0b7-dfd0-467d-b09d-43cb7ca5d59c\n",
      "9a629642-3a9c-42ed-b70a-532db0e86199\n",
      "034e726f-b35f-41e0-8d6c-a22cc32391fb\n",
      "5386aba9-9b97-4557-abcd-abc2da66b863\n",
      "741979ce-3f10-443a-8526-2275620c8473\n",
      "d33baf74-263c-4b37-a0d0-b79dcb80a764\n",
      "CA1\n",
      "6c6b0d06-6039-4525-a74b-58cfaa1d3a60\n",
      "6c6b0d06-6039-4525-a74b-58cfaa1d3a60\n",
      "27ef44c0-acb2-4220-b776-477d0d5abd35\n",
      "a2701b93-d8e1-47e9-a819-f1063046f3e7\n"
     ]
    },
    {
     "name": "stderr",
     "output_type": "stream",
     "text": [
      "/root/Downloads/ONE/openalyx.internationalbrainlab.org/cortexlab/Subjects/KS096/2022-06-21/001/alf/_ibl_trials.goCueTrigger_times.npy: 100%|██████████| 4.25k/4.25k [00:00<00:00, 18.7kB/s]\n",
      "/root/Downloads/ONE/openalyx.internationalbrainlab.org/cortexlab/Subjects/KS096/2022-06-21/001/alf/_ibl_trials.table.pqt: 100%|██████████| 44.3k/44.3k [00:00<00:00, 910kB/s]\n",
      "/root/Downloads/ONE/openalyx.internationalbrainlab.org/cortexlab/Subjects/KS096/2022-06-21/001/alf/_ibl_trials.stimOff_times.npy: 100%|██████████| 4.25k/4.25k [00:00<00:00, 87.8kB/s]\n"
     ]
    },
    {
     "name": "stdout",
     "output_type": "stream",
     "text": [
      "446f4724-1690-49f9-819a-2bd8e2ea88ce\n"
     ]
    },
    {
     "name": "stderr",
     "output_type": "stream",
     "text": [
      "/root/Downloads/ONE/openalyx.internationalbrainlab.org/cortexlab/Subjects/KS096/2022-06-20/001/alf/_ibl_trials.table.pqt: 100%|██████████| 56.5k/56.5k [00:00<00:00, 91.8kB/s]\n",
      "/root/Downloads/ONE/openalyx.internationalbrainlab.org/cortexlab/Subjects/KS096/2022-06-20/001/alf/_ibl_trials.goCueTrigger_times.npy: 100%|██████████| 5.74k/5.74k [00:00<00:00, 86.1kB/s]\n",
      "/root/Downloads/ONE/openalyx.internationalbrainlab.org/cortexlab/Subjects/KS096/2022-06-20/001/alf/_ibl_trials.stimOff_times.npy: 100%|██████████| 5.74k/5.74k [00:00<00:00, 120kB/s]\n"
     ]
    },
    {
     "name": "stdout",
     "output_type": "stream",
     "text": [
      "8928f98a-b411-497e-aa4b-aa752434686d\n",
      "3f859b5c-e73a-4044-b49e-34bb81e96715\n"
     ]
    },
    {
     "name": "stderr",
     "output_type": "stream",
     "text": [
      "/root/Downloads/ONE/openalyx.internationalbrainlab.org/cortexlab/Subjects/KS094/2022-06-17/001/alf/_ibl_trials.stimOff_times.npy: 100%|██████████| 4.05k/4.05k [00:00<00:00, 52.5kB/s]\n",
      "/root/Downloads/ONE/openalyx.internationalbrainlab.org/cortexlab/Subjects/KS094/2022-06-17/001/alf/_ibl_trials.table.pqt: 100%|██████████| 42.2k/42.2k [00:00<00:00, 443kB/s]\n",
      "/root/Downloads/ONE/openalyx.internationalbrainlab.org/cortexlab/Subjects/KS094/2022-06-17/001/alf/_ibl_trials.goCueTrigger_times.npy: 100%|██████████| 4.05k/4.05k [00:00<00:00, 78.9kB/s]\n"
     ]
    },
    {
     "name": "stdout",
     "output_type": "stream",
     "text": [
      "5b49aca6-a6f4-4075-931a-617ad64c219c\n"
     ]
    },
    {
     "name": "stderr",
     "output_type": "stream",
     "text": [
      "/root/Downloads/ONE/openalyx.internationalbrainlab.org/steinmetzlab/Subjects/NR_0020/2022-05-10/001/alf/_ibl_trials.stimOff_times.npy: 100%|██████████| 6.31k/6.31k [00:00<00:00, 51.0kB/s]\n",
      "/root/Downloads/ONE/openalyx.internationalbrainlab.org/steinmetzlab/Subjects/NR_0020/2022-05-10/001/alf/_ibl_trials.goCueTrigger_times.npy: 100%|██████████| 6.31k/6.31k [00:00<00:00, 117kB/s]\n",
      "/root/Downloads/ONE/openalyx.internationalbrainlab.org/steinmetzlab/Subjects/NR_0020/2022-05-10/001/alf/_ibl_trials.table.pqt: 100%|██████████| 61.3k/61.3k [00:00<00:00, 688kB/s]\n"
     ]
    },
    {
     "name": "stdout",
     "output_type": "stream",
     "text": [
      "eacc49a9-f3a1-49f1-b87f-0972f90ee837\n"
     ]
    },
    {
     "name": "stderr",
     "output_type": "stream",
     "text": [
      "/root/Downloads/ONE/openalyx.internationalbrainlab.org/steinmetzlab/Subjects/NR_0020/2022-05-09/001/alf/_ibl_trials.goCueTrigger_times.npy: 100%|██████████| 6.66k/6.66k [00:00<00:00, 127kB/s]\n",
      "/root/Downloads/ONE/openalyx.internationalbrainlab.org/steinmetzlab/Subjects/NR_0020/2022-05-09/001/alf/_ibl_trials.table.pqt: 100%|██████████| 64.2k/64.2k [00:00<00:00, 750kB/s]\n",
      "/root/Downloads/ONE/openalyx.internationalbrainlab.org/steinmetzlab/Subjects/NR_0020/2022-05-09/001/alf/_ibl_trials.stimOff_times.npy: 100%|██████████| 6.66k/6.66k [00:00<00:00, 68.9kB/s]\n"
     ]
    },
    {
     "name": "stdout",
     "output_type": "stream",
     "text": [
      "3e6a97d3-3991-49e2-b346-6948cb4580fb\n",
      "breakin\n",
      "SCm\n",
      "e0928e11-2b86-4387-a203-80c77fab5d52\n"
     ]
    },
    {
     "name": "stderr",
     "output_type": "stream",
     "text": [
      "/root/Downloads/ONE/openalyx.internationalbrainlab.org/steinmetzlab/Subjects/NR_0021/2022-07-08/001/alf/_ibl_trials.stimOff_times.npy: 100%|██████████| 3.92k/3.92k [00:00<00:00, 55.3kB/s]\n",
      "/root/Downloads/ONE/openalyx.internationalbrainlab.org/steinmetzlab/Subjects/NR_0021/2022-07-08/001/alf/_ibl_trials.goCueTrigger_times.npy: 100%|██████████| 3.92k/3.92k [00:00<00:00, 82.0kB/s]\n",
      "/root/Downloads/ONE/openalyx.internationalbrainlab.org/steinmetzlab/Subjects/NR_0021/2022-07-08/001/alf/_ibl_trials.table.pqt: 100%|██████████| 41.2k/41.2k [00:00<00:00, 523kB/s]\n"
     ]
    },
    {
     "name": "stdout",
     "output_type": "stream",
     "text": [
      "f819d499-8bf7-4da0-a431-15377a8319d5\n"
     ]
    },
    {
     "name": "stderr",
     "output_type": "stream",
     "text": [
      "/root/Downloads/ONE/openalyx.internationalbrainlab.org/cortexlab/Subjects/KS096/2022-06-16/001/alf/_ibl_trials.stimOff_times.npy: 100%|██████████| 3.66k/3.66k [00:00<00:00, 32.1kB/s]\n",
      "/root/Downloads/ONE/openalyx.internationalbrainlab.org/cortexlab/Subjects/KS096/2022-06-16/001/alf/_ibl_trials.goCueTrigger_times.npy: 100%|██████████| 3.66k/3.66k [00:00<00:00, 67.9kB/s]\n",
      "/root/Downloads/ONE/openalyx.internationalbrainlab.org/cortexlab/Subjects/KS096/2022-06-16/001/alf/_ibl_trials.table.pqt: 100%|██████████| 39.1k/39.1k [00:00<00:00, 669kB/s]\n"
     ]
    },
    {
     "name": "stdout",
     "output_type": "stream",
     "text": [
      "1b9e349e-93f2-41cc-a4b5-b212d7ddc8df\n"
     ]
    },
    {
     "name": "stderr",
     "output_type": "stream",
     "text": [
      "/root/Downloads/ONE/openalyx.internationalbrainlab.org/cortexlab/Subjects/KS096/2022-06-15/001/alf/_ibl_trials.table.pqt: 100%|██████████| 86.7k/86.7k [00:00<00:00, 788kB/s]\n",
      "/root/Downloads/ONE/openalyx.internationalbrainlab.org/cortexlab/Subjects/KS096/2022-06-15/001/alf/_ibl_trials.goCueTrigger_times.npy: 100%|██████████| 9.25k/9.25k [00:00<00:00, 126kB/s]\n",
      "/root/Downloads/ONE/openalyx.internationalbrainlab.org/cortexlab/Subjects/KS096/2022-06-15/001/alf/_ibl_trials.stimOff_times.npy: 100%|██████████| 9.25k/9.25k [00:00<00:00, 149kB/s]\n"
     ]
    },
    {
     "name": "stdout",
     "output_type": "stream",
     "text": [
      "eacc49a9-f3a1-49f1-b87f-0972f90ee837\n",
      "90e524a2-aa63-47ce-b5b8-1b1941a1223a\n"
     ]
    },
    {
     "name": "stderr",
     "output_type": "stream",
     "text": [
      "/root/Downloads/ONE/openalyx.internationalbrainlab.org/hausserlab/Subjects/PL015/2022-02-23/001/alf/_ibl_trials.goCueTrigger_times.npy: 100%|██████████| 3.48k/3.48k [00:00<00:00, 61.3kB/s]\n",
      "/root/Downloads/ONE/openalyx.internationalbrainlab.org/hausserlab/Subjects/PL015/2022-02-23/001/alf/_ibl_trials.stimOff_times.npy: 100%|██████████| 3.48k/3.48k [00:00<00:00, 70.6kB/s]\n",
      "/root/Downloads/ONE/openalyx.internationalbrainlab.org/hausserlab/Subjects/PL015/2022-02-23/001/alf/_ibl_trials.table.pqt: 100%|██████████| 37.3k/37.3k [00:00<00:00, 419kB/s]\n"
     ]
    },
    {
     "name": "stdout",
     "output_type": "stream",
     "text": [
      "111c1762-7908-47e0-9f40-2f2ee55b6505\n"
     ]
    },
    {
     "name": "stderr",
     "output_type": "stream",
     "text": [
      "/root/Downloads/ONE/openalyx.internationalbrainlab.org/churchlandlab_ucla/Subjects/UCLA033/2022-02-15/001/alf/_ibl_trials.goCueTrigger_times.npy: 100%|██████████| 5.92k/5.92k [00:00<00:00, 82.3kB/s]\n",
      "/root/Downloads/ONE/openalyx.internationalbrainlab.org/churchlandlab_ucla/Subjects/UCLA033/2022-02-15/001/alf/_ibl_trials.table.pqt: 100%|██████████| 58.1k/58.1k [00:00<00:00, 1.54MB/s]\n",
      "/root/Downloads/ONE/openalyx.internationalbrainlab.org/churchlandlab_ucla/Subjects/UCLA033/2022-02-15/001/alf/_ibl_trials.stimOff_times.npy: 100%|██████████| 5.92k/5.92k [00:00<00:00, 83.7kB/s]\n"
     ]
    },
    {
     "name": "stdout",
     "output_type": "stream",
     "text": [
      "111c1762-7908-47e0-9f40-2f2ee55b6505\n",
      "19b44992-d527-4a12-8bda-aa11379cb08c\n",
      "8a3a0197-b40a-449f-be55-c00b23253bbf\n",
      "58c4bf97-ec3b-45b4-9db4-d5d9515d5b00\n"
     ]
    },
    {
     "name": "stderr",
     "output_type": "stream",
     "text": [
      "/root/Downloads/ONE/openalyx.internationalbrainlab.org/hausserlab/Subjects/PL016/2022-01-17/001/alf/_ibl_trials.goCueTrigger_times.npy: 100%|██████████| 3.54k/3.54k [00:00<00:00, 42.5kB/s]\n",
      "/root/Downloads/ONE/openalyx.internationalbrainlab.org/hausserlab/Subjects/PL016/2022-01-17/001/alf/_ibl_trials.table.pqt: 100%|██████████| 37.6k/37.6k [00:00<00:00, 688kB/s]\n",
      "/root/Downloads/ONE/openalyx.internationalbrainlab.org/hausserlab/Subjects/PL016/2022-01-17/001/alf/_ibl_trials.stimOff_times.npy: 100%|██████████| 3.54k/3.54k [00:00<00:00, 72.3kB/s]\n"
     ]
    },
    {
     "name": "stdout",
     "output_type": "stream",
     "text": [
      "breakin\n",
      "VPM\n",
      "63c70ae8-4dfb-418b-b21b-f0b1e5fba6c9\n",
      "19e66dc9-bf9f-430b-9d6a-acfa85de6fb7\n"
     ]
    },
    {
     "name": "stderr",
     "output_type": "stream",
     "text": [
      "/root/Downloads/ONE/openalyx.internationalbrainlab.org/churchlandlab_ucla/Subjects/UCLA006/2021-12-08/001/alf/_ibl_trials.stimOff_times.npy: 100%|██████████| 6.11k/6.11k [00:00<00:00, 124kB/s]\n",
      "/root/Downloads/ONE/openalyx.internationalbrainlab.org/churchlandlab_ucla/Subjects/UCLA006/2021-12-08/001/alf/_ibl_trials.goCueTrigger_times.npy: 100%|██████████| 6.11k/6.11k [00:00<00:00, 142kB/s]\n",
      "/root/Downloads/ONE/openalyx.internationalbrainlab.org/churchlandlab_ucla/Subjects/UCLA006/2021-12-08/001/alf/_ibl_trials.table.pqt: 100%|██████████| 59.7k/59.7k [00:00<00:00, 838kB/s]\n"
     ]
    },
    {
     "name": "stdout",
     "output_type": "stream",
     "text": [
      "c7bf2d49-4937-4597-b307-9f39cb1c7b16\n",
      "51e53aff-1d5d-4182-a684-aba783d50ae5\n",
      "c51f34d8-42f6-4c9c-bb5b-669fd9c42cd9\n",
      "0802ced5-33a3-405e-8336-b65ebc5cb07c\n",
      "0802ced5-33a3-405e-8336-b65ebc5cb07c\n",
      "d2832a38-27f6-452d-91d6-af72d794136c\n",
      "a4a74102-2af5-45dc-9e41-ef7f5aed88be\n",
      "30c4e2ab-dffc-499d-aae4-e51d6b3218c2\n"
     ]
    },
    {
     "name": "stderr",
     "output_type": "stream",
     "text": [
      "/root/Downloads/ONE/openalyx.internationalbrainlab.org/mainenlab/Subjects/ZFM-02370/2021-04-29/001/alf/_ibl_trials.goCueTrigger_times.npy: 100%|██████████| 6.86k/6.86k [00:00<00:00, 85.5kB/s]\n",
      "/root/Downloads/ONE/openalyx.internationalbrainlab.org/mainenlab/Subjects/ZFM-02370/2021-04-29/001/alf/_ibl_trials.table.pqt: 100%|██████████| 65.8k/65.8k [00:00<00:00, 757kB/s]\n",
      "/root/Downloads/ONE/openalyx.internationalbrainlab.org/mainenlab/Subjects/ZFM-02370/2021-04-29/001/alf/_ibl_trials.stimOff_times.npy: 100%|██████████| 6.86k/6.86k [00:00<00:00, 88.0kB/s]\n"
     ]
    },
    {
     "name": "stdout",
     "output_type": "stream",
     "text": [
      "breakin\n",
      "VISp\n",
      "e0928e11-2b86-4387-a203-80c77fab5d52\n",
      "e0928e11-2b86-4387-a203-80c77fab5d52\n",
      "0c828385-6dd6-4842-a702-c5075f5f5e81\n",
      "9a6e127b-bb07-4be2-92e2-53dd858c2762\n"
     ]
    },
    {
     "name": "stderr",
     "output_type": "stream",
     "text": [
      "/root/Downloads/ONE/openalyx.internationalbrainlab.org/hausserlab/Subjects/PL015/2022-02-21/002/alf/_ibl_trials.goCueTrigger_times.npy: 100%|██████████| 5.35k/5.35k [00:00<00:00, 90.8kB/s]\n",
      "/root/Downloads/ONE/openalyx.internationalbrainlab.org/hausserlab/Subjects/PL015/2022-02-21/002/alf/_ibl_trials.table.pqt: 100%|██████████| 53.0k/53.0k [00:00<00:00, 812kB/s]\n",
      "/root/Downloads/ONE/openalyx.internationalbrainlab.org/hausserlab/Subjects/PL015/2022-02-21/002/alf/_ibl_trials.stimOff_times.npy: 100%|██████████| 5.35k/5.35k [00:00<00:00, 70.5kB/s]\n"
     ]
    },
    {
     "name": "stdout",
     "output_type": "stream",
     "text": [
      "111c1762-7908-47e0-9f40-2f2ee55b6505\n",
      "bda2faf5-9563-4940-a80f-ce444259e47b\n"
     ]
    },
    {
     "name": "stderr",
     "output_type": "stream",
     "text": [
      "/root/Downloads/ONE/openalyx.internationalbrainlab.org/churchlandlab_ucla/Subjects/UCLA037/2022-02-10/001/alf/_ibl_trials.table.pqt: 100%|██████████| 46.3k/46.3k [00:00<00:00, 691kB/s]\n",
      "/root/Downloads/ONE/openalyx.internationalbrainlab.org/churchlandlab_ucla/Subjects/UCLA037/2022-02-10/001/alf/_ibl_trials.goCueTrigger_times.npy: 100%|██████████| 4.49k/4.49k [00:00<00:00, 89.6kB/s]\n",
      "/root/Downloads/ONE/openalyx.internationalbrainlab.org/churchlandlab_ucla/Subjects/UCLA037/2022-02-10/001/alf/_ibl_trials.stimOff_times.npy: 100%|██████████| 4.49k/4.49k [00:00<00:00, 79.2kB/s]\n"
     ]
    },
    {
     "name": "stdout",
     "output_type": "stream",
     "text": [
      "8a3a0197-b40a-449f-be55-c00b23253bbf\n",
      "bb099402-fb31-4cfd-824e-1c97530a0875\n"
     ]
    },
    {
     "name": "stderr",
     "output_type": "stream",
     "text": [
      "/root/Downloads/ONE/openalyx.internationalbrainlab.org/churchlandlab_ucla/Subjects/UCLA017/2021-11-16/002/alf/_ibl_trials.goCueTrigger_times.npy: 100%|██████████| 5.45k/5.45k [00:00<00:00, 91.1kB/s]\n",
      "/root/Downloads/ONE/openalyx.internationalbrainlab.org/churchlandlab_ucla/Subjects/UCLA017/2021-11-16/002/alf/_ibl_trials.stimOff_times.npy: 100%|██████████| 5.45k/5.45k [00:00<00:00, 65.5kB/s]\n",
      "/root/Downloads/ONE/openalyx.internationalbrainlab.org/churchlandlab_ucla/Subjects/UCLA017/2021-11-16/002/alf/_ibl_trials.table.pqt: 100%|██████████| 54.2k/54.2k [00:00<00:00, 707kB/s]\n"
     ]
    },
    {
     "name": "stdout",
     "output_type": "stream",
     "text": [
      "f140a2ec-fd49-4814-994a-fe3476f14e66\n",
      "58b1e920-cfc8-467e-b28b-7654a55d0977\n"
     ]
    },
    {
     "name": "stderr",
     "output_type": "stream",
     "text": [
      "/root/Downloads/ONE/openalyx.internationalbrainlab.org/wittenlab/Subjects/ibl_witten_29/2021-06-19/001/alf/_ibl_trials.table.pqt: 100%|██████████| 58.4k/58.4k [00:00<00:00, 1.25MB/s]\n",
      "/root/Downloads/ONE/openalyx.internationalbrainlab.org/wittenlab/Subjects/ibl_witten_29/2021-06-19/001/alf/_ibl_trials.stimOff_times.npy: 100%|██████████| 5.95k/5.95k [00:00<00:00, 91.1kB/s]\n",
      "/root/Downloads/ONE/openalyx.internationalbrainlab.org/wittenlab/Subjects/ibl_witten_29/2021-06-19/001/alf/_ibl_trials.goCueTrigger_times.npy: 100%|██████████| 5.95k/5.95k [00:00<00:00, 89.9kB/s]\n"
     ]
    },
    {
     "name": "stdout",
     "output_type": "stream",
     "text": [
      "breakin\n",
      "MRN\n",
      "6c6b0d06-6039-4525-a74b-58cfaa1d3a60\n",
      "6c6b0d06-6039-4525-a74b-58cfaa1d3a60\n",
      "e0928e11-2b86-4387-a203-80c77fab5d52\n",
      "1ca83b26-30fc-4350-a616-c38b7d00d240\n"
     ]
    },
    {
     "name": "stderr",
     "output_type": "stream",
     "text": [
      "/root/Downloads/ONE/openalyx.internationalbrainlab.org/steinmetzlab/Subjects/NR_0021/2022-06-30/002/alf/_ibl_trials.goCueTrigger_times.npy: 100%|██████████| 4.82k/4.82k [00:00<00:00, 86.4kB/s]\n",
      "/root/Downloads/ONE/openalyx.internationalbrainlab.org/steinmetzlab/Subjects/NR_0021/2022-06-30/002/alf/_ibl_trials.stimOff_times.npy: 100%|██████████| 4.82k/4.82k [00:00<00:00, 83.1kB/s]\n",
      "/root/Downloads/ONE/openalyx.internationalbrainlab.org/steinmetzlab/Subjects/NR_0021/2022-06-30/002/alf/_ibl_trials.table.pqt: 100%|██████████| 49.0k/49.0k [00:00<00:00, 997kB/s]\n"
     ]
    },
    {
     "name": "stdout",
     "output_type": "stream",
     "text": [
      "1b9e349e-93f2-41cc-a4b5-b212d7ddc8df\n",
      "d901aff5-2250-467a-b4a1-0cb9729df9e2\n",
      "eacc49a9-f3a1-49f1-b87f-0972f90ee837\n",
      "3e6a97d3-3991-49e2-b346-6948cb4580fb\n",
      "9b528ad0-4599-4a55-9148-96cc1d93fb24\n",
      "0c828385-6dd6-4842-a702-c5075f5f5e81\n",
      "breakin\n",
      "DG\n",
      "6c6b0d06-6039-4525-a74b-58cfaa1d3a60\n",
      "6c6b0d06-6039-4525-a74b-58cfaa1d3a60\n",
      "1d4a7bd6-296a-48b9-b20e-bd0ac80750a5\n",
      "e0928e11-2b86-4387-a203-80c77fab5d52\n",
      "1ca83b26-30fc-4350-a616-c38b7d00d240\n",
      "a2701b93-d8e1-47e9-a819-f1063046f3e7\n",
      "446f4724-1690-49f9-819a-2bd8e2ea88ce\n",
      "8928f98a-b411-497e-aa4b-aa752434686d\n",
      "d901aff5-2250-467a-b4a1-0cb9729df9e2\n",
      "5b49aca6-a6f4-4075-931a-617ad64c219c\n",
      "breakin\n",
      "CA1\n",
      "6c6b0d06-6039-4525-a74b-58cfaa1d3a60\n",
      "6c6b0d06-6039-4525-a74b-58cfaa1d3a60\n",
      "27ef44c0-acb2-4220-b776-477d0d5abd35\n",
      "a2701b93-d8e1-47e9-a819-f1063046f3e7\n",
      "446f4724-1690-49f9-819a-2bd8e2ea88ce\n",
      "8928f98a-b411-497e-aa4b-aa752434686d\n",
      "3f859b5c-e73a-4044-b49e-34bb81e96715\n",
      "5b49aca6-a6f4-4075-931a-617ad64c219c\n",
      "eacc49a9-f3a1-49f1-b87f-0972f90ee837\n",
      "3e6a97d3-3991-49e2-b346-6948cb4580fb\n",
      "breakin\n",
      "PTLp\n",
      "6c6b0d06-6039-4525-a74b-58cfaa1d3a60\n",
      "8928f98a-b411-497e-aa4b-aa752434686d\n",
      "3f859b5c-e73a-4044-b49e-34bb81e96715\n",
      "3e6a97d3-3991-49e2-b346-6948cb4580fb\n",
      "9b528ad0-4599-4a55-9148-96cc1d93fb24\n",
      "e45481fa-be22-4365-972c-e7404ed8ab5a\n",
      "e2b845a1-e313-4a08-bc61-a5f662ed295e\n",
      "09156021-9a1d-4e1d-ae59-48cbde3c5d42\n"
     ]
    },
    {
     "name": "stderr",
     "output_type": "stream",
     "text": [
      "/root/Downloads/ONE/openalyx.internationalbrainlab.org/hausserlab/Subjects/PL015/2022-02-22/001/alf/_ibl_trials.stimOff_times.npy: 100%|██████████| 5.17k/5.17k [00:00<00:00, 91.9kB/s]\n",
      "/root/Downloads/ONE/openalyx.internationalbrainlab.org/hausserlab/Subjects/PL015/2022-02-22/001/alf/_ibl_trials.table.pqt: 100%|██████████| 51.6k/51.6k [00:00<00:00, 425kB/s]\n",
      "/root/Downloads/ONE/openalyx.internationalbrainlab.org/hausserlab/Subjects/PL015/2022-02-22/001/alf/_ibl_trials.goCueTrigger_times.npy: 100%|██████████| 5.17k/5.17k [00:00<00:00, 108kB/s]\n"
     ]
    },
    {
     "name": "stdout",
     "output_type": "stream",
     "text": [
      "2bdf206a-820f-402f-920a-9e86cd5388a4\n",
      "2bdf206a-820f-402f-920a-9e86cd5388a4\n",
      "breakin\n"
     ]
    }
   ],
   "source": [
    "ignorelist = ['1b20f589-6177-4e5c-9090-9a609a16944b', 'b01df337-2d31-4bcc-a1fe-7112afd50c50']\n",
    "for region in regions:\n",
    "  if region in regions[:4]:\n",
    "    continue\n",
    "\n",
    "  print(region)\n",
    "  eids = gen_eidlist(region)\n",
    "  pids = gen_pidlist(region)\n",
    "  for i,eid in enumerate(eids):\n",
    "    if eid in ignorelist:\n",
    "      continue\n",
    "    if i >= 10:\n",
    "      print(\"breakin\")\n",
    "      break\n",
    "    print(eid)\n",
    "    trial = one.load_object(eid, \"trials\")\n",
    "                  "
   ]
  },
  {
   "cell_type": "code",
   "execution_count": 29,
   "metadata": {
    "executionInfo": {
     "elapsed": 2,
     "status": "ok",
     "timestamp": 1679033703407,
     "user": {
      "displayName": "Charlie Huang",
      "userId": "05785404896816634261"
     },
     "user_tz": 420
    },
    "id": "yMNdg_TOF6cx"
   },
   "outputs": [],
   "source": [
    "def gen_fatdata(regions, behav_param, trial_def=[2,2,0.25]):\n",
    "  roi_info = {}\n",
    "  for roi in regions:\n",
    "    info = {}\n",
    "    ses = one.alyx.rest('insertions', 'list', atlas_acronym=roi)\n",
    "    print(f'Found {len(ses)} recordings')\n",
    "    pids = [i['id'] for i in ses]\n",
    "    eids = [i['session'] for i in ses]\n",
    "    info['pids'] = pids\n",
    "    info['eids'] = eids\n",
    "    for i,PID in enumerate(pids):\n",
    "      if i == 10:\n",
    "        break\n",
    "      sl = SpikeSortingLoader(pid=PID, one=one, atlas=ba)\n",
    "      EID = one.pid2eid(PID)[0]\n",
    "      print(EID)\n",
    "      if EID == 'b01df337-2d31-4bcc-a1fe-7112afd50c50':\n",
    "        continue\n",
    "      trials = one.load_object(EID, \"trials\")\n",
    "      spikes, clusters, channels = sl.load_spike_sorting()\n",
    "      clusters = sl.merge_clusters(spikes, clusters, channels)\n",
    "      neur_relev = []\n",
    "      if clusters is not None:\n",
    "        neur_relev = [i for i, acronym in enumerate(clusters['acronym']) if roi in acronym]\n",
    "        print(f'Found {len(neur_relev)} ' + roi + ' neurons')\n",
    "        dic = {}\n",
    "        for condition in [-1,1]:\n",
    "          mini_dic = {}\n",
    "          peth, spike_counts, trial_data = get_matrices(trials, spikes, neur_relev, param = behav_param, param_condition=condition, trial_def = trial_def)\n",
    "          mini_dic['peth'] = peth\n",
    "          mini_dic['spike_counts'] = spike_counts\n",
    "          mini_dic['trial_data'] = trial_data\n",
    "          dic[condition] = mini_dic\n",
    "      info[PID] = dic\n",
    "    roi_info[roi] = info\n",
    "  return roi_info"
   ]
  },
  {
   "cell_type": "code",
   "execution_count": 30,
   "metadata": {
    "colab": {
     "base_uri": "https://localhost:8080/"
    },
    "executionInfo": {
     "elapsed": 83519,
     "status": "ok",
     "timestamp": 1679033787785,
     "user": {
      "displayName": "Charlie Huang",
      "userId": "05785404896816634261"
     },
     "user_tz": 420
    },
    "id": "mRQYRkD1Kza9",
    "outputId": "6abfb8ce-c079-407b-8bfc-84ded81128bc"
   },
   "outputs": [
    {
     "name": "stdout",
     "output_type": "stream",
     "text": [
      "Found 10 recordings\n",
      "63c70ae8-4dfb-418b-b21b-f0b1e5fba6c9\n",
      "Found 29 VM neurons\n",
      "518 [165.07624090000107, 169.11924090000105, 174.54824090000108, 189.63324090000108, 195.0702409000011, 199.8432409000011, 203.88224090000108, 211.6362409000011, 238.5492409000011, 252.86124090000112, 261.3652409000012, 264.9622409000012, 272.9132409000012, 277.2732409000012, 281.2492409000012, 285.9142409000012, 289.0622409000012, 292.8112409000012, 296.58024090000123, 300.6322409000012, 305.5772409000012, 308.9802409000012, 319.5812409000012, 322.3482409000012, 326.45424090000125, 339.1382409000012, 347.33924090000124, 371.08924090000124, 373.82424090000126, 377.0292409000013, 381.7822409000013, 385.5372409000013, 393.7002409000013, 398.88624090000127, 404.7462409000013, 408.2662409000013, 421.7782409000013, 450.53224090000134, 454.66624090000136, 458.02724090000135, 469.4392409000014, 475.3502409000014, 479.68324090000135, 484.3552409000014, 490.4722409000014, 500.35324090000137, 504.9342409000014, 516.2042409000013, 519.1252409000014, 529.5212409000013, 533.4942409000014, 537.5922409000013, 541.7162409000014, 549.8342409000014, 553.7372409000013, 567.8202409000014, 572.4902409000014, 575.3652409000014, 579.0902409000014, 582.6982409000015, 586.2122409000013, 593.3062409000014, 596.7482409000014, 604.4002409000014, 611.2632409000014, 614.6112409000015, 618.6072409000014, 623.8232409000015, 629.4352409000014, 633.7972409000015, 637.6752409000014, 644.7412409000015, 648.4232409000015, 652.5522409000015, 656.5402409000014, 669.2442409000015, 694.0442409000015, 711.4272409000015, 715.0982409000015, 719.0942409000015, 724.1332409000015, 728.0792409000015, 736.1872409000015, 744.7052409000015, 757.9952409000016, 773.6942409000015, 776.8962409000015, 781.8232409000016, 786.3382409000016, 834.8722409000017, 844.2912409000016, 853.1192409000016, 865.2152409000016, 877.3342409000016, 884.1232409000016, 895.9022409000016, 903.4342409000017, 910.5622409000017, 945.3482409000018, 953.7342409000017, 958.4342409000018, 989.0112409000018, 1020.3882409000017, 1024.2192409000018, 1027.1692409000018, 1031.698240900002, 1035.1682409000018, 1038.363240900002, 1041.509240900002, 1046.354240900002, 1055.932240900002, 1059.066240900002, 1064.9942409000018, 1074.418240900002, 1077.592240900002, 1084.9062409000019, 1096.946240900002, 1103.4642409000019, 1106.619240900002, 1109.817240900002, 1114.408240900002, 1120.505240900002, 1125.597240900002, 1129.435240900002, 1136.083240900002, 1139.629240900002, 1144.220240900002, 1151.171240900002, 1159.314240900002, 1164.856240900002, 1171.169240900002, 1177.382240900002, 1180.421240900002, 1188.168240900002, 1192.814240900002, 1196.1452409000021, 1199.505240900002, 1203.218240900002, 1208.802240900002, 1215.2992409000021, 1228.506240900002, 1237.4132409000022, 1246.234240900002, 1252.304240900002, 1256.4812409000021, 1259.802240900002, 1284.3852409000021, 1306.2512409000021, 1315.7752409000022, 1323.0292409000022, 1330.9572409000023, 1359.7922409000023, 1363.2362409000023, 1369.9752409000023, 1373.7152409000023, 1378.0452409000022, 1381.3912409000022, 1384.5842409000022, 1389.0602409000023, 1392.5712409000023, 1395.9062409000023, 1399.4232409000022, 1403.0592409000024, 1410.5442409000023, 1417.0942409000022, 1420.2052409000023, 1423.3302409000023, 1427.7592409000022, 1431.2242409000023, 1435.7302409000022, 1438.7232409000023, 1443.6912409000022, 1448.3752409000024, 1451.7342409000023, 1454.8982409000023, 1458.3272409000024, 1462.3272409000024, 1466.0552409000022, 1477.2042409000023, 1501.4602409000024, 1527.3162409000024, 1561.7092409000024, 1572.9712409000024, 1578.3022409000023, 1586.9462409000023, 1590.4152409000023, 1602.2692409000024, 1605.5892409000023, 1609.0302409000024, 1613.3952409000024, 1616.9542409000023, 1619.9282409000025, 1623.4012409000024, 1628.5822409000025, 1631.7392409000024, 1636.9092409000025, 1641.9312409000024, 1644.9082409000025, 1648.2582409000024, 1652.6032409000024, 1655.6512409000024, 1659.7552409000025, 1663.8922409000024, 1667.1262409000026, 1670.0952409000024, 1673.7622409000026, 1678.8752409000024, 1682.6572409000025, 1693.0432409000025, 1696.1182409000025, 1701.2652409000025, 1704.2512409000026, 1707.7812409000026, 1711.3182409000026, 1714.7252409000025, 1718.8182409000026, 1728.1912409000026, 1731.3892409000025, 1736.3682409000025, 1739.5412409000025, 1744.7192409000024, 1748.7452409000025, 1752.6542409000026, 1757.7762409000024, 1765.0472409000026, 1768.6122409000025, 1772.0682409000026, 1776.3402409000025, 1780.6202409000025, 1785.6852409000026, 1788.4592409000027, 1791.5572409000026, 1794.4332409000026, 1800.0892409000026, 1803.7132409000026, 1808.7592409000026, 1811.6132409000027, 1823.1332409000026, 1826.3192409000026, 1830.2142409000026, 1834.0312409000026, 1838.1382409000025, 1842.0822409000027, 1845.4432409000026, 1860.2402409000026, 1865.0092409000026, 1868.0612409000028, 1871.1672409000028, 1874.7352409000027, 1879.9612409000026, 1890.5222409000028, 1894.9262409000028, 1898.7762409000027, 1903.1372409000028, 1906.5962409000026, 1910.0252409000027, 1922.4562409000027, 1930.8232409000027, 1958.0622409000027, 1969.2772409000027, 1972.4462409000027, 1976.2762409000027, 1980.4712409000028, 1989.3652409000028, 2013.6412409000027, 2035.8592409000028, 2042.2992409000028, 2050.2312409000024, 2053.8862409000026, 2056.8562409000024, 2061.0692409000026, 2065.4692409000027, 2069.9112409000027, 2078.4402409000027, 2090.5142409000027, 2101.7152409000028, 2110.6302409000027, 2116.5712409000025, 2120.800240900003, 2125.1192409000028, 2129.0072409000027, 2133.2192409000027, 2143.2462409000027, 2159.577240900003, 2168.4312409000026, 2178.916240900003, 2182.5362409000027, 2185.8882409000025, 2191.5562409000026, 2194.8352409000026, 2201.1202409000025, 2204.834240900003, 2210.9062409000026, 2215.1722409000026, 2223.4242409000026, 2227.1452409000026, 2231.6032409000027, 2236.0402409000026, 2239.789240900003, 2243.204240900003, 2247.611240900003, 2250.466240900003, 2258.8602409000027, 2262.180240900003, 2266.660240900003, 2271.7232409000026, 2275.2392409000026, 2282.867240900003, 2285.6432409000026, 2288.729240900003, 2293.055240900003, 2296.6072409000026, 2304.1052409000026, 2310.0542409000027, 2313.223240900003, 2316.294240900003, 2320.078240900003, 2323.173240900003, 2326.687240900003, 2329.705240900003, 2332.7062409000027, 2335.631240900003, 2338.9022409000027, 2347.595240900003, 2351.9182409000027, 2359.0852409000026, 2362.995240900003, 2366.946240900003, 2373.9092409000027, 2377.207240900003, 2381.825240900003, 2386.086240900003, 2389.395240900003, 2401.870240900003, 2405.2532409000028, 2408.321240900003, 2412.079240900003, 2415.399240900003, 2419.399240900003, 2422.290240900003, 2425.240240900003, 2429.455240900003, 2432.535240900003, 2438.2262409000027, 2442.025240900003, 2451.359240900003, 2454.429240900003, 2461.585240900003, 2465.453240900003, 2470.228240900003, 2476.808240900003, 2482.081240900003, 2486.015240900003, 2489.662240900003, 2493.850240900003, 2497.648240900003, 2500.666240900003, 2504.109240900003, 2509.479240900003, 2512.645240900003, 2540.624240900003, 2551.194240900003, 2601.919240900003, 2616.163240900003, 2623.3272409000033, 2631.650240900003, 2639.0122409000032, 2642.044240900003, 2645.180240900003, 2650.334240900003, 2654.9792409000033, 2658.3182409000033, 2665.053240900003, 2668.2692409000033, 2672.898240900003, 2675.819240900003, 2680.877240900003, 2686.2202409000033, 2692.8472409000033, 2696.1732409000033, 2699.976240900003, 2713.1822409000033, 2719.5152409000034, 2722.965240900003, 2727.4102409000034, 2732.9792409000033, 2735.974240900003, 2739.699240900003, 2743.330240900003, 2746.844240900003, 2753.788240900003, 2763.469240900003, 2773.7512409000033, 2786.228240900003, 2789.3632409000033, 2792.911240900003, 2796.181240900003, 2800.458240900003, 2803.2582409000033, 2809.503240900003, 2815.159240900003, 2822.590240900003, 2826.139240900003, 2830.114240900003, 2848.536240900003, 2874.7912409000032, 2882.054240900003, 2896.487240900003, 2935.4242409000035, 2955.9052409000033, 3003.3052409000034, 3013.1402409000034, 3036.6962409000034, 3040.5522409000037, 3051.8622409000036, 3102.6202409000034, 3113.3192409000035, 3117.2092409000034, 3137.5862409000038, 3145.470240900004, 3148.5532409000034, 3154.7312409000037, 3158.8972409000035, 3169.1522409000036, 3172.3732409000036, 3176.0342409000036, 3180.0182409000035, 3183.0962409000035, 3190.0182409000035, 3196.5192409000038, 3213.593240900004, 3217.9332409000035, 3221.3472409000037, 3225.2452409000034, 3228.9232409000037, 3233.622240900004, 3238.2192409000036, 3246.8512409000036, 3249.4782409000036, 3256.7952409000036, 3261.0392409000037, 3264.120240900004, 3271.1972409000036, 3274.5322409000037, 3277.9332409000035, 3281.0362409000036, 3285.3752409000035, 3290.2422409000037, 3297.6522409000036, 3302.2172409000036, 3305.3092409000037, 3308.339240900004, 3311.4422409000035, 3314.7132409000037, 3318.194240900004, 3323.3672409000037, 3331.0902409000037, 3336.294240900004, 3340.4382409000036, 3343.5592409000037, 3347.0572409000038, 3350.689240900004, 3354.3802409000036, 3358.1882409000036, 3361.3072409000038, 3364.752240900004, 3368.2132409000037, 3372.875240900004, 3376.4002409000036, 3380.5162409000036, 3385.629240900004, 3388.372240900004, 3407.504240900004, 3415.709240900004, 3462.125240900004, 3467.5702409000037, 3504.613240900004, 3537.747240900004, 3540.804240900004, 3543.965240900004, 3554.657240900004, 3557.9722409000037, 3565.788240900004, 3572.893240900004, 3576.562240900004, 3586.100240900004, 3590.200240900004, 3599.070240900004, 3602.507240900004, 3606.744240900004, 3615.455240900004, 3619.541240900004, 3623.657240900004, 3628.252240900004, 3633.002240900004, 3638.801240900004, 3647.371240900004, 3654.904240900004, 3658.092240900004, 3662.966240900004, 3666.012240900004, 3669.355240900004, 3674.966240900004, 3678.204240900004, 3683.443240900004, 3686.684240900004, 3689.573240900004, 3693.592240900004, 3705.7962409000042, 3711.188240900004, 3732.839240900004, 3784.505240900004, 3819.4552409000044, 3888.4502409000042, 3915.9212409000042, 3920.387240900004, 3936.0082409000042, 3950.358240900004]\n",
      "518 [0, 1, 2, 5, 6, 7, 8, 10, 15, 19, 21, 22, 24, 25, 26, 27, 28, 29, 30, 31, 32, 33, 35, 36, 37, 40, 42, 48, 49, 50, 51, 52, 54, 55, 56, 57, 60, 65, 66, 67, 69, 70, 71, 72, 73, 75, 76, 79, 80, 83, 84, 85, 86, 87, 88, 92, 93, 94, 95, 96, 97, 99, 100, 102, 104, 105, 106, 107, 108, 109, 110, 111, 112, 113, 114, 116, 122, 124, 125, 126, 127, 128, 130, 132, 136, 140, 141, 142, 143, 156, 158, 160, 163, 166, 168, 171, 173, 175, 183, 185, 186, 192, 199, 200, 201, 202, 203, 204, 205, 206, 208, 209, 210, 212, 213, 214, 217, 219, 220, 221, 222, 223, 224, 225, 227, 228, 229, 230, 231, 232, 234, 235, 236, 238, 239, 240, 241, 242, 243, 245, 248, 250, 252, 254, 255, 256, 262, 266, 269, 271, 273, 280, 281, 283, 284, 285, 286, 287, 288, 289, 290, 291, 292, 294, 296, 297, 298, 299, 300, 301, 302, 303, 304, 305, 306, 307, 308, 309, 312, 318, 325, 334, 337, 338, 340, 341, 343, 344, 345, 346, 347, 348, 349, 350, 351, 352, 353, 354, 355, 356, 357, 358, 359, 360, 361, 362, 363, 364, 366, 367, 368, 369, 370, 371, 372, 373, 375, 376, 377, 378, 379, 380, 381, 382, 384, 385, 386, 387, 388, 389, 390, 391, 392, 393, 394, 395, 396, 397, 398, 399, 400, 401, 402, 403, 406, 407, 408, 409, 410, 411, 413, 414, 415, 416, 417, 418, 421, 423, 428, 431, 432, 433, 434, 436, 443, 449, 450, 452, 453, 454, 455, 456, 457, 459, 462, 465, 467, 469, 470, 471, 472, 473, 474, 477, 479, 482, 483, 484, 485, 486, 488, 489, 490, 491, 493, 494, 495, 496, 497, 498, 499, 500, 502, 503, 504, 505, 506, 508, 509, 510, 511, 512, 514, 515, 516, 517, 518, 519, 520, 521, 522, 523, 524, 525, 526, 528, 529, 530, 532, 533, 534, 535, 536, 538, 539, 540, 541, 542, 543, 544, 545, 546, 547, 548, 549, 550, 551, 553, 554, 555, 556, 557, 558, 559, 560, 561, 562, 563, 564, 565, 570, 573, 582, 586, 587, 589, 590, 591, 592, 593, 594, 595, 597, 598, 599, 600, 601, 602, 603, 604, 605, 608, 609, 610, 611, 612, 613, 614, 615, 616, 617, 619, 622, 626, 627, 628, 629, 630, 631, 632, 633, 635, 636, 637, 642, 647, 649, 653, 662, 668, 680, 682, 687, 688, 691, 705, 708, 709, 713, 715, 716, 718, 719, 721, 722, 723, 724, 725, 727, 728, 732, 733, 734, 735, 736, 737, 738, 739, 740, 742, 743, 744, 746, 747, 748, 749, 750, 751, 753, 754, 755, 756, 757, 758, 759, 760, 762, 763, 764, 765, 766, 767, 768, 769, 770, 771, 772, 773, 774, 775, 776, 777, 782, 784, 794, 795, 805, 812, 813, 814, 815, 816, 818, 819, 820, 823, 824, 826, 827, 828, 830, 831, 832, 833, 834, 835, 836, 838, 839, 840, 841, 842, 843, 844, 845, 846, 847, 848, 851, 852, 858, 865, 867, 880, 883, 884, 888, 891]\n",
      "518\n",
      "peth[\"tscale\"] contains the timebin centers relative to the event\n",
      "\n",
      "peth[\"means\"] is shaped: (29, 120)\n",
      "This variable is NxB (neurons x timebins) and contains the mean spike rates over trials\n",
      "\n",
      "spike_counts is shaped: (518, 29, 120)\n",
      "This variable is TxNxB (trials x neurons x timebins) and contains all spike rates per trial\n",
      "8179.45059279656\n",
      "\n",
      "whole_window is shaped: (518, 29)\n",
      "This variable is TxN (trials x neurons) and contains summed spike rates per trial\n",
      "378 [178.17424090000108, 184.20624090000106, 207.8862409000011, 220.1912409000011, 224.8472409000011, 229.0952409000011, 234.22324090000112, 241.52524090000114, 245.30924090000113, 248.26724090000113, 256.69924090000114, 268.2242409000012, 315.1752409000012, 329.98124090000124, 335.0642409000012, 343.65624090000125, 351.69424090000126, 355.8112409000013, 358.96724090000123, 362.0802409000013, 367.4142409000013, 390.5722409000013, 415.2232409000013, 418.4692409000013, 425.9202409000013, 432.2252409000013, 441.34024090000133, 445.17424090000134, 462.78824090000137, 497.2052409000014, 509.6532409000014, 512.8252409000014, 522.7332409000013, 526.0362409000013, 557.6052409000014, 561.3452409000014, 564.5432409000014, 589.8712409000015, 600.9212409000014, 607.9122409000014, 665.2472409000014, 675.8332409000014, 679.9942409000015, 683.9042409000015, 687.0402409000014, 690.6292409000015, 701.5732409000015, 732.9862409000016, 741.2332409000015, 748.0442409000016, 751.4212409000015, 754.5922409000016, 763.5262409000015, 767.2172409000016, 770.2832409000016, 789.8192409000015, 792.8642409000016, 797.2832409000016, 801.0542409000016, 804.3142409000016, 808.1862409000016, 811.5272409000016, 814.6042409000016, 818.0412409000016, 821.1692409000016, 827.1342409000016, 831.4822409000017, 848.4372409000016, 857.8432409000017, 861.1322409000016, 870.3902409000017, 873.8742409000016, 880.8422409000017, 887.2072409000017, 891.2912409000016, 899.8762409000017, 906.4482409000017, 915.2642409000017, 918.4522409000017, 922.2472409000017, 926.2692409000017, 930.3102409000018, 936.4232409000017, 939.6782409000017, 949.9552409000017, 966.8022409000017, 970.1612409000018, 973.4582409000018, 977.8252409000017, 983.4512409000017, 997.8002409000018, 1000.7712409000018, 1003.9372409000018, 1006.8842409000018, 1012.1872409000018, 1016.1852409000018, 1050.824240900002, 1069.691240900002, 1088.793240900002, 1093.679240900002, 1100.311240900002, 1133.192240900002, 1168.461240900002, 1184.436240900002, 1211.9712409000022, 1223.226240900002, 1232.233240900002, 1242.927240900002, 1249.467240900002, 1262.822240900002, 1265.925240900002, 1269.1822409000022, 1272.3662409000021, 1279.9872409000022, 1292.4032409000022, 1296.042240900002, 1299.9302409000022, 1309.4382409000023, 1312.7422409000021, 1319.8252409000022, 1326.4342409000021, 1334.2662409000022, 1338.599240900002, 1343.7892409000021, 1346.897240900002, 1349.8532409000022, 1353.0352409000022, 1366.4292409000022, 1406.5882409000023, 1413.5782409000024, 1470.1172409000023, 1473.4332409000024, 1480.5092409000024, 1484.3902409000023, 1489.7912409000023, 1493.3882409000023, 1496.2732409000023, 1507.7852409000022, 1511.1492409000023, 1514.5192409000024, 1517.7902409000023, 1521.0172409000024, 1524.1612409000024, 1530.8582409000023, 1533.9432409000024, 1537.2412409000024, 1541.1282409000023, 1545.7362409000023, 1550.3562409000024, 1553.4572409000023, 1557.7722409000023, 1565.2722409000023, 1568.9282409000025, 1583.7372409000025, 1596.9492409000025, 1686.3202409000025, 1723.8212409000025, 1760.7602409000026, 1853.4972409000027, 1856.5472409000026, 1886.8832409000026, 1914.8012409000028, 1917.8522409000027, 1927.3572409000028, 1940.1862409000028, 1944.4842409000028, 1950.1102409000027, 1953.3962409000028, 1962.0972409000028, 1965.5532409000027, 1993.4032409000029, 1996.4602409000029, 2001.0832409000027, 2004.2052409000028, 2007.4592409000027, 2010.6222409000027, 2017.8452409000029, 2021.1742409000028, 2024.8082409000028, 2028.1312409000027, 2031.5512409000028, 2046.8182409000028, 2074.137240900003, 2081.568240900003, 2085.4652409000028, 2094.7972409000026, 2097.8732409000027, 2107.2262409000027, 2113.6902409000027, 2149.028240900003, 2156.0812409000027, 2162.894240900003, 2172.5132409000025, 2175.564240900003, 2198.082240900003, 2218.2412409000026, 2255.354240900003, 2278.419240900003, 2300.9712409000026, 2354.834240900003, 2370.013240900003, 2393.037240900003, 2458.223240900003, 2516.762240900003, 2519.984240900003, 2526.629240900003, 2529.760240900003, 2543.672240900003, 2547.081240900003, 2555.787240900003, 2559.369240900003, 2574.773240900003, 2581.258240900003, 2588.955240900003, 2594.616240900003, 2597.834240900003, 2605.179240900003, 2608.955240900003, 2612.192240900003, 2628.525240900003, 2661.9252409000032, 2703.045240900003, 2709.880240900003, 2756.768240900003, 2766.523240900003, 2769.880240900003, 2776.837240900003, 2779.9972409000034, 2783.228240900003, 2819.186240900003, 2834.882240900003, 2838.8382409000033, 2841.878240900003, 2845.3772409000035, 2860.2022409000033, 2864.2362409000034, 2867.3582409000032, 2870.737240900003, 2878.2092409000034, 2885.2902409000035, 2888.5472409000035, 2891.7432409000035, 2900.4772409000034, 2903.8562409000033, 2910.3942409000033, 2918.9722409000033, 2922.0102409000033, 2925.2522409000035, 2928.465240900003, 2932.1092409000034, 2938.4862409000034, 2941.6032409000036, 2944.8642409000036, 2949.7542409000034, 2952.7832409000034, 2962.5212409000032, 2965.6902409000036, 2969.8772409000035, 2972.898240900003, 2975.8282409000035, 2979.5732409000034, 2984.8202409000032, 2989.427240900003, 2992.6882409000036, 2996.2662409000036, 2999.3312409000036, 3008.1632409000035, 3023.0272409000036, 3027.1282409000037, 3030.1712409000033, 3033.3402409000037, 3043.8752409000035, 3046.8532409000036, 3056.0662409000033, 3059.5242409000034, 3062.7342409000034, 3065.9352409000035, 3070.2112409000033, 3073.0952409000033, 3076.3582409000037, 3081.2362409000034, 3085.6712409000033, 3089.3112409000037, 3092.8052409000034, 3096.2702409000035, 3099.1782409000034, 3106.0982409000035, 3108.9742409000037, 3122.9722409000037, 3126.0002409000035, 3130.4462409000034, 3141.2852409000034, 3151.5992409000037, 3162.2422409000037, 3186.5272409000036, 3200.9582409000036, 3206.2422409000037, 3210.3982409000037, 3253.5872409000035, 3267.7812409000035, 3294.138240900004, 3326.7372409000036, 3392.5052409000036, 3396.837240900004, 3400.7262409000036, 3403.9612409000038, 3411.801240900004, 3420.075240900004, 3426.8112409000037, 3432.1462409000037, 3436.8672409000037, 3440.279240900004, 3443.370240900004, 3451.5632409000036, 3455.752240900004, 3458.779240900004, 3470.602240900004, 3473.982240900004, 3477.234240900004, 3480.265240900004, 3486.098240900004, 3489.2912409000037, 3492.409240900004, 3495.478240900004, 3501.312240900004, 3507.814240900004, 3512.384240900004, 3515.6552409000037, 3518.837240900004, 3522.241240900004, 3526.8852409000037, 3561.197240900004, 3579.616240900004, 3582.756240900004, 3593.345240900004, 3610.735240900004, 3651.726240900004, 3696.813240900004, 3700.1622409000042, 3714.371240900004, 3717.501240900004, 3720.920240900004, 3724.3252409000042, 3729.545240900004, 3735.9682409000043, 3745.249240900004, 3750.230240900004, 3769.563240900004, 3774.952240900004, 3778.257240900004, 3803.677240900004, 3825.121240900004, 3829.773240900004, 3832.7652409000043, 3836.173240900004, 3841.704240900004, 3845.0402409000044, 3867.570240900004, 3872.2072409000043, 3875.3232409000043, 3878.387240900004, 3881.7002409000042, 3884.8122409000043, 3895.739240900004, 3902.208240900004, 3925.429240900004, 3928.6762409000044, 3931.9982409000045, 3940.202240900004, 3945.280240900004, 3957.1812409000045, 3972.914240900004, 3976.5162409000045, 3982.6522409000045, 4018.0822409000043, 4022.0372409000042, 4025.1072409000044, 4062.2952409000045]\n",
      "378 [3, 4, 9, 11, 12, 13, 14, 16, 17, 18, 20, 23, 34, 38, 39, 41, 43, 44, 45, 46, 47, 53, 58, 59, 61, 62, 63, 64, 68, 74, 77, 78, 81, 82, 89, 90, 91, 98, 101, 103, 115, 117, 118, 119, 120, 121, 123, 129, 131, 133, 134, 135, 137, 138, 139, 144, 145, 146, 147, 148, 149, 150, 151, 152, 153, 154, 155, 159, 161, 162, 164, 165, 167, 169, 170, 172, 174, 176, 177, 178, 179, 180, 181, 182, 184, 187, 188, 189, 190, 191, 193, 194, 195, 196, 197, 198, 207, 211, 215, 216, 218, 226, 233, 237, 244, 247, 249, 251, 253, 257, 258, 259, 260, 261, 263, 264, 265, 267, 268, 270, 272, 274, 275, 276, 277, 278, 279, 282, 293, 295, 310, 311, 313, 314, 315, 316, 317, 319, 320, 321, 322, 323, 324, 326, 327, 328, 329, 330, 331, 332, 333, 335, 336, 339, 342, 365, 374, 383, 404, 405, 412, 419, 420, 422, 424, 425, 426, 427, 429, 430, 437, 438, 439, 440, 441, 442, 444, 445, 446, 447, 448, 451, 458, 460, 461, 463, 464, 466, 468, 475, 476, 478, 480, 481, 487, 492, 501, 507, 513, 527, 531, 537, 552, 566, 567, 568, 569, 571, 572, 574, 575, 576, 577, 579, 580, 581, 583, 584, 585, 588, 596, 606, 607, 618, 620, 621, 623, 624, 625, 634, 638, 639, 640, 641, 643, 644, 645, 646, 648, 650, 651, 652, 654, 655, 656, 657, 658, 659, 660, 661, 663, 664, 665, 666, 667, 669, 670, 671, 672, 673, 674, 675, 676, 677, 678, 679, 681, 683, 684, 685, 686, 689, 690, 692, 693, 694, 695, 696, 697, 698, 699, 700, 701, 702, 703, 704, 706, 707, 710, 711, 712, 714, 717, 720, 726, 729, 730, 731, 741, 745, 752, 761, 778, 779, 780, 781, 783, 785, 786, 787, 788, 789, 790, 791, 792, 793, 796, 797, 798, 799, 800, 801, 802, 803, 804, 806, 807, 808, 809, 810, 811, 817, 821, 822, 825, 829, 837, 849, 850, 853, 854, 855, 856, 857, 859, 860, 861, 862, 863, 864, 866, 868, 869, 870, 871, 872, 873, 874, 875, 876, 877, 878, 879, 881, 882, 885, 886, 887, 889, 890, 892, 893, 894, 895, 896, 897, 898, 899]\n",
      "378\n",
      "peth[\"tscale\"] contains the timebin centers relative to the event\n",
      "\n",
      "peth[\"means\"] is shaped: (29, 120)\n",
      "This variable is NxB (neurons x timebins) and contains the mean spike rates over trials\n",
      "\n",
      "spike_counts is shaped: (378, 29, 120)\n",
      "This variable is TxNxB (trials x neurons x timebins) and contains all spike rates per trial\n",
      "6970.629239889323\n",
      "\n",
      "whole_window is shaped: (378, 29)\n",
      "This variable is TxN (trials x neurons) and contains summed spike rates per trial\n",
      "1b715600-0cbc-442c-bd00-5b0ac2865de1\n",
      "Found 39 VM neurons\n",
      "199 [94.66738798005598, 102.30238798005513, 111.02838798005418, 175.2973879800471, 181.38938798004642, 185.46838798004597, 188.65238798004563, 195.1313879800449, 210.6073879800432, 215.2353879800427, 218.34038798004235, 222.5413879800419, 245.1083879800394, 298.85538798003347, 337.3023879800292, 341.2843879800288, 345.68338798002833, 366.89738798002594, 375.542387980025, 384.48038798002403, 424.33238798001963, 442.53938798001764, 472.31938798001437, 489.99738798001243, 500.9933879800112, 547.6903879800061, 559.1633879800048, 563.0343879800045, 569.2603879800038, 575.1933879800031, 590.0643879800015, 635.4083879799964, 642.9723879799956, 686.1493879799908, 698.1303879799896, 706.6713879799886, 764.5523879799822, 785.5543879799799, 864.8173879799712, 890.1663879799684, 908.5563879799664, 952.1153879799616, 994.119387979957, 1020.734387979954, 1038.743387979952, 1046.7333879799512, 1064.755387979949, 1075.296387979948, 1078.8253879799477, 1083.0953879799472, 1086.1393879799468, 1092.0713879799462, 1095.2133879799458, 1113.7153879799437, 1117.8283879799433, 1132.5543879799418, 1136.7343879799412, 1139.8943879799408, 1183.840387979936, 1218.8513879799323, 1226.5103879799312, 1270.8603879799264, 1274.0823879799261, 1281.1813879799254, 1314.4763879799216, 1321.428387979921, 1330.8713879799197, 1350.8183879799176, 1355.7513879799171, 1401.695387979912, 1410.797387979911, 1418.1493879799102, 1429.421387979909, 1435.4923879799082, 1450.8333879799065, 1458.024387979906, 1488.9073879799025, 1501.337387979901, 1513.3183879798999, 1556.999387979895, 1570.1293879798934, 1584.797387979892, 1588.2543879798916, 1624.8193879798876, 1646.866387979885, 1706.6173879798785, 1717.4983879798772, 1729.082387979876, 1743.4623879798744, 1754.1273879798732, 1759.3633879798726, 1763.1403879798722, 1778.7413879798705, 1784.2503879798699, 1791.2403879798692, 1859.2313879798617, 1891.672387979858, 1925.1463879798544, 1928.574387979854, 1932.4213879798535, 1936.4523879798533, 1943.3433879798524, 1947.9263879798518, 1959.8463879798505, 1963.6703879798501, 1968.1243879798496, 1971.8823879798492, 1976.2183879798488, 1979.4433879798485, 1991.010387979847, 1994.9763879798468, 2005.5003879798455, 2010.7493879798449, 2019.8873879798439, 2033.8573879798425, 2051.1373879798407, 2055.56838797984, 2061.7163879798395, 2077.8493879798375, 2090.945387979836, 2094.191387979836, 2121.875387979833, 2136.6983879798313, 2195.8723879798245, 2205.7163879798236, 2240.3373879798196, 2245.4003879798192, 2297.2283879798133, 2318.449387979811, 2344.2113879798085, 2350.4693879798074, 2387.7983879798035, 2392.884387979803, 2434.3933879797983, 2438.8573879797977, 2502.8583879797907, 2553.869387979785, 2600.52938797978, 2650.2803879797743, 2677.1653879797714, 2751.9163879797634, 2787.6553879797593, 2808.739387979757, 2813.4893879797564, 2838.785387979754, 2842.3643879797532, 2852.472387979752, 2857.4343879797516, 2866.6323879797505, 2870.6363879797505, 2879.2133879797493, 2884.7183879797485, 2889.845387979748, 2900.115387979747, 2904.1053879797464, 2908.570387979746, 2914.7943879797454, 2919.145387979745, 2923.1933879797443, 2927.473387979744, 2931.8233879797435, 2936.133387979743, 2942.6563879797422, 2946.556387979742, 2950.6813879797414, 2954.871387979741, 2961.56538797974, 2965.8403879797397, 2984.1743879797377, 2987.4263879797372, 2991.081387979737, 3005.7233879797354, 3015.7833879797345, 3034.541387979732, 3056.60438797973, 3061.5863879797294, 3072.786387979728, 3093.2003879797257, 3127.996387979722, 3131.6573879797215, 3136.425387979721, 3140.2033879797204, 3145.61838797972, 3157.273387979719, 3168.8933879797173, 3175.7453879797167, 3179.6893879797162, 3187.2093879797153, 3201.292387979714, 3234.25038797971, 3257.4613879797075, 3270.5313879797063, 3276.9723879797057, 3295.6903879797032, 3333.197387979699, 3348.177387979698, 3373.565387979695, 3424.607387979689, 3429.414387979689]\n",
      "199 [0, 1, 2, 11, 12, 13, 14, 15, 18, 19, 20, 21, 25, 35, 39, 40, 41, 45, 47, 49, 54, 57, 61, 62, 63, 67, 68, 69, 70, 71, 72, 77, 79, 86, 88, 90, 99, 102, 113, 116, 119, 123, 130, 133, 135, 136, 140, 142, 143, 144, 145, 146, 147, 148, 149, 151, 152, 153, 156, 160, 162, 167, 168, 170, 173, 174, 176, 179, 180, 186, 188, 190, 191, 192, 193, 194, 201, 202, 204, 210, 212, 214, 215, 220, 223, 231, 233, 236, 239, 241, 242, 243, 245, 246, 247, 256, 260, 264, 265, 266, 267, 268, 269, 271, 272, 273, 274, 275, 276, 278, 279, 280, 281, 283, 285, 286, 287, 288, 292, 294, 295, 298, 299, 302, 304, 307, 308, 313, 314, 315, 316, 318, 319, 321, 322, 326, 328, 333, 335, 337, 345, 347, 351, 352, 356, 357, 359, 360, 362, 363, 365, 366, 367, 369, 370, 371, 372, 373, 374, 375, 376, 377, 378, 379, 380, 381, 382, 383, 385, 386, 387, 390, 392, 394, 397, 398, 400, 401, 404, 405, 406, 407, 408, 409, 411, 412, 413, 414, 415, 418, 420, 421, 422, 424, 425, 427, 431, 434, 435]\n",
      "199\n",
      "peth[\"tscale\"] contains the timebin centers relative to the event\n",
      "\n",
      "peth[\"means\"] is shaped: (39, 120)\n",
      "This variable is NxB (neurons x timebins) and contains the mean spike rates over trials\n",
      "\n",
      "spike_counts is shaped: (199, 39, 120)\n",
      "This variable is TxNxB (trials x neurons x timebins) and contains all spike rates per trial\n",
      "3038.2213546744747\n",
      "\n",
      "whole_window is shaped: (199, 39)\n",
      "This variable is TxN (trials x neurons) and contains summed spike rates per trial\n",
      "238 [119.90238798005319, 126.42638798005248, 129.40938798005214, 133.98438798005165, 143.32838798005062, 157.56038798004906, 165.96038798004813, 169.09338798004777, 199.42338798004442, 207.52438798004354, 229.8263879800411, 233.21238798004072, 240.92038798003986, 248.946387980039, 253.09738798003852, 264.9743879800372, 267.91638798003686, 274.15538798003615, 279.4533879800356, 285.98938798003485, 290.3923879800344, 295.7623879800338, 308.1763879800324, 328.3483879800302, 332.8553879800297, 353.0673879800275, 357.824387980027, 363.25038798002635, 372.0743879800254, 381.1293879800244, 393.748387980023, 406.6023879800216, 412.16338798002096, 420.1843879800201, 431.3443879800189, 435.49138798001843, 445.9273879800173, 455.2003879800162, 466.600387980015, 507.62938798001045, 531.5263879800079, 543.3133879800066, 594.677387980001, 609.5633879799993, 614.3833879799988, 619.7383879799982, 638.992387979996, 653.4743879799945, 656.1303879799941, 660.6343879799937, 669.3353879799927, 675.879387979992, 681.5393879799914, 690.5013879799903, 702.994387979989, 710.7643879799881, 714.0703879799878, 718.0013879799874, 725.2973879799865, 735.8723879799854, 749.2853879799839, 753.7643879799834, 761.4923879799826, 774.7143879799811, 782.6713879799802, 790.4723879799793, 801.2533879799781, 804.1343879799779, 813.9773879799768, 824.9823879799756, 831.7753879799748, 841.6783879799738, 849.7733879799729, 853.6663879799725, 861.2793879799716, 874.9213879799701, 882.6753879799692, 894.8183879799678, 902.337387979967, 919.1703879799652, 928.1733879799642, 932.9053879799637, 956.5803879799611, 960.0193879799607, 967.3653879799599, 976.2073879799589, 979.5613879799586, 990.0983879799574, 1003.8913879799559, 1008.4193879799553, 1025.6493879799534, 1049.900387979951, 1054.6423879799502, 1061.0513879799496, 1070.7173879799484, 1127.7153879799423, 1147.32138797994, 1173.4613879799372, 1192.1053879799351, 1200.2963879799343, 1210.980387979933, 1221.6483879799318, 1229.894387979931, 1239.50438797993, 1253.7463879799284, 1264.484387979927, 1277.8003879799257, 1292.0693879799242, 1301.058387979923, 1326.1923879799203, 1334.5203879799194, 1341.8813879799186, 1360.0423879799166, 1363.3053879799163, 1377.1973879799148, 1386.5083879799138, 1396.9643879799125, 1405.2623879799116, 1414.0273879799106, 1462.3393879799053, 1467.4423879799049, 1473.7433879799041, 1477.0653879799038, 1481.7503879799033, 1485.9183879799027, 1510.1903879799002, 1518.7593879798992, 1529.847387979898, 1535.0143879798973, 1544.8243879798963, 1552.3723879798954, 1564.523387979894, 1573.7283879798931, 1593.810387979891, 1605.7793879798896, 1610.939387979889, 1619.588387979888, 1628.9433879798871, 1638.903387979886, 1655.488387979884, 1659.8273879798837, 1677.6983879798815, 1683.259387979881, 1688.6663879798805, 1692.3343879798801, 1702.564387979879, 1714.0213879798775, 1721.277387979877, 1724.8793879798764, 1733.2803879798755, 1738.936387979875, 1749.060387979874, 1770.0253879798715, 1796.7013879798685, 1807.4823879798673, 1815.0723879798666, 1825.5903879798655, 1833.7623879798646, 1839.089387979864, 1844.0783879798632, 1854.7753879798622, 1870.6053879798603, 1875.98838797986, 1884.9903879798587, 1900.4013879798572, 1904.1773879798568, 1921.4353879798548, 1951.9783879798515, 1985.3463879798478, 2015.1283879798445, 2025.6403879798434, 2065.100387979839, 2069.6873879798386, 2073.577387979838, 2083.9973879798367, 2107.5903879798343, 2117.4363879798334, 2162.419387979828, 2171.1793879798274, 2200.388387979824, 2212.918387979823, 2235.3523879798204, 2249.9193879798186, 2263.7503879798173, 2269.7563879798163, 2292.959387979814, 2359.0683879798066, 2424.0393879797994, 2474.040387979794, 2481.637387979793, 2490.9333879797923, 2550.6333879797853, 2558.7843879797847, 2563.111387979784, 2587.2813879797814, 2592.398387979781, 2632.5803879797763, 2669.0713879797727, 2692.81738797977, 2702.9643879797686, 2713.7563879797676, 2718.607387979767, 2722.6063879797666, 2734.275387979765, 2745.497387979764, 2762.222387979762, 2793.0113879797586, 2796.5653879797583, 2804.8393879797577, 2820.7493879797557, 2827.781387979755, 2833.5203879797546, 2846.173387979753, 2861.4113879797515, 2874.8553879797496, 2894.083387979748, 2974.385387979739, 2994.6303879797365, 3001.469387979736, 3009.957387979735, 3028.103387979733, 3041.8733879797314, 3051.6653879797304, 3066.9243879797286, 3114.5013879797234, 3123.4753879797227, 3164.226387979718, 3211.2673879797126, 3230.7683879797105, 3237.53338797971, 3281.829387979705, 3342.6913879796984, 3354.875387979697, 3358.6743879796963, 3362.463387979696, 3388.671387979693, 3394.0403879796927, 3448.915387979687]\n",
      "238 [3, 4, 5, 6, 7, 8, 9, 10, 16, 17, 22, 23, 24, 26, 27, 28, 29, 30, 31, 32, 33, 34, 36, 37, 38, 42, 43, 44, 46, 48, 50, 51, 52, 53, 55, 56, 58, 59, 60, 64, 65, 66, 73, 74, 75, 76, 78, 80, 81, 82, 83, 84, 85, 87, 89, 91, 92, 93, 94, 95, 96, 97, 98, 100, 101, 103, 104, 105, 106, 107, 108, 109, 110, 111, 112, 114, 115, 117, 118, 120, 121, 122, 124, 125, 126, 127, 128, 129, 131, 132, 134, 137, 138, 139, 141, 150, 154, 155, 157, 158, 159, 161, 163, 164, 165, 166, 169, 171, 172, 175, 177, 178, 181, 182, 183, 184, 185, 187, 189, 195, 196, 197, 198, 199, 200, 203, 205, 206, 207, 208, 209, 211, 213, 216, 217, 218, 219, 221, 222, 224, 225, 226, 227, 228, 229, 230, 232, 234, 235, 237, 238, 240, 244, 248, 249, 250, 251, 252, 253, 254, 255, 257, 258, 259, 261, 262, 263, 270, 277, 282, 284, 289, 290, 291, 293, 296, 297, 300, 301, 303, 305, 306, 309, 310, 311, 312, 317, 320, 323, 324, 325, 327, 329, 330, 331, 332, 334, 336, 338, 339, 340, 341, 342, 343, 344, 346, 348, 349, 350, 353, 354, 355, 358, 361, 364, 368, 384, 388, 389, 391, 393, 395, 396, 399, 402, 403, 410, 416, 417, 419, 423, 426, 428, 429, 430, 432, 433, 436]\n",
      "238\n",
      "peth[\"tscale\"] contains the timebin centers relative to the event\n",
      "\n",
      "peth[\"means\"] is shaped: (39, 120)\n",
      "This variable is NxB (neurons x timebins) and contains the mean spike rates over trials\n",
      "\n",
      "spike_counts is shaped: (238, 39, 120)\n",
      "This variable is TxNxB (trials x neurons x timebins) and contains all spike rates per trial\n",
      "3246.486254398746\n",
      "\n",
      "whole_window is shaped: (238, 39)\n",
      "This variable is TxN (trials x neurons) and contains summed spike rates per trial\n",
      "1f095590-6669-46c9-986b-ccaf0620c5e9\n",
      "Found 30 VM neurons\n",
      "254 [20.2952, 33.3412, 49.6572, 59.9152, 68.3422, 71.03620000000001, 83.32320000000001, 85.9992, 89.70320000000001, 98.6162, 142.44320000000002, 145.16420000000002, 147.89520000000002, 163.8882, 166.8162, 185.7692, 192.8742, 200.0422, 220.64520000000002, 229.2022, 240.68720000000002, 245.77720000000002, 297.67019999999997, 300.3542, 332.93919999999997, 335.9312, 340.3352, 343.25419999999997, 346.1882, 350.7692, 353.84319999999997, 356.8752, 365.6932, 368.6112, 371.3562, 374.8082, 378.1622, 382.1622, 388.14619999999996, 390.8822, 393.6932, 396.30219999999997, 399.3612, 402.1382, 404.9142, 411.7932, 414.5082, 421.37919999999997, 430.84319999999997, 441.7262, 455.8402, 458.5962, 461.4332, 480.6302, 486.1262, 492.4052, 495.27819999999997, 498.08119999999997, 515.7892, 526.1012000000001, 528.8422, 546.3802000000001, 568.5232000000001, 571.2862, 623.4762000000001, 742.2942, 767.7172, 770.7512, 777.0512000000001, 804.9052, 810.7332, 816.5372000000001, 822.4702000000001, 825.8212000000001, 833.0482000000001, 838.8302000000001, 844.5532000000001, 847.3392, 850.4262000000001, 853.4412000000001, 856.4982, 862.6472, 865.6452, 872.7032, 880.0742, 883.0292000000001, 888.8612, 891.6942, 894.5702, 897.4762000000001, 900.3992000000001, 903.1322, 905.9922, 908.8782000000001, 911.8782000000001, 914.8192, 931.4492, 959.4462000000001, 962.6012000000001, 996.5442, 1002.4392, 1046.8222, 1056.2692, 1062.0422, 1064.9282, 1067.7692, 1072.5242, 1082.3312, 1086.7402, 1089.6402, 1092.4212, 1095.4722000000002, 1099.4722000000002, 1102.4522, 1106.3192000000001, 1123.6672, 1126.5072, 1130.4892, 1133.7632, 1136.6252, 1140.1922, 1146.1732, 1149.1392, 1153.1732, 1156.0892000000001, 1159.0612, 1162.0162, 1164.9422, 1169.5082, 1172.5432, 1175.3262, 1178.3042, 1182.5672, 1185.4912000000002, 1188.3382000000001, 1211.9552, 1215.0812, 1221.0522, 1231.9712, 1235.1002, 1238.1332, 1241.0702, 1247.5982000000001, 1250.6152, 1289.5802, 1292.6772, 1306.1302, 1309.0632, 1395.8792, 1423.8372000000002, 1451.2562, 1454.3352, 1457.5742, 1460.8142, 1463.8192000000001, 1466.8422, 1469.9582, 1473.1512, 1476.2982000000002, 1479.3122, 1482.5752, 1485.5832, 1500.2662, 1503.4932000000001, 1509.6192, 1514.0052, 1528.6572, 1531.7392, 1539.6122, 1542.7752, 1547.2372, 1550.2822, 1553.2932, 1556.2752, 1564.0332, 1598.4372, 1645.6582, 1774.1752000000001, 1783.5282, 1786.5262, 1789.7152, 1814.4102, 1822.5292000000002, 1854.4812000000002, 1864.7512000000002, 1943.8082000000002, 1954.1162000000002, 1958.5072, 1962.8272000000002, 2036.6032, 2176.0052, 2194.2592, 2197.9192, 2336.8972, 2340.4712, 2343.8152, 2347.9901999999997, 2351.2592, 2354.6682, 2358.0521999999996, 2361.1641999999997, 2372.3752, 2375.9991999999997, 2379.4132, 2383.8552, 2387.0912, 2408.7612, 2412.1502, 2415.3802, 2484.5442, 2554.4051999999997, 2557.9422, 2561.5301999999997, 2575.1342, 2603.7682, 2626.7792, 2630.0542, 2665.7742, 2669.1592, 2672.5352, 2803.9552, 2814.1512, 2821.8372, 2825.1911999999998, 2828.2911999999997, 2834.7421999999997, 2838.0342, 2842.6872, 2867.1002, 2941.3142, 2986.3012, 3011.0382, 3017.0452, 3023.6222, 3031.9242, 3077.8332, 3133.1371999999997, 3202.1692, 3422.4752, 3607.5542, 3611.1452, 3619.4121999999998, 3622.8471999999997, 3626.2382, 3641.7262, 3653.1322, 3657.5442, 3661.0062, 3682.6402, 3685.8871999999997, 3689.1432, 3693.0582, 3707.9251999999997, 3710.8552]\n",
      "254 [0, 3, 7, 10, 12, 13, 16, 17, 18, 20, 28, 29, 30, 32, 33, 38, 40, 42, 47, 50, 54, 55, 70, 71, 80, 81, 82, 83, 84, 85, 86, 87, 90, 91, 92, 93, 94, 95, 97, 98, 99, 100, 101, 102, 103, 105, 106, 108, 110, 113, 116, 117, 118, 123, 125, 127, 128, 129, 132, 135, 136, 141, 147, 148, 164, 201, 208, 209, 211, 219, 221, 223, 225, 226, 228, 230, 232, 233, 234, 235, 236, 238, 239, 241, 243, 244, 246, 247, 248, 249, 250, 251, 252, 253, 254, 255, 260, 269, 270, 281, 283, 297, 299, 301, 302, 303, 304, 306, 307, 308, 309, 310, 311, 312, 313, 316, 317, 318, 319, 320, 321, 323, 324, 325, 326, 327, 328, 329, 330, 331, 332, 333, 334, 335, 336, 342, 343, 345, 348, 349, 350, 351, 353, 354, 366, 367, 371, 372, 398, 407, 415, 416, 417, 418, 419, 420, 421, 422, 423, 424, 425, 426, 429, 430, 432, 433, 436, 437, 439, 440, 441, 442, 443, 444, 446, 454, 460, 482, 485, 486, 487, 493, 495, 502, 505, 510, 513, 514, 515, 522, 527, 529, 530, 535, 536, 537, 538, 539, 540, 541, 542, 545, 546, 547, 548, 549, 552, 553, 554, 556, 558, 559, 560, 561, 564, 568, 569, 574, 575, 576, 579, 580, 581, 582, 583, 584, 585, 586, 587, 592, 598, 603, 604, 606, 608, 612, 617, 623, 673, 695, 696, 698, 699, 700, 702, 703, 704, 705, 710, 711, 712, 713, 716, 717]\n",
      "254\n",
      "peth[\"tscale\"] contains the timebin centers relative to the event\n",
      "\n",
      "peth[\"means\"] is shaped: (30, 120)\n",
      "This variable is NxB (neurons x timebins) and contains the mean spike rates over trials\n",
      "\n",
      "spike_counts is shaped: (254, 30, 120)\n",
      "This variable is TxNxB (trials x neurons x timebins) and contains all spike rates per trial\n",
      "5674.315994020777\n",
      "\n",
      "whole_window is shaped: (254, 30)\n",
      "This variable is TxN (trials x neurons) and contains summed spike rates per trial\n",
      "455 [24.4792, 30.0672, 37.7522, 41.8902, 52.8632, 57.1102, 64.72720000000001, 74.8802, 79.0322, 92.57520000000001, 106.06420000000001, 108.96820000000001, 120.91220000000001, 127.3182, 131.91920000000002, 135.43820000000002, 138.52620000000002, 155.85420000000002, 170.7782, 173.8982, 177.38920000000002, 180.3512, 188.9642, 196.9652, 202.94920000000002, 209.08120000000002, 212.0432, 214.8442, 223.6142, 226.1892, 232.04520000000002, 234.9092, 237.74820000000003, 248.6202, 251.74220000000003, 254.6672, 257.57419999999996, 260.5032, 264.36519999999996, 267.3302, 271.80519999999996, 275.5102, 280.2602, 284.60519999999997, 287.4692, 290.1592, 294.68219999999997, 304.31719999999996, 308.2862, 311.18019999999996, 316.7392, 320.7322, 323.6192, 326.30719999999997, 329.7982, 359.9072, 362.7432, 385.2012, 407.6792, 418.6362, 426.89119999999997, 433.78319999999997, 437.8202, 448.9262, 452.9222, 465.6882, 469.5492, 473.6792, 476.66519999999997, 483.4742, 489.5962, 500.9412, 510.96119999999996, 519.3652000000001, 523.1872000000001, 531.7592000000001, 535.9482, 539.0292000000001, 543.3952, 549.9762000000001, 553.8682, 556.7652, 561.1112, 565.3592000000001, 574.2792000000001, 578.2402000000001, 581.2272, 584.3912, 587.2092, 590.2212000000001, 593.5282000000001, 598.3902, 601.5072, 604.3892000000001, 608.5042000000001, 611.3452000000001, 614.3562000000001, 617.5842, 620.5752, 626.6522, 629.5502, 632.6022, 636.4902000000001, 639.7382, 643.3682, 646.1842, 649.2362, 653.2472, 656.1592, 658.9112, 661.8122000000001, 664.9662000000001, 667.8982000000001, 670.8732, 673.9302, 676.8002, 679.6652, 682.5102, 685.5312, 688.9212, 691.9202, 694.8512000000001, 697.7032, 702.4322000000001, 706.3882000000001, 710.5172, 713.4212, 717.2562, 720.0692, 723.1212, 727.2122, 730.1932, 732.9982, 736.4382, 739.1952, 746.4852000000001, 749.3482, 753.2322, 756.2732000000001, 760.1932, 763.0712000000001, 773.9342, 779.9522000000001, 782.8802000000001, 786.8392, 790.1242000000001, 794.1542000000001, 797.7302000000001, 801.8252, 807.8562000000001, 813.6132, 819.6212, 828.8402000000001, 835.9202, 841.7662, 859.4842000000001, 868.5072, 877.1762000000001, 885.8612, 918.7572, 921.6672000000001, 925.1442000000001, 928.1122, 934.2172, 937.3072000000001, 940.6022, 944.6302000000001, 947.4932, 950.4662000000001, 953.4822, 956.5042000000001, 965.6282000000001, 968.6582000000001, 971.8302000000001, 975.0172, 978.0862000000001, 981.7442000000001, 984.5422000000001, 987.4982000000001, 990.4702000000001, 993.4742000000001, 999.6102000000001, 1005.4002, 1008.4022000000001, 1011.5852000000001, 1014.6112, 1017.5262, 1020.5772000000001, 1023.6162, 1026.4832000000001, 1029.5652, 1032.6272000000001, 1035.7402, 1039.9482, 1042.8082000000002, 1052.3362, 1059.1512, 1075.4532000000002, 1119.3682000000001, 1143.1232, 1191.6972, 1195.4812000000002, 1199.6062000000002, 1203.1442, 1206.2052, 1217.9922000000001, 1223.9472, 1227.2712000000001, 1244.3612, 1253.6282, 1256.9262, 1260.0142, 1262.8902, 1265.9952, 1269.1972, 1272.6262000000002, 1276.6632, 1279.9782, 1283.1372000000001, 1286.2552, 1296.8512, 1300.0692000000001, 1303.1132, 1312.2122000000002, 1315.4812000000002, 1319.3912, 1323.3732, 1326.3232, 1329.3862000000001, 1332.5182, 1335.4392, 1338.5632, 1342.4692, 1345.6362000000001, 1348.4602, 1352.0382, 1355.0072, 1358.3752000000002, 1361.5082, 1364.5332, 1367.4552, 1371.4182, 1374.2642, 1378.9742, 1381.9062000000001, 1384.8992, 1387.9202, 1391.6692, 1398.9422, 1402.0292000000002, 1405.0632, 1408.0362, 1411.2092, 1414.1712, 1417.6162000000002, 1420.8152, 1426.9402, 1429.9102, 1433.1082000000001, 1436.2702000000002, 1439.2972, 1442.8982, 1446.8962000000001, 1491.9142000000002, 1496.0242, 1506.6692, 1520.6822, 1524.3262, 1534.6072000000001, 1560.3012, 1567.0442, 1570.2152, 1573.2662, 1576.4822000000001, 1586.6422, 1592.0932, 1595.2052, 1601.3942, 1604.7322000000001, 1608.4052000000001, 1638.6932000000002, 1642.2472, 1649.9912000000002, 1653.1012, 1656.3852000000002, 1660.2082, 1666.7082, 1670.0312000000001, 1673.0952, 1676.9012, 1680.1772, 1683.9862, 1687.0222, 1690.3102000000001, 1694.0902, 1698.3792, 1703.1282, 1706.4812000000002, 1756.0322, 1761.4592, 1764.6372000000001, 1767.7482, 1770.8812, 1777.3552, 1780.3582000000001, 1793.9312, 1797.1422, 1800.2972, 1803.3402, 1811.1492, 1817.6252000000002, 1826.7932, 1829.9822000000001, 1833.8962000000001, 1841.7502000000002, 1845.3662000000002, 1851.4192, 1858.0492000000002, 1861.4432000000002, 1933.1302, 1936.4352000000001, 1940.0722, 1946.8962000000001, 1950.1872, 1966.0202000000002, 1970.3122, 1973.5742, 2016.5432, 2020.9562, 2031.8622, 2053.8632, 2167.1972, 2171.6592, 2189.8671999999997, 2330.2012, 2333.5501999999997, 2365.0132, 2368.3392, 2401.2742, 2404.4102, 2583.0452, 2599.0132, 2607.0232, 2618.0722, 2622.2491999999997, 2638.3512, 2650.4532, 2654.7691999999997, 2661.4991999999997, 2875.1931999999997, 2910.8851999999997, 2923.9051999999997, 2934.8882, 2944.6202, 2948.8812, 2952.3062, 2956.7392, 2977.7691999999997, 2991.2432, 2994.9231999999997, 2998.7232, 3003.2652, 3020.2812, 3027.3062, 3055.3161999999998, 3061.3222, 3069.9422, 3086.0571999999997, 3098.7192, 3109.8851999999997, 3114.3491999999997, 3137.9682, 3179.5101999999997, 3185.8232, 3195.6911999999998, 3198.9431999999997, 3205.3271999999997, 3208.5411999999997, 3211.7871999999998, 3215.0342, 3218.1502, 3221.2052, 3224.3251999999998, 3227.6112, 3232.1151999999997, 3235.3642, 3240.7672, 3245.3432, 3249.5991999999997, 3253.5301999999997, 3257.2972, 3260.7742, 3263.8892, 3267.1942, 3270.4282, 3274.9822, 3281.3882, 3287.0101999999997, 3290.3712, 3293.8291999999997, 3298.2581999999998, 3301.5461999999998, 3304.7832, 3311.2961999999998, 3315.6531999999997, 3319.1412, 3325.7911999999997, 3329.0861999999997, 3340.4791999999998, 3343.7952, 3347.4451999999997, 3351.8022, 3356.4921999999997, 3360.1422, 3364.5872, 3374.2072, 3377.6392, 3380.9791999999998, 3384.3732, 3387.7021999999997, 3391.2192, 3405.5362, 3410.1902, 3414.3102, 3417.6592, 3430.1592, 3443.0042, 3446.4572, 3449.5861999999997, 3453.0002, 3460.0562, 3464.1931999999997, 3467.5422, 3476.9182, 3484.8302, 3499.0252, 3505.8372, 3527.4932, 3535.0802, 3541.1182, 3545.4921999999997, 3550.3972, 3563.3882, 3586.0872, 3594.0542, 3601.0332, 3614.2642, 3635.2462, 3664.5262, 3669.0461999999998, 3674.4732, 3678.9662, 3696.4341999999997, 3703.6441999999997, 3715.9482]\n",
      "455 [1, 2, 4, 5, 8, 9, 11, 14, 15, 19, 21, 22, 23, 24, 25, 26, 27, 31, 34, 35, 36, 37, 39, 41, 43, 44, 45, 46, 48, 49, 51, 52, 53, 56, 57, 58, 59, 60, 61, 62, 63, 64, 65, 66, 67, 68, 69, 72, 73, 74, 75, 76, 77, 78, 79, 88, 89, 96, 104, 107, 109, 111, 112, 114, 115, 119, 120, 121, 122, 124, 126, 130, 131, 133, 134, 137, 138, 139, 140, 142, 143, 144, 145, 146, 149, 150, 151, 152, 153, 154, 155, 156, 157, 158, 159, 160, 161, 162, 163, 165, 166, 167, 168, 169, 170, 171, 172, 173, 174, 175, 176, 177, 178, 179, 180, 181, 182, 183, 184, 185, 186, 187, 188, 189, 190, 191, 192, 193, 194, 195, 196, 197, 198, 199, 200, 202, 203, 204, 205, 206, 207, 210, 212, 213, 214, 215, 216, 217, 218, 220, 222, 224, 227, 229, 231, 237, 240, 242, 245, 256, 257, 258, 259, 261, 262, 263, 264, 265, 266, 267, 268, 271, 272, 273, 274, 275, 276, 277, 278, 279, 280, 282, 284, 285, 286, 287, 288, 289, 290, 291, 292, 293, 294, 295, 296, 298, 300, 305, 315, 322, 337, 338, 339, 340, 341, 344, 346, 347, 352, 355, 356, 357, 358, 359, 360, 361, 362, 363, 364, 365, 368, 369, 370, 373, 374, 375, 376, 377, 378, 379, 380, 381, 382, 383, 384, 385, 386, 387, 388, 389, 390, 391, 392, 393, 394, 395, 396, 397, 399, 400, 401, 402, 403, 404, 405, 406, 408, 409, 410, 411, 412, 413, 414, 427, 428, 431, 434, 435, 438, 445, 447, 448, 449, 450, 451, 452, 453, 455, 456, 457, 458, 459, 461, 462, 463, 464, 465, 466, 467, 468, 469, 470, 471, 472, 473, 474, 475, 476, 477, 478, 479, 480, 481, 483, 484, 488, 489, 490, 491, 492, 494, 496, 497, 498, 499, 500, 501, 503, 504, 507, 508, 509, 511, 512, 516, 517, 518, 519, 520, 521, 523, 525, 526, 528, 533, 534, 543, 544, 550, 551, 562, 563, 565, 566, 567, 570, 571, 572, 573, 588, 589, 590, 591, 593, 594, 595, 596, 597, 599, 600, 601, 602, 605, 607, 609, 610, 611, 613, 614, 615, 616, 618, 619, 620, 621, 622, 624, 625, 626, 627, 628, 629, 630, 631, 632, 633, 634, 635, 636, 637, 638, 639, 640, 641, 642, 643, 644, 645, 646, 647, 648, 649, 650, 651, 652, 653, 654, 655, 656, 657, 658, 659, 660, 661, 662, 663, 664, 665, 666, 667, 668, 669, 670, 671, 672, 674, 675, 676, 677, 678, 679, 680, 681, 682, 683, 684, 685, 686, 687, 688, 689, 690, 691, 692, 693, 694, 697, 701, 706, 707, 708, 709, 714, 715, 718]\n",
      "455\n",
      "peth[\"tscale\"] contains the timebin centers relative to the event\n",
      "\n",
      "peth[\"means\"] is shaped: (30, 120)\n",
      "This variable is NxB (neurons x timebins) and contains the mean spike rates over trials\n",
      "\n",
      "spike_counts is shaped: (455, 30, 120)\n",
      "This variable is TxNxB (trials x neurons x timebins) and contains all spike rates per trial\n",
      "7647.085850178485\n",
      "\n",
      "whole_window is shaped: (455, 30)\n",
      "This variable is TxN (trials x neurons) and contains summed spike rates per trial\n",
      "71e03be6-b497-4991-a121-9416dcc1a6e7\n",
      "Found 35 VM neurons\n",
      "295 [57.37239813999592, 69.4493981399946, 91.98639813999212, 97.88639813999146, 101.36839813999107, 106.90339813999047, 110.1713981399901, 124.46039813998854, 128.04739813998813, 135.20939813998734, 181.42339813998225, 185.95739813998173, 189.85539813998133, 196.00939813998065, 204.5943981399797, 207.99439813997932, 211.91939813997888, 215.27939813997853, 220.9293981399779, 239.29339813997586, 285.2803981399708, 288.64739813997045, 300.2023981399692, 311.118398139968, 372.7813981399612, 417.46639813995625, 431.30239813995473, 445.5073981399532, 470.41339813995046, 482.4653981399491, 613.5743981399346, 628.538398139933, 632.8683981399325, 638.4953981399319, 685.9683981399266, 690.0913981399262, 698.7513981399253, 703.2613981399247, 718.3933981399231, 722.8033981399226, 731.4773981399217, 734.9113981399213, 739.5953981399207, 742.7853981399204, 746.06539813992, 751.9443981399194, 759.0373981399187, 762.3253981399182, 766.7873981399177, 771.7413981399172, 775.7153981399167, 779.0723981399163, 790.1923981399152, 793.7833981399148, 799.5453981399141, 804.5733981399136, 809.2633981399131, 821.2213981399118, 826.0493981399112, 834.1523981399104, 843.0703981399093, 847.4283981399088, 858.7493981399076, 867.7813981399066, 871.5433981399062, 886.4333981399046, 890.3973981399041, 899.1143981399032, 928.3953981399, 939.1463981398988, 957.7923981398967, 969.7373981398954, 996.1133981398925, 1036.8463981398882, 1051.9233981398866, 1095.9773981398816, 1115.9373981398794, 1126.9953981398783, 1137.473398139877, 1144.6993981398762, 1149.8763981398756, 1155.188398139875, 1158.6933981398747, 1167.7993981398738, 1179.7623981398724, 1189.8893981398712, 1199.8463981398702, 1206.7533981398694, 1218.445398139868, 1222.9103981398675, 1226.707398139867, 1236.5743981398662, 1240.7043981398656, 1245.302398139865, 1297.0223981398594, 1302.0073981398589, 1305.5843981398584, 1339.050398139855, 1343.3663981398543, 1347.484398139854, 1351.3743981398534, 1357.0033981398528, 1371.3523981398512, 1375.207398139851, 1383.11139813985, 1387.1403981398496, 1395.2583981398486, 1398.6653981398483, 1407.3043981398473, 1410.443398139847, 1417.5713981398462, 1423.2533981398456, 1430.2433981398449, 1433.8183981398445, 1439.4963981398437, 1443.3713981398434, 1446.9253981398429, 1451.9703981398425, 1456.4213981398418, 1460.2513981398415, 1470.3803981398403, 1475.1333981398398, 1479.9853981398394, 1489.5373981398382, 1494.2193981398377, 1500.769398139837, 1505.1373981398365, 1509.657398139836, 1554.2283981398311, 1572.391398139829, 1607.9673981398253, 1618.3213981398242, 1631.3443981398227, 1658.8713981398196, 1764.590398139808, 1794.4253981398047, 1813.6893981398025, 1823.8313981398014, 1827.5073981398011, 1841.3953981397995, 1856.8203981397978, 1860.6233981397975, 1873.206398139796, 1877.5843981397954, 1883.548398139795, 1887.3853981397945, 1891.684398139794, 1895.4003981397937, 1899.1993981397932, 1902.6213981397927, 1906.5393981397924, 1912.2873981397918, 1916.8023981397912, 1921.6603981397907, 1927.05139813979, 1931.3763981397897, 1938.6033981397889, 1944.0573981397881, 1959.6673981397864, 1963.3433981397861, 1971.608398139785, 1976.3613981397846, 1984.9953981397837, 1988.9023981397834, 1992.5513981397828, 1997.4103981397823, 2001.455398139782, 2025.0373981397793, 2029.7513981397788, 2033.3393981397783, 2037.121398139778, 2041.4423981397774, 2045.295398139777, 2050.970398139776, 2055.3983981397755, 2060.445398139775, 2064.185398139775, 2070.957398139774, 2075.6883981397737, 2079.620398139773, 2090.7633981397717, 2113.842398139769, 2128.171398139768, 2146.1643981397656, 2218.9583981397577, 2228.4803981397567, 2239.3493981397555, 2244.094398139755, 2304.5393981397483, 2310.4773981397475, 2320.6633981397463, 2328.8803981397455, 2333.810398139745, 2342.643398139744, 2348.2483981397436, 2357.1423981397425, 2369.993398139741, 2373.759398139741, 2377.2433981397403, 2386.632398139739, 2395.5713981397384, 2401.8813981397375, 2405.972398139737, 2411.3343981397365, 2416.163398139736, 2421.4733981397353, 2426.022398139735, 2430.0953981397342, 2453.334398139732, 2456.9563981397314, 2460.934398139731, 2464.520398139731, 2476.5043981397293, 2484.9433981397283, 2612.2863981397145, 2636.4083981397116, 2660.6423981397093, 2707.350398139704, 2711.831398139703, 2717.3043981397027, 2722.129398139702, 2760.6843981396983, 2764.8943981396974, 2768.7083981396972, 2810.5193981396924, 2815.573398139692, 2820.8073981396915, 2824.839398139691, 2828.3683981396907, 2838.4893981396895, 2843.7713981396887, 2847.6943981396885, 2857.2553981396873, 2863.4783981396868, 2868.3693981396864, 2872.969398139686, 2876.5543981396854, 2885.7213981396844, 2898.250398139683, 2903.5513981396825, 2911.8673981396814, 2921.2123981396803, 2927.8143981396797, 2936.6533981396788, 2942.657398139678, 2948.0803981396775, 2963.6823981396756, 2968.7123981396753, 2973.513398139675, 3034.9803981396676, 3046.0413981396664, 3092.6963981396616, 3115.648398139659, 3119.6673981396584, 3123.756398139658, 3129.9673981396572, 3134.106398139657, 3137.8083981396567, 3141.983398139656, 3146.5213981396555, 3178.547398139652, 3184.0743981396513, 3190.6173981396505, 3196.46539813965, 3213.7763981396483, 3220.2743981396475, 3224.312398139647, 3368.745398139631, 3429.2863981396245, 3433.310398139624, 3549.330398139611, 3640.2553981396013, 3654.5833981395995, 3658.6493981395993, 3664.6373981395986, 3678.648398139597, 3695.236398139595, 3699.1673981395948, 3710.8813981395933, 3715.139398139593, 3719.3703981395925, 3727.3623981395917, 3747.2603981395896, 3752.913398139589, 3761.160398139588, 3770.171398139587, 3799.4853981395836, 3804.872398139583, 3819.8403981395813, 4062.5993981395545, 4067.802398139554, 4081.5183981395526, 4121.320398139549, 4173.1273981395425, 4188.637398139541]\n",
      "295 [3, 6, 11, 12, 13, 14, 15, 18, 19, 21, 31, 32, 33, 35, 37, 38, 39, 40, 41, 45, 53, 54, 57, 59, 70, 77, 79, 82, 88, 90, 118, 121, 122, 123, 133, 134, 135, 136, 139, 140, 142, 143, 144, 145, 146, 147, 149, 150, 151, 152, 153, 154, 156, 157, 158, 159, 160, 163, 164, 165, 167, 168, 170, 172, 173, 175, 176, 178, 184, 186, 188, 190, 193, 201, 204, 214, 218, 219, 221, 223, 224, 225, 226, 228, 229, 231, 233, 235, 237, 238, 239, 241, 242, 243, 255, 256, 257, 264, 265, 266, 267, 268, 271, 272, 274, 275, 276, 277, 278, 279, 280, 281, 282, 283, 284, 285, 286, 287, 288, 289, 291, 292, 293, 294, 295, 297, 298, 299, 309, 313, 319, 321, 324, 330, 351, 357, 360, 362, 363, 366, 369, 370, 373, 374, 375, 376, 377, 378, 379, 380, 381, 382, 383, 384, 385, 386, 387, 388, 390, 391, 393, 394, 396, 397, 398, 399, 400, 404, 405, 406, 407, 408, 409, 410, 411, 412, 413, 414, 415, 416, 418, 421, 423, 427, 442, 444, 446, 447, 460, 461, 463, 465, 466, 468, 469, 471, 473, 474, 475, 477, 479, 480, 481, 482, 483, 484, 485, 486, 491, 492, 493, 494, 496, 498, 524, 528, 532, 540, 541, 542, 543, 551, 552, 553, 561, 562, 563, 564, 565, 567, 568, 569, 571, 572, 573, 574, 575, 577, 579, 580, 582, 584, 585, 586, 587, 588, 591, 592, 593, 604, 606, 615, 620, 621, 622, 623, 624, 625, 626, 627, 632, 633, 634, 635, 638, 639, 640, 667, 680, 681, 704, 722, 725, 726, 727, 729, 732, 733, 735, 736, 737, 739, 742, 743, 745, 747, 752, 753, 756, 799, 800, 802, 808, 813, 816]\n",
      "295\n",
      "peth[\"tscale\"] contains the timebin centers relative to the event\n",
      "\n",
      "peth[\"means\"] is shaped: (35, 120)\n",
      "This variable is NxB (neurons x timebins) and contains the mean spike rates over trials\n",
      "\n",
      "spike_counts is shaped: (295, 35, 120)\n",
      "This variable is TxNxB (trials x neurons x timebins) and contains all spike rates per trial\n",
      "5245.8367302080605\n",
      "\n",
      "whole_window is shaped: (295, 35)\n",
      "This variable is TxN (trials x neurons) and contains summed spike rates per trial\n",
      "521 [42.321398139997584, 46.756398139997096, 53.649398139996336, 60.94739813999553, 66.33539813999494, 73.64339813999413, 78.82739813999356, 83.21439813999308, 88.06539813999254, 114.69939813998961, 118.66239813998918, 131.25639813998777, 140.44039813998677, 143.8493981399864, 150.51139813998566, 153.62439813998532, 157.57139813998486, 163.47139813998422, 168.43139813998368, 172.8063981399832, 176.74839813998275, 193.07139813998097, 200.41539813998017, 224.15239813997755, 229.80239813997693, 234.25539813997642, 242.97339813997547, 246.76539813997505, 259.1963981399737, 266.3943981399729, 270.4463981399725, 275.5963981399719, 280.2783981399714, 291.6873981399701, 296.93739813996956, 306.21639813996853, 316.2083981399674, 321.0683981399669, 327.4063981399662, 330.73439813996583, 334.7963981399654, 342.6613981399645, 348.06639813996395, 354.91239813996316, 360.0973981399626, 367.3373981399618, 377.9593981399606, 382.20239813996017, 386.9853981399596, 396.07639813995866, 402.33939813995795, 408.0013981399573, 421.8983981399558, 434.20839813995445, 440.59139813995375, 449.5173981399528, 454.16239813995224, 457.9333981399518, 460.8953981399515, 465.450398139951, 475.5013981399499, 486.9243981399486, 494.5563981399478, 497.7003981399474, 505.20939813994664, 509.95739813994606, 515.5263981399454, 522.9693981399446, 527.1633981399441, 532.5323981399436, 537.001398139943, 541.1953981399425, 546.4893981399421, 552.0613981399414, 557.2303981399408, 560.2423981399405, 565.4403981399399, 570.1553981399394, 573.256398139939, 577.3283981399386, 582.5183981399381, 586.8543981399375, 590.8673981399371, 594.0883981399368, 598.4403981399363, 601.5133981399359, 605.8893981399355, 610.253398139935, 619.249398139934, 623.8393981399335, 643.1543981399313, 647.5313981399308, 652.0553981399304, 656.7333981399298, 660.4693981399295, 664.716398139929, 669.4963981399285, 675.5753981399278, 680.2513981399272, 707.1973981399243, 711.9813981399238, 726.7913981399222, 755.151398139919, 783.9403981399158, 813.2573981399127, 816.5613981399123, 837.5843981399099, 852.9483981399082, 863.2743981399071, 881.1213981399052, 893.5483981399038, 902.3023981399028, 906.3663981399023, 915.5003981399013, 918.882398139901, 923.9243981399004, 933.7583981398993, 952.4383981398973, 963.2333981398962, 975.7423981398947, 979.7813981398942, 1003.7543981398917, 1009.462398139891, 1013.8193981398905, 1016.9023981398902, 1023.0153981398895, 1027.5533981398892, 1031.5903981398887, 1041.5633981398876, 1046.675398139887, 1056.561398139886, 1060.4423981398854, 1064.648398139885, 1068.8663981398845, 1072.605398139884, 1079.6413981398834, 1083.577398139883, 1087.4163981398826, 1091.872398139882, 1100.7463981398812, 1106.9423981398804, 1111.2163981398799, 1133.4163981398774, 1140.8773981398767, 1164.539398139874, 1184.002398139872, 1193.1953981398708, 1203.30139813987, 1213.9933981398685, 1231.7483981398666, 1249.3833981398648, 1253.3763981398642, 1256.965398139864, 1260.5463981398634, 1266.5013981398629, 1270.8573981398624, 1276.1043981398618, 1281.2173981398612, 1284.3993981398608, 1288.6343981398604, 1292.42039813986, 1310.720398139858, 1318.1743981398572, 1321.6923981398568, 1325.1083981398563, 1329.0883981398558, 1334.2833981398553, 1361.0423981398524, 1366.9533981398517, 1378.5863981398504, 1465.8863981398408, 1497.4113981398375, 1515.0583981398354, 1520.297398139835, 1525.1453981398342, 1530.3613981398337, 1533.8183981398333, 1537.699398139833, 1541.8973981398326, 1546.363398139832, 1550.8193981398315, 1558.9283981398307, 1563.67839813983, 1568.4903981398295, 1575.8513981398287, 1581.636398139828, 1588.6613981398273, 1595.5873981398265, 1603.8553981398256, 1613.9613981398245, 1622.5993981398235, 1627.263398139823, 1636.9173981398221, 1640.3333981398216, 1644.5613981398212, 1649.5993981398206, 1652.7393981398202, 1663.4163981398192, 1669.6933981398183, 1674.459398139818, 1679.1653981398174, 1683.9183981398169, 1688.6943981398163, 1696.5403981398156, 1702.8873981398149, 1706.3033981398144, 1713.5503981398135, 1718.894398139813, 1722.2633981398126, 1726.4463981398121, 1731.0003981398118, 1737.8843981398109, 1742.4783981398105, 1747.4943981398098, 1751.3513981398094, 1755.115398139809, 1760.7293981398084, 1767.7573981398077, 1771.5243981398073, 1777.2593981398065, 1781.567398139806, 1784.8673981398058, 1799.461398139804, 1809.314398139803, 1817.1653981398022, 1831.2253981398007, 1837.4623981398, 1845.355398139799, 1851.6723981397984, 1864.492398139797, 1868.2033981397965, 1953.979398139787, 1966.8673981397858, 1980.1593981397843, 2007.0103981397813, 2010.6153981397808, 2020.3823981397798, 2085.7543981397725, 2095.2173981397714, 2100.873398139771, 2124.5593981397683, 2133.725398139767, 2137.7073981397666, 2141.843398139766, 2151.521398139765, 2155.1703981397645, 2161.080398139764, 2165.2053981397635, 2169.833398139763, 2174.8463981397626, 2179.984398139762, 2184.0043981397616, 2187.680398139761, 2193.5033981397605, 2196.89139813976, 2205.491398139759, 2211.1693981397584, 2215.682398139758, 2224.730398139757, 2233.696398139756, 2248.8913981397545, 2253.520398139754, 2259.087398139753, 2262.593398139753, 2267.2193981397522, 2270.685398139752, 2276.9983981397513, 2280.702398139751, 2286.70239813975, 2290.3873981397496, 2293.9173981397494, 2300.6993981397486, 2315.856398139747, 2324.643398139746, 2337.7233981397444, 2353.3513981397427, 2363.4803981397417, 2382.4603981397395, 2391.660398139739, 2433.976398139734, 2437.680398139734, 2442.232398139733, 2447.6623981397324, 2470.72839813973, 2481.296398139729, 2489.223398139728, 2496.033398139727, 2501.6763981397266, 2505.617398139726, 2510.2083981397254, 2515.442398139725, 2518.8093981397246, 2523.906398139724, 2527.6483981397237, 2535.349398139723, 2540.2933981397223, 2547.9133981397213, 2551.699398139721, 2555.3253981397206, 2559.70039813972, 2563.49339813972, 2567.3903981397193, 2573.3103981397185, 2579.016398139718, 2582.5203981397176, 2588.451398139717, 2592.0463981397165, 2597.532398139716, 2601.9293981397154, 2606.337398139715, 2617.6263981397137, 2621.784398139713, 2628.5783981397126, 2644.971398139711, 2650.26539813971, 2656.6193981397096, 2665.4093981397086, 2670.040398139708, 2678.193398139707, 2683.2713981397064, 2687.747398139706, 2693.2723981397053, 2701.9273981397046, 2727.2813981397017, 2731.497398139701, 2736.2983981397006, 2740.5363981397004, 2744.8163981396997, 2749.849398139699, 2753.457398139699, 2775.5653981396963, 2779.566398139696, 2786.102398139695, 2790.9923981396946, 2794.570398139694, 2799.685398139694, 2805.0773981396933, 2833.24039813969, 2852.808398139688, 2881.8723981396847, 2892.6953981396837, 2907.573398139682, 2916.161398139681, 2951.964398139677, 2959.1373981396764, 2977.442398139674, 2981.464398139674, 2987.1443981396733, 2990.6663981396728, 2996.223398139672, 3000.155398139672, 3009.692398139671, 3017.24839813967, 3020.9743981396696, 3027.0953981396688, 3041.8313981396673, 3050.888398139666, 3055.2653981396656, 3060.356398139665, 3067.8343981396642, 3072.8933981396635, 3077.304398139663, 3081.0453981396627, 3086.120398139662, 3096.535398139661, 3100.8853981396605, 3105.65739813966, 3109.3143981396597, 3151.218398139655, 3156.3313981396545, 3164.7633981396534, 3173.5033981396527, 3203.077398139649, 3207.1843981396487, 3228.1763981396466, 3233.574398139646, 3237.4573981396456, 3242.115398139645, 3246.0233981396445, 3250.730398139644, 3257.3163981396433, 3261.3113981396427, 3265.3113981396423, 3270.912398139642, 3276.1793981396413, 3297.004398139639, 3304.736398139638, 3309.2483981396376, 3314.277398139637, 3318.6423981396365, 3322.346398139636, 3326.8343981396356, 3331.3573981396353, 3335.272398139635, 3339.668398139634, 3346.7503981396335, 3351.930398139633, 3355.6343981396326, 3359.553398139632, 3364.4963981396318, 3374.53339813963, 3379.89339813963, 3384.1383981396293, 3388.331398139629, 3392.4073981396286, 3396.455398139628, 3401.3533981396276, 3406.2753981396268, 3410.3023981396263, 3415.874398139626, 3421.2283981396254, 3425.349398139625, 3437.7383981396233, 3443.4543981396228, 3452.629398139622, 3457.4383981396213, 3461.525398139621, 3472.6953981396196, 3477.199398139619, 3481.4123981396187, 3488.729398139618, 3492.6423981396174, 3496.337398139617, 3502.658398139616, 3506.680398139616, 3510.8183981396155, 3514.865398139615, 3518.9933981396143, 3523.360398139614, 3528.9233981396133, 3532.978398139613, 3537.2163981396125, 3541.330398139612, 3545.157398139612, 3555.2063981396104, 3560.45039813961, 3564.4263981396093, 3568.339398139609, 3572.187398139609, 3576.8183981396082, 3580.7043981396077, 3585.2493981396074, 3593.2863981396063, 3597.2723981396057, 3600.9163981396055, 3610.680398139604, 3615.106398139604, 3618.9823981396034, 3623.765398139603, 3627.6723981396026, 3645.4443981396007, 3649.3663981396003, 3669.798398139598, 3683.5573981395964, 3690.335398139596, 3703.0983981395943, 3723.474398139592, 3731.437398139591, 3741.15839813959, 3757.1163981395885, 3765.0963981395876, 3775.404398139586, 3779.795398139586, 3784.196398139585, 3789.2473981395847, 3810.1523981395826, 3814.224398139582, 3824.099398139581, 3828.0443981395806, 3833.21239813958, 3837.6203981395793, 3842.022398139579, 3847.3833981395783, 3852.3113981395777, 3856.6623981395774, 3861.129398139577, 3866.125398139576, 3870.456398139576, 3874.803398139575, 3880.4363981395745, 3885.037398139574, 3894.0023981395734, 3899.5013981395728, 3903.828398139572, 3908.1523981395717, 3912.013398139571, 3916.4623981395707, 3921.0943981395703, 3925.33739813957, 3933.368398139569, 3938.6783981395683, 3943.687398139568, 3949.141398139567, 3955.1623981395664, 3959.252398139566, 3963.5213981395655, 3968.221398139565, 3973.3803981395645, 3978.003398139564, 3986.187398139563, 3997.8313981395618, 4004.051398139561, 4012.98139813956, 4017.9693981395594, 4022.807398139559, 4026.9893981395585, 4031.279398139558, 4035.8913981395576, 4053.4823981395557, 4073.5213981395536, 4086.704398139552, 4091.1253981395516, 4102.783398139551, 4107.67939813955, 4116.775398139549, 4128.5583981395475, 4145.365398139546, 4156.661398139545, 4166.463398139544, 4177.311398139543, 4182.8413981395415]\n",
      "521 [0, 1, 2, 4, 5, 7, 8, 9, 10, 16, 17, 20, 22, 23, 24, 25, 26, 27, 28, 29, 30, 34, 36, 42, 43, 44, 46, 47, 48, 49, 50, 51, 52, 55, 56, 58, 60, 61, 62, 63, 64, 65, 66, 67, 68, 69, 71, 72, 73, 74, 75, 76, 78, 80, 81, 83, 84, 85, 86, 87, 89, 91, 92, 93, 94, 95, 96, 97, 98, 99, 100, 101, 102, 103, 104, 105, 106, 107, 108, 109, 110, 111, 112, 113, 114, 115, 116, 117, 119, 120, 124, 125, 126, 127, 128, 129, 130, 131, 132, 137, 138, 141, 148, 155, 161, 162, 166, 169, 171, 174, 177, 179, 180, 181, 182, 183, 185, 187, 189, 191, 192, 194, 195, 196, 197, 198, 199, 200, 202, 203, 205, 206, 207, 208, 209, 210, 211, 212, 213, 215, 216, 217, 220, 222, 227, 230, 232, 234, 236, 240, 244, 245, 246, 247, 248, 249, 250, 251, 252, 253, 254, 258, 259, 260, 261, 262, 263, 269, 270, 273, 290, 296, 300, 301, 302, 303, 304, 305, 306, 307, 308, 310, 311, 312, 314, 315, 316, 317, 318, 320, 322, 323, 325, 326, 327, 328, 329, 331, 332, 333, 334, 335, 336, 337, 338, 339, 340, 341, 342, 343, 344, 345, 346, 347, 348, 349, 350, 352, 353, 354, 355, 356, 358, 359, 361, 364, 365, 367, 368, 371, 372, 389, 392, 395, 401, 402, 403, 417, 419, 420, 422, 424, 425, 426, 428, 429, 430, 431, 432, 433, 434, 435, 436, 437, 438, 439, 440, 441, 443, 445, 448, 449, 450, 451, 452, 453, 454, 455, 456, 457, 458, 459, 462, 464, 467, 470, 472, 476, 478, 487, 488, 489, 490, 495, 497, 499, 500, 501, 502, 503, 504, 505, 506, 507, 508, 509, 510, 511, 512, 513, 514, 515, 516, 517, 518, 519, 520, 521, 522, 523, 525, 526, 527, 529, 530, 531, 533, 534, 535, 536, 537, 538, 539, 544, 545, 546, 547, 548, 549, 550, 554, 555, 556, 557, 558, 559, 560, 566, 570, 576, 578, 581, 583, 589, 590, 594, 595, 596, 597, 598, 599, 600, 601, 602, 603, 605, 607, 608, 609, 610, 611, 612, 613, 614, 616, 617, 618, 619, 628, 629, 630, 631, 636, 637, 641, 642, 643, 644, 645, 646, 647, 648, 649, 650, 651, 652, 653, 654, 655, 656, 657, 658, 659, 660, 661, 662, 663, 664, 665, 666, 668, 669, 670, 671, 672, 673, 674, 675, 676, 677, 678, 679, 682, 683, 684, 685, 686, 687, 688, 689, 690, 691, 692, 693, 694, 695, 696, 697, 698, 699, 700, 701, 702, 703, 705, 706, 707, 708, 709, 710, 711, 712, 714, 715, 716, 717, 718, 719, 720, 721, 723, 724, 728, 730, 731, 734, 738, 740, 741, 744, 746, 748, 749, 750, 751, 754, 755, 757, 758, 759, 760, 761, 762, 763, 764, 765, 766, 767, 768, 769, 770, 771, 772, 773, 774, 775, 776, 777, 778, 779, 780, 781, 782, 783, 784, 785, 786, 787, 788, 789, 790, 791, 792, 793, 794, 795, 796, 797, 798, 801, 803, 804, 805, 806, 807, 809, 810, 811, 812, 814, 815]\n",
      "521\n",
      "peth[\"tscale\"] contains the timebin centers relative to the event\n",
      "\n",
      "peth[\"means\"] is shaped: (35, 120)\n",
      "This variable is NxB (neurons x timebins) and contains the mean spike rates over trials\n",
      "\n",
      "spike_counts is shaped: (521, 35, 120)\n",
      "This variable is TxNxB (trials x neurons x timebins) and contains all spike rates per trial\n",
      "6978.88400820647\n",
      "\n",
      "whole_window is shaped: (521, 35)\n",
      "This variable is TxN (trials x neurons) and contains summed spike rates per trial\n",
      "b01df337-2d31-4bcc-a1fe-7112afd50c50\n",
      "9a629642-3a9c-42ed-b70a-532db0e86199\n",
      "Found 24 VM neurons\n",
      "183 [14.252773720000276, 19.964773720000277, 22.686773720000282, 31.71277372000029, 34.556773720000294, 39.946773720000294, 42.6387737200003, 65.80577372000033, 76.81877372000034, 81.92177372000035, 84.74777372000034, 99.43477372000035, 106.75877372000036, 117.66677372000038, 120.54777372000038, 123.39477372000037, 130.3727737200004, 133.10877372000039, 135.6887737200004, 152.0687737200004, 174.43277372000043, 177.49977372000043, 187.16177372000044, 193.95577372000045, 201.30777372000045, 214.41077372000046, 235.35277372000047, 243.82377372000047, 247.3087737200005, 255.6487737200005, 263.0387737200005, 266.57377372000053, 271.2167737200005, 274.7577737200005, 280.1207737200005, 282.93877372000054, 285.7837737200005, 295.4517737200005, 301.38077372000055, 304.2907737200005, 310.12177372000053, 316.1607737200006, 319.13377372000053, 321.97677372000055, 328.57477372000056, 349.2077737200006, 354.88277372000056, 366.7217737200006, 369.8487737200006, 372.5497737200006, 375.4527737200006, 378.3957737200006, 381.8007737200006, 384.6187737200006, 387.4207737200006, 391.33377372000064, 394.25677372000064, 399.0007737200006, 402.10977372000065, 405.08377372000064, 407.74877372000066, 411.74677372000065, 420.8487737200006, 423.68577372000067, 430.44177372000064, 433.33877372000063, 436.08777372000065, 440.68477372000063, 443.50077372000067, 452.50877372000065, 455.44877372000064, 458.2717737200007, 461.2447737200007, 466.99377372000066, 470.06577372000066, 486.9287737200007, 520.7237737200007, 555.8987737200008, 564.1267737200008, 624.7217737200008, 659.5087737200008, 681.5367737200008, 696.2087737200009, 721.5487737200009, 731.6647737200009, 743.0497737200009, 756.7537737200009, 813.856773720001, 837.1857737200011, 841.2917737200011, 844.280773720001, 847.529773720001, 851.213773720001, 854.006773720001, 857.3587737200011, 860.312773720001, 863.2047737200011, 869.730773720001, 872.5497737200011, 876.217773720001, 885.8537737200011, 889.8827737200011, 901.258773720001, 904.206773720001, 907.3667737200011, 910.2377737200011, 917.3727737200011, 920.6877737200011, 923.7127737200011, 927.7237737200011, 930.4547737200011, 934.6347737200011, 951.4007737200011, 956.8527737200011, 959.9327737200011, 974.4797737200012, 985.0137737200012, 988.7957737200012, 995.5207737200011, 1004.6847737200012, 1025.1297737200011, 1033.2867737200013, 1044.1927737200012, 1050.2627737200012, 1058.1477737200012, 1062.7387737200013, 1083.9807737200013, 1099.1747737200012, 1129.6937737200012, 1190.2017737200013, 1197.2377737200013, 1210.9817737200015, 1214.5777737200015, 1250.8307737200014, 1257.4007737200013, 1322.5787737200014, 1330.9067737200014, 1334.2667737200015, 1337.9607737200015, 1341.1387737200014, 1344.2527737200014, 1348.7667737200015, 1352.1137737200015, 1357.7887737200015, 1367.6357737200015, 1376.6057737200015, 1379.6557737200014, 1382.8257737200015, 1385.9627737200015, 1389.6907737200015, 1424.5907737200016, 1427.7007737200015, 1430.8177737200015, 1439.1037737200015, 1444.3387737200017, 1447.5547737200015, 1450.7117737200015, 1456.8927737200015, 1460.1517737200015, 1539.8857737200017, 1635.2287737200018, 1830.518773720002, 1973.285773720002, 1977.503773720002, 1981.255773720002, 1996.880773720002, 2000.156773720002, 2004.8667737200021, 2010.685773720002, 2021.517773720002, 2031.685773720002, 2128.441773720002, 2141.3247737200018, 2184.622773720002, 2232.472773720002, 2391.493773720002, 2496.0997737200023, 2536.3817737200025, 2548.0937737200024, 2658.3807737200023, 2663.8127737200025, 2777.0747737200027, 2848.8817737200025]\n",
      "183 [1, 3, 4, 6, 7, 9, 10, 17, 20, 21, 22, 26, 28, 31, 32, 33, 35, 36, 37, 41, 47, 48, 51, 53, 55, 59, 62, 63, 64, 65, 66, 67, 68, 69, 70, 71, 72, 74, 76, 77, 79, 81, 82, 83, 85, 88, 89, 91, 92, 93, 94, 95, 96, 97, 98, 99, 100, 101, 102, 103, 104, 105, 107, 108, 110, 111, 112, 113, 114, 116, 117, 118, 119, 121, 122, 127, 134, 143, 145, 161, 167, 173, 177, 184, 187, 190, 194, 203, 208, 209, 210, 211, 212, 213, 214, 215, 216, 218, 219, 220, 222, 223, 225, 226, 227, 228, 230, 231, 232, 233, 234, 235, 237, 238, 239, 242, 243, 244, 245, 247, 250, 252, 255, 257, 258, 259, 264, 269, 276, 293, 295, 299, 300, 310, 312, 330, 332, 333, 334, 335, 336, 337, 338, 339, 341, 343, 344, 345, 346, 347, 350, 351, 352, 353, 354, 355, 356, 357, 358, 360, 362, 366, 369, 370, 371, 373, 374, 375, 376, 377, 378, 380, 381, 382, 383, 386, 389, 391, 392, 394, 395, 398, 400]\n",
      "183\n",
      "peth[\"tscale\"] contains the timebin centers relative to the event\n",
      "\n",
      "peth[\"means\"] is shaped: (24, 120)\n",
      "This variable is NxB (neurons x timebins) and contains the mean spike rates over trials\n",
      "\n",
      "spike_counts is shaped: (183, 24, 120)\n",
      "This variable is TxNxB (trials x neurons x timebins) and contains all spike rates per trial\n",
      "3829.6080739417707\n",
      "\n",
      "whole_window is shaped: (183, 24)\n",
      "This variable is TxN (trials x neurons) and contains summed spike rates per trial\n",
      "203 [10.972773720000273, 17.091773720000276, 27.034773720000285, 37.250773720000296, 45.5597737200003, 48.127773720000306, 51.85177372000031, 55.41177372000031, 59.99977372000031, 62.84777372000032, 68.42977372000033, 72.74577372000033, 87.80177372000034, 91.99977372000035, 95.26977372000036, 102.90177372000036, 109.63977372000036, 113.66377372000036, 126.10277372000039, 142.1127737200004, 145.0307737200004, 148.0847737200004, 155.10977372000042, 161.19877372000042, 163.90677372000042, 167.20577372000042, 170.43777372000042, 180.51877372000044, 183.74177372000042, 191.02077372000045, 197.91477372000045, 204.13877372000044, 206.86777372000046, 210.52877372000046, 221.87477372000046, 227.14077372000048, 292.3217737200005, 298.3527737200005, 307.2447737200005, 313.13877372000053, 325.22677372000055, 338.5087737200006, 346.0087737200006, 363.3917737200006, 415.2167737200006, 427.41177372000067, 447.81677372000064, 464.0257737200007, 473.5807737200007, 476.6897737200007, 483.7197737200007, 490.0967737200007, 498.5817737200007, 504.75477372000074, 507.9697737200007, 514.3557737200007, 517.5297737200008, 525.6987737200008, 529.7247737200007, 532.6827737200008, 535.7977737200007, 539.7367737200008, 542.4837737200007, 547.2887737200008, 552.8797737200008, 560.0607737200007, 567.1297737200008, 571.4317737200008, 574.6567737200007, 578.8837737200008, 583.6667737200008, 588.0707737200008, 590.8947737200008, 596.0477737200008, 599.3787737200008, 603.3577737200008, 606.6857737200008, 609.6957737200008, 613.6927737200008, 618.5157737200008, 621.6417737200009, 632.0037737200008, 637.0827737200009, 640.3807737200009, 648.2197737200008, 655.9677737200009, 664.6697737200009, 667.6597737200009, 670.3407737200008, 673.3827737200008, 678.5667737200009, 685.9007737200009, 688.9517737200009, 691.9647737200008, 699.1037737200008, 702.094773720001, 705.0487737200009, 709.0877737200009, 712.0027737200008, 718.6867737200009, 724.8077737200009, 728.7317737200009, 737.132773720001, 740.1107737200009, 745.695773720001, 748.478773720001, 752.4517737200009, 762.5727737200009, 766.1007737200009, 774.4897737200009, 780.942773720001, 785.526773720001, 791.991773720001, 799.0227737200009, 808.189773720001, 818.128773720001, 821.291773720001, 830.566773720001, 833.755773720001, 866.6567737200011, 881.3207737200011, 897.9487737200011, 914.3007737200011, 939.5187737200011, 968.2107737200012, 971.0837737200011, 999.7577737200012, 1018.4727737200012, 1021.7227737200012, 1028.5507737200012, 1037.5907737200012, 1041.0487737200012, 1047.2977737200013, 1065.6577737200012, 1073.8817737200013, 1077.1317737200013, 1080.9587737200013, 1087.0127737200012, 1090.2427737200012, 1093.0887737200012, 1096.1657737200012, 1102.2777737200013, 1105.9657737200012, 1116.5957737200013, 1120.4677737200013, 1123.5347737200013, 1126.5447737200013, 1132.7647737200014, 1135.8797737200014, 1139.0557737200013, 1142.1137737200013, 1146.5607737200012, 1149.9017737200013, 1156.5697737200012, 1159.8887737200014, 1162.7857737200013, 1165.9517737200013, 1170.0817737200014, 1174.1577737200014, 1177.3237737200013, 1180.6567737200014, 1183.9737737200014, 1187.2127737200012, 1194.1637737200012, 1201.0937737200013, 1204.3537737200013, 1207.9927737200014, 1217.6977737200014, 1220.9677737200013, 1224.1307737200013, 1228.0977737200014, 1231.3517737200013, 1234.4207737200013, 1238.5687737200014, 1241.8767737200014, 1247.4757737200014, 1253.9667737200014, 1260.6137737200013, 1266.2587737200015, 1269.8267737200015, 1273.8307737200014, 1278.6317737200013, 1283.1857737200014, 1287.0517737200014, 1290.3357737200015, 1293.7717737200014, 1297.1397737200014, 1300.2357737200014, 1303.5297737200015, 1306.8117737200014, 1309.8887737200014, 1313.0767737200015, 1316.3297737200014, 1319.3127737200014, 1326.5347737200013, 1364.0667737200015, 1372.4997737200015, 1394.1967737200016, 1415.7427737200014, 1990.0107737200021, 2468.2587737200024, 2509.0417737200023, 2675.5577737200024]\n",
      "203 [0, 2, 5, 8, 11, 12, 13, 14, 15, 16, 18, 19, 23, 24, 25, 27, 29, 30, 34, 38, 39, 40, 42, 43, 44, 45, 46, 49, 50, 52, 54, 56, 57, 58, 60, 61, 73, 75, 78, 80, 84, 86, 87, 90, 106, 109, 115, 120, 123, 124, 126, 128, 129, 130, 131, 132, 133, 135, 136, 137, 138, 139, 140, 141, 142, 144, 146, 147, 148, 149, 150, 151, 152, 153, 154, 155, 156, 157, 158, 159, 160, 162, 163, 164, 165, 166, 168, 169, 170, 171, 172, 174, 175, 176, 178, 179, 180, 181, 182, 183, 185, 186, 188, 189, 191, 192, 193, 195, 196, 197, 198, 199, 200, 201, 202, 204, 205, 206, 207, 217, 221, 224, 229, 236, 240, 241, 246, 248, 249, 251, 253, 254, 256, 260, 261, 262, 263, 265, 266, 267, 268, 270, 271, 272, 273, 274, 275, 277, 278, 279, 280, 281, 282, 283, 284, 285, 286, 287, 288, 289, 290, 291, 292, 294, 296, 297, 298, 301, 302, 303, 304, 305, 306, 307, 308, 309, 311, 313, 314, 315, 316, 317, 318, 319, 320, 321, 322, 323, 324, 325, 326, 327, 328, 329, 331, 340, 342, 348, 349, 372, 388, 390, 396]\n",
      "203\n",
      "peth[\"tscale\"] contains the timebin centers relative to the event\n",
      "\n",
      "peth[\"means\"] is shaped: (24, 120)\n",
      "This variable is NxB (neurons x timebins) and contains the mean spike rates over trials\n",
      "\n",
      "spike_counts is shaped: (203, 24, 120)\n",
      "This variable is TxNxB (trials x neurons x timebins) and contains all spike rates per trial\n",
      "4534.405032636586\n",
      "\n",
      "whole_window is shaped: (203, 24)\n",
      "This variable is TxN (trials x neurons) and contains summed spike rates per trial\n",
      "5386aba9-9b97-4557-abcd-abc2da66b863\n",
      "Found 61 VM neurons\n",
      "403 [65.29060000000005, 75.13860000000007, 87.56760000000007, 101.08560000000008, 105.3466000000001, 113.9056000000001, 119.2566000000001, 123.5446000000001, 130.39860000000013, 135.11260000000013, 139.09260000000015, 143.05960000000013, 145.83360000000013, 151.06760000000014, 162.46960000000016, 168.20960000000017, 171.03960000000018, 179.05460000000016, 182.35460000000018, 185.06760000000017, 187.74960000000019, 229.13160000000022, 232.59760000000023, 236.04360000000023, 240.27960000000022, 243.80660000000023, 251.36760000000024, 257.70060000000024, 264.8716000000002, 357.6126000000003, 364.1056000000003, 367.19560000000035, 392.49160000000035, 399.04860000000036, 403.4656000000004, 407.72860000000037, 416.7836000000004, 419.3806000000004, 422.0206000000004, 426.21660000000037, 429.20460000000037, 437.2506000000004, 440.1836000000004, 442.9506000000004, 447.5156000000004, 454.0136000000004, 456.5906000000004, 460.2486000000004, 463.2746000000004, 465.98060000000044, 469.99760000000043, 473.9016000000004, 477.57360000000045, 480.37860000000046, 483.09060000000045, 488.38060000000047, 491.36060000000043, 496.9596000000005, 500.60060000000044, 505.41660000000047, 507.93860000000046, 510.68860000000046, 514.3256000000005, 518.1886000000004, 521.0106000000004, 526.7366000000004, 529.6986000000004, 534.0256000000004, 537.8956000000004, 540.7896000000004, 545.4736000000005, 550.3826000000005, 553.4336000000004, 559.1836000000004, 561.7746000000004, 566.6696000000005, 569.4566000000004, 572.0166000000005, 574.5716000000004, 578.6546000000004, 584.2626000000005, 588.4186000000004, 602.7166000000005, 605.8486000000005, 610.8716000000005, 616.3446000000005, 627.1806000000005, 656.5366000000006, 660.3886000000006, 719.6446000000007, 736.4326000000007, 783.7456000000006, 849.1526000000007, 904.0446000000007, 910.5636000000007, 917.7686000000008, 923.7796000000008, 941.2586000000008, 946.7676000000008, 953.3976000000008, 961.1786000000008, 963.9296000000008, 969.0756000000008, 978.5436000000009, 983.3366000000009, 990.2796000000009, 993.0906000000008, 997.2606000000009, 1002.5786000000008, 1007.5216000000008, 1011.8646000000009, 1016.4466000000009, 1020.6596000000009, 1023.4276000000009, 1029.8416000000009, 1033.533600000001, 1050.7186000000008, 1065.8926000000008, 1069.8626000000008, 1073.2566000000008, 1077.4016000000008, 1083.787600000001, 1087.395600000001, 1090.9596000000008, 1094.394600000001, 1114.243600000001, 1126.5446000000009, 1153.904600000001, 1162.693600000001, 1199.939600000001, 1202.951600000001, 1207.740600000001, 1261.7326000000012, 1280.7246000000011, 1283.524600000001, 1286.5216000000012, 1304.3886000000011, 1312.121600000001, 1317.3696000000011, 1323.313600000001, 1328.447600000001, 1332.591600000001, 1336.1676000000011, 1338.9816000000012, 1342.0386000000012, 1347.5316000000012, 1351.4916000000012, 1354.1906000000013, 1365.8786000000011, 1371.698600000001, 1379.0806000000011, 1381.8556000000012, 1384.659600000001, 1389.3736000000013, 1392.5856000000013, 1397.9246000000012, 1401.4896000000012, 1404.7136000000012, 1409.7886000000012, 1414.5346000000013, 1417.7846000000013, 1420.7956000000013, 1424.1206000000013, 1426.8166000000012, 1437.3786000000011, 1455.4096000000013, 1462.2466000000013, 1465.9306000000013, 1476.6806000000013, 1486.1156000000012, 1516.7556000000013, 1573.1156000000015, 1593.1196000000014, 1596.7986000000014, 1607.0936000000013, 1628.0856000000015, 1641.1256000000014, 1688.0426000000014, 1732.0296000000014, 1765.6836000000014, 1768.6826000000015, 1787.1976000000016, 1795.7436000000016, 1798.9766000000016, 1803.9556000000016, 1823.8456000000015, 1827.9616000000017, 1831.8506000000016, 1835.4806000000017, 1842.9156000000016, 1845.8466000000017, 1853.0276000000017, 1856.9486000000015, 1860.7166000000016, 1864.0516000000016, 1867.1076000000016, 1870.0426000000016, 1872.9896000000017, 1877.0416000000016, 1880.1266000000016, 1893.2796000000017, 1923.9546000000016, 2003.4116000000017, 2016.8876000000018, 2050.457600000002, 2053.488600000002, 2082.257600000002, 2115.938600000002, 2161.374600000002, 2184.6266000000023, 2206.540600000002, 2214.563600000002, 2218.3026000000023, 2221.647600000002, 2225.694600000002, 2228.940600000002, 2235.127600000002, 2239.540600000002, 2242.7536000000023, 2245.882600000002, 2250.815600000002, 2253.9456000000023, 2267.984600000002, 2275.933600000002, 2279.9636000000023, 2283.580600000002, 2289.743600000002, 2295.2356000000023, 2298.6626000000024, 2303.482600000002, 2310.132600000002, 2313.2446000000023, 2318.181600000002, 2330.7696000000024, 2334.8496000000023, 2346.884600000002, 2357.0706000000023, 2369.315600000002, 2372.7066000000023, 2379.136600000002, 2382.152600000002, 2409.4126000000024, 2415.7556000000022, 2426.6946000000025, 2443.9646000000025, 2452.8966000000023, 2462.0896000000025, 2465.3276000000023, 2469.2406000000024, 2473.9796000000024, 2490.1896000000024, 2494.3076000000024, 2499.612600000002, 2502.8386000000023, 2505.9056000000023, 2509.2406000000024, 2513.6366000000025, 2521.2626000000023, 2525.7696000000024, 2528.9366000000023, 2532.4126000000024, 2535.6486000000023, 2540.8736000000026, 2568.6326000000026, 2571.7636000000025, 2595.6236000000026, 2601.6866000000023, 2605.8956000000026, 2610.5636000000027, 2632.5846000000024, 2880.1656000000025, 2910.104600000003, 2914.9076000000027, 2917.9946000000027, 2921.7046000000028, 2933.848600000003, 2937.5996000000027, 2942.272600000003, 2945.4116000000026, 2951.095600000003, 2954.8466000000026, 2958.303600000003, 2961.339600000003, 2966.598600000003, 2969.819600000003, 2978.182600000003, 2983.2716000000028, 2986.886600000003, 2990.2446000000027, 2994.3736000000026, 2998.1776000000027, 3001.5456000000027, 3005.654600000003, 3008.993600000003, 3016.0996000000027, 3027.0436000000027, 3031.100600000003, 3038.7446000000027, 3052.808600000003, 3056.2466000000027, 3059.343600000003, 3062.600600000003, 3068.386600000003, 3074.705600000003, 3078.412600000003, 3082.748600000003, 3086.143600000003, 3089.199600000003, 3093.620600000003, 3107.280600000003, 3119.879600000003, 3139.840600000003, 3143.305600000003, 3347.6806000000033, 3369.0066000000033, 3389.7766000000033, 3427.5406000000035, 3443.3236000000034, 3487.2126000000035, 3514.6186000000034, 3518.601600000003, 3521.9906000000033, 3526.5046000000034, 3530.1436000000035, 3543.925600000003, 3549.195600000003, 3556.3016000000034, 3560.8236000000034, 3564.7666000000036, 3569.3196000000034, 3574.4486000000034, 3581.253600000003, 3584.5956000000033, 3600.1316000000033, 3603.3376000000035, 3608.8036000000034, 3621.7676000000033, 3633.3176000000035, 3638.4706000000033, 3650.2316000000033, 3654.3256000000033, 3675.7736000000036, 3701.2316000000033, 3723.2916000000037, 3734.8166000000033, 3784.4936000000034, 3838.7246000000036, 3842.2906000000035, 3846.4516000000035, 3850.0866000000037, 3853.8216000000034, 3857.9066000000034, 3861.774600000004, 3865.8896000000036, 3869.8076000000037, 3875.0686000000037, 3884.8076000000037, 3889.4186000000036, 3899.9826000000035, 3903.3846000000035, 3907.129600000004, 3912.044600000004, 3918.8486000000034, 3923.5546000000036, 3930.149600000004, 3933.9366000000036, 3938.7206000000037, 3950.2886000000035, 3955.118600000004, 3959.3176000000035, 3962.8756000000035, 3981.127600000004, 4101.250600000003, 4112.256600000003, 4161.935600000003, 4202.156600000004, 4235.678600000004, 4246.589600000004, 4252.999600000004, 4258.241600000004, 4262.484600000003, 4269.942600000004, 4275.118600000003, 4284.318600000003, 4291.089600000004, 4306.338600000004, 4309.907600000003, 4314.727600000004, 4318.5386000000035, 4322.481600000004, 4326.620600000004, 4343.823600000003, 4350.193600000003, 4354.151600000004, 4357.704600000004, 4378.664600000004, 4394.582600000003, 4398.507600000004, 4402.298600000004, 4405.759600000004, 4437.665600000004, 4519.551600000003, 4523.9626000000035]\n",
      "403 [0, 3, 4, 7, 8, 10, 12, 13, 14, 15, 16, 17, 18, 20, 23, 24, 25, 27, 28, 29, 30, 37, 38, 39, 40, 41, 43, 45, 47, 68, 70, 71, 78, 80, 81, 82, 84, 85, 86, 87, 88, 90, 91, 92, 93, 95, 96, 97, 98, 99, 100, 101, 102, 103, 104, 105, 106, 107, 108, 109, 110, 111, 112, 113, 114, 116, 117, 118, 119, 120, 121, 122, 123, 125, 126, 127, 128, 129, 130, 131, 132, 133, 136, 137, 138, 139, 141, 148, 149, 164, 168, 179, 196, 209, 211, 213, 215, 219, 221, 223, 225, 226, 227, 229, 230, 232, 233, 234, 235, 236, 237, 238, 239, 240, 241, 242, 244, 247, 248, 249, 250, 251, 252, 253, 254, 260, 263, 270, 272, 281, 282, 283, 297, 301, 302, 303, 306, 308, 309, 311, 312, 313, 314, 315, 316, 318, 319, 320, 321, 323, 325, 326, 327, 328, 329, 330, 331, 332, 333, 334, 335, 336, 337, 338, 340, 343, 345, 346, 348, 350, 354, 367, 372, 373, 375, 381, 385, 397, 407, 415, 416, 419, 421, 422, 423, 427, 428, 429, 430, 432, 433, 435, 436, 437, 438, 439, 440, 441, 442, 443, 446, 454, 473, 476, 485, 486, 493, 500, 510, 516, 521, 523, 524, 525, 526, 527, 528, 529, 530, 531, 532, 533, 536, 538, 539, 540, 541, 542, 543, 544, 545, 546, 547, 548, 549, 551, 553, 555, 556, 558, 559, 563, 564, 566, 569, 571, 573, 574, 575, 576, 579, 580, 581, 582, 583, 584, 585, 587, 588, 589, 590, 591, 592, 598, 599, 604, 606, 607, 608, 613, 673, 681, 682, 683, 684, 687, 688, 689, 690, 691, 692, 693, 694, 695, 696, 698, 699, 700, 701, 702, 703, 704, 705, 706, 708, 710, 711, 713, 715, 716, 717, 718, 719, 720, 721, 722, 723, 724, 725, 728, 731, 736, 737, 782, 788, 793, 802, 806, 816, 822, 823, 824, 825, 826, 828, 829, 830, 831, 832, 833, 834, 836, 837, 839, 840, 841, 842, 843, 844, 845, 846, 849, 854, 859, 862, 873, 884, 885, 886, 887, 888, 889, 890, 891, 892, 893, 894, 895, 897, 898, 899, 900, 901, 902, 903, 904, 905, 908, 909, 910, 911, 915, 941, 944, 954, 963, 970, 972, 973, 974, 975, 977, 978, 980, 981, 983, 984, 985, 986, 987, 988, 991, 992, 993, 994, 996, 999, 1000, 1001, 1002, 1005, 1008, 1009]\n",
      "403\n",
      "peth[\"tscale\"] contains the timebin centers relative to the event\n",
      "\n",
      "peth[\"means\"] is shaped: (61, 120)\n",
      "This variable is NxB (neurons x timebins) and contains the mean spike rates over trials\n",
      "\n",
      "spike_counts is shaped: (403, 61, 120)\n",
      "This variable is TxNxB (trials x neurons x timebins) and contains all spike rates per trial\n",
      "12260.092087745508\n",
      "\n",
      "whole_window is shaped: (403, 61)\n",
      "This variable is TxN (trials x neurons) and contains summed spike rates per trial\n",
      "604 [68.37560000000006, 71.23360000000007, 92.76260000000008, 95.98160000000009, 111.3506000000001, 116.5066000000001, 148.48860000000013, 155.07860000000014, 158.63860000000017, 176.09760000000017, 193.6676000000002, 203.7346000000002, 208.1096000000002, 212.9306000000002, 215.6946000000002, 223.7426000000002, 247.30760000000024, 254.62660000000025, 262.01560000000023, 268.06860000000023, 270.91360000000026, 274.85660000000024, 278.4436000000003, 282.4436000000003, 287.38660000000027, 292.2826000000003, 298.46360000000027, 302.69260000000025, 306.4426000000003, 309.1066000000003, 314.3086000000003, 317.1616000000003, 321.7746000000003, 324.7766000000003, 328.7396000000003, 334.94660000000033, 339.4386000000003, 346.07160000000033, 351.0586000000003, 361.15460000000036, 370.15960000000035, 376.26960000000037, 380.88760000000036, 384.65460000000036, 387.37160000000034, 389.98160000000036, 396.1106000000004, 410.31760000000037, 433.4926000000004, 451.3376000000004, 523.6026000000004, 556.1026000000004, 591.9166000000005, 596.1866000000005, 624.2416000000005, 632.6486000000006, 638.4896000000006, 641.1856000000005, 645.7286000000005, 648.7576000000005, 652.7226000000005, 663.3196000000005, 667.5576000000005, 670.4396000000005, 675.2126000000005, 678.2536000000006, 682.7516000000005, 686.6606000000006, 689.7786000000006, 692.3736000000006, 697.2076000000005, 700.4676000000006, 705.7946000000006, 708.9676000000006, 714.6066000000006, 724.0636000000006, 726.9866000000006, 731.8316000000007, 741.7646000000007, 745.6866000000006, 748.4606000000006, 756.0546000000006, 762.8746000000007, 768.0116000000006, 770.5776000000006, 773.5056000000006, 776.3006000000006, 780.0396000000006, 787.5966000000006, 791.7966000000007, 794.4996000000007, 797.7416000000006, 802.9516000000007, 807.7736000000007, 810.7136000000007, 813.3476000000006, 816.0126000000007, 819.8676000000007, 823.7126000000006, 829.5356000000007, 833.0756000000007, 837.5336000000007, 840.3896000000007, 843.1486000000007, 853.6046000000007, 857.2276000000007, 864.0696000000007, 867.9836000000007, 870.8546000000007, 875.9506000000007, 878.6656000000007, 882.5036000000007, 885.3896000000008, 891.7806000000007, 895.9196000000007, 899.6446000000008, 907.7206000000008, 913.8966000000007, 920.8396000000008, 927.9246000000007, 930.6976000000008, 934.4866000000007, 944.0596000000008, 950.5036000000008, 958.4906000000008, 974.1866000000008, 987.4856000000009, 1040.664600000001, 1056.192600000001, 1059.8816000000008, 1097.7086000000008, 1101.692600000001, 1104.594600000001, 1108.259600000001, 1111.186600000001, 1117.4766000000009, 1120.5436000000009, 1135.532600000001, 1138.8426000000009, 1142.751600000001, 1145.7166000000009, 1148.757600000001, 1156.708600000001, 1168.907600000001, 1172.632600000001, 1177.374600000001, 1182.278600000001, 1185.115600000001, 1188.083600000001, 1191.748600000001, 1194.435600000001, 1210.6766000000011, 1213.357600000001, 1219.277600000001, 1223.358600000001, 1226.068600000001, 1229.625600000001, 1232.488600000001, 1235.885600000001, 1241.404600000001, 1244.269600000001, 1250.087600000001, 1254.312600000001, 1257.738600000001, 1264.441600000001, 1269.366600000001, 1273.404600000001, 1291.216600000001, 1299.6466000000012, 1307.7116000000012, 1320.4726000000012, 1344.8836000000013, 1368.823600000001, 1376.1756000000012, 1434.4146000000012, 1441.4096000000013, 1449.7626000000012, 1459.2296000000013, 1471.7946000000013, 1481.9216000000013, 1494.4796000000013, 1501.1146000000012, 1508.7796000000012, 1522.6316000000013, 1526.8086000000012, 1530.9726000000014, 1533.8986000000014, 1537.1006000000014, 1540.8736000000013, 1546.1646000000014, 1549.2826000000014, 1554.9286000000013, 1559.5006000000014, 1565.9446000000014, 1568.9716000000014, 1577.7126000000014, 1582.1766000000014, 1585.9226000000015, 1588.6866000000014, 1603.0666000000015, 1610.9186000000013, 1613.8416000000013, 1618.2026000000014, 1622.1806000000015, 1625.1696000000013, 1631.2426000000014, 1635.2756000000013, 1638.4036000000015, 1645.4846000000014, 1649.7336000000014, 1655.9646000000014, 1658.8976000000014, 1662.0326000000014, 1666.0296000000014, 1669.3436000000015, 1673.5716000000014, 1677.1836000000014, 1680.0756000000015, 1682.8846000000015, 1694.9916000000014, 1699.2786000000015, 1704.0576000000015, 1707.0196000000014, 1709.7126000000014, 1713.5526000000016, 1717.4186000000016, 1722.0996000000014, 1729.0676000000014, 1737.5576000000015, 1740.7996000000014, 1744.1316000000015, 1747.8956000000014, 1750.7676000000015, 1759.2576000000015, 1762.3566000000014, 1772.1366000000016, 1780.1776000000016, 1790.6906000000015, 1807.3306000000016, 1814.7546000000016, 1820.7666000000015, 1839.6286000000016, 1849.5236000000016, 1884.3866000000016, 1887.3646000000017, 1896.2176000000015, 1899.9346000000016, 1902.9316000000017, 1907.1106000000016, 1911.4876000000017, 1915.3236000000018, 1918.4576000000015, 1927.8756000000017, 1931.9736000000016, 1934.9846000000016, 1939.0766000000017, 1943.4486000000018, 1946.5056000000018, 1951.5516000000016, 1955.7746000000018, 1960.6566000000016, 1964.9436000000017, 1969.7996000000016, 1973.2276000000018, 1975.9676000000018, 1982.0656000000017, 1986.6376000000016, 1991.1286000000018, 1994.0636000000018, 1996.8976000000018, 2006.7916000000018, 2010.5086000000017, 2019.9796000000017, 2022.9096000000018, 2027.0316000000018, 2030.2366000000018, 2034.8896000000018, 2043.4086000000018, 2047.3216000000018, 2056.557600000002, 2060.211600000002, 2065.662600000002, 2069.654600000002, 2072.565600000002, 2078.098600000002, 2086.403600000002, 2090.615600000002, 2094.298600000002, 2100.274600000002, 2104.358600000002, 2108.408600000002, 2120.797600000002, 2123.683600000002, 2128.5036000000023, 2131.769600000002, 2136.129600000002, 2144.689600000002, 2150.728600000002, 2153.970600000002, 2158.549600000002, 2164.832600000002, 2167.777600000002, 2171.577600000002, 2174.737600000002, 2179.844600000002, 2189.382600000002, 2192.471600000002, 2196.734600000002, 2202.3586000000023, 2209.835600000002, 2258.8406000000023, 2262.163600000002, 2272.705600000002, 2339.9666000000025, 2351.3816000000024, 2361.5806000000025, 2376.1006000000025, 2386.0846000000024, 2394.2746000000025, 2398.8326000000025, 2422.3886000000025, 2429.8236000000024, 2439.554600000002, 2448.016600000002, 2456.563600000002, 2478.2226000000023, 2484.556600000002, 2518.3526000000024, 2544.6586000000025, 2548.8036000000025, 2552.6586000000025, 2556.9896000000026, 2563.6046000000024, 2577.8966000000023, 2581.2476000000024, 2588.0416000000023, 2592.3436000000024, 2598.6116000000025, 2613.7326000000025, 2619.4446000000025, 2622.3856000000023, 2627.2216000000026, 2635.8906000000025, 2639.9576000000025, 2645.7956000000027, 2648.9946000000027, 2652.5716000000025, 2657.9696000000026, 2662.7086000000027, 2666.7186000000024, 2670.1446000000024, 2673.1876000000025, 2677.4776000000024, 2680.7376000000027, 2684.0926000000027, 2688.1326000000026, 2691.1146000000026, 2694.2956000000027, 2698.9826000000025, 2703.5476000000026, 2709.7216000000026, 2712.8416000000025, 2719.240600000003, 2724.6306000000027, 2728.6636000000026, 2732.6576000000027, 2736.5836000000027, 2742.3016000000025, 2746.4556000000025, 2750.7146000000025, 2755.8336000000027, 2760.4156000000025, 2763.5726000000027, 2768.9766000000027, 2772.4486000000024, 2776.7056000000025, 2780.9266000000025, 2783.8896000000027, 2787.883600000003, 2791.709600000003, 2795.9366000000027, 2799.8326000000025, 2803.0626000000025, 2806.2486000000026, 2809.8886000000025, 2814.4966000000027, 2818.4376000000025, 2822.7456000000025, 2826.6176000000028, 2831.8736000000026, 2836.3986000000027, 2840.517600000003, 2843.626600000003, 2848.289600000003, 2851.6766000000025, 2855.9356000000025, 2859.0696000000025, 2863.263600000003, 2867.696600000003, 2870.8026000000027, 2875.8586000000028, 2884.8386000000028, 2887.9656000000027, 2891.966600000003, 2895.167600000003, 2899.3206000000027, 2902.6176000000028, 2906.8966000000028, 2926.1176000000028, 2929.280600000003, 2972.9836000000028, 3012.761600000003, 3022.035600000003, 3034.5906000000027, 3045.776600000003, 3100.006600000003, 3104.1086000000028, 3111.860600000003, 3116.388600000003, 3124.091600000003, 3127.854600000003, 3131.354600000003, 3136.376600000003, 3151.051600000003, 3157.180600000003, 3161.279600000003, 3165.938600000003, 3170.122600000003, 3177.098600000003, 3180.879600000003, 3184.488600000003, 3188.6556000000032, 3191.717600000003, 3197.128600000003, 3200.345600000003, 3204.395600000003, 3208.787600000003, 3212.840600000003, 3217.732600000003, 3226.638600000003, 3230.902600000003, 3235.864600000003, 3239.775600000003, 3243.250600000003, 3247.602600000003, 3250.743600000003, 3254.303600000003, 3258.078600000003, 3262.974600000003, 3266.274600000003, 3270.996600000003, 3276.1046000000033, 3279.187600000003, 3284.3566000000033, 3288.612600000003, 3291.569600000003, 3295.362600000003, 3299.408600000003, 3304.7096000000033, 3309.323600000003, 3312.418600000003, 3317.067600000003, 3325.234600000003, 3328.859600000003, 3334.2366000000034, 3337.6356000000033, 3342.574600000003, 3351.004600000003, 3354.3926000000033, 3358.463600000003, 3361.654600000003, 3365.614600000003, 3373.067600000003, 3376.672600000003, 3380.293600000003, 3386.471600000003, 3393.252600000003, 3397.2606000000033, 3401.065600000003, 3405.509600000003, 3409.242600000003, 3413.7786000000033, 3418.304600000003, 3421.605600000003, 3431.6766000000034, 3435.929600000003, 3439.4936000000034, 3447.2036000000035, 3452.1946000000034, 3456.5046000000034, 3463.8616000000034, 3467.291600000003, 3470.436600000003, 3475.543600000003, 3480.188600000003, 3483.5446000000034, 3491.137600000003, 3497.8396000000034, 3502.0756000000033, 3506.590600000003, 3511.206600000003, 3538.2216000000035, 3577.8626000000036, 3587.956600000003, 3662.1226000000033, 3670.9176000000034, 3682.3536000000036, 3690.0306000000037, 3694.1096000000034, 3697.6666000000037, 3705.8866000000035, 3709.3876000000037, 3712.5686000000037, 3716.6336000000033, 3726.5406000000035, 3730.2936000000036, 3740.4296000000036, 3746.6096000000034, 3750.2726000000034, 3754.0336000000034, 3759.6496000000034, 3763.1396000000036, 3766.7826000000036, 3770.9416000000037, 3776.3626000000036, 3779.5086000000038, 3787.9616000000037, 3791.3756000000035, 3794.7326000000035, 3799.5686000000037, 3803.1086000000037, 3807.2866000000035, 3812.1316000000033, 3816.7016000000035, 3823.9646000000034, 3831.1926000000035, 3895.428600000004, 3942.444600000004, 3946.8406000000036, 3966.5456000000036, 3970.506600000004, 3974.183600000004, 3984.7676000000038, 3990.2756000000036, 3995.5526000000036, 3999.122600000004, 4004.9386000000036, 4008.5036000000036, 4012.0506000000037, 4016.3786000000036, 4019.6886000000036, 4025.805600000004, 4029.299600000004, 4033.710600000004, 4037.7466000000036, 4042.1916000000037, 4047.7786000000037, 4053.7556000000036, 4058.225600000004, 4061.8836000000038, 4066.4076000000036, 4070.614600000004, 4077.7896000000037, 4083.016600000004, 4087.939600000004, 4092.7426000000037, 4097.865600000004, 4105.4986000000035, 4109.0786000000035, 4119.657600000003, 4125.5656000000035, 4129.112600000003, 4133.345600000003, 4137.336600000003, 4142.551600000003, 4147.115600000004, 4153.737600000003, 4157.204600000004, 4168.9626000000035, 4175.245600000004, 4178.613600000003, 4183.434600000003, 4187.2706000000035, 4190.661600000003, 4195.287600000003, 4198.736600000004, 4208.291600000003, 4214.283600000003, 4219.214600000004, 4224.4136000000035, 4227.869600000004, 4231.465600000003, 4240.106600000004, 4266.006600000003, 4278.713600000004, 4295.782600000003, 4331.305600000003, 4338.966600000003, 4361.955600000004, 4385.610600000004, 4391.0296000000035, 4412.184600000003, 4417.295600000004, 4441.238600000003]\n",
      "604 [1, 2, 5, 6, 9, 11, 19, 21, 22, 26, 31, 32, 33, 34, 35, 36, 42, 44, 46, 48, 49, 50, 51, 52, 53, 54, 55, 56, 57, 58, 59, 60, 61, 62, 63, 64, 65, 66, 67, 69, 72, 73, 74, 75, 76, 77, 79, 83, 89, 94, 115, 124, 134, 135, 140, 142, 143, 144, 145, 146, 147, 150, 151, 152, 153, 154, 155, 156, 157, 158, 159, 160, 161, 162, 163, 165, 166, 167, 169, 170, 171, 172, 173, 174, 175, 176, 177, 178, 180, 181, 182, 183, 184, 185, 186, 187, 188, 189, 190, 191, 192, 193, 194, 195, 197, 198, 199, 200, 201, 202, 203, 204, 205, 206, 207, 208, 210, 212, 214, 216, 217, 218, 220, 222, 224, 228, 231, 243, 245, 246, 255, 256, 257, 258, 259, 261, 262, 265, 266, 267, 268, 269, 271, 273, 274, 275, 276, 277, 278, 279, 280, 284, 285, 286, 287, 288, 289, 290, 291, 292, 293, 294, 295, 296, 298, 299, 300, 304, 305, 307, 310, 317, 322, 324, 339, 341, 342, 344, 347, 349, 351, 352, 353, 355, 356, 357, 358, 359, 360, 361, 362, 363, 364, 365, 366, 368, 369, 370, 371, 374, 376, 377, 378, 379, 380, 382, 383, 384, 386, 387, 388, 389, 390, 391, 392, 393, 394, 395, 396, 398, 399, 400, 401, 402, 403, 404, 405, 406, 408, 409, 410, 411, 412, 413, 414, 417, 418, 420, 424, 425, 426, 431, 434, 444, 445, 447, 448, 449, 450, 451, 452, 453, 455, 456, 457, 458, 459, 460, 461, 462, 463, 464, 465, 466, 467, 468, 469, 470, 471, 472, 474, 475, 477, 478, 479, 480, 481, 483, 484, 487, 488, 489, 490, 491, 492, 494, 495, 496, 497, 498, 499, 501, 502, 503, 504, 505, 506, 507, 508, 509, 511, 512, 513, 514, 515, 517, 518, 519, 520, 522, 534, 535, 537, 550, 552, 554, 557, 560, 561, 562, 565, 567, 568, 570, 572, 577, 578, 586, 593, 594, 595, 596, 597, 600, 601, 602, 603, 605, 609, 610, 611, 612, 614, 615, 616, 617, 618, 619, 620, 621, 622, 623, 624, 625, 626, 627, 628, 629, 630, 631, 632, 633, 634, 635, 636, 637, 638, 639, 640, 641, 642, 643, 644, 645, 646, 647, 648, 649, 650, 651, 652, 653, 654, 655, 656, 657, 658, 659, 660, 661, 662, 663, 664, 665, 666, 667, 668, 669, 670, 671, 672, 674, 675, 676, 677, 678, 679, 680, 685, 686, 697, 707, 709, 712, 714, 726, 727, 729, 730, 732, 733, 734, 735, 738, 739, 740, 741, 742, 743, 744, 745, 746, 747, 748, 749, 750, 751, 752, 753, 754, 755, 756, 757, 758, 759, 760, 761, 762, 763, 764, 765, 766, 767, 768, 769, 770, 771, 772, 773, 774, 775, 776, 777, 778, 779, 780, 781, 783, 784, 785, 786, 787, 789, 790, 791, 792, 794, 795, 796, 797, 798, 799, 800, 801, 803, 804, 805, 807, 808, 809, 810, 811, 812, 813, 814, 815, 817, 818, 819, 820, 821, 827, 835, 838, 847, 848, 850, 851, 852, 853, 855, 856, 857, 858, 860, 861, 863, 864, 865, 866, 867, 868, 869, 870, 871, 872, 874, 875, 876, 877, 878, 879, 880, 881, 882, 883, 896, 906, 907, 912, 913, 914, 916, 917, 918, 919, 920, 921, 922, 923, 924, 925, 926, 927, 928, 929, 930, 931, 932, 933, 934, 935, 936, 937, 938, 939, 940, 942, 943, 945, 946, 947, 948, 949, 950, 951, 952, 953, 955, 956, 957, 958, 959, 960, 961, 962, 964, 965, 966, 967, 968, 969, 971, 976, 979, 982, 989, 990, 995, 997, 998, 1003, 1004, 1006]\n",
      "604\n",
      "peth[\"tscale\"] contains the timebin centers relative to the event\n",
      "\n",
      "peth[\"means\"] is shaped: (61, 120)\n",
      "This variable is NxB (neurons x timebins) and contains the mean spike rates over trials\n",
      "\n",
      "spike_counts is shaped: (604, 61, 120)\n",
      "This variable is TxNxB (trials x neurons x timebins) and contains all spike rates per trial\n",
      "14791.201742928124\n",
      "\n",
      "whole_window is shaped: (604, 61)\n",
      "This variable is TxN (trials x neurons) and contains summed spike rates per trial\n",
      "f8d5c8b0-b931-4151-b86c-c471e2e80e5d\n",
      "Found 30 VM neurons\n",
      "474 [19.339812350000226, 45.475812350000254, 64.81681235000026, 73.96581235000028, 82.16581235000028, 89.63481235000029, 96.9248123500003, 110.19281235000031, 115.2628123500003, 127.73881235000032, 131.83181235000035, 145.56781235000034, 152.61281235000035, 161.18681235000037, 164.30381235000036, 168.41781235000036, 176.31981235000038, 179.7098123500004, 183.8718123500004, 187.1038123500004, 194.3598123500004, 197.8368123500004, 203.8228123500004, 210.6888123500004, 215.41281235000042, 220.5218123500004, 231.54481235000043, 251.94681235000044, 256.1698123500004, 263.14981235000045, 272.9828123500005, 276.15181235000045, 280.3668123500005, 283.2688123500005, 292.54081235000046, 295.6028123500005, 300.0488123500005, 304.98781235000047, 312.8898123500005, 316.1698123500005, 332.63181235000053, 344.71981235000055, 348.3508123500005, 351.7738123500005, 358.1248123500005, 362.9088123500005, 366.09481235000055, 373.7088123500005, 378.74881235000055, 381.6178123500006, 387.66981235000054, 405.9348123500006, 414.1068123500006, 419.2878123500006, 423.82481235000057, 426.9518123500006, 430.0068123500006, 439.0158123500006, 445.4848123500006, 451.8348123500006, 455.04081235000064, 461.05281235000064, 463.94481235000063, 469.2678123500006, 472.70881235000064, 477.03981235000066, 481.0728123500007, 484.25981235000063, 488.6378123500007, 491.4378123500007, 498.62181235000065, 502.30981235000064, 509.95081235000066, 516.0958123500006, 519.0558123500007, 525.4668123500007, 530.5548123500007, 533.6288123500007, 539.4388123500007, 542.6568123500007, 546.7268123500007, 549.7168123500007, 556.7698123500007, 566.0098123500007, 569.8738123500008, 577.5258123500007, 585.0968123500007, 592.3598123500008, 607.3438123500008, 611.1678123500008, 615.3778123500008, 619.2518123500008, 624.5568123500008, 628.9398123500008, 632.1028123500008, 643.4788123500008, 647.4148123500008, 652.2308123500007, 657.5618123500008, 663.6058123500009, 666.5798123500008, 670.1858123500008, 681.7318123500008, 686.3138123500008, 690.1218123500008, 693.4138123500009, 702.9988123500009, 708.3568123500008, 718.3738123500009, 731.3328123500008, 738.1588123500009, 741.5068123500009, 758.986812350001, 762.4558123500009, 765.9208123500009, 769.3178123500008, 778.0558123500009, 781.7098123500009, 785.1198123500009, 807.085812350001, 814.8688123500009, 850.0928123500009, 854.080812350001, 958.5588123500011, 968.1688123500011, 972.765812350001, 1000.2688123500011, 1012.9138123500011, 1016.3938123500011, 1019.7768123500011, 1023.9208123500011, 1030.3248123500011, 1046.9948123500012, 1050.8008123500013, 1058.0948123500011, 1061.2678123500011, 1066.143812350001, 1070.009812350001, 1083.9658123500012, 1089.6018123500012, 1095.6018123500012, 1102.6598123500012, 1105.9458123500012, 1111.7368123500012, 1117.6718123500011, 1120.8778123500012, 1124.0818123500012, 1131.1378123500012, 1136.6048123500013, 1139.6978123500012, 1143.8858123500013, 1147.1388123500012, 1150.2268123500012, 1154.3668123500013, 1158.2108123500013, 1163.2568123500012, 1166.4368123500012, 1170.6018123500012, 1173.8458123500013, 1178.4258123500013, 1181.7238123500013, 1189.2248123500012, 1192.7078123500012, 1196.9148123500013, 1200.6768123500012, 1205.1888123500014, 1208.6688123500012, 1213.2828123500012, 1216.4418123500013, 1223.8658123500013, 1228.7318123500013, 1235.7278123500014, 1239.2828123500012, 1242.3138123500014, 1247.6258123500013, 1252.6298123500014, 1256.1158123500013, 1259.7588123500013, 1263.5588123500013, 1268.0238123500014, 1271.3378123500013, 1274.4638123500013, 1277.5968123500013, 1280.9128123500013, 1284.7228123500013, 1290.0278123500013, 1337.4428123500013, 1341.6268123500015, 1350.6008123500014, 1362.3078123500015, 1366.6738123500015, 1400.8198123500015, 1405.1088123500015, 1409.5768123500015, 1414.2078123500014, 1419.5828123500014, 1422.7648123500014, 1454.9998123500015, 1459.5338123500014, 1505.2678123500016, 1525.7918123500015, 1536.8918123500016, 1540.9108123500016, 1544.3558123500015, 1547.6498123500016, 1551.0448123500016, 1554.4738123500017, 1570.0328123500017, 1574.4808123500015, 1578.0318123500017, 1581.2758123500016, 1585.4168123500017, 1590.3328123500016, 1600.1868123500017, 1604.5328123500017, 1609.0458123500016, 1619.8378123500017, 1629.3388123500017, 1656.9038123500018, 1663.8608123500017, 1681.9358123500017, 1685.5078123500018, 1689.0858123500018, 1698.4178123500017, 1708.1838123500017, 1732.9708123500018, 1737.7228123500017, 1756.6158123500018, 1766.5798123500017, 1770.4858123500019, 1784.0608123500017, 1787.907812350002, 1792.3718123500018, 1797.1298123500019, 1804.7838123500019, 1808.657812350002, 1812.3908123500019, 1815.503812350002, 1825.521812350002, 1828.9238123500018, 1837.0258123500018, 1840.9568123500019, 1850.4038123500018, 1854.4318123500018, 1862.6048123500018, 1866.0748123500018, 1871.001812350002, 1876.233812350002, 1880.868812350002, 1884.2678123500018, 1888.317812350002, 1891.850812350002, 1895.080812350002, 1903.9298123500018, 1907.713812350002, 1925.145812350002, 1932.4568123500019, 1936.148812350002, 1946.241812350002, 1951.449812350002, 1963.116812350002, 1968.265812350002, 1977.421812350002, 1983.260812350002, 1988.603812350002, 1993.755812350002, 1997.351812350002, 2003.236812350002, 2007.314812350002, 2010.791812350002, 2020.581812350002, 2025.130812350002, 2028.656812350002, 2034.3508123500021, 2043.410812350002, 2046.9078123500021, 2061.0398123500017, 2064.5978123500017, 2068.0998123500017, 2073.575812350002, 2089.145812350002, 2093.6848123500017, 2097.873812350002, 2101.536812350002, 2105.502812350002, 2110.595812350002, 2119.3768123500017, 2124.370812350002, 2129.3368123500018, 2133.141812350002, 2137.743812350002, 2145.332812350002, 2149.857812350002, 2153.930812350002, 2157.337812350002, 2160.803812350002, 2168.004812350002, 2176.177812350002, 2179.544812350002, 2182.874812350002, 2200.264812350002, 2215.802812350002, 2237.739812350002, 2266.585812350002, 2275.551812350002, 2288.864812350002, 2302.4798123500022, 2312.964812350002, 2319.938812350002, 2336.072812350002, 2340.349812350002, 2343.864812350002, 2352.184812350002, 2357.777812350002, 2361.094812350002, 2371.882812350002, 2375.408812350002, 2378.759812350002, 2384.0158123500023, 2388.1788123500023, 2393.664812350002, 2397.992812350002, 2402.188812350002, 2405.9198123500023, 2412.2928123500024, 2416.423812350002, 2420.1698123500023, 2431.837812350002, 2439.6918123500022, 2449.549812350002, 2469.385812350002, 2472.9018123500023, 2530.170812350002, 2576.3798123500023, 2580.2458123500023, 2584.0118123500024, 2587.9588123500025, 2591.4558123500024, 2595.3528123500023, 2599.1928123500024, 2602.6928123500024, 2608.0518123500024, 2612.7868123500025, 2617.1498123500023, 2625.9138123500024, 2630.5838123500025, 2649.0088123500022, 2652.8018123500024, 2673.7348123500024, 2681.8788123500026, 2685.6788123500023, 2689.2768123500023, 2694.9368123500026, 2698.6378123500026, 2701.9998123500022, 2707.6488123500026, 2711.7488123500025, 2723.4278123500026, 2728.9608123500025, 2732.7228123500026, 2738.1748123500024, 2765.5758123500023, 2774.9218123500023, 2784.6668123500026, 2818.9778123500023, 2823.9828123500024, 2841.0058123500025, 2869.5548123500025, 2873.5828123500028, 2881.1788123500028, 2890.2528123500024, 2894.0308123500026, 2897.7328123500024, 2927.3668123500024, 2952.252812350003, 2965.1328123500025, 2974.1488123500026, 2978.245812350003, 2991.2768123500027, 2998.8618123500028, 3003.7778123500025, 3011.1028123500028, 3015.3878123500026, 3033.0758123500027, 3036.971812350003, 3041.8928123500027, 3046.3548123500027, 3052.2368123500028, 3057.1738123500027, 3060.9638123500026, 3065.5178123500027, 3069.225812350003, 3073.223812350003, 3079.1668123500026, 3089.4928123500026, 3093.2898123500026, 3098.161812350003, 3101.9348123500026, 3107.643812350003, 3111.431812350003, 3115.132812350003, 3120.105812350003, 3123.7738123500026, 3129.7698123500027, 3135.562812350003, 3139.444812350003, 3146.4508123500027, 3149.8748123500027, 3159.109812350003, 3167.754812350003, 3188.1758123500026, 3192.1138123500027, 3195.781812350003, 3199.618812350003, 3204.4818123500027, 3212.746812350003, 3216.8388123500026, 3222.3078123500027, 3226.0848123500027, 3230.753812350003, 3237.264812350003, 3241.520812350003, 3248.734812350003, 3252.3748123500027, 3258.471812350003, 3264.494812350003, 3281.254812350003, 3298.318812350003, 3328.195812350003, 3362.437812350003, 3366.362812350003, 3374.0828123500028, 3382.468812350003, 3432.498812350003, 3445.601812350003, 3462.836812350003, 3481.017812350003, 3484.578812350003, 3498.236812350003, 3504.046812350003, 3508.0248123500032, 3511.760812350003, 3516.947812350003, 3521.050812350003, 3526.0408123500033, 3531.650812350003, 3539.606812350003, 3543.2238123500033, 3551.3778123500033, 3555.1298123500032, 3558.735812350003, 3563.2528123500033, 3567.9608123500034, 3572.332812350003, 3576.039812350003, 3585.720812350003, 3590.526812350003, 3598.8358123500034, 3602.842812350003, 3607.030812350003, 3610.9138123500034, 3617.0078123500034, 3620.9338123500033, 3626.215812350003, 3643.5638123500034, 3680.796812350003, 3755.0688123500036, 3774.5678123500034, 3822.6048123500036, 3826.6968123500033, 3836.2498123500036, 3845.1338123500036, 3856.3078123500036, 3863.0038123500035]\n",
      "474 [1, 7, 11, 13, 14, 15, 16, 19, 20, 21, 22, 24, 26, 27, 28, 29, 31, 32, 33, 34, 36, 37, 38, 40, 41, 42, 45, 50, 51, 53, 56, 57, 58, 59, 61, 62, 63, 64, 66, 67, 71, 73, 74, 75, 77, 78, 79, 81, 82, 83, 84, 88, 90, 91, 92, 93, 94, 96, 98, 99, 100, 101, 102, 103, 104, 105, 106, 107, 108, 109, 110, 111, 113, 114, 115, 117, 118, 119, 120, 121, 122, 123, 125, 127, 128, 130, 131, 132, 136, 137, 138, 139, 140, 141, 142, 144, 145, 146, 147, 148, 149, 150, 152, 153, 154, 155, 157, 158, 159, 161, 162, 163, 165, 166, 167, 168, 169, 170, 171, 172, 173, 174, 175, 185, 187, 188, 194, 197, 198, 199, 200, 201, 205, 206, 208, 209, 210, 211, 214, 215, 216, 218, 219, 220, 221, 222, 223, 224, 225, 226, 227, 228, 229, 230, 231, 232, 233, 234, 235, 236, 237, 239, 240, 241, 242, 243, 244, 245, 246, 247, 248, 250, 251, 252, 253, 254, 255, 256, 257, 258, 259, 260, 261, 262, 263, 264, 274, 275, 277, 279, 280, 289, 290, 291, 292, 293, 294, 299, 300, 311, 315, 317, 318, 319, 320, 321, 322, 325, 326, 327, 328, 329, 330, 332, 333, 334, 336, 337, 343, 344, 349, 350, 351, 352, 354, 359, 360, 364, 366, 367, 368, 369, 370, 371, 373, 374, 375, 376, 378, 379, 380, 381, 382, 383, 385, 386, 387, 388, 389, 390, 391, 392, 393, 395, 396, 398, 400, 401, 402, 403, 405, 406, 408, 409, 410, 411, 412, 413, 414, 415, 417, 418, 419, 420, 422, 423, 426, 427, 428, 429, 433, 434, 435, 436, 437, 438, 440, 441, 442, 443, 444, 445, 446, 447, 448, 449, 450, 452, 453, 454, 458, 462, 467, 471, 472, 474, 477, 480, 481, 485, 486, 487, 489, 490, 491, 493, 494, 495, 496, 497, 498, 499, 500, 501, 502, 503, 504, 506, 508, 510, 514, 515, 523, 533, 534, 535, 536, 537, 538, 539, 540, 541, 542, 543, 544, 545, 549, 550, 553, 555, 556, 557, 558, 559, 560, 561, 562, 565, 566, 567, 568, 573, 575, 576, 583, 584, 587, 592, 593, 595, 597, 598, 599, 604, 610, 613, 614, 615, 618, 619, 620, 622, 623, 626, 627, 628, 629, 630, 631, 632, 633, 634, 635, 636, 638, 639, 640, 641, 642, 643, 644, 645, 646, 647, 648, 649, 650, 651, 653, 655, 657, 658, 659, 660, 661, 663, 664, 665, 666, 667, 668, 669, 670, 671, 672, 673, 676, 679, 686, 692, 693, 695, 697, 706, 709, 713, 716, 717, 720, 721, 722, 723, 724, 725, 726, 727, 729, 730, 732, 733, 734, 735, 736, 737, 738, 739, 740, 742, 743, 744, 745, 746, 747, 748, 751, 760, 774, 777, 779, 780, 781, 782, 784, 785]\n",
      "474\n",
      "peth[\"tscale\"] contains the timebin centers relative to the event\n",
      "\n",
      "peth[\"means\"] is shaped: (30, 120)\n",
      "This variable is NxB (neurons x timebins) and contains the mean spike rates over trials\n",
      "\n",
      "spike_counts is shaped: (474, 30, 120)\n",
      "This variable is TxNxB (trials x neurons x timebins) and contains all spike rates per trial\n",
      "5549.894143134624\n",
      "\n",
      "whole_window is shaped: (474, 30)\n",
      "This variable is TxN (trials x neurons) and contains summed spike rates per trial\n",
      "305 [14.161812350000222, 23.64481235000023, 27.530812350000232, 30.999812350000237, 34.70981235000024, 40.503812350000246, 49.267812350000256, 53.06481235000026, 61.71681235000027, 68.75081235000027, 101.0898123500003, 105.1558123500003, 140.30081235000034, 148.91881235000037, 172.00881235000037, 190.2538123500004, 207.1808123500004, 223.64081235000043, 228.41581235000044, 234.78581235000044, 238.05281235000044, 241.11481235000042, 244.52281235000044, 259.74781235000046, 266.10381235000045, 269.60381235000045, 288.0638123500005, 309.4948123500005, 319.1368123500005, 322.5888123500005, 329.3518123500005, 341.6758123500005, 355.0748123500005, 370.64381235000053, 393.8028123500006, 397.1848123500006, 400.3918123500006, 410.6338123500006, 436.1498123500006, 442.47581235000064, 506.4308123500007, 522.3208123500007, 553.4708123500008, 560.3208123500007, 572.9928123500007, 597.2378123500007, 600.9248123500007, 604.1888123500007, 636.5628123500007, 674.1878123500009, 696.9388123500008, 725.7038123500008, 754.2818123500009, 866.513812350001, 876.411812350001, 884.379812350001, 914.271812350001, 937.443812350001, 941.296812350001, 944.891812350001, 948.1398123500011, 951.747812350001, 963.2458123500011, 977.2338123500011, 980.6538123500011, 985.1618123500011, 988.6628123500011, 992.2558123500011, 1004.1558123500012, 1009.3308123500011, 1034.7548123500012, 1039.4498123500011, 1043.0618123500012, 1054.442812350001, 1076.8778123500012, 1080.1778123500012, 1099.1298123500012, 1185.0048123500012, 1232.1538123500013, 1295.7178123500014, 1299.1508123500014, 1308.8588123500015, 1314.0328123500014, 1317.7238123500015, 1321.4448123500015, 1326.1058123500013, 1329.6678123500014, 1333.5518123500015, 1354.9738123500015, 1370.0378123500013, 1373.8118123500014, 1376.9738123500015, 1381.7678123500013, 1385.6618123500014, 1389.1788123500014, 1392.6078123500015, 1396.5228123500015, 1429.4098123500014, 1433.0318123500015, 1437.4718123500015, 1451.8428123500016, 1462.7288123500016, 1468.6938123500015, 1473.6378123500015, 1477.4978123500016, 1480.6788123500016, 1485.7308123500015, 1489.1818123500016, 1494.0978123500015, 1498.1178123500015, 1501.7468123500016, 1514.6418123500016, 1518.4298123500016, 1521.9608123500016, 1529.6508123500016, 1559.6208123500016, 1593.5188123500016, 1612.3098123500017, 1632.7748123500016, 1636.1658123500017, 1640.5258123500016, 1647.4258123500017, 1667.1698123500016, 1671.3088123500017, 1674.7598123500018, 1678.1368123500017, 1704.2218123500018, 1712.2918123500017, 1715.9918123500017, 1719.5808123500017, 1723.1768123500017, 1744.2318123500017, 1748.927812350002, 1753.0508123500017, 1761.3458123500018, 1800.4288123500019, 1819.1798123500018, 1858.8238123500018, 1899.442812350002, 1914.6508123500018, 1928.744812350002, 1955.060812350002, 1971.670812350002, 2017.164812350002, 2038.172812350002, 2053.2958123500016, 2057.5458123500016, 2077.5528123500017, 2081.335812350002, 2084.7608123500017, 2114.775812350002, 2171.589812350002, 2189.092812350002, 2192.830812350002, 2196.191812350002, 2207.698812350002, 2212.052812350002, 2221.169812350002, 2225.4818123500017, 2229.3658123500018, 2249.783812350002, 2257.841812350002, 2261.986812350002, 2283.931812350002, 2293.769812350002, 2297.810812350002, 2306.172812350002, 2309.370812350002, 2324.574812350002, 2328.266812350002, 2332.4688123500023, 2348.128812350002, 2367.792812350002, 2426.697812350002, 2435.6098123500024, 2445.4178123500024, 2456.226812350002, 2461.1878123500023, 2465.277812350002, 2476.266812350002, 2481.264812350002, 2499.668812350002, 2504.7638123500024, 2508.932812350002, 2521.271812350002, 2525.5918123500023, 2533.6248123500022, 2537.9398123500023, 2546.320812350002, 2551.894812350002, 2555.795812350002, 2559.5368123500025, 2563.7928123500024, 2568.639812350002, 2572.5208123500024, 2636.135812350002, 2639.5058123500025, 2643.731812350002, 2657.2128123500024, 2662.3838123500022, 2677.7078123500023, 2715.193812350002, 2719.126812350002, 2746.4268123500024, 2752.8958123500024, 2757.6058123500025, 2771.1088123500026, 2791.3018123500024, 2796.5988123500024, 2801.0958123500027, 2804.8108123500024, 2810.6848123500026, 2814.3778123500024, 2832.9758123500023, 2837.3108123500024, 2844.5468123500027, 2851.6438123500025, 2861.4858123500026, 2865.6248123500027, 2877.3928123500027, 2886.4648123500024, 2903.0588123500024, 2907.2158123500026, 2913.8058123500027, 2922.2278123500028, 2932.4138123500024, 2936.0868123500027, 2940.2218123500024, 2944.4238123500027, 2948.5648123500027, 2955.964812350003, 2960.2588123500027, 2983.1348123500024, 2986.7098123500027, 3007.6338123500027, 3023.618812350003, 3027.9238123500027, 3154.176812350003, 3163.688812350003, 3172.0598123500026, 3208.4038123500027, 3273.391812350003, 3277.4508123500027, 3285.2368123500028, 3294.1318123500027, 3302.066812350003, 3305.741812350003, 3310.312812350003, 3316.233812350003, 3320.360812350003, 3323.862812350003, 3340.382812350003, 3344.392812350003, 3348.173812350003, 3352.078812350003, 3357.281812350003, 3370.354812350003, 3377.647812350003, 3388.068812350003, 3392.192812350003, 3395.834812350003, 3399.639812350003, 3405.129812350003, 3409.356812350003, 3417.767812350003, 3421.884812350003, 3436.602812350003, 3441.285812350003, 3450.482812350003, 3454.262812350003, 3458.546812350003, 3467.132812350003, 3470.934812350003, 3489.824812350003, 3493.670812350003, 3535.419812350003, 3547.373812350003, 3594.537812350003, 3634.927812350003, 3639.767812350003, 3647.309812350003, 3651.6588123500032, 3655.7908123500033, 3659.4628123500033, 3663.5898123500033, 3667.691812350003, 3672.590812350003, 3676.5188123500034, 3684.856812350003, 3688.678812350003, 3692.836812350003, 3696.932812350003, 3708.374812350003, 3715.925812350003, 3722.401812350003, 3726.5338123500032, 3732.874812350003, 3736.6238123500034, 3740.6728123500034, 3749.2308123500034, 3759.5348123500034, 3766.7958123500034, 3800.1248123500036, 3852.1538123500036, 3868.2518123500035]\n",
      "305 [0, 2, 3, 4, 5, 6, 8, 9, 10, 12, 17, 18, 23, 25, 30, 35, 39, 43, 44, 46, 47, 48, 49, 52, 54, 55, 60, 65, 68, 69, 70, 72, 76, 80, 85, 86, 87, 89, 95, 97, 112, 116, 124, 126, 129, 133, 134, 135, 143, 151, 156, 160, 164, 176, 177, 178, 179, 180, 181, 182, 183, 184, 186, 189, 190, 191, 192, 193, 195, 196, 202, 203, 204, 207, 212, 213, 217, 238, 249, 265, 266, 267, 268, 269, 270, 271, 272, 273, 278, 281, 282, 283, 284, 285, 286, 287, 288, 295, 296, 297, 298, 301, 302, 303, 304, 305, 306, 307, 308, 309, 310, 312, 313, 314, 316, 323, 331, 335, 338, 339, 340, 341, 345, 346, 347, 348, 353, 355, 356, 357, 358, 361, 362, 363, 365, 372, 377, 384, 394, 397, 399, 404, 407, 416, 421, 424, 425, 430, 431, 432, 439, 451, 455, 456, 457, 460, 461, 463, 464, 465, 468, 469, 470, 473, 475, 476, 478, 479, 482, 483, 484, 488, 492, 505, 507, 509, 511, 512, 513, 516, 517, 518, 519, 520, 521, 522, 524, 525, 526, 527, 528, 529, 530, 531, 532, 546, 547, 548, 551, 552, 554, 563, 564, 569, 570, 571, 574, 577, 578, 579, 580, 581, 582, 585, 586, 588, 589, 590, 591, 594, 596, 600, 601, 602, 603, 605, 606, 607, 608, 609, 611, 612, 616, 617, 621, 624, 625, 652, 654, 656, 662, 674, 675, 677, 678, 680, 681, 682, 683, 684, 685, 687, 688, 689, 690, 691, 694, 696, 698, 699, 700, 701, 702, 703, 704, 705, 707, 708, 710, 711, 712, 714, 715, 718, 719, 728, 731, 741, 749, 750, 752, 753, 754, 755, 756, 757, 758, 759, 761, 762, 763, 764, 766, 767, 768, 769, 770, 771, 772, 773, 775, 776, 778, 783, 786]\n",
      "305\n",
      "peth[\"tscale\"] contains the timebin centers relative to the event\n",
      "\n",
      "peth[\"means\"] is shaped: (30, 120)\n",
      "This variable is NxB (neurons x timebins) and contains the mean spike rates over trials\n",
      "\n",
      "spike_counts is shaped: (305, 30, 120)\n",
      "This variable is TxNxB (trials x neurons x timebins) and contains all spike rates per trial\n",
      "4504.733399436642\n",
      "\n",
      "whole_window is shaped: (305, 30)\n",
      "This variable is TxN (trials x neurons) and contains summed spike rates per trial\n",
      "ee40aece-cffd-4edb-a4b6-155f158c666a\n",
      "Found 40 VM neurons\n",
      "406 [14.03946662, 21.91646662, 28.074466620000003, 32.391466619999996, 35.455466619999996, 51.19546662, 164.68146662, 210.28846662, 234.96046662, 238.93646662, 242.87346662000002, 253.23646662000002, 257.59346662, 265.90946662, 282.24346662, 285.69746662, 305.78846662, 313.91646662, 331.43246662, 338.02746662, 341.50346662, 347.42646662, 369.85946662, 372.76246662, 378.09646662, 381.92946662, 385.15946662, 394.39346662, 398.13046662, 406.65246662, 419.09446662, 506.98446662000003, 578.47946662, 586.14746662, 589.78346662, 593.33046662, 596.79246662, 604.63846662, 612.0264666200001, 615.49446662, 627.05446662, 630.03246662, 641.01746662, 652.01846662, 655.61446662, 663.63846662, 670.35446662, 677.17246662, 682.59046662, 687.00446662, 692.13046662, 695.64546662, 703.67446662, 708.33946662, 719.14846662, 734.37146662, 739.7284666200001, 755.3724666200001, 771.86446662, 784.21246662, 850.11246662, 858.10246662, 868.42446662, 902.26846662, 907.6464666200001, 915.26246662, 932.4784666200001, 936.27446662, 944.92446662, 949.15446662, 952.23946662, 957.41946662, 965.05746662, 971.60446662, 975.16046662, 982.30846662, 985.6084666200001, 990.79146662, 995.25346662, 999.98546662, 1005.16946662, 1013.81246662, 1019.56646662, 1023.46946662, 1027.00946662, 1039.70846662, 1047.29146662, 1060.13846662, 1063.58446662, 1067.77946662, 1076.13646662, 1084.51746662, 1087.84646662, 1096.14246662, 1113.74046662, 1200.0434666200001, 1273.31846662, 1370.47846662, 1374.5624666200001, 1377.96346662, 1382.06446662, 1387.17646662, 1392.55546662, 1397.51346662, 1401.9084666200001, 1408.93246662, 1412.56546662, 1416.55746662, 1421.30646662, 1426.5044666200001, 1430.39246662, 1443.15146662, 1504.36546662, 1512.50746662, 1520.36846662, 1530.44246662, 1534.16346662, 1537.53746662, 1549.13246662, 1556.81346662, 1565.67046662, 1569.73946662, 1575.37646662, 1580.16646662, 1588.57846662, 1597.26146662, 1600.47346662, 1604.52246662, 1607.8414666200001, 1611.4084666200001, 1619.36346662, 1624.47146662, 1632.99946662, 1640.21746662, 1643.47146662, 1647.13646662, 1654.35646662, 1662.58546662, 1666.33746662, 1669.8884666200001, 1674.35546662, 1687.30746662, 1691.8704666200001, 1695.99646662, 1699.71746662, 1705.11446662, 1710.29146662, 1715.60846662, 1725.26846662, 1728.65746662, 1732.97146662, 1736.62346662, 1740.10246662, 1743.89046662, 1747.44846662, 1752.61646662, 1758.5334666200001, 1761.76846662, 1766.5714666200001, 1770.08746662, 1775.31646662, 1783.33846662, 1787.2164666200001, 1797.0234666200001, 1800.49846662, 1803.78446662, 1808.75046662, 1815.28246662, 1818.75846662, 1829.51646662, 1836.48946662, 1859.02846662, 1918.58246662, 1947.66646662, 1987.7154666200001, 1991.90446662, 2012.82046662, 2016.27946662, 2021.47746662, 2027.00946662, 2033.51946662, 2038.1004666200001, 2042.4554666200002, 2048.9024666200003, 2052.58746662, 2059.4114666200003, 2064.8094666200004, 2069.7114666200005, 2081.5664666200005, 2085.1574666200004, 2088.87746662, 2096.13646662, 2101.68346662, 2111.3364666200005, 2158.0814666200004, 2167.8184666200004, 2172.3844666200002, 2178.2244666200004, 2201.5474666200003, 2207.2134666200004, 2242.04246662, 2280.2444666200004, 2316.09346662, 2448.27646662, 2456.59846662, 2554.4324666200005, 2558.2294666200005, 2564.26146662, 2573.88146662, 2581.9924666200004, 2585.9184666200003, 2590.77946662, 2595.34346662, 2643.2044666200004, 2648.02946662, 2653.3734666200003, 2657.2404666200005, 2662.5954666200005, 2668.7824666200004, 2673.4814666200004, 2678.25446662, 2697.93946662, 2705.5654666200003, 2715.1774666200004, 2725.1214666200003, 2729.2424666200004, 2738.13846662, 2751.87746662, 2756.08946662, 2772.5034666200004, 2782.0504666200004, 2785.5764666200002, 2789.60246662, 2812.26346662, 2815.85246662, 2821.10946662, 2824.4614666200005, 2828.4984666200003, 2832.3914666200003, 2839.26546662, 2842.7064666200004, 2850.5684666200004, 2855.5344666200003, 2860.5454666200003, 2864.3824666200003, 2877.17646662, 2881.85246662, 2886.83046662, 2890.48646662, 2895.7594666200002, 2901.7804666200004, 2906.78146662, 2911.2824666200004, 2917.27646662, 2922.6904666200003, 2928.8544666200005, 2934.03146662, 2943.66746662, 2947.1904666200003, 2965.60246662, 2969.9804666200002, 2973.84346662, 2980.07146662, 2984.20346662, 3055.6524666200003, 3066.6394666200003, 3072.16046662, 3126.08046662, 3167.6244666200005, 3184.78546662, 3189.69646662, 3204.61846662, 3245.61846662, 3255.96446662, 3294.3714666200003, 3304.33046662, 3324.7694666200005, 3333.00446662, 3338.5034666200004, 3368.5014666200004, 3372.5364666200003, 3377.0234666200004, 3387.2204666200005, 3391.5484666200005, 3397.0774666200005, 3401.71846662, 3416.5864666200005, 3423.5254666200003, 3428.5614666200004, 3432.46846662, 3437.7884666200002, 3442.82346662, 3447.25046662, 3451.4054666200004, 3455.2334666200004, 3459.09146662, 3466.6054666200002, 3474.85046662, 3483.82346662, 3612.2134666200004, 3616.43946662, 3620.3004666200004, 3625.25046662, 3633.68546662, 3638.06046662, 3642.7694666200005, 3646.7044666200004, 3652.3294666200004, 3656.1304666200003, 3660.85746662, 3664.8424666200003, 3669.5574666200005, 3687.7464666200003, 3697.07146662, 3701.35746662, 3706.4204666200003, 3711.1954666200004, 3716.70546662, 3720.4324666200005, 3724.4994666200005, 3729.62946662, 3740.23246662, 3745.36846662, 3750.39046662, 3909.9684666200005, 3954.3844666200002, 3958.54446662, 3962.6334666200005, 3968.55146662, 3973.4884666200005, 3977.50646662, 3982.9674666200003, 3986.9094666200003, 3991.0174666200005, 3996.20546662, 4015.83946662, 4025.31246662, 4034.5084666200005, 4038.96646662, 4044.25646662, 4056.29446662, 4060.1034666200003, 4064.1344666200002, 4068.77446662, 4074.12546662, 4083.4224666200003, 4088.00246662, 4096.93446662, 4102.39646662, 4107.29346662, 4112.1804666200005, 4116.77146662, 4122.11146662, 4127.136466620001, 4132.25546662, 4141.16646662, 4145.542466620001, 4150.96846662, 4170.01846662, 4179.84846662, 4184.462466620001, 4190.65246662, 4196.26746662, 4214.54846662, 4238.59746662, 4243.2474666200005, 4269.2294666200005, 4273.864466620001, 4298.00146662, 4302.350466620001, 4308.31746662, 4322.38546662, 4326.62146662, 4331.82146662, 4336.21546662, 4340.94646662, 4346.16946662, 4415.59946662, 4434.40146662, 4438.67746662, 4443.31246662, 4447.95646662, 4452.091466620001, 4457.01446662, 4461.54146662, 4465.605466620001, 4470.15146662, 4474.59946662, 4479.90246662, 4484.20246662, 4489.46346662, 4493.60246662, 4498.68446662, 4502.88846662, 4511.8144666200005, 4520.72646662, 4579.78146662, 4623.67046662, 4629.80046662, 4635.89646662, 4644.44646662, 4672.32246662, 4710.09246662, 4818.76746662, 4836.5734666200005, 4842.85846662]\n",
      "406 [0, 2, 3, 4, 5, 9, 32, 39, 46, 47, 48, 51, 52, 54, 58, 59, 64, 66, 71, 73, 74, 75, 80, 81, 82, 83, 84, 86, 87, 89, 92, 114, 130, 132, 133, 134, 135, 137, 139, 140, 143, 144, 146, 149, 150, 151, 152, 153, 154, 155, 156, 157, 159, 160, 162, 165, 166, 169, 173, 176, 191, 193, 195, 203, 204, 206, 210, 211, 213, 214, 215, 216, 218, 219, 220, 222, 223, 224, 225, 226, 227, 229, 230, 231, 232, 235, 237, 239, 240, 241, 243, 245, 246, 248, 252, 270, 288, 311, 312, 313, 314, 315, 316, 317, 318, 319, 320, 321, 322, 323, 324, 326, 339, 341, 343, 345, 346, 347, 349, 351, 352, 353, 354, 355, 357, 359, 360, 361, 362, 363, 365, 366, 368, 370, 371, 372, 373, 375, 376, 377, 378, 381, 382, 383, 384, 385, 386, 387, 389, 390, 391, 392, 393, 394, 395, 396, 397, 398, 399, 400, 401, 402, 403, 404, 405, 406, 407, 408, 409, 411, 412, 416, 430, 437, 446, 447, 452, 453, 454, 455, 456, 457, 458, 459, 460, 461, 462, 463, 465, 466, 467, 468, 469, 471, 481, 483, 484, 485, 490, 491, 499, 508, 516, 544, 546, 566, 567, 568, 570, 572, 573, 574, 575, 581, 582, 583, 584, 585, 586, 587, 588, 591, 593, 595, 596, 597, 599, 602, 603, 605, 607, 608, 609, 614, 615, 616, 617, 618, 619, 620, 621, 622, 623, 624, 625, 627, 628, 629, 630, 631, 632, 633, 634, 635, 636, 637, 638, 640, 641, 644, 645, 646, 647, 648, 664, 666, 667, 679, 686, 689, 690, 693, 702, 704, 712, 714, 718, 720, 721, 728, 729, 730, 732, 733, 734, 735, 738, 739, 740, 741, 742, 743, 744, 745, 746, 747, 748, 750, 752, 780, 781, 782, 783, 785, 786, 787, 788, 789, 790, 791, 792, 793, 797, 799, 800, 801, 802, 803, 804, 805, 806, 808, 809, 810, 828, 837, 838, 839, 840, 841, 842, 843, 844, 845, 846, 850, 852, 854, 855, 856, 858, 859, 860, 861, 862, 864, 865, 867, 868, 869, 870, 871, 872, 873, 874, 876, 877, 878, 882, 884, 885, 886, 887, 891, 896, 897, 902, 903, 908, 909, 910, 913, 914, 915, 916, 917, 918, 922, 926, 927, 928, 929, 930, 931, 932, 933, 934, 935, 936, 937, 938, 939, 940, 941, 943, 945, 958, 962, 963, 964, 966, 967, 970, 989, 990, 991]\n",
      "406\n",
      "peth[\"tscale\"] contains the timebin centers relative to the event\n",
      "\n",
      "peth[\"means\"] is shaped: (40, 120)\n",
      "This variable is NxB (neurons x timebins) and contains the mean spike rates over trials\n",
      "\n",
      "spike_counts is shaped: (406, 40, 120)\n",
      "This variable is TxNxB (trials x neurons x timebins) and contains all spike rates per trial\n",
      "5221.549195401686\n",
      "\n",
      "whole_window is shaped: (406, 40)\n",
      "This variable is TxN (trials x neurons) and contains summed spike rates per trial\n",
      "564 [16.995466620000002, 38.33846662, 43.60146662, 47.60546662, 54.15846662, 61.406466619999996, 70.53546662, 75.93246662, 79.00246661999999, 85.30246662, 92.57346662, 95.66146662, 100.01546662, 103.89346662, 107.80346662, 110.69746662, 116.11146662, 120.21546662, 123.16346662, 127.13146662, 132.88446662, 137.62346662, 140.36646662, 147.25346662, 151.58346662, 158.44746662, 179.57046662, 188.52346662, 192.57646662, 196.98646662, 201.36746662, 205.76746662, 213.47946662, 216.88346662, 219.87746662, 223.28846662, 227.47546662, 230.50046662, 249.27746662, 262.06246662, 270.34046662000003, 274.94646662, 278.27246662, 289.03746662, 296.82746662, 299.69246662, 302.85646662, 309.47746662000003, 317.57146662, 320.42746662, 323.52846662, 327.62246662, 334.48646662, 351.24046662, 357.77646662, 362.07146662, 365.15846662, 388.35546662, 403.22346662, 409.94946662, 414.32146662, 422.42846662, 426.72546662, 432.01146662, 435.97346662, 440.34246662, 443.98246662, 446.90746662, 449.99146662, 454.95146662, 457.69946662, 462.72946662, 466.29246662, 470.66746662, 474.52846662, 479.17846662, 482.12746662, 486.24946662, 490.21146662, 494.75146662000003, 498.65846662, 501.77846662, 511.99146662, 516.03446662, 519.73646662, 523.66146662, 526.89546662, 532.78846662, 537.47346662, 540.40446662, 544.78046662, 549.91446662, 554.62346662, 559.2044666200001, 564.32346662, 568.6034666200001, 574.39246662, 581.5024666200001, 607.93446662, 618.66946662, 621.87146662, 633.46546662, 644.45546662, 647.85046662, 725.66046662, 729.09746662, 745.13646662, 760.66346662, 763.82846662, 766.7574666200001, 776.40746662, 779.48446662, 788.22446662, 791.51146662, 795.32346662, 798.50446662, 802.69246662, 806.60946662, 813.5264666200001, 819.21646662, 823.29046662, 828.27046662, 832.74146662, 836.03346662, 840.07146662, 844.53846662, 854.81046662, 865.48646662, 873.15246662, 878.10146662, 882.1994666200001, 886.6944666200001, 889.74146662, 892.76246662, 912.08946662, 922.8054666200001, 928.32046662, 940.59946662, 1008.72446662, 1034.8704666200001, 1042.78146662, 1055.24846662, 1070.68646662, 1079.56446662, 1092.20046662, 1100.26646662, 1104.45246662, 1108.61946662, 1118.33046662, 1122.66446662, 1125.88046662, 1130.26546662, 1134.70546662, 1138.11846662, 1142.45046662, 1145.49146662, 1149.02846662, 1154.99246662, 1158.77246662, 1162.89346662, 1170.03546662, 1175.94346662, 1179.29246662, 1186.18346662, 1194.2454666200001, 1205.07046662, 1208.28846662, 1212.01046662, 1215.82346662, 1219.92546662, 1223.20146662, 1227.2164666200001, 1230.70046662, 1234.40546662, 1238.99846662, 1243.29546662, 1247.07946662, 1251.51546662, 1255.18446662, 1258.91946662, 1263.44646662, 1267.92246662, 1277.31946662, 1281.06146662, 1285.2064666200001, 1291.17246662, 1294.61646662, 1297.9564666200001, 1302.43846662, 1306.31746662, 1310.00746662, 1313.33246662, 1318.2454666200001, 1321.7254666200001, 1325.63746662, 1337.56746662, 1341.42646662, 1346.6874666200001, 1351.16246662, 1354.52746662, 1358.83846662, 1361.97846662, 1366.00046662, 1437.9854666200001, 1448.96846662, 1452.63246662, 1457.51346662, 1462.1874666200001, 1468.99146662, 1472.02246662, 1476.60446662, 1480.13046662, 1485.49046662, 1491.4084666200001, 1496.65046662, 1500.12646662, 1507.77246662, 1516.08446662, 1524.25646662, 1544.88146662, 1552.97246662, 1583.73946662, 1591.84246662, 1614.84946662, 1627.75146662, 1636.88346662, 1657.81646662, 1678.61346662, 1681.96846662, 1719.74946662, 1825.87146662, 1842.48246662, 1846.04946662, 1852.85746662, 1862.58346662, 1866.55846662, 1870.08046662, 1874.15546662, 1878.3894666200001, 1882.0614666200001, 1886.55046662, 1894.79746662, 1898.92646662, 1903.9084666200001, 1909.62446662, 1915.10646662, 1923.40346662, 1927.79446662, 1931.12346662, 1934.95546662, 1939.50546662, 1944.01746662, 1953.1874666200001, 1956.71246662, 1962.41346662, 1965.81646662, 1970.13646662, 1975.29846662, 1978.99746662, 1984.12146662, 1995.43146662, 1999.02546662, 2002.87146662, 2008.2734666200001, 2077.1884666200003, 2115.2204666200005, 2121.33046662, 2125.01746662, 2129.17146662, 2135.3714666200003, 2142.6144666200003, 2146.57346662, 2151.14546662, 2154.62746662, 2163.2424666200004, 2183.06046662, 2186.7604666200004, 2190.0724666200003, 2195.5254666200003, 2212.2104666200003, 2215.9384666200003, 2219.76146662, 2223.20946662, 2228.0994666200004, 2232.67646662, 2237.0124666200004, 2247.38146662, 2251.7314666200004, 2255.5074666200003, 2260.4764666200003, 2264.01146662, 2268.2464666200003, 2272.6464666200004, 2276.96846662, 2287.7954666200003, 2294.9344666200004, 2299.23446662, 2303.4204666200003, 2308.44846662, 2320.8714666200003, 2326.17846662, 2333.75646662, 2337.86346662, 2343.15446662, 2346.89246662, 2350.9074666200004, 2354.50646662, 2357.9744666200004, 2362.89746662, 2368.6904666200003, 2374.2574666200003, 2378.93746662, 2382.35046662, 2389.0144666200003, 2395.22346662, 2398.8844666200002, 2403.51346662, 2407.2594666200002, 2410.81446662, 2414.63646662, 2418.8604666200004, 2422.5764666200002, 2427.5324666200004, 2431.3964666200004, 2436.1534666200005, 2442.51746662, 2451.9144666200004, 2460.5474666200003, 2464.59146662, 2469.25646662, 2473.61846662, 2477.8474666200004, 2482.67646662, 2491.44846662, 2495.4794666200005, 2499.8584666200004, 2504.3184666200004, 2510.9564666200004, 2516.44846662, 2528.6414666200003, 2534.4034666200005, 2539.3934666200003, 2543.8714666200003, 2549.3444666200003, 2568.3244666200003, 2577.58446662, 2599.10046662, 2604.7754666200003, 2618.22546662, 2621.8914666200003, 2632.36846662, 2682.9694666200003, 2687.9524666200005, 2701.7754666200003, 2710.3384666200004, 2733.2894666200004, 2741.80546662, 2747.1154666200005, 2760.72546662, 2776.9964666200003, 2793.93746662, 2803.6554666200004, 2807.2874666200005, 2938.1504666200003, 2955.81246662, 2960.00046662, 2988.4714666200002, 2992.21646662, 2998.02946662, 3002.1914666200005, 3010.78346662, 3016.8804666200003, 3020.8714666200003, 3026.8334666200003, 3030.81046662, 3034.29046662, 3039.2464666200003, 3043.9764666200003, 3047.8984666200004, 3051.7154666200004, 3062.9764666200003, 3077.5864666200005, 3081.3744666200005, 3085.0364666200003, 3091.8274666200005, 3095.59146662, 3099.90446662, 3104.5544666200003, 3108.2494666200005, 3112.2894666200004, 3115.9454666200004, 3120.4784666200003, 3131.0664666200005, 3135.8464666200002, 3141.1424666200005, 3152.24546662, 3157.0544666200003, 3161.9834666200004, 3172.4814666200004, 3177.25446662, 3195.3264666200002, 3199.38846662, 3208.7044666200004, 3212.40446662, 3217.9424666200002, 3221.9794666200005, 3226.08946662, 3229.8444666200003, 3234.7964666200005, 3238.4434666200004, 3250.4544666200004, 3260.9994666200005, 3265.8534666200003, 3269.68546662, 3274.68346662, 3279.03546662, 3283.7604666200004, 3288.39546662, 3300.27446662, 3310.1054666200002, 3313.9944666200004, 3318.8024666200004, 3329.3984666200004, 3343.3074666200005, 3348.21446662, 3352.3674666200004, 3356.10746662, 3359.7694666200005, 3363.78146662, 3383.3174666200002, 3406.2064666200004, 3410.08746662, 3470.8834666200005, 3478.4434666200004, 3489.1484666200004, 3493.7964666200005, 3497.37946662, 3501.7684666200003, 3505.4654666200004, 3510.8314666200004, 3514.6174666200004, 3518.33046662, 3522.1904666200003, 3526.4254666200004, 3531.0174666200005, 3534.86646662, 3538.8454666200005, 3543.50646662, 3553.9134666200002, 3557.83746662, 3562.6504666200003, 3567.5234666200004, 3574.0484666200005, 3578.1054666200002, 3583.6954666200004, 3589.16746662, 3593.0554666200005, 3599.07846662, 3603.2874666200005, 3607.16546662, 3629.72346662, 3674.7684666200003, 3679.7304666200002, 3683.66746662, 3691.9924666200004, 3733.68346662, 3754.4454666200004, 3758.3254666200005, 3763.91046662, 3767.82846662, 3771.7774666200003, 3775.5384666200002, 3779.54946662, 3784.7424666200004, 3788.9804666200002, 3794.5254666200003, 3799.08046662, 3803.0774666200005, 3825.7714666200004, 3829.7184666200005, 3833.50046662, 3838.3174666200002, 3915.48646662, 3919.47546662, 3923.3584666200004, 3928.3074666200005, 3935.78146662, 3940.7784666200005, 3945.5544666200003, 3949.5324666200004, 4001.2754666200003, 4005.25446662, 4010.08946662, 4020.1464666200004, 4030.22346662, 4048.7604666200004, 4136.984466620001, 4156.203466620001, 4160.99046662, 4165.20446662, 4175.65546662, 4201.234466620001, 4205.7784666200005, 4210.15246662, 4219.54846662, 4224.22746662, 4228.408466620001, 4233.58946662, 4247.74146662, 4252.024466620001, 4256.80846662, 4261.0284666200005, 4279.230466620001, 4283.208466620001, 4287.29846662, 4292.77746662, 4312.50446662, 4317.2114666200005, 4351.91446662, 4381.30446662, 4410.350466620001, 4419.868466620001, 4424.99946662, 4429.1224666200005, 4507.30246662, 4516.292466620001, 4524.79146662, 4530.59446662, 4534.699466620001, 4539.58146662, 4544.40146662, 4548.386466620001, 4552.43446662, 4556.9704666200005, 4560.971466620001, 4566.252466620001, 4570.28646662, 4575.46046662, 4585.37146662, 4615.337466620001, 4619.685466620001, 4640.167466620001, 4677.61646662, 4682.07046662, 4715.47846662, 4720.41146662, 4724.50346662, 4730.63846662, 4735.88546662, 4740.060466620001, 4744.185466620001, 4748.32546662, 4753.19346662, 4758.51846662, 4763.132466620001, 4768.30046662, 4772.64246662, 4777.011466620001, 4781.467466620001, 4785.86746662, 4790.225466620001, 4813.016466620001, 4848.435466620001, 4852.71046662]\n",
      "564 [1, 6, 7, 8, 10, 11, 12, 13, 14, 15, 16, 17, 18, 19, 20, 21, 22, 23, 24, 25, 26, 27, 28, 29, 30, 31, 33, 34, 35, 36, 37, 38, 40, 41, 42, 43, 44, 45, 50, 53, 55, 56, 57, 60, 61, 62, 63, 65, 67, 68, 69, 70, 72, 76, 77, 78, 79, 85, 88, 90, 91, 93, 94, 95, 96, 97, 98, 99, 100, 101, 102, 103, 104, 105, 106, 107, 108, 109, 110, 111, 112, 113, 115, 116, 117, 118, 119, 120, 121, 122, 123, 124, 125, 126, 127, 128, 129, 131, 138, 141, 142, 145, 147, 148, 163, 164, 167, 170, 171, 172, 174, 175, 177, 178, 179, 180, 181, 182, 183, 184, 185, 186, 187, 188, 189, 190, 192, 194, 196, 197, 198, 199, 200, 201, 205, 208, 209, 212, 228, 234, 236, 238, 242, 244, 247, 249, 250, 251, 253, 254, 255, 256, 257, 258, 259, 260, 261, 262, 263, 264, 265, 266, 267, 268, 269, 271, 272, 273, 274, 275, 276, 277, 278, 279, 280, 281, 282, 283, 284, 285, 286, 287, 289, 290, 291, 292, 293, 294, 295, 296, 297, 298, 299, 300, 301, 303, 304, 305, 306, 307, 308, 309, 310, 325, 327, 328, 329, 330, 331, 332, 333, 334, 335, 336, 337, 338, 340, 342, 344, 348, 350, 356, 358, 364, 367, 369, 374, 379, 380, 388, 410, 413, 414, 415, 417, 418, 419, 420, 421, 422, 423, 425, 426, 427, 428, 429, 431, 432, 433, 434, 435, 436, 438, 439, 440, 441, 442, 443, 444, 445, 448, 449, 450, 451, 464, 472, 473, 474, 475, 476, 477, 478, 479, 480, 482, 486, 487, 488, 489, 492, 493, 494, 495, 496, 497, 498, 500, 501, 502, 503, 504, 505, 506, 507, 509, 511, 512, 513, 514, 517, 518, 519, 520, 521, 522, 523, 524, 525, 526, 527, 528, 529, 530, 531, 532, 533, 534, 535, 536, 537, 538, 539, 540, 541, 542, 543, 545, 547, 548, 549, 550, 551, 552, 554, 555, 556, 557, 558, 559, 561, 562, 563, 564, 565, 569, 571, 576, 577, 578, 579, 580, 589, 590, 592, 594, 598, 600, 601, 604, 606, 610, 612, 613, 639, 642, 643, 649, 650, 651, 652, 654, 655, 656, 657, 658, 659, 660, 661, 662, 663, 665, 668, 669, 670, 671, 672, 673, 674, 675, 676, 677, 678, 680, 681, 682, 683, 684, 685, 687, 688, 691, 692, 694, 695, 696, 697, 698, 699, 700, 701, 703, 705, 706, 707, 708, 709, 710, 711, 713, 715, 716, 717, 719, 722, 723, 724, 725, 726, 727, 731, 736, 737, 749, 751, 753, 754, 755, 756, 757, 758, 759, 760, 761, 762, 763, 764, 765, 766, 768, 769, 770, 771, 772, 773, 774, 775, 776, 777, 778, 779, 784, 794, 795, 796, 798, 807, 811, 812, 813, 814, 815, 816, 817, 818, 819, 820, 821, 822, 823, 824, 825, 826, 829, 830, 831, 832, 833, 834, 835, 836, 847, 848, 849, 851, 853, 857, 875, 879, 880, 881, 883, 888, 889, 890, 892, 893, 894, 895, 898, 899, 900, 901, 904, 905, 906, 907, 911, 912, 919, 920, 921, 923, 924, 925, 942, 944, 946, 947, 948, 949, 950, 951, 952, 953, 954, 955, 956, 957, 959, 960, 961, 965, 968, 969, 971, 972, 973, 974, 975, 976, 977, 978, 979, 980, 981, 982, 983, 984, 985, 986, 987, 988, 992, 993]\n",
      "564\n",
      "peth[\"tscale\"] contains the timebin centers relative to the event\n",
      "\n",
      "peth[\"means\"] is shaped: (40, 120)\n",
      "This variable is NxB (neurons x timebins) and contains the mean spike rates over trials\n",
      "\n",
      "spike_counts is shaped: (564, 40, 120)\n",
      "This variable is TxNxB (trials x neurons x timebins) and contains all spike rates per trial\n",
      "6321.82315475528\n",
      "\n",
      "whole_window is shaped: (564, 40)\n",
      "This variable is TxN (trials x neurons) and contains summed spike rates per trial\n",
      "d33baf74-263c-4b37-a0d0-b79dcb80a764\n",
      "Found 7 VM neurons\n",
      "191 [51.625361330000096, 80.53136133000012, 84.24536133000014, 88.37136133000014, 94.83136133000015, 110.60436133000016, 124.10236133000016, 139.87436133000017, 143.8733613300002, 149.8453613300002, 165.2213613300002, 189.85236133000024, 197.86736133000022, 209.71236133000025, 214.18036133000024, 217.27636133000024, 221.53236133000024, 271.5593613300003, 283.2683613300003, 287.0103613300003, 298.0473613300003, 305.4553613300003, 310.97336133000033, 323.48536133000033, 328.3463613300003, 333.2843613300003, 343.37136133000035, 347.92936133000035, 351.26136133000034, 359.7883613300003, 382.34436133000037, 386.4663613300004, 420.2683613300004, 424.7483613300004, 429.4333613300004, 437.52636133000044, 457.9313613300004, 474.78036133000046, 482.49736133000044, 494.6423613300005, 545.2513613300005, 606.3503613300006, 625.0853613300006, 632.8043613300006, 663.1863613300006, 680.5053613300006, 689.4103613300007, 714.7953613300007, 757.9123613300007, 768.8173613300007, 773.2553613300007, 778.8053613300007, 782.4753613300007, 786.8633613300008, 791.3603613300007, 795.4223613300007, 801.1763613300008, 805.8393613300008, 809.5603613300008, 817.5903613300007, 821.4163613300008, 825.2413613300008, 829.0583613300008, 832.5783613300008, 836.1173613300008, 843.9543613300008, 852.4893613300007, 860.5523613300008, 867.6803613300008, 871.9683613300008, 881.7303613300008, 925.6583613300008, 930.3243613300009, 947.8193613300009, 1013.5543613300009, 1017.0933613300009, 1020.8863613300009, 1024.948361330001, 1031.4053613300011, 1035.448361330001, 1039.2123613300012, 1067.794361330001, 1072.294361330001, 1110.6833613300012, 1123.3103613300011, 1126.7593613300012, 1130.7763613300012, 1152.8663613300012, 1159.888361330001, 1183.6463613300011, 1210.1393613300013, 1262.4723613300014, 1299.5943613300012, 1307.5703613300013, 1386.6133613300015, 1391.0333613300013, 1436.4323613300014, 1510.5453613300015, 1523.4193613300015, 1540.7283613300015, 1616.1593613300015, 1624.8753613300016, 1674.4833613300016, 1678.3963613300016, 1681.7743613300017, 1750.0973613300016, 1809.0023613300018, 1812.6573613300018, 1858.1503613300017, 1861.6763613300018, 1865.2013613300019, 1897.1503613300017, 1903.0893613300018, 1906.8993613300017, 1910.4453613300018, 1914.2513613300018, 1918.670361330002, 1923.5243613300017, 1927.7413613300018, 1931.486361330002, 1936.014361330002, 1940.093361330002, 1944.294361330002, 1962.1843613300018, 1995.0203613300018, 2014.262361330002, 2017.886361330002, 2021.3933613300019, 2025.1833613300018, 2029.8263613300019, 2037.789361330002, 2041.556361330002, 2050.5823613300017, 2054.7313613300016, 2067.587361330002, 2085.699361330002, 2089.556361330002, 2159.453361330002, 2189.974361330002, 2205.166361330002, 2226.619361330002, 2236.8503613300018, 2244.889361330002, 2258.751361330002, 2275.001361330002, 2293.795361330002, 2303.191361330002, 2312.928361330002, 2367.523361330002, 2532.048361330002, 2535.660361330002, 2577.215361330002, 2586.638361330002, 2590.575361330002, 2638.0613613300025, 2648.354361330002, 2670.6703613300024, 2674.8843613300023, 2685.5703613300025, 2727.5883613300025, 2732.9113613300024, 2736.4563613300024, 2741.0163613300024, 2744.9043613300023, 2748.649361330002, 2764.4523613300025, 2768.4643613300022, 2772.227361330002, 2822.6803613300026, 2826.6923613300023, 2840.6013613300024, 2888.5923613300024, 2892.3823613300024, 2902.3443613300024, 2906.6733613300025, 2946.5363613300024, 2950.0673613300023, 2954.4863613300026, 2958.3993613300026, 2962.9963613300024, 2979.4373613300027, 2984.3443613300024, 2988.0033613300025, 2992.0083613300026, 2996.9783613300024, 3002.7333613300025, 3034.0733613300026, 3038.2203613300026, 3045.824361330003, 3094.0773613300025, 3101.2183613300026]\n",
      "191 [7, 12, 13, 14, 15, 18, 21, 25, 26, 27, 31, 33, 35, 38, 39, 40, 41, 51, 53, 54, 57, 59, 60, 63, 64, 65, 66, 67, 68, 70, 75, 76, 77, 78, 79, 81, 86, 88, 90, 93, 105, 113, 118, 120, 125, 128, 130, 133, 136, 139, 140, 141, 142, 143, 144, 145, 146, 147, 148, 149, 150, 151, 152, 153, 154, 156, 158, 160, 162, 163, 164, 168, 169, 170, 172, 173, 174, 175, 176, 177, 178, 179, 180, 186, 188, 189, 190, 192, 193, 196, 197, 198, 204, 206, 215, 216, 218, 221, 223, 224, 229, 231, 241, 242, 243, 256, 264, 265, 267, 268, 269, 271, 272, 273, 274, 275, 276, 277, 278, 279, 280, 281, 282, 283, 284, 285, 286, 287, 288, 289, 291, 292, 294, 295, 297, 298, 299, 309, 313, 316, 317, 319, 321, 324, 326, 330, 332, 334, 342, 357, 358, 360, 362, 363, 369, 370, 373, 374, 375, 378, 379, 380, 381, 382, 383, 385, 386, 387, 390, 391, 392, 397, 398, 399, 400, 404, 405, 406, 407, 408, 409, 410, 411, 412, 413, 414, 415, 416, 418, 421, 423]\n",
      "191\n",
      "peth[\"tscale\"] contains the timebin centers relative to the event\n",
      "\n",
      "peth[\"means\"] is shaped: (7, 120)\n",
      "This variable is NxB (neurons x timebins) and contains the mean spike rates over trials\n",
      "\n",
      "spike_counts is shaped: (191, 7, 120)\n",
      "This variable is TxNxB (trials x neurons x timebins) and contains all spike rates per trial\n",
      "3521.7881821597393\n",
      "\n",
      "whole_window is shaped: (191, 7)\n",
      "This variable is TxN (trials x neurons) and contains summed spike rates per trial\n",
      "234 [19.379361330000073, 23.217361330000074, 27.70736133000008, 32.54136133000008, 38.08236133000008, 42.61036133000009, 47.232361330000096, 57.1023613300001, 61.3513613300001, 72.88736133000012, 76.91136133000013, 104.59536133000015, 107.69836133000015, 114.46336133000015, 119.31336133000016, 128.45536133000016, 132.14936133000018, 135.7413613300002, 153.7653613300002, 156.8883613300002, 162.0313613300002, 169.0913613300002, 194.32236133000023, 201.42536133000024, 205.63136133000023, 225.56236133000027, 228.94336133000027, 238.33136133000028, 242.70136133000028, 247.12236133000027, 251.5903613300003, 256.93336133000025, 260.4323613300003, 264.00136133000024, 276.8123613300003, 291.0443613300003, 294.1703613300003, 301.3353613300003, 314.90836133000033, 319.2103613300003, 355.15036133000035, 364.6973613300004, 371.06636133000035, 375.5773613300004, 378.7593613300004, 441.96136133000044, 446.3303613300004, 450.1663613300004, 454.2673613300004, 461.67036133000045, 478.90136133000044, 486.87736133000044, 490.94136133000046, 500.3853613300005, 503.2193613300005, 511.34736133000047, 515.5313613300004, 518.6923613300005, 522.4823613300005, 526.3633613300005, 530.0093613300005, 533.3993613300005, 537.6253613300005, 541.4263613300005, 575.7613613300006, 579.1813613300005, 584.8473613300006, 588.6133613300005, 591.7103613300005, 597.8653613300006, 602.3113613300005, 609.6643613300006, 613.1763613300005, 616.8503613300006, 620.1463613300006, 629.3503613300006, 639.6613613300005, 644.6903613300007, 648.6463613300006, 659.1373613300007, 667.9163613300007, 676.3153613300007, 684.6073613300007, 697.9873613300007, 710.9873613300007, 724.9373613300007, 729.0503613300007, 761.8993613300007, 765.2583613300008, 839.7953613300008, 848.0003613300008, 857.3073613300008, 864.2953613300008, 885.9083613300008, 899.1203613300008, 916.6613613300009, 951.2743613300008, 1076.9123613300012, 1082.400361330001, 1097.1543613300012, 1102.8093613300011, 1106.4533613300011, 1114.804361330001, 1135.7953613300012, 1164.0453613300012, 1180.2333613300011, 1266.3483613300014, 1273.7223613300014, 1277.1683613300013, 1291.0013613300014, 1295.5293613300014, 1304.1423613300012, 1314.1733613300014, 1345.9403613300015, 1349.4643613300013, 1353.1193613300013, 1356.5223613300013, 1360.0933613300012, 1364.5103613300014, 1368.0553613300015, 1394.6813613300014, 1506.3643613300014, 1518.7403613300014, 1545.1323613300015, 1605.8983613300015, 1609.1543613300016, 1612.3683613300016, 1621.1633613300016, 1629.4193613300015, 1633.3793613300015, 1637.8413613300015, 1640.9263613300016, 1645.2793613300016, 1656.0983613300016, 1661.0243613300015, 1665.6563613300016, 1669.9223613300016, 1685.6163613300016, 1688.9923613300016, 1692.5423613300015, 1696.3603613300018, 1699.8013613300016, 1704.4873613300017, 1708.0493613300016, 1711.4043613300016, 1714.7683613300017, 1718.4213613300017, 1721.9463613300018, 1746.6143613300017, 1753.7993613300016, 1785.1153613300016, 1789.3873613300018, 1793.1143613300017, 1797.3953613300018, 1800.7713613300018, 1804.4773613300017, 1853.7663613300017, 1892.4613613300019, 2034.194361330002, 2046.051361330002, 2061.5233613300015, 2100.6963613300018, 2104.395361330002, 2107.8323613300017, 2111.150361330002, 2115.3273613300016, 2128.703361330002, 2132.085361330002, 2150.1643613300016, 2153.960361330002, 2165.2873613300017, 2168.580361330002, 2172.442361330002, 2193.4703613300017, 2197.0663613300017, 2231.700361330002, 2240.9173613300018, 2250.715361330002, 2254.4663613300017, 2262.7273613300017, 2279.796361330002, 2283.5913613300017, 2288.830361330002, 2299.511361330002, 2309.2923613300018, 2331.488361330002, 2336.538361330002, 2339.993361330002, 2343.650361330002, 2347.402361330002, 2351.357361330002, 2363.270361330002, 2410.414361330002, 2413.428361330002, 2445.5313613300023, 2448.967361330002, 2453.175361330002, 2457.097361330002, 2460.505361330002, 2464.155361330002, 2469.291361330002, 2473.795361330002, 2477.8083613300023, 2481.338361330002, 2484.630361330002, 2504.987361330002, 2572.7303613300023, 2581.269361330002, 2595.2703613300023, 2600.030361330002, 2619.682361330002, 2624.713361330002, 2630.102361330002, 2652.2153613300025, 2656.6393613300024, 2693.2973613300023, 2723.334361330002, 2759.9163613300025, 2814.5053613300024, 2819.2973613300023, 2844.6183613300022, 2850.6273613300023, 2863.0933613300026, 2873.2403613300025, 2931.6153613300025, 2935.1253613300023, 2939.5453613300024, 3042.1133613300026, 3056.8183613300025, 3068.1103613300024, 3097.9103613300026, 3120.505361330003, 3125.661361330003, 3129.2223613300025]\n",
      "234 [0, 1, 2, 3, 4, 5, 6, 8, 9, 10, 11, 16, 17, 19, 20, 22, 23, 24, 28, 29, 30, 32, 34, 36, 37, 42, 43, 44, 45, 46, 47, 48, 49, 50, 52, 55, 56, 58, 61, 62, 69, 71, 72, 73, 74, 82, 83, 84, 85, 87, 89, 91, 92, 94, 95, 96, 97, 98, 99, 100, 101, 102, 103, 104, 106, 107, 108, 109, 110, 111, 112, 114, 115, 116, 117, 119, 121, 122, 123, 124, 126, 127, 129, 131, 132, 134, 135, 137, 138, 155, 157, 159, 161, 165, 166, 167, 171, 181, 182, 183, 184, 185, 187, 191, 194, 195, 199, 200, 201, 202, 203, 205, 207, 208, 209, 210, 211, 212, 213, 214, 217, 220, 222, 225, 226, 227, 228, 230, 232, 233, 234, 235, 236, 237, 238, 239, 240, 244, 245, 246, 247, 248, 249, 250, 251, 252, 253, 254, 255, 257, 258, 259, 260, 261, 262, 263, 266, 270, 290, 293, 296, 300, 301, 302, 303, 304, 305, 306, 307, 308, 310, 311, 312, 314, 315, 318, 320, 322, 323, 325, 327, 328, 329, 331, 333, 335, 336, 337, 338, 339, 340, 341, 343, 344, 345, 346, 347, 348, 349, 350, 351, 352, 353, 354, 355, 356, 359, 361, 364, 365, 366, 367, 368, 371, 372, 376, 377, 384, 388, 389, 393, 394, 395, 396, 401, 402, 403, 417, 419, 420, 422, 424, 425, 426]\n",
      "234\n",
      "peth[\"tscale\"] contains the timebin centers relative to the event\n",
      "\n",
      "peth[\"means\"] is shaped: (7, 120)\n",
      "This variable is NxB (neurons x timebins) and contains the mean spike rates over trials\n",
      "\n",
      "spike_counts is shaped: (234, 7, 120)\n",
      "This variable is TxNxB (trials x neurons x timebins) and contains all spike rates per trial\n",
      "3746.1368101018415\n",
      "\n",
      "whole_window is shaped: (234, 7)\n",
      "This variable is TxN (trials x neurons) and contains summed spike rates per trial\n"
     ]
    }
   ],
   "source": [
    "roi_info = gen_fatdata(example_regions, 'choice')"
   ]
  },
  {
   "cell_type": "markdown",
   "metadata": {
    "id": "xroIDmOvw0Xh"
   },
   "source": [
    "2) **For finding the number (and regions) of simultaneous recordings for each EID. Not necessary to run if already determined which EID(s) to use**"
   ]
  },
  {
   "cell_type": "code",
   "execution_count": 66,
   "metadata": {
    "executionInfo": {
     "elapsed": 210,
     "status": "ok",
     "timestamp": 1679035878040,
     "user": {
      "displayName": "Charlie Huang",
      "userId": "05785404896816634261"
     },
     "user_tz": 420
    },
    "id": "Soh2LkYpwvxL"
   },
   "outputs": [],
   "source": [
    "#loads in csv of brain regions from projection matrix\n",
    "regions = pd.read_csv('proj_brainregions.csv').columns\n",
    "roi_comp = []\n",
    "for i,region in enumerate(regions):\n",
    "    if region == 'fiber tracts':\n",
    "        continue\n",
    "    roi_comp.append(region.split('.')[0])"
   ]
  },
  {
   "cell_type": "code",
   "execution_count": 86,
   "metadata": {
    "colab": {
     "base_uri": "https://localhost:8080/"
    },
    "executionInfo": {
     "elapsed": 186,
     "status": "ok",
     "timestamp": 1679036560505,
     "user": {
      "displayName": "Charlie Huang",
      "userId": "05785404896816634261"
     },
     "user_tz": 420
    },
    "id": "6IRLe98vYKZc",
    "outputId": "7de299a7-4d20-4b43-a0a3-6d36547e2257"
   },
   "outputs": [
    {
     "data": {
      "text/plain": [
       "591"
      ]
     },
     "execution_count": 86,
     "metadata": {},
     "output_type": "execute_result"
    }
   ],
   "source": [
    "len(regions)"
   ]
  },
  {
   "cell_type": "code",
   "execution_count": null,
   "metadata": {
    "id": "w-OMt0ktwyE4"
   },
   "outputs": [],
   "source": [
    "# sets up eid_dic which contains roi -> list of eid\n",
    "eid_dic = {}\n",
    "all_eids = set()\n",
    "for roi in roi_comp:\n",
    "    print(roi + ' EID list')\n",
    "    eids = gen_eidlist(roi)\n",
    "    print(len(eids), eids)\n",
    "    eid_dic[roi] = eids\n",
    "    all_eids.update(eids)\n",
    "\n",
    "all_eids = list(all_eids)\n",
    "roi_records = []\n",
    "\n",
    "roi_dic = {}\n",
    "for i,eid in enumerate(all_eids):\n",
    "    roilist = [roi for roi in eid_dic.keys() if eid in eid_dic[roi]]\n",
    "    roi_dic[eid] = roilist\n",
    "    roi_records.append(roilist)\n"
   ]
  },
  {
   "cell_type": "code",
   "execution_count": 74,
   "metadata": {
    "colab": {
     "base_uri": "https://localhost:8080/",
     "height": 283
    },
    "executionInfo": {
     "elapsed": 2695,
     "status": "ok",
     "timestamp": 1679036001806,
     "user": {
      "displayName": "Charlie Huang",
      "userId": "05785404896816634261"
     },
     "user_tz": 420
    },
    "id": "wAvLw446Bg5Y",
    "outputId": "473e42f9-d269-4836-de95-23798e788ac1"
   },
   "outputs": [
    {
     "data": {
      "text/plain": [
       "<BarContainer object of 295 artists>"
      ]
     },
     "execution_count": 74,
     "metadata": {},
     "output_type": "execute_result"
    },
    {
     "data": {
      "image/png": "[encoded data removed]",
      "text/plain": [
       "<Figure size 432x288 with 1 Axes>"
      ]
     },
     "metadata": {
      "needs_background": "light"
     },
     "output_type": "display_data"
    }
   ],
   "source": [
    "distinct_rois, roi_eid_counts = [r for r in eid_dic], [len(v) for v in eid_dic.values()]\n",
    "plt.bar(distinct_rois, roi_eid_counts)"
   ]
  },
  {
   "cell_type": "code",
   "execution_count": 135,
   "metadata": {
    "executionInfo": {
     "elapsed": 164,
     "status": "ok",
     "timestamp": 1679038613104,
     "user": {
      "displayName": "Charlie Huang",
      "userId": "05785404896816634261"
     },
     "user_tz": 420
    },
    "id": "81kVAqWedbBw"
   },
   "outputs": [],
   "source": [
    "sorted_idx = np.argsort(roi_eid_counts)\n",
    "top_rois = [distinct_rois[i] for i in sorted_idx[-20:]]\n",
    "top_rois.reverse()"
   ]
  },
  {
   "cell_type": "code",
   "execution_count": null,
   "metadata": {
    "id": "QPp93u3bdgzy"
   },
   "outputs": [],
   "source": [
    "len_left = 0\n",
    "roilist = [top_rois[0]]\n",
    "eidset = set(eid_dic[top_rois[0]])\n",
    "\n",
    "reduc_list = top_rois[1:]\n",
    "for i in range(len(top_rois)-1):\n",
    "  if i == len(top_rois):\n",
    "    break\n",
    "  \n",
    "  sublist = top_rois[i+1:]\n",
    "  print(sublist)\n",
    "  max_overlap = [0,'']\n",
    "  for roi in reduc_list:\n",
    "    overlapsize = len(eidset & set(eid_dic[roi]))\n",
    "    if overlapsize > max_overlap[0]:\n",
    "        max_overlap[0] = overlapsize\n",
    "        max_overlap[1] = roi\n",
    "  roilist.append(max_overlap[1])\n",
    "  reduc_list.remove(max_overlap[1])\n",
    "\n",
    "  \n",
    "roilist"
   ]
  },
  {
   "cell_type": "code",
   "execution_count": 87,
   "metadata": {
    "executionInfo": {
     "elapsed": 154,
     "status": "ok",
     "timestamp": 1679036710460,
     "user": {
      "displayName": "Charlie Huang",
      "userId": "05785404896816634261"
     },
     "user_tz": 420
    },
    "id": "Jpieq-9GV53y"
   },
   "outputs": [],
   "source": [
    "sorted_idx = np.argsort(roi_eid_counts)\n",
    "top_rois = [distinct_rois[i] for i in sorted_idx[-50:]]\n",
    "top_rois.reverse()\n",
    "\n",
    "\n",
    "eidset = set(eid_dic[top_rois[0]])\n",
    "best_arrangement = []\n",
    "\n",
    "\n",
    "for j in range(10000):\n",
    "  if j == 0:\n",
    "    continue\n",
    "  top_rois.shuffle\n",
    "  for i,roi in enumerate(top_rois):\n",
    "    if i == 0:\n",
    "      continue\n",
    "    eidset = eidset & set(eid_dic[top_rois[i]])\n",
    "    print(len(eidset))"
   ]
  },
  {
   "cell_type": "code",
   "execution_count": 150,
   "metadata": {
    "colab": {
     "base_uri": "https://localhost:8080/"
    },
    "executionInfo": {
     "elapsed": 159,
     "status": "ok",
     "timestamp": 1679039322492,
     "user": {
      "displayName": "Charlie Huang",
      "userId": "05785404896816634261"
     },
     "user_tz": 420
    },
    "id": "gH1m74ybdS0l",
    "outputId": "85dafe0c-23a8-426b-9768-a67740ec04ac"
   },
   "outputs": [
    {
     "name": "stdout",
     "output_type": "stream",
     "text": [
      "91\n",
      "78\n",
      "59\n",
      "18\n",
      "10\n",
      "9\n",
      "{'4b7fbad4-f6de-43b4-9b15-c7c7ef44db4b', 'e2b845a1-e313-4a08-bc61-a5f662ed295e', 'f312aaec-3b6f-44b3-86b4-3a0c119c0438', '6c6b0d06-6039-4525-a74b-58cfaa1d3a60', '3e6a97d3-3991-49e2-b346-6948cb4580fb', 'ecb5520d-1358-434c-95ec-93687ecd1396', '2bdf206a-820f-402f-920a-9e86cd5388a4', 'b22f694e-4a34-4142-ab9d-2556c3487086', '9b528ad0-4599-4a55-9148-96cc1d93fb24'}\n",
      "0\n",
      "0\n",
      "0\n",
      "0\n",
      "0\n",
      "0\n",
      "0\n",
      "0\n",
      "0\n",
      "0\n",
      "0\n",
      "0\n",
      "0\n"
     ]
    }
   ],
   "source": [
    "eidset = set(eid_dic[roilist[0]])\n",
    "  \n",
    "for i,roi in enumerate(roilist):\n",
    "  if i == 0:\n",
    "    continue\n",
    "  eidset = eidset & set(eid_dic[roilist[i]])\n",
    "\n",
    "  print(len(eidset))\n",
    "  if i == 6:\n",
    "    print(eidset)"
   ]
  },
  {
   "cell_type": "code",
   "execution_count": 145,
   "metadata": {
    "colab": {
     "base_uri": "https://localhost:8080/"
    },
    "executionInfo": {
     "elapsed": 907,
     "status": "ok",
     "timestamp": 1679039144115,
     "user": {
      "displayName": "Charlie Huang",
      "userId": "05785404896816634261"
     },
     "user_tz": 420
    },
    "id": "A2zDvBxpiAxT",
    "outputId": "d2311795-a18c-43ce-857c-17b13e09bd53"
   },
   "outputs": [
    {
     "data": {
      "text/plain": [
       "['CM', 'DG', 'CA1', 'LP', 'MRN', 'PTLp', 'APN']"
      ]
     },
     "execution_count": 145,
     "metadata": {},
     "output_type": "execute_result"
    }
   ],
   "source": [
    "roilist[:7]"
   ]
  },
  {
   "cell_type": "code",
   "execution_count": 151,
   "metadata": {
    "colab": {
     "base_uri": "https://localhost:8080/"
    },
    "executionInfo": {
     "elapsed": 275,
     "status": "ok",
     "timestamp": 1679039342927,
     "user": {
      "displayName": "Charlie Huang",
      "userId": "05785404896816634261"
     },
     "user_tz": 420
    },
    "id": "ewqQO7wuhuUu",
    "outputId": "ba213124-229f-402f-efab-f5bd33624945"
   },
   "outputs": [
    {
     "name": "stdout",
     "output_type": "stream",
     "text": [
      "True\n",
      "True\n",
      "True\n",
      "True\n",
      "True\n",
      "True\n",
      "True\n",
      "True\n",
      "True\n"
     ]
    }
   ],
   "source": [
    "rois_opt = roilist[:7]\n",
    "\n",
    "eid_list = ['4b7fbad4-f6de-43b4-9b15-c7c7ef44db4b', 'e2b845a1-e313-4a08-bc61-a5f662ed295e', 'f312aaec-3b6f-44b3-86b4-3a0c119c0438', '6c6b0d06-6039-4525-a74b-58cfaa1d3a60', '3e6a97d3-3991-49e2-b346-6948cb4580fb', 'ecb5520d-1358-434c-95ec-93687ecd1396', '2bdf206a-820f-402f-920a-9e86cd5388a4', 'b22f694e-4a34-4142-ab9d-2556c3487086', '9b528ad0-4599-4a55-9148-96cc1d93fb24']\n",
    "for eid in eid_list:\n",
    "    eidset = set(roi_dic[eid]) & set(rois_opt)\n",
    "    print(len(eidset) == len(rois_opt))"
   ]
  },
  {
   "cell_type": "markdown",
   "metadata": {
    "id": "CqkFEOv6i8ip"
   },
   "source": [
    "THE DATASET GENERATION"
   ]
  },
  {
   "cell_type": "code",
   "execution_count": null,
   "metadata": {
    "id": "CUwMwWMMi8Et"
   },
   "outputs": [],
   "source": [
    "eid_list = ['4b7fbad4-f6de-43b4-9b15-c7c7ef44db4b', 'e2b845a1-e313-4a08-bc61-a5f662ed295e', 'f312aaec-3b6f-44b3-86b4-3a0c119c0438', '6c6b0d06-6039-4525-a74b-58cfaa1d3a60', '3e6a97d3-3991-49e2-b346-6948cb4580fb', 'ecb5520d-1358-434c-95ec-93687ecd1396', '2bdf206a-820f-402f-920a-9e86cd5388a4', 'b22f694e-4a34-4142-ab9d-2556c3487086', '9b528ad0-4599-4a55-9148-96cc1d93fb24']\n",
    "simul_regions = ['CM', 'DG', 'CA1', 'LP', 'MRN', 'PTLp', 'APN']\n",
    "whole_dataset = {}\n",
    "for eid in eid_list:\n",
    "    region_2_dat = get_data_per_recording(eid, simul_regions)\n",
    "    whole_dataset[eid] = region_2_dat"
   ]
  },
  {
   "cell_type": "code",
   "execution_count": 165,
   "metadata": {
    "colab": {
     "base_uri": "https://localhost:8080/"
    },
    "executionInfo": {
     "elapsed": 231,
     "status": "ok",
     "timestamp": 1679040197250,
     "user": {
      "displayName": "Charlie Huang",
      "userId": "05785404896816634261"
     },
     "user_tz": 420
    },
    "id": "gmorCAWglg53",
    "outputId": "19ade431-c860-4616-e1c7-3683482dbd43"
   },
   "outputs": [
    {
     "data": {
      "text/plain": [
       "array([1., 1., 1., 1., 1., 1., 1., 1., 1., 1., 1., 1., 1., 1., 1., 1., 1.,\n",
       "       1., 1., 1., 1., 1., 1., 1., 1., 1., 1., 1., 1., 1., 1., 1., 1., 1.,\n",
       "       1., 1., 1., 1., 1., 1., 1., 1., 1., 1., 1., 1., 1., 1., 1., 1., 1.,\n",
       "       1., 1., 1., 1., 1., 1., 1., 1., 1., 1., 1., 1., 1., 1., 1., 1., 1.,\n",
       "       1., 1., 1., 1., 1., 1., 1., 1., 1., 1., 1., 1., 1., 1., 1., 1., 1.,\n",
       "       1., 1., 1., 1., 1., 1., 1., 1., 1., 1., 1., 1., 1., 1., 1., 1., 1.,\n",
       "       1., 1., 1., 1., 1., 1., 1., 1., 1., 1., 1., 1., 1., 1., 1., 1., 1.,\n",
       "       1., 1., 1., 1., 1., 1., 1., 1., 1., 1., 1., 1., 1., 1., 1., 1., 1.,\n",
       "       1., 1., 1., 1., 1., 1., 1., 1., 1., 1., 1., 1., 1., 1., 1., 1., 1.,\n",
       "       1., 1., 1., 1., 1., 1., 1., 1., 1., 1., 1., 1., 1., 1., 1., 1., 1.,\n",
       "       1., 1., 1., 1., 1., 1., 1., 1., 1., 1., 1., 1., 1., 1., 1., 1., 1.,\n",
       "       1., 1., 1., 1., 1., 1., 1., 1., 1., 1., 1., 1., 1., 1., 1., 1., 1.,\n",
       "       1., 1., 1., 1., 1., 1., 1., 1., 1., 1., 1., 1., 1., 1., 1., 1., 1.,\n",
       "       1., 1., 1., 1., 1., 1., 1., 1., 1., 1., 1., 1., 1., 1., 1., 1., 1.,\n",
       "       1., 1., 1., 1., 1., 1., 1., 1., 1., 1., 1., 1., 1., 1.])"
      ]
     },
     "execution_count": 165,
     "metadata": {},
     "output_type": "execute_result"
    }
   ],
   "source": [
    "whole_dataset['4b7fbad4-f6de-43b4-9b15-c7c7ef44db4b']['CM'][1]['trial_data']['choices']"
   ]
  },
  {
   "cell_type": "code",
   "execution_count": 168,
   "metadata": {
    "colab": {
     "base_uri": "https://localhost:8080/"
    },
    "executionInfo": {
     "elapsed": 432,
     "status": "ok",
     "timestamp": 1679040262385,
     "user": {
      "displayName": "Charlie Huang",
      "userId": "05785404896816634261"
     },
     "user_tz": 420
    },
    "id": "_laLdbrOmCJk",
    "outputId": "31f4b946-295c-4b5a-a401-a21963a173f1"
   },
   "outputs": [
    {
     "data": {
      "text/plain": [
       "(252, 16, 120)"
      ]
     },
     "execution_count": 168,
     "metadata": {},
     "output_type": "execute_result"
    }
   ],
   "source": [
    "whole_dataset['4b7fbad4-f6de-43b4-9b15-c7c7ef44db4b']['CM'][1]['spike_counts'].shape"
   ]
  },
  {
   "cell_type": "code",
   "execution_count": null,
   "metadata": {
    "id": "_hYZBReNlTRE"
   },
   "outputs": [],
   "source": [
    "for eid in whole_dataset.keys():\n",
    "    "
   ]
  },
  {
   "cell_type": "code",
   "execution_count": 117,
   "metadata": {
    "colab": {
     "base_uri": "https://localhost:8080/"
    },
    "executionInfo": {
     "elapsed": 164,
     "status": "ok",
     "timestamp": 1679037461907,
     "user": {
      "displayName": "Charlie Huang",
      "userId": "05785404896816634261"
     },
     "user_tz": 420
    },
    "id": "uydHIVZ2V77A",
    "outputId": "561d2aa4-6f1b-469b-cb63-cb7f33066703"
   },
   "outputs": [
    {
     "data": {
      "text/plain": [
       "16"
      ]
     },
     "execution_count": 117,
     "metadata": {},
     "output_type": "execute_result"
    }
   ],
   "source": [
    "eid_cumulative = []\n",
    "from collections import Counter\n",
    "for roi in top_rois:\n",
    "    eid_cumulative += eid_dic[roi]\n",
    "eidcounts = Counter(eid_cumulative)\n",
    "max(eidcounts.values())"
   ]
  },
  {
   "cell_type": "code",
   "execution_count": 110,
   "metadata": {
    "colab": {
     "base_uri": "https://localhost:8080/"
    },
    "executionInfo": {
     "elapsed": 214,
     "status": "ok",
     "timestamp": 1679037327180,
     "user": {
      "displayName": "Charlie Huang",
      "userId": "05785404896816634261"
     },
     "user_tz": 420
    },
    "id": "spMZX8AFWXKe",
    "outputId": "b3d5639e-b1ec-4150-e621-ffd6d801b5ec"
   },
   "outputs": [
    {
     "data": {
      "text/plain": [
       "16"
      ]
     },
     "execution_count": 110,
     "metadata": {},
     "output_type": "execute_result"
    }
   ],
   "source": [
    "sorted_eid = np.argsort(list(eidcounts.values()))\n",
    "eid_relev = list(eidcounts.keys())\n",
    "top50_eids = [eid_relev[i] for i in sorted_eid[-50:]]\n",
    "top50_eids.reverse()\n",
    "eidcounts[top50_eids[0]]"
   ]
  },
  {
   "cell_type": "code",
   "execution_count": 115,
   "metadata": {
    "colab": {
     "base_uri": "https://localhost:8080/"
    },
    "executionInfo": {
     "elapsed": 194,
     "status": "ok",
     "timestamp": 1679037441257,
     "user": {
      "displayName": "Charlie Huang",
      "userId": "05785404896816634261"
     },
     "user_tz": 420
    },
    "id": "GJRPoKR_bU-x",
    "outputId": "01f163f5-3b93-4e59-b716-1a10db9a4e84"
   },
   "outputs": [
    {
     "data": {
      "text/plain": [
       "['VISpm',\n",
       " 'RSPagl',\n",
       " 'RSPd',\n",
       " 'RSPv',\n",
       " 'PTLp',\n",
       " 'CA1',\n",
       " 'CA2',\n",
       " 'CA3',\n",
       " 'DG',\n",
       " 'VPL',\n",
       " 'VPM',\n",
       " 'LGd',\n",
       " 'ZI',\n",
       " 'SCs',\n",
       " 'MRN',\n",
       " 'SCm',\n",
       " 'RN']"
      ]
     },
     "execution_count": 115,
     "metadata": {},
     "output_type": "execute_result"
    }
   ],
   "source": [
    "roi_dic[top50_eids[0]]"
   ]
  },
  {
   "cell_type": "code",
   "execution_count": null,
   "metadata": {
    "id": "Eo4yHuq1aSdA"
   },
   "outputs": [],
   "source": [
    "roiset = set(roi_dic[top50_eids[0]])\n",
    "for i,roi in enumerate(top50_eids):\n",
    "    if i == 0:\n",
    "      continue\n",
    "    roiset = roiset & set(roi_dic[top50_eids[i]])\n",
    "    print(len(roiset))"
   ]
  },
  {
   "cell_type": "code",
   "execution_count": 5,
   "metadata": {
    "colab": {
     "base_uri": "https://localhost:8080/",
     "height": 321
    },
    "executionInfo": {
     "elapsed": 389,
     "status": "ok",
     "timestamp": 1678942867396,
     "user": {
      "displayName": "Charlie Huang",
      "userId": "05785404896816634261"
     },
     "user_tz": 420
    },
    "id": "27R4QwfJxE6H",
    "outputId": "526e9c47-eadb-4c12-dbff-df4d8467cfc6"
   },
   "outputs": [
    {
     "name": "stdout",
     "output_type": "stream",
     "text": [
      "The EID with the most simultaneous recordings is: 2c44a360-5a56-4971-8009-f469fb59de98 with 19\n",
      "Rois:  ['MOp', 'MOs', 'ACAd', 'ACAv', 'PL', 'ILA', 'TT', 'DP', 'CA3', 'DG', 'ACB', 'OT', 'LSr', 'SI', 'AMd', 'IAD', 'MD', 'PVT', 'CM']\n"
     ]
    },
    {
     "data": {
      "image/png": "[encoded data removed]",
      "text/plain": [
       "<Figure size 432x288 with 1 Axes>"
      ]
     },
     "metadata": {
      "needs_background": "light"
     },
     "output_type": "display_data"
    }
   ],
   "source": [
    "record_lens = [len(record) for record in roi_records]\n",
    "highscore_ind = np.argmax(record_lens)\n",
    "\n",
    "plt.hist(record_lens)\n",
    "\n",
    "# highscore_ind is the index corresponding to an eid\n",
    "# \n",
    "eid_most = all_eids[highscore_ind]\n",
    "corr_regions = roi_records[highscore_ind]\n",
    "print('The EID with the most simultaneous recordings is: ' + eid_most + ' with ' + str(len(corr_regions)))\n",
    "print('Rois: ', corr_regions)"
   ]
  },
  {
   "cell_type": "code",
   "execution_count": null,
   "metadata": {
    "id": "fgDxUuYLBRrh"
   },
   "outputs": [],
   "source": []
  },
  {
   "cell_type": "code",
   "execution_count": null,
   "metadata": {
    "id": "ZZnTEwb_57Ge"
   },
   "outputs": [],
   "source": []
  },
  {
   "cell_type": "markdown",
   "metadata": {
    "id": "1xnNs2z_xK9d"
   },
   "source": [
    "3) Dataset generation below"
   ]
  },
  {
   "cell_type": "code",
   "execution_count": 156,
   "metadata": {
    "executionInfo": {
     "elapsed": 165,
     "status": "ok",
     "timestamp": 1679039677962,
     "user": {
      "displayName": "Charlie Huang",
      "userId": "05785404896816634261"
     },
     "user_tz": 420
    },
    "id": "yprP8tTPxF3u"
   },
   "outputs": [],
   "source": [
    "\n",
    "eid_most = '2c44a360-5a56-4971-8009-f469fb59de98'\n",
    "corr_regions = ['MOp', 'MOs', 'ACAd', 'ACAv', 'PL', 'ILA', 'TT', 'DP', 'CA3', 'DG', 'ACB', 'OT', 'LSr', 'SI', 'AMd', 'IAD', 'MD', 'PVT', 'CM']\n",
    "\n",
    "#this code is written for an eid with two pids (two probes)\n",
    "\n",
    "def get_data_per_recording(eid, corr_regions):\n",
    "    datalist = get_spikedata_eid(eid_most)\n",
    "    trials = one.load_object(eid_most, 'trials')\n",
    "\n",
    "    region_2_relevneur = {}\n",
    "    region_2_data = {}\n",
    "\n",
    "    # def get_matrices(trials, spikes, relev_neur, param = 'choice', param_condition = -1):\n",
    "    count = 0\n",
    "    for region in corr_regions:\n",
    "        probe = 0\n",
    "        relev_neur = [i for i, acronym in enumerate(datalist[probe][1]['acronym']) if region in acronym] #datalist[probe][1 = cluster]\n",
    "        if len(relev_neur) == 0:\n",
    "            probe = 1\n",
    "            relev_neur = [i for i, acronym in enumerate(datalist[probe][1]['acronym']) if region in acronym]\n",
    "        region_2_relevneur[region] = relev_neur\n",
    "        \n",
    "        dic = {}\n",
    "        for condition in [-1,1]:\n",
    "            mini_dic = {}\n",
    "            peth, spike_counts, trial_data = get_matrices(trials, datalist[probe][0], relev_neur, param = 'choice', param_condition=condition)\n",
    "            mini_dic['peth'] = peth\n",
    "            mini_dic['spike_counts'] = spike_counts\n",
    "            mini_dic['trial_data'] = trial_data\n",
    "            dic[condition] = mini_dic\n",
    "        region_2_data[region] = dic\n",
    "\n",
    "    return region_2_data"
   ]
  },
  {
   "cell_type": "code",
   "execution_count": 17,
   "metadata": {
    "colab": {
     "base_uri": "https://localhost:8080/"
    },
    "executionInfo": {
     "elapsed": 358,
     "status": "ok",
     "timestamp": 1679028447160,
     "user": {
      "displayName": "Charlie Huang",
      "userId": "05785404896816634261"
     },
     "user_tz": 420
    },
    "id": "NuYeN9wq4unN",
    "outputId": "2218c265-0a4b-44ba-b8e2-00493910295a"
   },
   "outputs": [
    {
     "name": "stdout",
     "output_type": "stream",
     "text": [
      "4.601481504547704\n"
     ]
    }
   ],
   "source": [
    "diff = 0\n",
    "for i,trial in enumerate(trials['goCueTrigger_times']):\n",
    "    if i == len(trials['goCueTrigger_times'])-1:\n",
    "        break\n",
    "    diff += trials['goCueTrigger_times'][i+1] - trials['goCueTrigger_times'][i]\n",
    "print(diff/i)"
   ]
  },
  {
   "cell_type": "code",
   "execution_count": null,
   "metadata": {
    "id": "uBNBn1BdxVzl"
   },
   "outputs": [],
   "source": [
    "#summarize dimensions\n",
    "#peth means is neurons by time (averaged over trials)\n",
    "#spike_counts is trials by neurons by time\n",
    "#trial_data contains behavioral parameters (choice, feedback, movement_initiation_time, etc)\n",
    "\n",
    "for roi in region_2_data:\n",
    "    print('ROI: ', roi)\n",
    "    for condition in [-1,1]:\n",
    "        print('Choice: ', condition)\n",
    "        print(region_2_data[roi][condition]['peth']['means'].shape)\n",
    "        print(region_2_data[roi][condition]['spike_counts'].shape)\n",
    "        print(region_2_data[roi][condition]['trial_data']['choices'].shape)"
   ]
  },
  {
   "cell_type": "code",
   "execution_count": 92,
   "metadata": {
    "executionInfo": {
     "elapsed": 977,
     "status": "ok",
     "timestamp": 1678947393049,
     "user": {
      "displayName": "Charlie Huang",
      "userId": "05785404896816634261"
     },
     "user_tz": 420
    },
    "id": "ph59BwCQz2br"
   },
   "outputs": [],
   "source": [
    "#first pass classification task\n",
    "from sklearn.model_selection import train_test_split\n",
    "from sklearn import metrics\n",
    "def check_accuracy_peregion(region_2_data, model, squash = 'mean'):\n",
    "\n",
    "    rois = region_2_data.keys()\n",
    "\n",
    "    for ex_roi in rois:\n",
    "        num_trials = region_2_data[ex_roi][-1]['trial_data']['choices'].shape[0] + region_2_data[ex_roi][1]['trial_data']['choices'].shape[0]\n",
    "        training_size = 480\n",
    "        T = region_2_data[ex_roi][1]['spike_counts'].shape[-1]\n",
    "        whole_data = []\n",
    "        whole_outputs = []\n",
    "\n",
    "        for condition in [-1,1]:\n",
    "            spike_counts = region_2_data[ex_roi][condition]['spike_counts']\n",
    "            if squash == 'mean':\n",
    "                # print(spike_counts.shape)\n",
    "                dat = np.mean(spike_counts, axis=1) #averaging over neurons\n",
    "                # print(dat.shape)\n",
    "            elif squash == 'vec':\n",
    "                dat = spike_counts.reshape(spike_counts.shape[0],-1)\n",
    "\n",
    "            whole_data.append(dat)\n",
    "            whole_outputs.append(region_2_data[ex_roi][condition]['trial_data']['choices'])\n",
    "        whole_data = np.vstack(whole_data)\n",
    "        whole_outputs = np.hstack(whole_outputs)\n",
    "        print(whole_data.shape, whole_outputs.shape)\n",
    "\n",
    "        X_train, X_test, y_train, y_test = train_test_split(whole_data, whole_outputs, test_size=0.2)\n",
    "        \n",
    "        model.fit(X_train, y_train)\n",
    "        y_pred = model.predict(X_test)\n",
    "\n",
    "        # Model Accuracy: how often is the classifier correct?\n",
    "        print(ex_roi + \" accuracy:\",metrics.accuracy_score(y_test, y_pred))"
   ]
  },
  {
   "cell_type": "code",
   "execution_count": 94,
   "metadata": {
    "colab": {
     "base_uri": "https://localhost:8080/"
    },
    "executionInfo": {
     "elapsed": 51605,
     "status": "ok",
     "timestamp": 1678947454998,
     "user": {
      "displayName": "Charlie Huang",
      "userId": "05785404896816634261"
     },
     "user_tz": 420
    },
    "id": "DTmggCqj-7NN",
    "outputId": "32b66812-c07c-4556-e891-29f2bfbe783a"
   },
   "outputs": [
    {
     "name": "stdout",
     "output_type": "stream",
     "text": [
      "(600, 120) (600,)\n",
      "MOp accuracy: 0.6166666666666667\n",
      "(600, 120) (600,)\n",
      "MOs accuracy: 0.6416666666666667\n",
      "(600, 120) (600,)\n",
      "ACAd accuracy: 0.5666666666666667\n",
      "(600, 120) (600,)\n",
      "ACAv accuracy: 0.5666666666666667\n",
      "(600, 120) (600,)\n",
      "PL accuracy: 0.7583333333333333\n",
      "(600, 120) (600,)\n",
      "ILA accuracy: 0.625\n",
      "(600, 120) (600,)\n",
      "TT accuracy: 0.6\n",
      "(600, 120) (600,)\n",
      "DP accuracy: 0.525\n",
      "(600, 120) (600,)\n",
      "CA3 accuracy: 0.675\n",
      "(600, 120) (600,)\n",
      "DG accuracy: 0.6416666666666667\n",
      "(600, 120) (600,)\n",
      "ACB accuracy: 0.5833333333333334\n",
      "(600, 120) (600,)\n",
      "OT accuracy: 0.5916666666666667\n",
      "(600, 120) (600,)\n",
      "LSr accuracy: 0.6416666666666667\n",
      "(600, 120) (600,)\n",
      "SI accuracy: 0.5666666666666667\n",
      "(600, 120) (600,)\n",
      "AMd accuracy: 0.6166666666666667\n",
      "(600, 120) (600,)\n",
      "IAD accuracy: 0.5833333333333334\n",
      "(600, 120) (600,)\n",
      "MD accuracy: 0.5833333333333334\n",
      "(600, 120) (600,)\n",
      "PVT accuracy: 0.6083333333333333\n",
      "(600, 120) (600,)\n",
      "CM accuracy: 0.5833333333333334\n",
      "\n",
      "With vectorize\n",
      "(600, 1800) (600,)\n",
      "MOp accuracy: 0.6666666666666666\n",
      "(600, 14040) (600,)\n",
      "MOs accuracy: 0.7916666666666666\n",
      "(600, 4560) (600,)\n",
      "ACAd accuracy: 0.775\n",
      "(600, 3960) (600,)\n",
      "ACAv accuracy: 0.7833333333333333\n",
      "(600, 4680) (600,)\n",
      "PL accuracy: 0.8083333333333333\n",
      "(600, 25440) (600,)\n",
      "ILA accuracy: 0.6416666666666667\n",
      "(600, 1080) (600,)\n",
      "TT accuracy: 0.5083333333333333\n",
      "(600, 360) (600,)\n",
      "DP accuracy: 0.6\n",
      "(600, 2760) (600,)\n",
      "CA3 accuracy: 0.8083333333333333\n",
      "(600, 3240) (600,)\n",
      "DG accuracy: 0.6333333333333333\n",
      "(600, 30120) (600,)\n",
      "ACB accuracy: 0.675\n",
      "(600, 480) (600,)\n",
      "OT accuracy: 0.575\n",
      "(600, 11760) (600,)\n",
      "LSr accuracy: 0.625\n",
      "(600, 6600) (600,)\n",
      "SI accuracy: 0.6083333333333333\n",
      "(600, 1560) (600,)\n",
      "AMd accuracy: 0.5166666666666667\n",
      "(600, 3240) (600,)\n",
      "IAD accuracy: 0.6333333333333333\n",
      "(600, 5520) (600,)\n",
      "MD accuracy: 0.6583333333333333\n",
      "(600, 10080) (600,)\n",
      "PVT accuracy: 0.6416666666666667\n",
      "(600, 1920) (600,)\n",
      "CM accuracy: 0.6583333333333333\n"
     ]
    }
   ],
   "source": [
    "from sklearn import svm\n",
    "clf = svm.SVC(kernel='rbf')\n",
    "check_accuracy_peregion(clf, squash = 'mean')\n",
    "print('\\nWith vectorize')\n",
    "check_accuracy_peregion(clf, squash = 'vec')"
   ]
  },
  {
   "cell_type": "code",
   "execution_count": 83,
   "metadata": {
    "colab": {
     "base_uri": "https://localhost:8080/",
     "height": 782
    },
    "executionInfo": {
     "elapsed": 843,
     "status": "error",
     "timestamp": 1678947207391,
     "user": {
      "displayName": "Charlie Huang",
      "userId": "05785404896816634261"
     },
     "user_tz": 420
    },
    "id": "WJSDVl20DTxv",
    "outputId": "af2cfecc-c7f4-4e1f-e8d9-078359bca12c"
   },
   "outputs": [
    {
     "ename": "ValueError",
     "evalue": "ignored",
     "output_type": "error",
     "traceback": [
      "\u001b[0;31m---------------------------------------------------------------------------\u001b[0m",
      "\u001b[0;31mValueError\u001b[0m                                Traceback (most recent call last)",
      "\u001b[0;32m<ipython-input-83-1985e33dc864>\u001b[0m in \u001b[0;36m<module>\u001b[0;34m\u001b[0m\n\u001b[1;32m      1\u001b[0m \u001b[0;32mfrom\u001b[0m \u001b[0msklearn\u001b[0m \u001b[0;32mimport\u001b[0m \u001b[0msvm\u001b[0m\u001b[0;34m\u001b[0m\u001b[0;34m\u001b[0m\u001b[0m\n\u001b[1;32m      2\u001b[0m \u001b[0mclf\u001b[0m \u001b[0;34m=\u001b[0m \u001b[0msvm\u001b[0m\u001b[0;34m.\u001b[0m\u001b[0mSVC\u001b[0m\u001b[0;34m(\u001b[0m\u001b[0mkernel\u001b[0m\u001b[0;34m=\u001b[0m\u001b[0;34m'rbf'\u001b[0m\u001b[0;34m)\u001b[0m\u001b[0;34m\u001b[0m\u001b[0;34m\u001b[0m\u001b[0m\n\u001b[0;32m----> 3\u001b[0;31m \u001b[0mcheck_accuracy_peregion\u001b[0m\u001b[0;34m(\u001b[0m\u001b[0mclf\u001b[0m\u001b[0;34m,\u001b[0m \u001b[0msquash\u001b[0m \u001b[0;34m=\u001b[0m \u001b[0;34m'mean'\u001b[0m\u001b[0;34m)\u001b[0m\u001b[0;34m\u001b[0m\u001b[0;34m\u001b[0m\u001b[0m\n\u001b[0m\u001b[1;32m      4\u001b[0m \u001b[0mprint\u001b[0m\u001b[0;34m(\u001b[0m\u001b[0;34m'\\nWith vectorize'\u001b[0m\u001b[0;34m)\u001b[0m\u001b[0;34m\u001b[0m\u001b[0;34m\u001b[0m\u001b[0m\n\u001b[1;32m      5\u001b[0m \u001b[0mcheck_accuracy_peregion\u001b[0m\u001b[0;34m(\u001b[0m\u001b[0mclf\u001b[0m\u001b[0;34m,\u001b[0m \u001b[0msquash\u001b[0m \u001b[0;34m=\u001b[0m \u001b[0;34m'vec'\u001b[0m\u001b[0;34m)\u001b[0m\u001b[0;34m\u001b[0m\u001b[0;34m\u001b[0m\u001b[0m\n",
      "\u001b[0;32m<ipython-input-82-c0903719a5e5>\u001b[0m in \u001b[0;36mcheck_accuracy_peregion\u001b[0;34m(model, squash)\u001b[0m\n\u001b[1;32m     24\u001b[0m         \u001b[0mwhole_outputs\u001b[0m \u001b[0;34m=\u001b[0m \u001b[0mnp\u001b[0m\u001b[0;34m.\u001b[0m\u001b[0mhstack\u001b[0m\u001b[0;34m(\u001b[0m\u001b[0mwhole_outputs\u001b[0m\u001b[0;34m)\u001b[0m\u001b[0;34m\u001b[0m\u001b[0;34m\u001b[0m\u001b[0m\n\u001b[1;32m     25\u001b[0m \u001b[0;34m\u001b[0m\u001b[0m\n\u001b[0;32m---> 26\u001b[0;31m         \u001b[0mX_train\u001b[0m\u001b[0;34m,\u001b[0m \u001b[0mX_test\u001b[0m\u001b[0;34m,\u001b[0m \u001b[0my_train\u001b[0m\u001b[0;34m,\u001b[0m \u001b[0my_test\u001b[0m \u001b[0;34m=\u001b[0m \u001b[0mtrain_test_split\u001b[0m\u001b[0;34m(\u001b[0m\u001b[0mwhole_data\u001b[0m\u001b[0;34m,\u001b[0m \u001b[0mwhole_outputs\u001b[0m\u001b[0;34m,\u001b[0m \u001b[0mtest_size\u001b[0m\u001b[0;34m=\u001b[0m\u001b[0;36m0.2\u001b[0m\u001b[0;34m)\u001b[0m\u001b[0;34m\u001b[0m\u001b[0;34m\u001b[0m\u001b[0m\n\u001b[0m\u001b[1;32m     27\u001b[0m \u001b[0;34m\u001b[0m\u001b[0m\n\u001b[1;32m     28\u001b[0m         \u001b[0mmodel\u001b[0m\u001b[0;34m.\u001b[0m\u001b[0mfit\u001b[0m\u001b[0;34m(\u001b[0m\u001b[0mX_train\u001b[0m\u001b[0;34m,\u001b[0m \u001b[0my_train\u001b[0m\u001b[0;34m)\u001b[0m\u001b[0;34m\u001b[0m\u001b[0;34m\u001b[0m\u001b[0m\n",
      "\u001b[0;32m/usr/local/lib/python3.9/dist-packages/sklearn/model_selection/_split.py\u001b[0m in \u001b[0;36mtrain_test_split\u001b[0;34m(test_size, train_size, random_state, shuffle, stratify, *arrays)\u001b[0m\n\u001b[1;32m   2557\u001b[0m         \u001b[0;32mraise\u001b[0m \u001b[0mValueError\u001b[0m\u001b[0;34m(\u001b[0m\u001b[0;34m\"At least one array required as input\"\u001b[0m\u001b[0;34m)\u001b[0m\u001b[0;34m\u001b[0m\u001b[0;34m\u001b[0m\u001b[0m\n\u001b[1;32m   2558\u001b[0m \u001b[0;34m\u001b[0m\u001b[0m\n\u001b[0;32m-> 2559\u001b[0;31m     \u001b[0marrays\u001b[0m \u001b[0;34m=\u001b[0m \u001b[0mindexable\u001b[0m\u001b[0;34m(\u001b[0m\u001b[0;34m*\u001b[0m\u001b[0marrays\u001b[0m\u001b[0;34m)\u001b[0m\u001b[0;34m\u001b[0m\u001b[0;34m\u001b[0m\u001b[0m\n\u001b[0m\u001b[1;32m   2560\u001b[0m \u001b[0;34m\u001b[0m\u001b[0m\n\u001b[1;32m   2561\u001b[0m     \u001b[0mn_samples\u001b[0m \u001b[0;34m=\u001b[0m \u001b[0m_num_samples\u001b[0m\u001b[0;34m(\u001b[0m\u001b[0marrays\u001b[0m\u001b[0;34m[\u001b[0m\u001b[0;36m0\u001b[0m\u001b[0;34m]\u001b[0m\u001b[0;34m)\u001b[0m\u001b[0;34m\u001b[0m\u001b[0;34m\u001b[0m\u001b[0m\n",
      "\u001b[0;32m/usr/local/lib/python3.9/dist-packages/sklearn/utils/validation.py\u001b[0m in \u001b[0;36mindexable\u001b[0;34m(*iterables)\u001b[0m\n\u001b[1;32m    441\u001b[0m \u001b[0;34m\u001b[0m\u001b[0m\n\u001b[1;32m    442\u001b[0m     \u001b[0mresult\u001b[0m \u001b[0;34m=\u001b[0m \u001b[0;34m[\u001b[0m\u001b[0m_make_indexable\u001b[0m\u001b[0;34m(\u001b[0m\u001b[0mX\u001b[0m\u001b[0;34m)\u001b[0m \u001b[0;32mfor\u001b[0m \u001b[0mX\u001b[0m \u001b[0;32min\u001b[0m \u001b[0miterables\u001b[0m\u001b[0;34m]\u001b[0m\u001b[0;34m\u001b[0m\u001b[0;34m\u001b[0m\u001b[0m\n\u001b[0;32m--> 443\u001b[0;31m     \u001b[0mcheck_consistent_length\u001b[0m\u001b[0;34m(\u001b[0m\u001b[0;34m*\u001b[0m\u001b[0mresult\u001b[0m\u001b[0;34m)\u001b[0m\u001b[0;34m\u001b[0m\u001b[0;34m\u001b[0m\u001b[0m\n\u001b[0m\u001b[1;32m    444\u001b[0m     \u001b[0;32mreturn\u001b[0m \u001b[0mresult\u001b[0m\u001b[0;34m\u001b[0m\u001b[0;34m\u001b[0m\u001b[0m\n\u001b[1;32m    445\u001b[0m \u001b[0;34m\u001b[0m\u001b[0m\n",
      "\u001b[0;32m/usr/local/lib/python3.9/dist-packages/sklearn/utils/validation.py\u001b[0m in \u001b[0;36mcheck_consistent_length\u001b[0;34m(*arrays)\u001b[0m\n\u001b[1;32m    395\u001b[0m     \u001b[0muniques\u001b[0m \u001b[0;34m=\u001b[0m \u001b[0mnp\u001b[0m\u001b[0;34m.\u001b[0m\u001b[0munique\u001b[0m\u001b[0;34m(\u001b[0m\u001b[0mlengths\u001b[0m\u001b[0;34m)\u001b[0m\u001b[0;34m\u001b[0m\u001b[0;34m\u001b[0m\u001b[0m\n\u001b[1;32m    396\u001b[0m     \u001b[0;32mif\u001b[0m \u001b[0mlen\u001b[0m\u001b[0;34m(\u001b[0m\u001b[0muniques\u001b[0m\u001b[0;34m)\u001b[0m \u001b[0;34m>\u001b[0m \u001b[0;36m1\u001b[0m\u001b[0;34m:\u001b[0m\u001b[0;34m\u001b[0m\u001b[0;34m\u001b[0m\u001b[0m\n\u001b[0;32m--> 397\u001b[0;31m         raise ValueError(\n\u001b[0m\u001b[1;32m    398\u001b[0m             \u001b[0;34m\"Found input variables with inconsistent numbers of samples: %r\"\u001b[0m\u001b[0;34m\u001b[0m\u001b[0;34m\u001b[0m\u001b[0m\n\u001b[1;32m    399\u001b[0m             \u001b[0;34m%\u001b[0m \u001b[0;34m[\u001b[0m\u001b[0mint\u001b[0m\u001b[0;34m(\u001b[0m\u001b[0ml\u001b[0m\u001b[0;34m)\u001b[0m \u001b[0;32mfor\u001b[0m \u001b[0ml\u001b[0m \u001b[0;32min\u001b[0m \u001b[0mlengths\u001b[0m\u001b[0;34m]\u001b[0m\u001b[0;34m\u001b[0m\u001b[0;34m\u001b[0m\u001b[0m\n",
      "\u001b[0;31mValueError\u001b[0m: Found input variables with inconsistent numbers of samples: [30, 600]"
     ]
    }
   ],
   "source": [
    "from sklearn import svm\n",
    "clf = svm.SVC(kernel='rbf')\n",
    "check_accuracy_peregion(clf, squash = 'mean')\n",
    "print('\\nWith vectorize')\n",
    "check_accuracy_peregion(clf, squash = 'vec')"
   ]
  },
  {
   "cell_type": "code",
   "execution_count": 73,
   "metadata": {
    "colab": {
     "base_uri": "https://localhost:8080/"
    },
    "executionInfo": {
     "elapsed": 622,
     "status": "ok",
     "timestamp": 1678946258367,
     "user": {
      "displayName": "Charlie Huang",
      "userId": "05785404896816634261"
     },
     "user_tz": 420
    },
    "id": "r0RULJps_pWL",
    "outputId": "ca8e0696-cb9b-46f4-daf3-37f669cc6022"
   },
   "outputs": [
    {
     "name": "stdout",
     "output_type": "stream",
     "text": [
      "MOp accuracy: 0.5833333333333334\n",
      "MOs accuracy: 0.6416666666666667\n",
      "ACAd accuracy: 0.6833333333333333\n",
      "ACAv accuracy: 0.6166666666666667\n",
      "PL accuracy: 0.7166666666666667\n",
      "ILA accuracy: 0.6583333333333333\n",
      "TT accuracy: 0.5833333333333334\n",
      "DP accuracy: 0.5666666666666667\n",
      "CA3 accuracy: 0.6416666666666667\n",
      "DG accuracy: 0.5583333333333333\n",
      "ACB accuracy: 0.5833333333333334\n",
      "OT accuracy: 0.5583333333333333\n",
      "LSr accuracy: 0.5833333333333334\n",
      "SI accuracy: 0.6\n",
      "AMd accuracy: 0.5666666666666667\n",
      "IAD accuracy: 0.6416666666666667\n",
      "MD accuracy: 0.6\n",
      "PVT accuracy: 0.6166666666666667\n",
      "CM accuracy: 0.5833333333333334\n"
     ]
    }
   ],
   "source": [
    "from sklearn.naive_bayes import GaussianNB\n",
    "gnb = GaussianNB()\n",
    "check_accuracy_peregion(clf)"
   ]
  },
  {
   "cell_type": "code",
   "execution_count": 74,
   "metadata": {
    "colab": {
     "base_uri": "https://localhost:8080/"
    },
    "executionInfo": {
     "elapsed": 252,
     "status": "ok",
     "timestamp": 1678946345858,
     "user": {
      "displayName": "Charlie Huang",
      "userId": "05785404896816634261"
     },
     "user_tz": 420
    },
    "id": "otGFfSJP_zoj",
    "outputId": "6820eddc-71d1-4ced-9536-6a2217ec59c2"
   },
   "outputs": [
    {
     "name": "stdout",
     "output_type": "stream",
     "text": [
      "MOp accuracy: 0.6083333333333333\n",
      "MOs accuracy: 0.7166666666666667\n",
      "ACAd accuracy: 0.7083333333333334\n",
      "ACAv accuracy: 0.65\n",
      "PL accuracy: 0.725\n",
      "ILA accuracy: 0.7\n",
      "TT accuracy: 0.625\n",
      "DP accuracy: 0.5916666666666667\n",
      "CA3 accuracy: 0.6333333333333333\n",
      "DG accuracy: 0.6166666666666667\n",
      "ACB accuracy: 0.675\n",
      "OT accuracy: 0.5\n",
      "LSr accuracy: 0.5583333333333333\n",
      "SI accuracy: 0.625\n",
      "AMd accuracy: 0.55\n",
      "IAD accuracy: 0.6083333333333333\n",
      "MD accuracy: 0.5916666666666667\n",
      "PVT accuracy: 0.5583333333333333\n",
      "CM accuracy: 0.55\n"
     ]
    }
   ],
   "source": [
    "from sklearn.linear_model import LogisticRegression\n",
    "clf_logr = LogisticRegression(random_state=0)\n",
    "check_accuracy_peregion(clf_logr)"
   ]
  },
  {
   "cell_type": "code",
   "execution_count": 67,
   "metadata": {
    "colab": {
     "base_uri": "https://localhost:8080/"
    },
    "executionInfo": {
     "elapsed": 340,
     "status": "ok",
     "timestamp": 1678945948967,
     "user": {
      "displayName": "Charlie Huang",
      "userId": "05785404896816634261"
     },
     "user_tz": 420
    },
    "id": "t24OvORC885J",
    "outputId": "90e16df2-bef4-4f3f-f3ac-e166f27b20c2"
   },
   "outputs": [
    {
     "name": "stdout",
     "output_type": "stream",
     "text": [
      "(480, 15) (480, 117)\n",
      "(480, 132) (480, 38)\n",
      "(480, 170) (480, 33)\n",
      "(480, 203) (480, 39)\n",
      "(480, 242) (480, 212)\n",
      "(480, 454) (480, 9)\n",
      "(480, 463) (480, 3)\n",
      "(480, 466) (480, 23)\n",
      "(480, 489) (480, 27)\n",
      "(480, 516) (480, 251)\n",
      "(480, 767) (480, 4)\n",
      "(480, 771) (480, 98)\n",
      "(480, 869) (480, 55)\n",
      "(480, 924) (480, 13)\n",
      "(480, 937) (480, 27)\n",
      "(480, 964) (480, 46)\n",
      "(480, 1010) (480, 84)\n",
      "(480, 1094) (480, 16)\n",
      "(480, 1110)\n",
      "(120, 1110)\n"
     ]
    }
   ],
   "source": [
    "#first pass classification task\n",
    "\n",
    "rois = region_2_data.keys()\n",
    "X_trains = None\n",
    "X_tests = None\n",
    "\n",
    "for ex_roi in rois:\n",
    "    num_trials = region_2_data[ex_roi][-1]['trial_data']['choices'].shape[0] + region_2_data[ex_roi][1]['trial_data']['choices'].shape[0]\n",
    "    training_size = 480\n",
    "\n",
    "    T = region_2_data[ex_roi][1]['spike_counts'].shape[-1]\n",
    "    whole_data = []\n",
    "    whole_outputs = []\n",
    "\n",
    "    for condition in [-1,1]:\n",
    "        spike_counts = region_2_data[ex_roi][condition]['spike_counts']\n",
    "\n",
    "        whole_data.append(dat)\n",
    "        whole_outputs.append(region_2_data[ex_roi][condition]['trial_data']['choices'])\n",
    "    whole_data = np.vstack(whole_data)\n",
    "    whole_outputs = np.hstack(whole_outputs)\n",
    "\n",
    "    from sklearn.model_selection import train_test_split\n",
    "    X_train, X_test, y_train, y_test = train_test_split(whole_data, whole_outputs, test_size=0.2)\n",
    "    if X_trains is None:\n",
    "        X_trains = X_train\n",
    "        X_tests = X_test\n",
    "    else:\n",
    "        print(X_trains.shape, X_train.shape)\n",
    "        X_trains = np.hstack([X_trains, X_train])\n",
    "        X_tests = np.hstack([X_tests, X_test])\n",
    "    \n",
    "\n",
    "print(X_trains.shape)\n",
    "print(X_tests.shape)\n",
    "\n"
   ]
  },
  {
   "cell_type": "code",
   "execution_count": 68,
   "metadata": {
    "colab": {
     "base_uri": "https://localhost:8080/"
    },
    "executionInfo": {
     "elapsed": 582,
     "status": "ok",
     "timestamp": 1678945961307,
     "user": {
      "displayName": "Charlie Huang",
      "userId": "05785404896816634261"
     },
     "user_tz": 420
    },
    "id": "pag-3eoA95EV",
    "outputId": "ec09b565-1b8c-42eb-d4a4-3622f3a9a423"
   },
   "outputs": [
    {
     "name": "stdout",
     "output_type": "stream",
     "text": [
      "CM accuracy: 0.5833333333333334\n"
     ]
    }
   ],
   "source": [
    "from sklearn import svm\n",
    "clf = svm.SVC(kernel='rbf')\n",
    "clf.fit(X_trains, y_train)\n",
    "y_pred = clf.predict(X_tests)\n",
    "from sklearn import metrics\n",
    "\n",
    "# Model Accuracy: how often is the classifier correct?\n",
    "print(ex_roi + \" accuracy:\",metrics.accuracy_score(y_test, y_pred))"
   ]
  }
 ],
 "metadata": {
  "colab": {
   "authorship_tag": "ABX9TyNuiX87frj5gp76S/fYn11J",
   "provenance": []
  },
  "kernelspec": {
   "display_name": "Python 3 (ipykernel)",
   "language": "python",
   "name": "python3"
  },
  "language_info": {
   "codemirror_mode": {
    "name": "ipython",
    "version": 3
   },
   "file_extension": ".py",
   "mimetype": "text/x-python",
   "name": "python",
   "nbconvert_exporter": "python",
   "pygments_lexer": "ipython3",
   "version": "3.10.6"
  }
 },
 "nbformat": 4,
 "nbformat_minor": 1
}
