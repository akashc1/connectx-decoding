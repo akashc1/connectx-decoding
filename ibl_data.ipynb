{
 "cells": [
  {
   "cell_type": "code",
   "execution_count": 2,
   "metadata": {
    "colab": {
     "base_uri": "https://localhost:8080/"
    },
    "id": "cVvlv2wyvhCN",
    "outputId": "9f8118f6-dd60-4b5d-8da5-8a8d7e87ca21"
   },
   "outputs": [],
   "source": [
    "import os\n",
    "\n",
    "import math\n",
    "import numpy as np\n",
    "import pandas as pd\n",
    "import matplotlib.pyplot as plt\n",
    "\n",
    "from brainbox.io.one import SpikeSortingLoader\n",
    "from brainbox.plot import peri_event_time_histogram\n",
    "from brainbox.singlecell import calculate_peths\n",
    "\n",
    "from ibllib.atlas import AllenAtlas\n",
    "from one.api import ONE\n",
    "\n",
    "one = ONE(base_url='https://openalyx.internationalbrainlab.org', password='international', silent=True)\n",
    "ba = AllenAtlas()"
   ]
  },
  {
   "cell_type": "code",
   "execution_count": 3,
   "metadata": {
    "id": "bVXM3Nng6rHA"
   },
   "outputs": [],
   "source": [
    "from sklearn.preprocessing import StandardScaler\n",
    "from sklearn.svm import SVC\n",
    "from sklearn.pipeline import make_pipeline"
   ]
  },
  {
   "cell_type": "markdown",
   "metadata": {
    "id": "BFFYiQzzUzos"
   },
   "source": [
    "# Helper function"
   ]
  },
  {
   "cell_type": "code",
   "execution_count": 4,
   "metadata": {
    "id": "Sieru7gpwKa5"
   },
   "outputs": [],
   "source": [
    "# move_times = [time for time in trials['firstMovement_times'] if time == time]\n",
    "\n",
    "\n",
    "FAMILY_DIC = {'MOp': [], 'STRd': ['CP'], 'STRv': ['ACB', 'FS']}\n",
    "\n",
    "TRIAL_PARAMS = ['stimOff_times', 'goCueTrigger_times', 'goCue_times', 'response_times', 'choice', 'stimOn_times', 'contrastLeft', 'contrastRight', 'probabilityLeft', 'feedback_times', 'feedbackType', 'rewardVolume', 'firstMovement_times', 'intervals']\n",
    "\n",
    "def remove_nans(lis, indices):\n",
    "    tes = np.array([[i,val] for i,val in enumerate(lis)])\n",
    "    # print(tes)\n",
    "    row_remove = np.argwhere(np.isnan(tes))\n",
    "    # print(\"***\")\n",
    "    # print(row_remove)\n",
    "    tes = tes[~np.isnan(tes).any(axis=1)]\n",
    "\n",
    "    return tes, row_remove[:,0]\n",
    "\n",
    "# move_times, removed_trials = remove_nans(trials['firstMovement_times'])\n",
    "# print(len(trials['firstMovement_times']), len(move_times))\n",
    "# print(removed_trials)\n",
    "\n",
    "def get_spikedata_pid(PID):\n",
    "    sl = SpikeSortingLoader(pid=PID, one=one, atlas=ba)\n",
    "    spikes, clusters, channels = sl.load_spike_sorting()\n",
    "    clusters = sl.merge_clusters(spikes, clusters, channels)\n",
    "    return spikes, clusters, channels\n",
    "\n",
    "def get_spikedata_eid(eid):\n",
    "    PIDlist = one.eid2pid(eid)\n",
    "    datalist = []\n",
    "    print(PIDlist)\n",
    "    for PID in PIDlist[0]:\n",
    "        sl = SpikeSortingLoader(pid=PID, one=one, atlas=ba)\n",
    "        spikes, clusters, channels = sl.load_spike_sorting()\n",
    "        clusters = sl.merge_clusters(spikes, clusters, channels)\n",
    "        datalist.append([spikes, clusters, channels])\n",
    "\n",
    "\n",
    "    f, ax = plt.subplots(1, 1, figsize=(3, 3))\n",
    "    \n",
    "    return datalist\n",
    "\n",
    "def select_trials(trial_data, trial_condition, condition):\n",
    "    indices = [i for i, trial in enumerate(trial_data) if trial_condition[i] == condition and not math.isnan(trial)]\n",
    "    result = [trial for i, trial in enumerate(trial_data) if i in indices]\n",
    "    return result, indices\n",
    "\n",
    "\n",
    "def get_matrices(trials, spikes, relev_neur, param = 'choice', param_condition = -1, trial_def = [3,3,0.05], trial_timing = 'firstMovement_times'):\n",
    "\n",
    "\n",
    "    move_trials, trial_indices = select_trials(trials[trial_timing], trials[param], param_condition)\n",
    "\n",
    "    #0D behavioral parameters \n",
    "    movement_choices = trials.choice[trial_indices]\n",
    "    trial_results = trials.feedbackType[trial_indices]\n",
    "\n",
    "    peth, spike_counts = calculate_peths(\n",
    "        spikes.times, spikes.clusters, relev_neur,\n",
    "        move_trials,\n",
    "        pre_time=trial_def[0], post_time=trial_def[1], bin_size=trial_def[2], smoothing=0)\n",
    "\n",
    "    print('peth[\"tscale\"] contains the timebin centers relative to the event')\n",
    "    print(f'\\npeth[\"means\"] is shaped: {peth[\"means\"].shape}')\n",
    "    print('This variable is NxB (neurons x timebins) and contains the mean spike rates over trials')\n",
    "    print(f'\\nspike_counts is shaped: {spike_counts.shape}')\n",
    "    print('This variable is TxNxB (trials x neurons x timebins) and contains all spike rates per trial')\n",
    "\n",
    "    # If you just want all the spikes over the entire 0-300 ms window you can sum like this:\n",
    "    whole_window = np.sum(spike_counts, axis=2)\n",
    "\n",
    "    print(np.linalg.norm(whole_window))\n",
    "    print(f'\\nwhole_window is shaped: {whole_window.shape}')\n",
    "    print('This variable is TxN (trials x neurons) and contains summed spike rates per trial')\n",
    "\n",
    "    trial_data = {}\n",
    "    trial_data['movement_init_times'] = move_trials\n",
    "    print(type(move_trials), len(move_trials))\n",
    "    trial_data['choices'] = movement_choices\n",
    "    trial_data['feedback'] = trial_results\n",
    "    trial_data['trial_indices'] = trial_indices\n",
    "\n",
    "\n",
    "    # f, ax = plt.subplots(1, 1, figsize=(3, 3))\n",
    "\n",
    "    # print('SPIKE CLUS')\n",
    "    # print(spikes.clusters.shape, spikes.clusters)\n",
    "    # print('SPIKE TIME')\n",
    "    # print(spikes.times.shape, spikes.times)\n",
    "\n",
    "\n",
    "    # print('DEBUG HERE')\n",
    "\n",
    "    # print(spikes.times.shape, spikes.clusters.shape, trials['firstMovement_times'].shape, len(relev_neur))\n",
    "    # peri_event_time_histogram(spikes.times, spikes.clusters, trials['firstMovement_times'],\n",
    "    #                           relev_neur,\n",
    "    #                           t_before=trial_def[0], t_after=trial_def[1],\n",
    "    #                           include_raster=True, error_bars='sem', ax=ax,\n",
    "    #                           pethline_kwargs={'color': 'black', 'lw': 1},\n",
    "    #                           errbar_kwargs={'color': 'black', 'alpha': 0.3},\n",
    "    #                           raster_kwargs={'color': 'black', 'lw': 0.3},\n",
    "    #                           eventline_kwargs={'lw': 0})\n",
    "    # ax.set(ylabel='spikes/s', xlabel='Time (s)')\n",
    "    # plt.tight_layout()\n",
    "    \n",
    "    \n",
    "\n",
    "    return peth, spike_counts, trial_data\n",
    "\n",
    "# get_matrices(trials, spikes, relev_neur)\n",
    "\n",
    "\n",
    "\n",
    "def gen_eidlist(roi_name):\n",
    "    ses = one.alyx.rest('sessions', 'list', atlas_acronym=roi_name)\n",
    "    eids = [i['id'] for i in ses]\n",
    "    return eids\n",
    "\n",
    "def gen_pidlist(roi_name):\n",
    "    ses = one.alyx.rest('insertions', 'list', atlas_acronym=roi_name)\n",
    "    # print(f'Found {len(ses)} recordings')\n",
    "    pids = [i['id'] for i in ses]\n",
    "    return pids\n",
    "\n",
    "def check_num_ses(list_of_eids):\n",
    "    roi_intersection = set(list_of_eids[0]).intersection(*list_of_eids[1:])\n",
    "    print('Found ' + str(len(list(roi_intersection))) +  'recording sessions')\n",
    "    return len(list(roi_intersection)), roi_intersection\n",
    "\n",
    "\n",
    "#family_dictionary = ['MOp1': ']\n",
    "\n",
    "def is_child_of(child, parent, family_dictionary=FAMILY_DIC):\n",
    "    if parent in child:\n",
    "        return True\n",
    "\n",
    "    # print(family_dictionary.keys())\n",
    "    if parent not in family_dictionary.keys():\n",
    "        return False\n",
    "    elif child in family_dictionary[parent]:\n",
    "        return True\n",
    "    else:\n",
    "        return False\n",
    "\n",
    "def get_data_per_recording(eid, corr_regions, trial_def = [3,3,0.05], trial_timing = 'firstMovement_times'):\n",
    "    datalist = get_spikedata_eid(eid)\n",
    "    trials = one.load_object(eid, 'trials')\n",
    "\n",
    "    region_2_relevneur = {}\n",
    "    region_2_data = {}\n",
    "\n",
    "    # def get_matrices(trials, spikes, relev_neur, param = 'choice', param_condition = -1):\n",
    "    count = 0\n",
    "    for region in corr_regions:\n",
    "        relev_neur_list = []\n",
    "\n",
    "        probe = 0\n",
    "        relev_neur_0 = [i for i, acronym in enumerate(datalist[probe][1]['acronym']) if is_child_of(acronym, region)]\n",
    "        if len(relev_neur_0) > 0: #will be performed if datalist has one probe OR has two probes\n",
    "                relev_neur_list.append(relev_neur_0)\n",
    "        if len(datalist) > 1: # if two probes\n",
    "            probe = 1\n",
    "            relev_neur_1 = [i for i, acronym in enumerate(datalist[probe][1]['acronym']) if is_child_of(acronym, region)]\n",
    "            if len(relev_neur_1) > 0:\n",
    "                relev_neur_list.append(relev_neur_1)\n",
    "        dic = {}\n",
    "        for condition in [-1,1]:\n",
    "            mini_dic = {}\n",
    "            probe = 0\n",
    "            peth, spike_counts, trial_data = get_matrices(trials, datalist[probe][0], relev_neur_list[probe], param = 'choice', param_condition=condition, trial_def = trial_def, trial_timing=trial_timing)\n",
    "            if len(relev_neur_list) > 1:\n",
    "                probe = 1\n",
    "                peth1, spike_counts1, trial_data1 = get_matrices(trials, datalist[probe][0], relev_neur_list[probe], param = 'choice', param_condition=condition, trial_def = trial_def, trial_timing=trial_timing)\n",
    "\n",
    "            mini_dic['peth'] = peth #not updating this cuz we never use it  \n",
    "            #TxNxB (trials x neurons x timebins)\n",
    "            if len(relev_neur_list) > 1:\n",
    "                conglom_spikes = np.hstack([spike_counts, spike_counts1])\n",
    "                print('spike_counts CONGLOM.shape: ', conglom_spikes.shape)\n",
    "                mini_dic['spike_counts'] = conglom_spikes\n",
    "                # conglom_trial_data = {}\n",
    "                # for key in trial_data:\n",
    "                #     conglom_trial = np.hstack([trial_data[key], trial_data1[key]])\n",
    "                #     print('trial_data CONGLOM.shape: ', conglom_trial.shape)\n",
    "                #     conglom_trial_data[key] = conglom_trial\n",
    "                mini_dic['trial_data'] = trial_data\n",
    "            else:\n",
    "                mini_dic['spike_counts'] = spike_counts\n",
    "                mini_dic['trial_data'] = trial_data\n",
    "          \n",
    "            dic[condition] = mini_dic\n",
    "        region_2_data[region] = dic\n",
    "\n",
    "    return region_2_data\n"
   ]
  },
  {
   "cell_type": "markdown",
   "metadata": {
    "id": "eFPnsG5FmpSf"
   },
   "source": [
    "**Projectome data loading**"
   ]
  },
  {
   "cell_type": "code",
   "execution_count": null,
   "metadata": {
    "colab": {
     "base_uri": "https://localhost:8080/"
    },
    "id": "uI466qp_IjGO",
    "outputId": "33083c82-3aff-4a48-dcd8-ec88b5e6be8e"
   },
   "outputs": [
    {
     "name": "stdout",
     "output_type": "stream",
     "text": [
      "Source is rows, Target is columns\n"
     ]
    },
    {
     "name": "stderr",
     "output_type": "stream",
     "text": [
      "/usr/local/lib/python3.9/dist-packages/openpyxl/worksheet/header_footer.py:48: UserWarning: Cannot parse header or footer so it will be ignored\n",
      "  warn(\"\"\"Cannot parse header or footer so it will be ignored\"\"\")\n"
     ]
    }
   ],
   "source": [
    "projectome = pd.read_excel('proj_strengths_sup3.xlsx', sheet_name='W_ipsi', index_col = 0)\n",
    "print(\"Source is rows, Target is columns\")"
   ]
  },
  {
   "cell_type": "code",
   "execution_count": null,
   "metadata": {
    "id": "ZUswWcryrE-R"
   },
   "outputs": [],
   "source": [
    "projec_roi = projectome.columns"
   ]
  },
  {
   "cell_type": "code",
   "execution_count": null,
   "metadata": {
    "colab": {
     "base_uri": "https://localhost:8080/"
    },
    "id": "Ep5j2UB1sGCA",
    "outputId": "5e726c6d-ca1a-4f81-dc25-a2e36bafd55e"
   },
   "outputs": [
    {
     "data": {
      "text/plain": [
       "0.0"
      ]
     },
     "execution_count": 26,
     "metadata": {},
     "output_type": "execute_result"
    }
   ],
   "source": [
    "source = 'VM'\n",
    "target = 'VAL'\n",
    "projectome.loc[source, target]"
   ]
  },
  {
   "cell_type": "code",
   "execution_count": null,
   "metadata": {
    "colab": {
     "base_uri": "https://localhost:8080/",
     "height": 265
    },
    "id": "QDfvBow-t10O",
    "outputId": "38b627f1-2c10-44c2-8736-f15af09c2f6d"
   },
   "outputs": [
    {
     "data": {
      "image/png": "[encoded data removed]",
      "text/plain": [
       "<Figure size 432x288 with 1 Axes>"
      ]
     },
     "metadata": {
      "needs_background": "light"
     },
     "output_type": "display_data"
    }
   ],
   "source": [
    "strengths = np.zeros([7,7])\n",
    "for i,source in enumerate(rois_opt):\n",
    "    for j, target in enumerate(rois_opt):\n",
    "        # print(round(projectome.loc[source, target], 2))\n",
    "        strengths[i,j] = projectome.loc[source, target]\n",
    "    if np.sum(strengths[i,:]) > 0:\n",
    "        strengths[i,:] /= np.sum(strengths[i,:])\n",
    "plt.imshow(strengths)\n",
    "strength_df = pd.DataFrame(strengths, columns = rois_opt, index = rois_opt)"
   ]
  },
  {
   "cell_type": "code",
   "execution_count": null,
   "metadata": {
    "colab": {
     "base_uri": "https://localhost:8080/",
     "height": 269
    },
    "id": "r3244SvHqa9v",
    "outputId": "28b16bef-cb18-411d-a4bf-aa283e8a3c90"
   },
   "outputs": [
    {
     "data": {
      "text/html": [
       "\n",
       "  <div id=\"df-738a6df5-4e89-4014-8f77-aa4c2961e073\">\n",
       "    <div class=\"colab-df-container\">\n",
       "      <div>\n",
       "<style scoped>\n",
       "    .dataframe tbody tr th:only-of-type {\n",
       "        vertical-align: middle;\n",
       "    }\n",
       "\n",
       "    .dataframe tbody tr th {\n",
       "        vertical-align: top;\n",
       "    }\n",
       "\n",
       "    .dataframe thead th {\n",
       "        text-align: right;\n",
       "    }\n",
       "</style>\n",
       "<table border=\"1\" class=\"dataframe\">\n",
       "  <thead>\n",
       "    <tr style=\"text-align: right;\">\n",
       "      <th></th>\n",
       "      <th>CM</th>\n",
       "      <th>DG</th>\n",
       "      <th>CA1</th>\n",
       "      <th>LP</th>\n",
       "      <th>MRN</th>\n",
       "      <th>PTLp</th>\n",
       "      <th>APN</th>\n",
       "    </tr>\n",
       "  </thead>\n",
       "  <tbody>\n",
       "    <tr>\n",
       "      <th>CM</th>\n",
       "      <td>0.000000</td>\n",
       "      <td>0.000000</td>\n",
       "      <td>0.000000</td>\n",
       "      <td>0.000000</td>\n",
       "      <td>0.000000</td>\n",
       "      <td>0.000000</td>\n",
       "      <td>0.000000</td>\n",
       "    </tr>\n",
       "    <tr>\n",
       "      <th>DG</th>\n",
       "      <td>0.000000</td>\n",
       "      <td>0.786168</td>\n",
       "      <td>0.213832</td>\n",
       "      <td>0.000000</td>\n",
       "      <td>0.000000</td>\n",
       "      <td>0.000000</td>\n",
       "      <td>0.000000</td>\n",
       "    </tr>\n",
       "    <tr>\n",
       "      <th>CA1</th>\n",
       "      <td>0.000000</td>\n",
       "      <td>0.000000</td>\n",
       "      <td>0.000000</td>\n",
       "      <td>1.000000</td>\n",
       "      <td>0.000000</td>\n",
       "      <td>0.000000</td>\n",
       "      <td>0.000000</td>\n",
       "    </tr>\n",
       "    <tr>\n",
       "      <th>LP</th>\n",
       "      <td>0.000000</td>\n",
       "      <td>0.000000</td>\n",
       "      <td>0.000000</td>\n",
       "      <td>0.000000</td>\n",
       "      <td>0.000000</td>\n",
       "      <td>0.988383</td>\n",
       "      <td>0.011617</td>\n",
       "    </tr>\n",
       "    <tr>\n",
       "      <th>MRN</th>\n",
       "      <td>0.554347</td>\n",
       "      <td>0.000000</td>\n",
       "      <td>0.000000</td>\n",
       "      <td>0.000000</td>\n",
       "      <td>0.000000</td>\n",
       "      <td>0.000000</td>\n",
       "      <td>0.445653</td>\n",
       "    </tr>\n",
       "    <tr>\n",
       "      <th>PTLp</th>\n",
       "      <td>0.000070</td>\n",
       "      <td>0.000000</td>\n",
       "      <td>0.010600</td>\n",
       "      <td>0.162417</td>\n",
       "      <td>0.111364</td>\n",
       "      <td>0.557438</td>\n",
       "      <td>0.158112</td>\n",
       "    </tr>\n",
       "    <tr>\n",
       "      <th>APN</th>\n",
       "      <td>0.000000</td>\n",
       "      <td>0.000000</td>\n",
       "      <td>0.000000</td>\n",
       "      <td>0.000000</td>\n",
       "      <td>1.000000</td>\n",
       "      <td>0.000000</td>\n",
       "      <td>0.000000</td>\n",
       "    </tr>\n",
       "  </tbody>\n",
       "</table>\n",
       "</div>\n",
       "      <button class=\"colab-df-convert\" onclick=\"convertToInteractive('df-738a6df5-4e89-4014-8f77-aa4c2961e073')\"\n",
       "              title=\"Convert this dataframe to an interactive table.\"\n",
       "              style=\"display:none;\">\n",
       "        \n",
       "  <svg xmlns=\"http://www.w3.org/2000/svg\" height=\"24px\"viewBox=\"0 0 24 24\"\n",
       "       width=\"24px\">\n",
       "    <path d=\"M0 0h24v24H0V0z\" fill=\"none\"/>\n",
       "    <path d=\"M18.56 5.44l.94 2.06.94-2.06 2.06-.94-2.06-.94-.94-2.06-.94 2.06-2.06.94zm-11 1L8.5 8.5l.94-2.06 2.06-.94-2.06-.94L8.5 2.5l-.94 2.06-2.06.94zm10 10l.94 2.06.94-2.06 2.06-.94-2.06-.94-.94-2.06-.94 2.06-2.06.94z\"/><path d=\"M17.41 7.96l-1.37-1.37c-.4-.4-.92-.59-1.43-.59-.52 0-1.04.2-1.43.59L10.3 9.45l-7.72 7.72c-.78.78-.78 2.05 0 2.83L4 21.41c.39.39.9.59 1.41.59.51 0 1.02-.2 1.41-.59l7.78-7.78 2.81-2.81c.8-.78.8-2.07 0-2.86zM5.41 20L4 18.59l7.72-7.72 1.47 1.35L5.41 20z\"/>\n",
       "  </svg>\n",
       "      </button>\n",
       "      \n",
       "  <style>\n",
       "    .colab-df-container {\n",
       "      display:flex;\n",
       "      flex-wrap:wrap;\n",
       "      gap: 12px;\n",
       "    }\n",
       "\n",
       "    .colab-df-convert {\n",
       "      background-color: #E8F0FE;\n",
       "      border: none;\n",
       "      border-radius: 50%;\n",
       "      cursor: pointer;\n",
       "      display: none;\n",
       "      fill: #1967D2;\n",
       "      height: 32px;\n",
       "      padding: 0 0 0 0;\n",
       "      width: 32px;\n",
       "    }\n",
       "\n",
       "    .colab-df-convert:hover {\n",
       "      background-color: #E2EBFA;\n",
       "      box-shadow: 0px 1px 2px rgba(60, 64, 67, 0.3), 0px 1px 3px 1px rgba(60, 64, 67, 0.15);\n",
       "      fill: #174EA6;\n",
       "    }\n",
       "\n",
       "    [theme=dark] .colab-df-convert {\n",
       "      background-color: #3B4455;\n",
       "      fill: #D2E3FC;\n",
       "    }\n",
       "\n",
       "    [theme=dark] .colab-df-convert:hover {\n",
       "      background-color: #434B5C;\n",
       "      box-shadow: 0px 1px 3px 1px rgba(0, 0, 0, 0.15);\n",
       "      filter: drop-shadow(0px 1px 2px rgba(0, 0, 0, 0.3));\n",
       "      fill: #FFFFFF;\n",
       "    }\n",
       "  </style>\n",
       "\n",
       "      <script>\n",
       "        const buttonEl =\n",
       "          document.querySelector('#df-738a6df5-4e89-4014-8f77-aa4c2961e073 button.colab-df-convert');\n",
       "        buttonEl.style.display =\n",
       "          google.colab.kernel.accessAllowed ? 'block' : 'none';\n",
       "\n",
       "        async function convertToInteractive(key) {\n",
       "          const element = document.querySelector('#df-738a6df5-4e89-4014-8f77-aa4c2961e073');\n",
       "          const dataTable =\n",
       "            await google.colab.kernel.invokeFunction('convertToInteractive',\n",
       "                                                     [key], {});\n",
       "          if (!dataTable) return;\n",
       "\n",
       "          const docLinkHtml = 'Like what you see? Visit the ' +\n",
       "            '<a target=\"_blank\" href=https://colab.research.google.com/notebooks/data_table.ipynb>data table notebook</a>'\n",
       "            + ' to learn more about interactive tables.';\n",
       "          element.innerHTML = '';\n",
       "          dataTable['output_type'] = 'display_data';\n",
       "          await google.colab.output.renderOutput(dataTable, element);\n",
       "          const docLink = document.createElement('div');\n",
       "          docLink.innerHTML = docLinkHtml;\n",
       "          element.appendChild(docLink);\n",
       "        }\n",
       "      </script>\n",
       "    </div>\n",
       "  </div>\n",
       "  "
      ],
      "text/plain": [
       "            CM        DG       CA1        LP       MRN      PTLp       APN\n",
       "CM    0.000000  0.000000  0.000000  0.000000  0.000000  0.000000  0.000000\n",
       "DG    0.000000  0.786168  0.213832  0.000000  0.000000  0.000000  0.000000\n",
       "CA1   0.000000  0.000000  0.000000  1.000000  0.000000  0.000000  0.000000\n",
       "LP    0.000000  0.000000  0.000000  0.000000  0.000000  0.988383  0.011617\n",
       "MRN   0.554347  0.000000  0.000000  0.000000  0.000000  0.000000  0.445653\n",
       "PTLp  0.000070  0.000000  0.010600  0.162417  0.111364  0.557438  0.158112\n",
       "APN   0.000000  0.000000  0.000000  0.000000  1.000000  0.000000  0.000000"
      ]
     },
     "execution_count": 230,
     "metadata": {},
     "output_type": "execute_result"
    }
   ],
   "source": [
    "strength_df"
   ]
  },
  {
   "cell_type": "code",
   "execution_count": null,
   "metadata": {
    "colab": {
     "base_uri": "https://localhost:8080/"
    },
    "id": "jICrdjnTwKg8",
    "outputId": "7804d8d8-c5f8-4d67-a26c-779e7b8b9adb"
   },
   "outputs": [
    {
     "data": {
      "text/plain": [
       "array([0., 0., 0., 1., 0., 0., 0.])"
      ]
     },
     "execution_count": 228,
     "metadata": {},
     "output_type": "execute_result"
    }
   ],
   "source": [
    "strengths[,:]"
   ]
  },
  {
   "cell_type": "markdown",
   "metadata": {
    "id": "yGuKE08I57yU"
   },
   "source": [
    "1.5) Other dataset gen"
   ]
  },
  {
   "cell_type": "code",
   "execution_count": null,
   "metadata": {
    "id": "-vlTfcAmIkv8"
   },
   "outputs": [],
   "source": [
    "example_regions = ['VM']#, 'VAL']#, 'MOp']"
   ]
  },
  {
   "cell_type": "code",
   "execution_count": null,
   "metadata": {
    "colab": {
     "base_uri": "https://localhost:8080/"
    },
    "id": "9oDrl3iyQN6Z",
    "outputId": "dbf88364-4204-4a04-ca06-644d8ea897f4"
   },
   "outputs": [
    {
     "name": "stdout",
     "output_type": "stream",
     "text": [
      "['LP', 'CP', 'MOp', 'MOs', 'VM', 'VAL', 'CA1', 'SCm', 'VPM', 'VISp', 'MRN', 'DG', 'CA1', 'PTLp']\n"
     ]
    }
   ],
   "source": [
    "regions = [region[0] for region in pd.read_csv('chosen_brainregions.csv', header = None).values]\n",
    "print(regions)"
   ]
  },
  {
   "cell_type": "code",
   "execution_count": null,
   "metadata": {
    "id": "LFaGhtHUQbmL"
   },
   "outputs": [],
   "source": [
    "ignorelist = ['1b20f589-6177-4e5c-9090-9a609a16944b', 'b01df337-2d31-4bcc-a1fe-7112afd50c50']\n",
    "for region in regions:\n",
    "  if region in regions[:4]:\n",
    "    continue\n",
    "\n",
    "  print(region)\n",
    "  eids = gen_eidlist(region)\n",
    "  pids = gen_pidlist(region)\n",
    "  for i,eid in enumerate(eids):\n",
    "    if eid in ignorelist:\n",
    "      continue\n",
    "    if i >= 10:\n",
    "      print(\"breakin\")\n",
    "      break\n",
    "    print(eid)\n",
    "    trial = one.load_object(eid, \"trials\")\n",
    "                  "
   ]
  },
  {
   "cell_type": "code",
   "execution_count": null,
   "metadata": {
    "id": "wCAzR0H0cCek"
   },
   "outputs": [],
   "source": [
    "starter = 'MOp'\n",
    "ses = one.alyx.rest('insertions', 'list', atlas_acronym=starter)\n",
    "print(f'Found {len(ses)} recordings')\n",
    "pids = [i['id'] for i in ses]\n",
    "\n",
    "for i, PID in enumerate(pids):\n",
    "\n",
    "    EID = one.pid2eid(PID)\n",
    "    trials = one.load_object(EID[0], \"trials\")\n",
    "    sl = SpikeSortingLoader(pid=PID, one=one, atlas=ba)\n",
    "    spikes, clusters, channels = sl.load_spike_sorting()\n",
    "    clusters = sl.merge_clusters(spikes, clusters, channels)\n",
    "    print(clusters['acronym'])"
   ]
  },
  {
   "cell_type": "code",
   "execution_count": null,
   "metadata": {
    "id": "yMNdg_TOF6cx"
   },
   "outputs": [],
   "source": [
    "def gen_fatdata(regions, behav_param, trial_def=[2,2,0.25]):\n",
    "  roi_info = {}\n",
    "  for roi in regions:\n",
    "    info = {}\n",
    "    ses = one.alyx.rest('insertions', 'list', atlas_acronym=roi)\n",
    "    print(f'Found {len(ses)} recordings')\n",
    "    pids = [i['id'] for i in ses]\n",
    "    eids = [i['session'] for i in ses]\n",
    "    info['pids'] = pids\n",
    "    info['eids'] = eids\n",
    "    for i,PID in enumerate(pids):\n",
    "      if i == 10:\n",
    "        break\n",
    "      sl = SpikeSortingLoader(pid=PID, one=one, atlas=ba)\n",
    "      EID = one.pid2eid(PID)[0]\n",
    "      print(EID)\n",
    "      if EID == 'b01df337-2d31-4bcc-a1fe-7112afd50c50':\n",
    "        continue\n",
    "      trials = one.load_object(EID, \"trials\")\n",
    "      spikes, clusters, channels = sl.load_spike_sorting()\n",
    "      clusters = sl.merge_clusters(spikes, clusters, channels)\n",
    "      neur_relev = []\n",
    "      if clusters is not None:\n",
    "        neur_relev = [i for i, acronym in enumerate(clusters['acronym']) if roi in acronym]\n",
    "        print(f'Found {len(neur_relev)} ' + roi + ' neurons')\n",
    "        dic = {}\n",
    "        for condition in [-1,1]:\n",
    "          mini_dic = {}\n",
    "          peth, spike_counts, trial_data = get_matrices(trials, spikes, neur_relev, param = behav_param, param_condition=condition, trial_def = trial_def)\n",
    "          mini_dic['peth'] = peth\n",
    "          mini_dic['spike_counts'] = spike_counts\n",
    "          mini_dic['trial_data'] = trial_data\n",
    "          dic[condition] = mini_dic\n",
    "      info[PID] = dic\n",
    "    roi_info[roi] = info\n",
    "  return roi_info"
   ]
  },
  {
   "cell_type": "code",
   "execution_count": null,
   "metadata": {
    "id": "mRQYRkD1Kza9"
   },
   "outputs": [],
   "source": [
    "roi_info = gen_fatdata(example_regions, 'choice')"
   ]
  },
  {
   "cell_type": "markdown",
   "metadata": {
    "id": "xroIDmOvw0Xh"
   },
   "source": [
    "2) **For finding the number (and regions) of simultaneous recordings for each EID. Not necessary to run if already determined which EID(s) to use**"
   ]
  },
  {
   "cell_type": "code",
   "execution_count": null,
   "metadata": {
    "id": "Soh2LkYpwvxL"
   },
   "outputs": [],
   "source": [
    "#loads in csv of brain regions from projection matrix\n",
    "regions = pd.read_csv('proj_brainregions.csv').columns\n",
    "roi_comp = []\n",
    "for i,region in enumerate(regions):\n",
    "    if region == 'fiber tracts':\n",
    "        continue\n",
    "    roi_comp.append(region.split('.')[0])"
   ]
  },
  {
   "cell_type": "code",
   "execution_count": null,
   "metadata": {
    "colab": {
     "base_uri": "https://localhost:8080/"
    },
    "id": "6IRLe98vYKZc",
    "outputId": "7de299a7-4d20-4b43-a0a3-6d36547e2257"
   },
   "outputs": [
    {
     "data": {
      "text/plain": [
       "591"
      ]
     },
     "execution_count": 86,
     "metadata": {},
     "output_type": "execute_result"
    }
   ],
   "source": [
    "len(regions)"
   ]
  },
  {
   "cell_type": "code",
   "execution_count": null,
   "metadata": {
    "id": "w-OMt0ktwyE4"
   },
   "outputs": [],
   "source": [
    "# sets up eid_dic which contains roi -> list of eid\n",
    "eid_dic = {}\n",
    "all_eids = set()\n",
    "for roi in roi_comp:\n",
    "    print(roi + ' EID list')\n",
    "    eids = gen_eidlist(roi)\n",
    "    print(len(eids), eids)\n",
    "    eid_dic[roi] = eids\n",
    "    all_eids.update(eids)\n",
    "\n",
    "all_eids = list(all_eids)\n",
    "roi_records = []\n",
    "\n",
    "roi_dic = {}\n",
    "for i,eid in enumerate(all_eids):\n",
    "    roilist = [roi for roi in eid_dic.keys() if eid in eid_dic[roi]]\n",
    "    roi_dic[eid] = roilist\n",
    "    roi_records.append(roilist)\n"
   ]
  },
  {
   "cell_type": "code",
   "execution_count": null,
   "metadata": {
    "colab": {
     "base_uri": "https://localhost:8080/",
     "height": 283
    },
    "id": "wAvLw446Bg5Y",
    "outputId": "473e42f9-d269-4836-de95-23798e788ac1"
   },
   "outputs": [
    {
     "data": {
      "text/plain": [
       "<BarContainer object of 295 artists>"
      ]
     },
     "execution_count": 74,
     "metadata": {},
     "output_type": "execute_result"
    },
    {
     "data": {
      "image/png": "[encoded data removed]",
      "text/plain": [
       "<Figure size 432x288 with 1 Axes>"
      ]
     },
     "metadata": {
      "needs_background": "light"
     },
     "output_type": "display_data"
    }
   ],
   "source": [
    "distinct_rois, roi_eid_counts = [r for r in eid_dic], [len(v) for v in eid_dic.values()]\n",
    "plt.bar(distinct_rois, roi_eid_counts)"
   ]
  },
  {
   "cell_type": "code",
   "execution_count": null,
   "metadata": {
    "id": "81kVAqWedbBw"
   },
   "outputs": [],
   "source": [
    "sorted_idx = np.argsort(roi_eid_counts)\n",
    "top_rois = [distinct_rois[i] for i in sorted_idx[-20:]]\n",
    "top_rois.reverse()"
   ]
  },
  {
   "cell_type": "code",
   "execution_count": null,
   "metadata": {
    "id": "QPp93u3bdgzy"
   },
   "outputs": [],
   "source": [
    "len_left = 0\n",
    "roilist = [top_rois[0]]\n",
    "eidset = set(eid_dic[top_rois[0]])\n",
    "\n",
    "reduc_list = top_rois[1:]\n",
    "for i in range(len(top_rois)-1):\n",
    "  if i == len(top_rois):\n",
    "    break\n",
    "  \n",
    "  sublist = top_rois[i+1:]\n",
    "  print(sublist)\n",
    "  max_overlap = [0,'']\n",
    "  for roi in reduc_list:\n",
    "    overlapsize = len(eidset & set(eid_dic[roi]))\n",
    "    if overlapsize > max_overlap[0]:\n",
    "        max_overlap[0] = overlapsize\n",
    "        max_overlap[1] = roi\n",
    "  roilist.append(max_overlap[1])\n",
    "  reduc_list.remove(max_overlap[1])\n",
    "\n",
    "  \n",
    "roilist"
   ]
  },
  {
   "cell_type": "code",
   "execution_count": null,
   "metadata": {
    "id": "Jpieq-9GV53y"
   },
   "outputs": [],
   "source": [
    "sorted_idx = np.argsort(roi_eid_counts)\n",
    "top_rois = [distinct_rois[i] for i in sorted_idx[-50:]]\n",
    "top_rois.reverse()\n",
    "\n",
    "\n",
    "eidset = set(eid_dic[top_rois[0]])\n",
    "best_arrangement = []\n",
    "\n",
    "\n",
    "for j in range(10000):\n",
    "  if j == 0:\n",
    "    continue\n",
    "  top_rois.shuffle\n",
    "  for i,roi in enumerate(top_rois):\n",
    "    if i == 0:\n",
    "      continue\n",
    "    eidset = eidset & set(eid_dic[top_rois[i]])\n",
    "    print(len(eidset))"
   ]
  },
  {
   "cell_type": "code",
   "execution_count": null,
   "metadata": {
    "colab": {
     "base_uri": "https://localhost:8080/"
    },
    "id": "gH1m74ybdS0l",
    "outputId": "85dafe0c-23a8-426b-9768-a67740ec04ac"
   },
   "outputs": [
    {
     "name": "stdout",
     "output_type": "stream",
     "text": [
      "91\n",
      "78\n",
      "59\n",
      "18\n",
      "10\n",
      "9\n",
      "{'4b7fbad4-f6de-43b4-9b15-c7c7ef44db4b', 'e2b845a1-e313-4a08-bc61-a5f662ed295e', 'f312aaec-3b6f-44b3-86b4-3a0c119c0438', '6c6b0d06-6039-4525-a74b-58cfaa1d3a60', '3e6a97d3-3991-49e2-b346-6948cb4580fb', 'ecb5520d-1358-434c-95ec-93687ecd1396', '2bdf206a-820f-402f-920a-9e86cd5388a4', 'b22f694e-4a34-4142-ab9d-2556c3487086', '9b528ad0-4599-4a55-9148-96cc1d93fb24'}\n",
      "0\n",
      "0\n",
      "0\n",
      "0\n",
      "0\n",
      "0\n",
      "0\n",
      "0\n",
      "0\n",
      "0\n",
      "0\n",
      "0\n",
      "0\n"
     ]
    }
   ],
   "source": [
    "eidset = set(eid_dic[roilist[0]])\n",
    "  \n",
    "for i,roi in enumerate(roilist):\n",
    "  if i == 0:\n",
    "    continue\n",
    "  eidset = eidset & set(eid_dic[roilist[i]])\n",
    "\n",
    "  print(len(eidset))\n",
    "  if i == 6:\n",
    "    print(eidset)"
   ]
  },
  {
   "cell_type": "code",
   "execution_count": null,
   "metadata": {
    "colab": {
     "base_uri": "https://localhost:8080/"
    },
    "id": "A2zDvBxpiAxT",
    "outputId": "d2311795-a18c-43ce-857c-17b13e09bd53"
   },
   "outputs": [
    {
     "data": {
      "text/plain": [
       "['CM', 'DG', 'CA1', 'LP', 'MRN', 'PTLp', 'APN']"
      ]
     },
     "execution_count": 145,
     "metadata": {},
     "output_type": "execute_result"
    }
   ],
   "source": [
    "roilist[:7]"
   ]
  },
  {
   "cell_type": "code",
   "execution_count": null,
   "metadata": {
    "colab": {
     "base_uri": "https://localhost:8080/"
    },
    "id": "ewqQO7wuhuUu",
    "outputId": "ba213124-229f-402f-efab-f5bd33624945"
   },
   "outputs": [
    {
     "name": "stdout",
     "output_type": "stream",
     "text": [
      "True\n",
      "True\n",
      "True\n",
      "True\n",
      "True\n",
      "True\n",
      "True\n",
      "True\n",
      "True\n"
     ]
    }
   ],
   "source": [
    "rois_opt = roilist[:7]\n",
    "\n",
    "eid_list = ['4b7fbad4-f6de-43b4-9b15-c7c7ef44db4b', 'e2b845a1-e313-4a08-bc61-a5f662ed295e', 'f312aaec-3b6f-44b3-86b4-3a0c119c0438', '6c6b0d06-6039-4525-a74b-58cfaa1d3a60', '3e6a97d3-3991-49e2-b346-6948cb4580fb', 'ecb5520d-1358-434c-95ec-93687ecd1396', '2bdf206a-820f-402f-920a-9e86cd5388a4', 'b22f694e-4a34-4142-ab9d-2556c3487086', '9b528ad0-4599-4a55-9148-96cc1d93fb24']\n",
    "for eid in eid_list:\n",
    "    eidset = set(roi_dic[eid]) & set(rois_opt)\n",
    "    print(len(eidset) == len(rois_opt))"
   ]
  },
  {
   "cell_type": "code",
   "execution_count": null,
   "metadata": {
    "id": "g-hh8sG7fj_H"
   },
   "outputs": [],
   "source": [
    "rois_opt = ['CM', 'DG', 'CA1', 'LP', 'MRN', 'PTLp', 'APN']"
   ]
  },
  {
   "cell_type": "code",
   "execution_count": null,
   "metadata": {
    "colab": {
     "base_uri": "https://localhost:8080/",
     "height": 425
    },
    "id": "f2k_-PUmelzk",
    "outputId": "2621a6cf-9928-43a4-c718-2646348544d5"
   },
   "outputs": [
    {
     "ename": "HTTPError",
     "evalue": "ignored",
     "output_type": "error",
     "traceback": [
      "\u001b[0;31m---------------------------------------------------------------------------\u001b[0m",
      "\u001b[0;31mHTTPError\u001b[0m                                 Traceback (most recent call last)",
      "\u001b[0;32m<ipython-input-63-ac5bf6a82340>\u001b[0m in \u001b[0;36m<module>\u001b[0;34m\u001b[0m\n\u001b[1;32m      2\u001b[0m \u001b[0;34m\u001b[0m\u001b[0m\n\u001b[1;32m      3\u001b[0m \u001b[0;34m\u001b[0m\u001b[0m\n\u001b[0;32m----> 4\u001b[0;31m \u001b[0msl\u001b[0m \u001b[0;34m=\u001b[0m \u001b[0mSpikeSortingLoader\u001b[0m\u001b[0;34m(\u001b[0m\u001b[0mpid\u001b[0m\u001b[0;34m=\u001b[0m\u001b[0mpid\u001b[0m\u001b[0;34m,\u001b[0m \u001b[0mone\u001b[0m\u001b[0;34m=\u001b[0m\u001b[0mone\u001b[0m\u001b[0;34m,\u001b[0m \u001b[0matlas\u001b[0m\u001b[0;34m=\u001b[0m\u001b[0;34m'CM'\u001b[0m\u001b[0;34m)\u001b[0m\u001b[0;34m\u001b[0m\u001b[0;34m\u001b[0m\u001b[0m\n\u001b[0m\u001b[1;32m      5\u001b[0m \u001b[0mspikes\u001b[0m\u001b[0;34m,\u001b[0m \u001b[0mclusters\u001b[0m\u001b[0;34m,\u001b[0m \u001b[0mchannels\u001b[0m \u001b[0;34m=\u001b[0m \u001b[0msl\u001b[0m\u001b[0;34m.\u001b[0m\u001b[0mload_spike_sorting\u001b[0m\u001b[0;34m(\u001b[0m\u001b[0;34m)\u001b[0m\u001b[0;34m\u001b[0m\u001b[0;34m\u001b[0m\u001b[0m\n\u001b[1;32m      6\u001b[0m \u001b[0mclusters\u001b[0m \u001b[0;34m=\u001b[0m \u001b[0msl\u001b[0m\u001b[0;34m.\u001b[0m\u001b[0mmerge_clusters\u001b[0m\u001b[0;34m(\u001b[0m\u001b[0mspikes\u001b[0m\u001b[0;34m,\u001b[0m \u001b[0mclusters\u001b[0m\u001b[0;34m,\u001b[0m \u001b[0mchannels\u001b[0m\u001b[0;34m)\u001b[0m\u001b[0;34m\u001b[0m\u001b[0;34m\u001b[0m\u001b[0m\n",
      "\u001b[0;32m/usr/local/lib/python3.9/dist-packages/brainbox/io/one.py\u001b[0m in \u001b[0;36m__init__\u001b[0;34m(self, one, atlas, pid, eid, pname, session_path, collections, datasets, files, collection, histology, spike_sorter, spike_sorting_path, _sync)\u001b[0m\n",
      "\u001b[0;32m/usr/local/lib/python3.9/dist-packages/brainbox/io/one.py\u001b[0m in \u001b[0;36m__post_init__\u001b[0;34m(self)\u001b[0m\n\u001b[1;32m    803\u001b[0m         \u001b[0;32mif\u001b[0m \u001b[0mself\u001b[0m\u001b[0;34m.\u001b[0m\u001b[0mpid\u001b[0m \u001b[0;32mis\u001b[0m \u001b[0;32mnot\u001b[0m \u001b[0;32mNone\u001b[0m\u001b[0;34m:\u001b[0m\u001b[0;34m\u001b[0m\u001b[0;34m\u001b[0m\u001b[0m\n\u001b[1;32m    804\u001b[0m             \u001b[0;32mtry\u001b[0m\u001b[0;34m:\u001b[0m\u001b[0;34m\u001b[0m\u001b[0;34m\u001b[0m\u001b[0m\n\u001b[0;32m--> 805\u001b[0;31m                 \u001b[0mself\u001b[0m\u001b[0;34m.\u001b[0m\u001b[0meid\u001b[0m\u001b[0;34m,\u001b[0m \u001b[0mself\u001b[0m\u001b[0;34m.\u001b[0m\u001b[0mpname\u001b[0m \u001b[0;34m=\u001b[0m \u001b[0mself\u001b[0m\u001b[0;34m.\u001b[0m\u001b[0mone\u001b[0m\u001b[0;34m.\u001b[0m\u001b[0mpid2eid\u001b[0m\u001b[0;34m(\u001b[0m\u001b[0mself\u001b[0m\u001b[0;34m.\u001b[0m\u001b[0mpid\u001b[0m\u001b[0;34m)\u001b[0m\u001b[0;34m\u001b[0m\u001b[0;34m\u001b[0m\u001b[0m\n\u001b[0m\u001b[1;32m    806\u001b[0m             \u001b[0;32mexcept\u001b[0m \u001b[0mNotImplementedError\u001b[0m\u001b[0;34m:\u001b[0m\u001b[0;34m\u001b[0m\u001b[0;34m\u001b[0m\u001b[0m\n\u001b[1;32m    807\u001b[0m                 \u001b[0;32mif\u001b[0m \u001b[0mself\u001b[0m\u001b[0;34m.\u001b[0m\u001b[0meid\u001b[0m \u001b[0;34m==\u001b[0m \u001b[0;34m''\u001b[0m \u001b[0;32mor\u001b[0m \u001b[0mself\u001b[0m\u001b[0;34m.\u001b[0m\u001b[0mpname\u001b[0m \u001b[0;34m==\u001b[0m \u001b[0;34m''\u001b[0m\u001b[0;34m:\u001b[0m\u001b[0;34m\u001b[0m\u001b[0;34m\u001b[0m\u001b[0m\n",
      "\u001b[0;32m/usr/local/lib/python3.9/dist-packages/one/util.py\u001b[0m in \u001b[0;36mwrapper\u001b[0;34m(self, *args, **kwargs)\u001b[0m\n\u001b[1;32m    168\u001b[0m             \u001b[0mmode\u001b[0m \u001b[0;34m=\u001b[0m \u001b[0mself\u001b[0m\u001b[0;34m.\u001b[0m\u001b[0mmode\u001b[0m\u001b[0;34m\u001b[0m\u001b[0;34m\u001b[0m\u001b[0m\n\u001b[1;32m    169\u001b[0m         \u001b[0mself\u001b[0m\u001b[0;34m.\u001b[0m\u001b[0mrefresh_cache\u001b[0m\u001b[0;34m(\u001b[0m\u001b[0mmode\u001b[0m\u001b[0;34m=\u001b[0m\u001b[0mmode\u001b[0m\u001b[0;34m)\u001b[0m\u001b[0;34m\u001b[0m\u001b[0;34m\u001b[0m\u001b[0m\n\u001b[0;32m--> 170\u001b[0;31m         \u001b[0;32mreturn\u001b[0m \u001b[0mmethod\u001b[0m\u001b[0;34m(\u001b[0m\u001b[0mself\u001b[0m\u001b[0;34m,\u001b[0m \u001b[0;34m*\u001b[0m\u001b[0margs\u001b[0m\u001b[0;34m,\u001b[0m \u001b[0;34m**\u001b[0m\u001b[0mkwargs\u001b[0m\u001b[0;34m)\u001b[0m\u001b[0;34m\u001b[0m\u001b[0;34m\u001b[0m\u001b[0m\n\u001b[0m\u001b[1;32m    171\u001b[0m \u001b[0;34m\u001b[0m\u001b[0m\n\u001b[1;32m    172\u001b[0m     \u001b[0;32mreturn\u001b[0m \u001b[0mwrapper\u001b[0m\u001b[0;34m\u001b[0m\u001b[0;34m\u001b[0m\u001b[0m\n",
      "\u001b[0;32m/usr/local/lib/python3.9/dist-packages/one/api.py\u001b[0m in \u001b[0;36mpid2eid\u001b[0;34m(self, pid, query_type)\u001b[0m\n\u001b[1;32m   1644\u001b[0m         \u001b[0;32mif\u001b[0m \u001b[0mquery_type\u001b[0m \u001b[0;34m==\u001b[0m \u001b[0;34m'local'\u001b[0m \u001b[0;32mand\u001b[0m \u001b[0;34m'insertions'\u001b[0m \u001b[0;32mnot\u001b[0m \u001b[0;32min\u001b[0m \u001b[0mself\u001b[0m\u001b[0;34m.\u001b[0m\u001b[0m_cache\u001b[0m\u001b[0;34m.\u001b[0m\u001b[0mkeys\u001b[0m\u001b[0;34m(\u001b[0m\u001b[0;34m)\u001b[0m\u001b[0;34m:\u001b[0m\u001b[0;34m\u001b[0m\u001b[0;34m\u001b[0m\u001b[0m\n\u001b[1;32m   1645\u001b[0m             \u001b[0;32mraise\u001b[0m \u001b[0mNotImplementedError\u001b[0m\u001b[0;34m(\u001b[0m\u001b[0;34m'Converting probe IDs required remote connection'\u001b[0m\u001b[0;34m)\u001b[0m\u001b[0;34m\u001b[0m\u001b[0;34m\u001b[0m\u001b[0m\n\u001b[0;32m-> 1646\u001b[0;31m         \u001b[0mrec\u001b[0m \u001b[0;34m=\u001b[0m \u001b[0mself\u001b[0m\u001b[0;34m.\u001b[0m\u001b[0malyx\u001b[0m\u001b[0;34m.\u001b[0m\u001b[0mrest\u001b[0m\u001b[0;34m(\u001b[0m\u001b[0;34m'insertions'\u001b[0m\u001b[0;34m,\u001b[0m \u001b[0;34m'read'\u001b[0m\u001b[0;34m,\u001b[0m \u001b[0mid\u001b[0m\u001b[0;34m=\u001b[0m\u001b[0mstr\u001b[0m\u001b[0;34m(\u001b[0m\u001b[0mpid\u001b[0m\u001b[0;34m)\u001b[0m\u001b[0;34m)\u001b[0m\u001b[0;34m\u001b[0m\u001b[0;34m\u001b[0m\u001b[0m\n\u001b[0m\u001b[1;32m   1647\u001b[0m         \u001b[0;32mreturn\u001b[0m \u001b[0mrec\u001b[0m\u001b[0;34m[\u001b[0m\u001b[0;34m'session'\u001b[0m\u001b[0;34m]\u001b[0m\u001b[0;34m,\u001b[0m \u001b[0mrec\u001b[0m\u001b[0;34m[\u001b[0m\u001b[0;34m'name'\u001b[0m\u001b[0;34m]\u001b[0m\u001b[0;34m\u001b[0m\u001b[0;34m\u001b[0m\u001b[0m\n\u001b[1;32m   1648\u001b[0m \u001b[0;34m\u001b[0m\u001b[0m\n",
      "\u001b[0;32m/usr/local/lib/python3.9/dist-packages/one/webclient.py\u001b[0m in \u001b[0;36mrest\u001b[0;34m(self, url, action, id, data, files, no_cache, **kwargs)\u001b[0m\n\u001b[1;32m   1056\u001b[0m         \u001b[0;32mif\u001b[0m \u001b[0maction\u001b[0m \u001b[0;34m==\u001b[0m \u001b[0;34m'read'\u001b[0m\u001b[0;34m:\u001b[0m\u001b[0;34m\u001b[0m\u001b[0;34m\u001b[0m\u001b[0m\n\u001b[1;32m   1057\u001b[0m             \u001b[0;32massert\u001b[0m \u001b[0;34m(\u001b[0m\u001b[0mendpoint_scheme\u001b[0m\u001b[0;34m[\u001b[0m\u001b[0maction\u001b[0m\u001b[0;34m]\u001b[0m\u001b[0;34m[\u001b[0m\u001b[0;34m'action'\u001b[0m\u001b[0;34m]\u001b[0m \u001b[0;34m==\u001b[0m \u001b[0;34m'get'\u001b[0m\u001b[0;34m)\u001b[0m\u001b[0;34m\u001b[0m\u001b[0;34m\u001b[0m\u001b[0m\n\u001b[0;32m-> 1058\u001b[0;31m             \u001b[0;32mreturn\u001b[0m \u001b[0mself\u001b[0m\u001b[0;34m.\u001b[0m\u001b[0mget\u001b[0m\u001b[0;34m(\u001b[0m\u001b[0;34m'/'\u001b[0m \u001b[0;34m+\u001b[0m \u001b[0mendpoint\u001b[0m \u001b[0;34m+\u001b[0m \u001b[0;34m'/'\u001b[0m \u001b[0;34m+\u001b[0m \u001b[0mid\u001b[0m\u001b[0;34m.\u001b[0m\u001b[0msplit\u001b[0m\u001b[0;34m(\u001b[0m\u001b[0;34m'/'\u001b[0m\u001b[0;34m)\u001b[0m\u001b[0;34m[\u001b[0m\u001b[0;34m-\u001b[0m\u001b[0;36m1\u001b[0m\u001b[0;34m]\u001b[0m\u001b[0;34m,\u001b[0m \u001b[0;34m**\u001b[0m\u001b[0mcache_args\u001b[0m\u001b[0;34m)\u001b[0m\u001b[0;34m\u001b[0m\u001b[0;34m\u001b[0m\u001b[0m\n\u001b[0m\u001b[1;32m   1059\u001b[0m         \u001b[0;32melif\u001b[0m \u001b[0maction\u001b[0m \u001b[0;34m==\u001b[0m \u001b[0;34m'create'\u001b[0m\u001b[0;34m:\u001b[0m\u001b[0;34m\u001b[0m\u001b[0;34m\u001b[0m\u001b[0m\n\u001b[1;32m   1060\u001b[0m             \u001b[0;32massert\u001b[0m \u001b[0;34m(\u001b[0m\u001b[0mendpoint_scheme\u001b[0m\u001b[0;34m[\u001b[0m\u001b[0maction\u001b[0m\u001b[0;34m]\u001b[0m\u001b[0;34m[\u001b[0m\u001b[0;34m'action'\u001b[0m\u001b[0;34m]\u001b[0m \u001b[0;34m==\u001b[0m \u001b[0;34m'post'\u001b[0m\u001b[0;34m)\u001b[0m\u001b[0;34m\u001b[0m\u001b[0;34m\u001b[0m\u001b[0m\n",
      "\u001b[0;32m/usr/local/lib/python3.9/dist-packages/one/webclient.py\u001b[0m in \u001b[0;36mget\u001b[0;34m(self, rest_query, **kwargs)\u001b[0m\n\u001b[1;32m    877\u001b[0m         \u001b[0mJSON\u001b[0m \u001b[0minterpreted\u001b[0m \u001b[0mdictionary\u001b[0m \u001b[0;32mfrom\u001b[0m \u001b[0mresponse\u001b[0m\u001b[0;34m\u001b[0m\u001b[0;34m\u001b[0m\u001b[0m\n\u001b[1;32m    878\u001b[0m         \"\"\"\n\u001b[0;32m--> 879\u001b[0;31m         \u001b[0mrep\u001b[0m \u001b[0;34m=\u001b[0m \u001b[0mself\u001b[0m\u001b[0;34m.\u001b[0m\u001b[0m_generic_request\u001b[0m\u001b[0;34m(\u001b[0m\u001b[0mrequests\u001b[0m\u001b[0;34m.\u001b[0m\u001b[0mget\u001b[0m\u001b[0;34m,\u001b[0m \u001b[0mrest_query\u001b[0m\u001b[0;34m,\u001b[0m \u001b[0;34m**\u001b[0m\u001b[0mkwargs\u001b[0m\u001b[0;34m)\u001b[0m\u001b[0;34m\u001b[0m\u001b[0;34m\u001b[0m\u001b[0m\n\u001b[0m\u001b[1;32m    880\u001b[0m         \u001b[0;32mif\u001b[0m \u001b[0misinstance\u001b[0m\u001b[0;34m(\u001b[0m\u001b[0mrep\u001b[0m\u001b[0;34m,\u001b[0m \u001b[0mdict\u001b[0m\u001b[0;34m)\u001b[0m \u001b[0;32mand\u001b[0m \u001b[0mlist\u001b[0m\u001b[0;34m(\u001b[0m\u001b[0mrep\u001b[0m\u001b[0;34m.\u001b[0m\u001b[0mkeys\u001b[0m\u001b[0;34m(\u001b[0m\u001b[0;34m)\u001b[0m\u001b[0;34m)\u001b[0m \u001b[0;34m==\u001b[0m \u001b[0;34m[\u001b[0m\u001b[0;34m'count'\u001b[0m\u001b[0;34m,\u001b[0m \u001b[0;34m'next'\u001b[0m\u001b[0;34m,\u001b[0m \u001b[0;34m'previous'\u001b[0m\u001b[0;34m,\u001b[0m \u001b[0;34m'results'\u001b[0m\u001b[0;34m]\u001b[0m\u001b[0;34m:\u001b[0m\u001b[0;34m\u001b[0m\u001b[0;34m\u001b[0m\u001b[0m\n\u001b[1;32m    881\u001b[0m             \u001b[0;32mif\u001b[0m \u001b[0mlen\u001b[0m\u001b[0;34m(\u001b[0m\u001b[0mrep\u001b[0m\u001b[0;34m[\u001b[0m\u001b[0;34m'results'\u001b[0m\u001b[0;34m]\u001b[0m\u001b[0;34m)\u001b[0m \u001b[0;34m<\u001b[0m \u001b[0mrep\u001b[0m\u001b[0;34m[\u001b[0m\u001b[0;34m'count'\u001b[0m\u001b[0;34m]\u001b[0m\u001b[0;34m:\u001b[0m\u001b[0;34m\u001b[0m\u001b[0;34m\u001b[0m\u001b[0m\n",
      "\u001b[0;32m/usr/local/lib/python3.9/dist-packages/one/webclient.py\u001b[0m in \u001b[0;36mwrapper_decorator\u001b[0;34m(alyx_client, expires, clobber, *args, **kwargs)\u001b[0m\n\u001b[1;32m    122\u001b[0m                 \u001b[0;32mreturn\u001b[0m \u001b[0mcached\u001b[0m\u001b[0;34m\u001b[0m\u001b[0;34m\u001b[0m\u001b[0m\n\u001b[1;32m    123\u001b[0m         \u001b[0;32mtry\u001b[0m\u001b[0;34m:\u001b[0m\u001b[0;34m\u001b[0m\u001b[0;34m\u001b[0m\u001b[0m\n\u001b[0;32m--> 124\u001b[0;31m             \u001b[0mresponse\u001b[0m \u001b[0;34m=\u001b[0m \u001b[0mmethod\u001b[0m\u001b[0;34m(\u001b[0m\u001b[0malyx_client\u001b[0m\u001b[0;34m,\u001b[0m \u001b[0;34m*\u001b[0m\u001b[0margs\u001b[0m\u001b[0;34m,\u001b[0m \u001b[0;34m**\u001b[0m\u001b[0mkwargs\u001b[0m\u001b[0;34m)\u001b[0m\u001b[0;34m\u001b[0m\u001b[0;34m\u001b[0m\u001b[0m\n\u001b[0m\u001b[1;32m    125\u001b[0m         \u001b[0;32mexcept\u001b[0m \u001b[0mrequests\u001b[0m\u001b[0;34m.\u001b[0m\u001b[0mexceptions\u001b[0m\u001b[0;34m.\u001b[0m\u001b[0mConnectionError\u001b[0m \u001b[0;32mas\u001b[0m \u001b[0mex\u001b[0m\u001b[0;34m:\u001b[0m\u001b[0;34m\u001b[0m\u001b[0;34m\u001b[0m\u001b[0m\n\u001b[1;32m    126\u001b[0m             \u001b[0;32mif\u001b[0m \u001b[0mcached\u001b[0m \u001b[0;32mand\u001b[0m \u001b[0;32mnot\u001b[0m \u001b[0mclobber\u001b[0m\u001b[0;34m:\u001b[0m\u001b[0;34m\u001b[0m\u001b[0;34m\u001b[0m\u001b[0m\n",
      "\u001b[0;32m/usr/local/lib/python3.9/dist-packages/one/webclient.py\u001b[0m in \u001b[0;36m_generic_request\u001b[0;34m(self, reqfunction, rest_query, data, files)\u001b[0m\n\u001b[1;32m    621\u001b[0m             \u001b[0;32mexcept\u001b[0m \u001b[0mjson\u001b[0m\u001b[0;34m.\u001b[0m\u001b[0mdecoder\u001b[0m\u001b[0;34m.\u001b[0m\u001b[0mJSONDecodeError\u001b[0m\u001b[0;34m:\u001b[0m\u001b[0;34m\u001b[0m\u001b[0;34m\u001b[0m\u001b[0m\n\u001b[1;32m    622\u001b[0m                 \u001b[0mmessage\u001b[0m \u001b[0;34m=\u001b[0m \u001b[0mr\u001b[0m\u001b[0;34m.\u001b[0m\u001b[0mtext\u001b[0m\u001b[0;34m\u001b[0m\u001b[0;34m\u001b[0m\u001b[0m\n\u001b[0;32m--> 623\u001b[0;31m             \u001b[0;32mraise\u001b[0m \u001b[0mrequests\u001b[0m\u001b[0;34m.\u001b[0m\u001b[0mHTTPError\u001b[0m\u001b[0;34m(\u001b[0m\u001b[0mr\u001b[0m\u001b[0;34m.\u001b[0m\u001b[0mstatus_code\u001b[0m\u001b[0;34m,\u001b[0m \u001b[0mrest_query\u001b[0m\u001b[0;34m,\u001b[0m \u001b[0mmessage\u001b[0m\u001b[0;34m,\u001b[0m \u001b[0mresponse\u001b[0m\u001b[0;34m=\u001b[0m\u001b[0mr\u001b[0m\u001b[0;34m)\u001b[0m\u001b[0;34m\u001b[0m\u001b[0;34m\u001b[0m\u001b[0m\n\u001b[0m\u001b[1;32m    624\u001b[0m \u001b[0;34m\u001b[0m\u001b[0m\n\u001b[1;32m    625\u001b[0m     \u001b[0;32mdef\u001b[0m \u001b[0mauthenticate\u001b[0m\u001b[0;34m(\u001b[0m\u001b[0mself\u001b[0m\u001b[0;34m,\u001b[0m \u001b[0musername\u001b[0m\u001b[0;34m=\u001b[0m\u001b[0;32mNone\u001b[0m\u001b[0;34m,\u001b[0m \u001b[0mpassword\u001b[0m\u001b[0;34m=\u001b[0m\u001b[0;32mNone\u001b[0m\u001b[0;34m,\u001b[0m \u001b[0mcache_token\u001b[0m\u001b[0;34m=\u001b[0m\u001b[0;32mTrue\u001b[0m\u001b[0;34m,\u001b[0m \u001b[0mforce\u001b[0m\u001b[0;34m=\u001b[0m\u001b[0;32mFalse\u001b[0m\u001b[0;34m)\u001b[0m\u001b[0;34m:\u001b[0m\u001b[0;34m\u001b[0m\u001b[0;34m\u001b[0m\u001b[0m\n",
      "\u001b[0;31mHTTPError\u001b[0m: [Errno 404] /insertions/(['fd555d39-b728-44aa-90d2-796b8bb58300', 'f86e9571-63ff-4116-9c40-aa44d57d2da9'], ['probe01', 'probe00']): '\\n<!doctype html>\\n<html lang=\"en\">\\n<head>\\n  <title>Not Found</title>\\n</head>\\n<body>\\n  <h1>Not Found</h1><p>The requested resource was not found on this server.</p>\\n</body>\\n</html>\\n'"
     ]
    }
   ],
   "source": [
    "pid = one.eid2pid('4b7fbad4-f6de-43b4-9b15-c7c7ef44db4b')\n",
    "\n",
    "\n",
    "sl = SpikeSortingLoader(pid=pid, one=one, atlas='CM')\n",
    "spikes, clusters, channels = sl.load_spike_sorting()\n",
    "clusters = sl.merge_clusters(spikes, clusters, channels)\n",
    "\n",
    "print(clusters['acronym'])"
   ]
  },
  {
   "cell_type": "code",
   "execution_count": null,
   "metadata": {
    "id": "BvwmA7Pn7l3H"
   },
   "outputs": [],
   "source": []
  },
  {
   "cell_type": "markdown",
   "metadata": {
    "id": "CqkFEOv6i8ip"
   },
   "source": [
    "THE DATASET GENERATION"
   ]
  },
  {
   "cell_type": "code",
   "execution_count": null,
   "metadata": {
    "id": "CUwMwWMMi8Et"
   },
   "outputs": [],
   "source": [
    "eid_list = ['4b7fbad4-f6de-43b4-9b15-c7c7ef44db4b', 'e2b845a1-e313-4a08-bc61-a5f662ed295e', 'f312aaec-3b6f-44b3-86b4-3a0c119c0438', '6c6b0d06-6039-4525-a74b-58cfaa1d3a60', '3e6a97d3-3991-49e2-b346-6948cb4580fb', 'ecb5520d-1358-434c-95ec-93687ecd1396', '2bdf206a-820f-402f-920a-9e86cd5388a4', 'b22f694e-4a34-4142-ab9d-2556c3487086', '9b528ad0-4599-4a55-9148-96cc1d93fb24']\n",
    "eid_list = ['4b7fbad4-f6de-43b4-9b15-c7c7ef44db4b']\n",
    "simul_regions = ['CM', 'DG', 'CA1', 'LP', 'MRN', 'PTLp', 'APN']\n",
    "whole_dataset = {}\n",
    "for eid in eid_list:\n",
    "    \n",
    "    region_2_dat = get_data_per_recording(eid, simul_regions)\n",
    "    whole_dataset[eid] = region_2_dat"
   ]
  },
  {
   "cell_type": "markdown",
   "metadata": {
    "id": "ShGZe4gkUDXU"
   },
   "source": [
    "# Some manual stuff\n"
   ]
  },
  {
   "cell_type": "code",
   "execution_count": null,
   "metadata": {
    "colab": {
     "base_uri": "https://localhost:8080/"
    },
    "id": "C85mjHrK8_Ho",
    "outputId": "49b6b2d5-3fc9-4a0b-df1a-67397054fc45"
   },
   "outputs": [
    {
     "name": "stdout",
     "output_type": "stream",
     "text": [
      "Found 3recording sessions\n",
      "['81a78eac-9d36-4f90-a73a-7eb3ad7f770b', 'ee8b36de-779f-4dea-901f-e0141c95722b', '88d24c31-52e4-49cc-9f32-6adbeb9eba87']\n"
     ]
    }
   ],
   "source": [
    "num, motor_intersec = check_num_ses([gen_eidlist('STRv'), gen_eidlist('STRd'), gen_eidlist('MOp'), gen_eidlist('MOs')])\n",
    "motor_intersec = list(motor_intersec)\n",
    "m_regions = ['STRv', 'STRd', 'MOp', 'MOs']\n",
    "print(motor_intersec)"
   ]
  },
  {
   "cell_type": "markdown",
   "metadata": {
    "id": "zA9hqk2ATXYU"
   },
   "source": [
    "# @Akash - motor related regions dataset generation"
   ]
  },
  {
   "cell_type": "code",
   "execution_count": null,
   "metadata": {
    "colab": {
     "base_uri": "https://localhost:8080/",
     "height": 1000
    },
    "id": "vsM2PMpsUKEu",
    "outputId": "61bfb08e-b058-4886-d55d-27873cc338b4"
   },
   "outputs": [
    {
     "name": "stdout",
     "output_type": "stream",
     "text": [
      "(['1ef94d02-d51a-491f-a313-1bb5238d6b8b', 'b375a0ee-4c5a-4a53-9cea-d753f206e5c5'], ['probe01', 'probe00'])\n",
      "peth[\"tscale\"] contains the timebin centers relative to the event\n",
      "\n",
      "peth[\"means\"] is shaped: (116, 120)\n",
      "This variable is NxB (neurons x timebins) and contains the mean spike rates over trials\n",
      "\n",
      "spike_counts is shaped: (284, 116, 120)\n",
      "This variable is TxNxB (trials x neurons x timebins) and contains all spike rates per trial\n",
      "3315.6106526551034\n",
      "\n",
      "whole_window is shaped: (284, 116)\n",
      "This variable is TxN (trials x neurons) and contains summed spike rates per trial\n",
      "<class 'list'> 284\n",
      "peth[\"tscale\"] contains the timebin centers relative to the event\n",
      "\n",
      "peth[\"means\"] is shaped: (116, 120)\n",
      "This variable is NxB (neurons x timebins) and contains the mean spike rates over trials\n",
      "\n",
      "spike_counts is shaped: (267, 116, 120)\n",
      "This variable is TxNxB (trials x neurons x timebins) and contains all spike rates per trial\n",
      "3513.080699329294\n",
      "\n",
      "whole_window is shaped: (267, 116)\n",
      "This variable is TxN (trials x neurons) and contains summed spike rates per trial\n",
      "<class 'list'> 267\n",
      "peth[\"tscale\"] contains the timebin centers relative to the event\n",
      "\n",
      "peth[\"means\"] is shaped: (385, 120)\n",
      "This variable is NxB (neurons x timebins) and contains the mean spike rates over trials\n",
      "\n",
      "spike_counts is shaped: (284, 385, 120)\n",
      "This variable is TxNxB (trials x neurons x timebins) and contains all spike rates per trial\n",
      "10360.264041036791\n",
      "\n",
      "whole_window is shaped: (284, 385)\n",
      "This variable is TxN (trials x neurons) and contains summed spike rates per trial\n",
      "<class 'list'> 284\n",
      "peth[\"tscale\"] contains the timebin centers relative to the event\n",
      "\n",
      "peth[\"means\"] is shaped: (385, 120)\n",
      "This variable is NxB (neurons x timebins) and contains the mean spike rates over trials\n",
      "\n",
      "spike_counts is shaped: (267, 385, 120)\n",
      "This variable is TxNxB (trials x neurons x timebins) and contains all spike rates per trial\n",
      "10491.398905770384\n",
      "\n",
      "whole_window is shaped: (267, 385)\n",
      "This variable is TxN (trials x neurons) and contains summed spike rates per trial\n",
      "<class 'list'> 267\n",
      "peth[\"tscale\"] contains the timebin centers relative to the event\n",
      "\n",
      "peth[\"means\"] is shaped: (134, 120)\n",
      "This variable is NxB (neurons x timebins) and contains the mean spike rates over trials\n",
      "\n",
      "spike_counts is shaped: (284, 134, 120)\n",
      "This variable is TxNxB (trials x neurons x timebins) and contains all spike rates per trial\n",
      "5569.574759351022\n",
      "\n",
      "whole_window is shaped: (284, 134)\n",
      "This variable is TxN (trials x neurons) and contains summed spike rates per trial\n",
      "<class 'list'> 284\n",
      "peth[\"tscale\"] contains the timebin centers relative to the event\n",
      "\n",
      "peth[\"means\"] is shaped: (134, 120)\n",
      "This variable is NxB (neurons x timebins) and contains the mean spike rates over trials\n",
      "\n",
      "spike_counts is shaped: (267, 134, 120)\n",
      "This variable is TxNxB (trials x neurons x timebins) and contains all spike rates per trial\n",
      "5779.440976426699\n",
      "\n",
      "whole_window is shaped: (267, 134)\n",
      "This variable is TxN (trials x neurons) and contains summed spike rates per trial\n",
      "<class 'list'> 267\n",
      "peth[\"tscale\"] contains the timebin centers relative to the event\n",
      "\n",
      "peth[\"means\"] is shaped: (19, 120)\n",
      "This variable is NxB (neurons x timebins) and contains the mean spike rates over trials\n",
      "\n",
      "spike_counts is shaped: (284, 19, 120)\n",
      "This variable is TxNxB (trials x neurons x timebins) and contains all spike rates per trial\n",
      "1868.4696946967056\n",
      "\n",
      "whole_window is shaped: (284, 19)\n",
      "This variable is TxN (trials x neurons) and contains summed spike rates per trial\n",
      "<class 'list'> 284\n",
      "peth[\"tscale\"] contains the timebin centers relative to the event\n",
      "\n",
      "peth[\"means\"] is shaped: (19, 120)\n",
      "This variable is NxB (neurons x timebins) and contains the mean spike rates over trials\n",
      "\n",
      "spike_counts is shaped: (267, 19, 120)\n",
      "This variable is TxNxB (trials x neurons x timebins) and contains all spike rates per trial\n",
      "1933.2345951797986\n",
      "\n",
      "whole_window is shaped: (267, 19)\n",
      "This variable is TxN (trials x neurons) and contains summed spike rates per trial\n",
      "<class 'list'> 267\n",
      "(['03d2d8d1-a116-4763-8425-4ef7b1c1bd35', '5011eba9-8926-4a73-b729-579d02676d25'], ['probe01', 'probe00'])\n",
      "peth[\"tscale\"] contains the timebin centers relative to the event\n",
      "\n",
      "peth[\"means\"] is shaped: (49, 120)\n",
      "This variable is NxB (neurons x timebins) and contains the mean spike rates over trials\n",
      "\n",
      "spike_counts is shaped: (478, 49, 120)\n",
      "This variable is TxNxB (trials x neurons x timebins) and contains all spike rates per trial\n",
      "4797.431604515066\n",
      "\n",
      "whole_window is shaped: (478, 49)\n",
      "This variable is TxN (trials x neurons) and contains summed spike rates per trial\n",
      "<class 'list'> 478\n",
      "peth[\"tscale\"] contains the timebin centers relative to the event\n",
      "\n",
      "peth[\"means\"] is shaped: (49, 120)\n",
      "This variable is NxB (neurons x timebins) and contains the mean spike rates over trials\n",
      "\n",
      "spike_counts is shaped: (625, 49, 120)\n",
      "This variable is TxNxB (trials x neurons x timebins) and contains all spike rates per trial\n",
      "5302.867243293952\n",
      "\n",
      "whole_window is shaped: (625, 49)\n",
      "This variable is TxN (trials x neurons) and contains summed spike rates per trial\n",
      "<class 'list'> 625\n",
      "peth[\"tscale\"] contains the timebin centers relative to the event\n",
      "\n",
      "peth[\"means\"] is shaped: (192, 120)\n",
      "This variable is NxB (neurons x timebins) and contains the mean spike rates over trials\n",
      "\n",
      "spike_counts is shaped: (478, 192, 120)\n",
      "This variable is TxNxB (trials x neurons x timebins) and contains all spike rates per trial\n",
      "9722.063464100613\n",
      "\n",
      "whole_window is shaped: (478, 192)\n",
      "This variable is TxN (trials x neurons) and contains summed spike rates per trial\n",
      "<class 'list'> 478\n",
      "peth[\"tscale\"] contains the timebin centers relative to the event\n",
      "\n",
      "peth[\"means\"] is shaped: (192, 120)\n",
      "This variable is NxB (neurons x timebins) and contains the mean spike rates over trials\n",
      "\n",
      "spike_counts is shaped: (625, 192, 120)\n",
      "This variable is TxNxB (trials x neurons x timebins) and contains all spike rates per trial\n",
      "11556.877476204374\n",
      "\n",
      "whole_window is shaped: (625, 192)\n",
      "This variable is TxN (trials x neurons) and contains summed spike rates per trial\n",
      "<class 'list'> 625\n",
      "peth[\"tscale\"] contains the timebin centers relative to the event\n",
      "\n",
      "peth[\"means\"] is shaped: (493, 120)\n",
      "This variable is NxB (neurons x timebins) and contains the mean spike rates over trials\n",
      "\n",
      "spike_counts is shaped: (478, 493, 120)\n",
      "This variable is TxNxB (trials x neurons x timebins) and contains all spike rates per trial\n",
      "15006.990737652903\n",
      "\n",
      "whole_window is shaped: (478, 493)\n",
      "This variable is TxN (trials x neurons) and contains summed spike rates per trial\n",
      "<class 'list'> 478\n",
      "peth[\"tscale\"] contains the timebin centers relative to the event\n",
      "\n",
      "peth[\"means\"] is shaped: (288, 120)\n",
      "This variable is NxB (neurons x timebins) and contains the mean spike rates over trials\n",
      "\n",
      "spike_counts is shaped: (478, 288, 120)\n",
      "This variable is TxNxB (trials x neurons x timebins) and contains all spike rates per trial\n",
      "21708.96570544069\n",
      "\n",
      "whole_window is shaped: (478, 288)\n",
      "This variable is TxN (trials x neurons) and contains summed spike rates per trial\n",
      "<class 'list'> 478\n",
      "spike_counts CONGLOM.shape:  (478, 781, 120)\n",
      "peth[\"tscale\"] contains the timebin centers relative to the event\n",
      "\n",
      "peth[\"means\"] is shaped: (493, 120)\n",
      "This variable is NxB (neurons x timebins) and contains the mean spike rates over trials\n",
      "\n",
      "spike_counts is shaped: (625, 493, 120)\n",
      "This variable is TxNxB (trials x neurons x timebins) and contains all spike rates per trial\n",
      "18112.449116560685\n",
      "\n",
      "whole_window is shaped: (625, 493)\n",
      "This variable is TxN (trials x neurons) and contains summed spike rates per trial\n",
      "<class 'list'> 625\n",
      "peth[\"tscale\"] contains the timebin centers relative to the event\n",
      "\n",
      "peth[\"means\"] is shaped: (288, 120)\n",
      "This variable is NxB (neurons x timebins) and contains the mean spike rates over trials\n",
      "\n",
      "spike_counts is shaped: (625, 288, 120)\n",
      "This variable is TxNxB (trials x neurons x timebins) and contains all spike rates per trial\n",
      "25440.788273950948\n",
      "\n",
      "whole_window is shaped: (625, 288)\n",
      "This variable is TxN (trials x neurons) and contains summed spike rates per trial\n",
      "<class 'list'> 625\n",
      "spike_counts CONGLOM.shape:  (625, 781, 120)\n",
      "peth[\"tscale\"] contains the timebin centers relative to the event\n",
      "\n",
      "peth[\"means\"] is shaped: (6, 120)\n",
      "This variable is NxB (neurons x timebins) and contains the mean spike rates over trials\n",
      "\n",
      "spike_counts is shaped: (478, 6, 120)\n",
      "This variable is TxNxB (trials x neurons x timebins) and contains all spike rates per trial\n",
      "2043.3663401358065\n",
      "\n",
      "whole_window is shaped: (478, 6)\n",
      "This variable is TxN (trials x neurons) and contains summed spike rates per trial\n",
      "<class 'list'> 478\n",
      "peth[\"tscale\"] contains the timebin centers relative to the event\n",
      "\n",
      "peth[\"means\"] is shaped: (6, 120)\n",
      "This variable is NxB (neurons x timebins) and contains the mean spike rates over trials\n",
      "\n",
      "spike_counts is shaped: (625, 6, 120)\n",
      "This variable is TxNxB (trials x neurons x timebins) and contains all spike rates per trial\n",
      "2368.241541735133\n",
      "\n",
      "whole_window is shaped: (625, 6)\n",
      "This variable is TxN (trials x neurons) and contains summed spike rates per trial\n",
      "<class 'list'> 625\n",
      "(['3fd2d2b3-9415-4b6e-b392-40427fb1c388'], ['probe00'])\n",
      "peth[\"tscale\"] contains the timebin centers relative to the event\n",
      "\n",
      "peth[\"means\"] is shaped: (132, 120)\n",
      "This variable is NxB (neurons x timebins) and contains the mean spike rates over trials\n",
      "\n",
      "spike_counts is shaped: (268, 132, 120)\n",
      "This variable is TxNxB (trials x neurons x timebins) and contains all spike rates per trial\n",
      "17237.590956975397\n",
      "\n",
      "whole_window is shaped: (268, 132)\n",
      "This variable is TxN (trials x neurons) and contains summed spike rates per trial\n",
      "<class 'list'> 268\n",
      "peth[\"tscale\"] contains the timebin centers relative to the event\n",
      "\n",
      "peth[\"means\"] is shaped: (132, 120)\n",
      "This variable is NxB (neurons x timebins) and contains the mean spike rates over trials\n",
      "\n",
      "spike_counts is shaped: (277, 132, 120)\n",
      "This variable is TxNxB (trials x neurons x timebins) and contains all spike rates per trial\n",
      "16556.665123146027\n",
      "\n",
      "whole_window is shaped: (277, 132)\n",
      "This variable is TxN (trials x neurons) and contains summed spike rates per trial\n",
      "<class 'list'> 277\n",
      "peth[\"tscale\"] contains the timebin centers relative to the event\n",
      "\n",
      "peth[\"means\"] is shaped: (375, 120)\n",
      "This variable is NxB (neurons x timebins) and contains the mean spike rates over trials\n",
      "\n",
      "spike_counts is shaped: (268, 375, 120)\n",
      "This variable is TxNxB (trials x neurons x timebins) and contains all spike rates per trial\n",
      "11873.518939219324\n",
      "\n",
      "whole_window is shaped: (268, 375)\n",
      "This variable is TxN (trials x neurons) and contains summed spike rates per trial\n",
      "<class 'list'> 268\n",
      "peth[\"tscale\"] contains the timebin centers relative to the event\n",
      "\n",
      "peth[\"means\"] is shaped: (375, 120)\n",
      "This variable is NxB (neurons x timebins) and contains the mean spike rates over trials\n",
      "\n",
      "spike_counts is shaped: (277, 375, 120)\n",
      "This variable is TxNxB (trials x neurons x timebins) and contains all spike rates per trial\n",
      "11614.272168328069\n",
      "\n",
      "whole_window is shaped: (277, 375)\n",
      "This variable is TxN (trials x neurons) and contains summed spike rates per trial\n",
      "<class 'list'> 277\n",
      "peth[\"tscale\"] contains the timebin centers relative to the event\n",
      "\n",
      "peth[\"means\"] is shaped: (92, 120)\n",
      "This variable is NxB (neurons x timebins) and contains the mean spike rates over trials\n",
      "\n",
      "spike_counts is shaped: (268, 92, 120)\n",
      "This variable is TxNxB (trials x neurons x timebins) and contains all spike rates per trial\n",
      "3051.162237574397\n",
      "\n",
      "whole_window is shaped: (268, 92)\n",
      "This variable is TxN (trials x neurons) and contains summed spike rates per trial\n",
      "<class 'list'> 268\n",
      "peth[\"tscale\"] contains the timebin centers relative to the event\n",
      "\n",
      "peth[\"means\"] is shaped: (92, 120)\n",
      "This variable is NxB (neurons x timebins) and contains the mean spike rates over trials\n",
      "\n",
      "spike_counts is shaped: (277, 92, 120)\n",
      "This variable is TxNxB (trials x neurons x timebins) and contains all spike rates per trial\n",
      "3107.4016476792954\n",
      "\n",
      "whole_window is shaped: (277, 92)\n",
      "This variable is TxN (trials x neurons) and contains summed spike rates per trial\n",
      "<class 'list'> 277\n",
      "peth[\"tscale\"] contains the timebin centers relative to the event\n",
      "\n",
      "peth[\"means\"] is shaped: (16, 120)\n",
      "This variable is NxB (neurons x timebins) and contains the mean spike rates over trials\n",
      "\n",
      "spike_counts is shaped: (268, 16, 120)\n",
      "This variable is TxNxB (trials x neurons x timebins) and contains all spike rates per trial\n",
      "549.1502526631486\n",
      "\n",
      "whole_window is shaped: (268, 16)\n",
      "This variable is TxN (trials x neurons) and contains summed spike rates per trial\n",
      "<class 'list'> 268\n",
      "peth[\"tscale\"] contains the timebin centers relative to the event\n",
      "\n",
      "peth[\"means\"] is shaped: (16, 120)\n",
      "This variable is NxB (neurons x timebins) and contains the mean spike rates over trials\n",
      "\n",
      "spike_counts is shaped: (277, 16, 120)\n",
      "This variable is TxNxB (trials x neurons x timebins) and contains all spike rates per trial\n",
      "565.5775808852399\n",
      "\n",
      "whole_window is shaped: (277, 16)\n",
      "This variable is TxN (trials x neurons) and contains summed spike rates per trial\n",
      "<class 'list'> 277\n"
     ]
    },
    {
     "data": {
      "image/png": "[encoded data removed]",
      "text/plain": [
       "<Figure size 216x216 with 1 Axes>"
      ]
     },
     "metadata": {
      "needs_background": "light"
     },
     "output_type": "display_data"
    },
    {
     "data": {
      "image/png": "[encoded data removed]",
      "text/plain": [
       "<Figure size 216x216 with 1 Axes>"
      ]
     },
     "metadata": {
      "needs_background": "light"
     },
     "output_type": "display_data"
    },
    {
     "data": {
      "image/png": "[encoded data removed]",
      "text/plain": [
       "<Figure size 216x216 with 1 Axes>"
      ]
     },
     "metadata": {
      "needs_background": "light"
     },
     "output_type": "display_data"
    }
   ],
   "source": [
    "eid_list = ['ee8b36de-779f-4dea-901f-e0141c95722b', '81a78eac-9d36-4f90-a73a-7eb3ad7f770b', '88d24c31-52e4-49cc-9f32-6adbeb9eba87']\n",
    "m_regions = ['STRv', 'STRd', 'MOp', 'MOs']\n",
    "m_whole_dataset = {}\n",
    "for eid in eid_list:\n",
    "    region_2_dat = get_data_per_recording(eid, m_regions)\n",
    "    m_whole_dataset[eid] = region_2_dat"
   ]
  },
  {
   "cell_type": "code",
   "execution_count": null,
   "metadata": {
    "colab": {
     "base_uri": "https://localhost:8080/"
    },
    "id": "oaCrF6ZEBLRb",
    "outputId": "6733f930-6c20-42cd-fe99-af28cc8692df"
   },
   "outputs": [
    {
     "name": "stdout",
     "output_type": "stream",
     "text": [
      "eid:  ee8b36de-779f-4dea-901f-e0141c95722b\n",
      "pid numba:  0\n",
      "clusters:  [462  28 428 ...  22 376 286]\n",
      "STRv []\n",
      "STRd []\n",
      "MOp []\n",
      "MOs []\n",
      "pid numba:  1\n",
      "clusters:  [ 39 108 160 ... 247  89 142]\n",
      "STRv []\n",
      "STRd []\n",
      "MOp [87, 88, 89, 90, 91, 92, 93, 94, 95, 96, 97, 98, 99, 100, 101, 102, 103, 104, 105, 106, 107, 108, 109, 110, 111, 112, 113, 114, 115, 116, 117, 118, 119, 120, 121, 122, 123, 124, 125, 126, 127, 128, 129, 130, 131, 132, 133, 134, 135, 136, 137, 138, 139, 140, 141, 142, 143, 144, 145, 146, 147, 148, 149, 150, 151, 152, 153, 154, 155, 156, 157, 158, 159, 160, 161, 162, 163, 164, 165, 166, 167, 168, 169, 170, 171, 172, 173, 174, 220, 221, 222, 223, 224, 225, 226, 227, 228, 229, 230, 231, 232, 233, 234, 235, 236, 237, 238, 239, 240, 241, 242, 243, 244, 245, 246, 247, 248, 249, 250, 251, 268, 269, 270, 271, 272, 273, 274, 275, 276, 277, 283, 284, 285, 286]\n",
      "MOs [69, 70, 71, 72, 73, 74, 75, 76, 77, 78, 79, 80, 81, 82, 83, 84, 85, 86, 219]\n"
     ]
    }
   ],
   "source": [
    "def verify_regions_pereid(eid, roisois):\n",
    "    print('eid: ', eid)\n",
    "    pid = one.eid2pid(eid)\n",
    "    dis_eid_good = False\n",
    "    for i,pid in enumerate(pid[0]):\n",
    "        sl = SpikeSortingLoader(pid=pid, one=one, atlas=ba)\n",
    "        spikes, clusters, channels = sl.load_spike_sorting()\n",
    "        clusters = sl.merge_clusters(spikes, clusters, channels)\n",
    "        rois = clusters['acronym']\n",
    "        print('pid numba: ', i)\n",
    "        # print(rois)\n",
    "        \n",
    "        for cluster in spike.clusters:\n",
    "          print(cluster)\n",
    "        \n",
    "        for region in roisois:\n",
    "            relev_neur = [i for i, acronym in enumerate(clusters['acronym']) if region in acronym]\n",
    "            print(region, relev_neur)\n",
    "        \n",
    "\n",
    "    \n",
    "\n",
    "# for eid in motor_intersec:\n",
    "#     verify_regions_pereid(eid, m_regions)\n",
    "\n",
    "verify_regions_pereid(motor_intersec[0], m_regions)"
   ]
  },
  {
   "cell_type": "code",
   "execution_count": null,
   "metadata": {
    "colab": {
     "base_uri": "https://localhost:8080/"
    },
    "id": "ys9SvTEVL5QC",
    "outputId": "a377e5e0-3a7c-40e4-c43d-3787d272a0cd"
   },
   "outputs": [
    {
     "data": {
      "text/plain": [
       "288"
      ]
     },
     "execution_count": 64,
     "metadata": {},
     "output_type": "execute_result"
    }
   ],
   "source": [
    "len(clusters['channels'])"
   ]
  },
  {
   "cell_type": "code",
   "execution_count": null,
   "metadata": {
    "colab": {
     "base_uri": "https://localhost:8080/"
    },
    "id": "j0fpj4McMKg6",
    "outputId": "a45a9643-9ec6-48cc-c259-9727db7634a7"
   },
   "outputs": [
    {
     "data": {
      "text/plain": [
       "array(['V3', 'V3', 'V3', 'V3', 'V3', 'V3', 'V3', 'V3', 'V3', 'V3', 'V3',\n",
       "       'V3', 'V3', 'V3', 'V3', 'V3', 'V3', 'V3', 'V3', 'V3', 'V3', 'V3',\n",
       "       'V3', 'V3', 'V3', 'V3', 'V3', 'V3', 'V3', 'V3', 'V3', 'V3', 'V3',\n",
       "       'V3', 'V3', 'V3', 'V3', 'fi', 'fi', 'fi', 'LSc', 'LSc', 'LSc',\n",
       "       'LSc', 'LSc', 'LSc', 'LSc', 'LSc', 'LSc', 'LSc', 'LSc', 'LSc',\n",
       "       'LSc', 'LSc', 'LSc', 'LSc', 'LSc', 'LSc', 'LSc', 'LSc', 'LSc',\n",
       "       'VL', 'VL', 'VL', 'VL', 'VL', 'VL', 'VL', 'VL', 'MOs6a', 'MOs6a',\n",
       "       'MOs6a', 'MOs6a', 'MOs6a', 'MOs6a', 'MOs6a', 'MOs6a', 'MOs6a',\n",
       "       'MOs6a', 'MOs6a', 'MOs6a', 'MOs6a', 'MOs6a', 'MOs6a', 'MOs6a',\n",
       "       'MOs6a', 'MOs6a', 'MOp5', 'MOp5', 'MOp5', 'MOp5', 'MOp5', 'MOp5',\n",
       "       'MOp5', 'MOp5', 'MOp5', 'MOp5', 'MOp5', 'MOp5', 'MOp5', 'MOp5',\n",
       "       'MOp5', 'MOp5', 'MOp5', 'MOp5', 'MOp5', 'MOp5', 'MOp5', 'MOp5',\n",
       "       'MOp5', 'MOp5', 'MOp5', 'MOp5', 'MOp5', 'MOp5', 'MOp2/3', 'MOp2/3',\n",
       "       'MOp2/3', 'MOp2/3', 'MOp2/3', 'MOp2/3', 'MOp2/3', 'MOp2/3',\n",
       "       'MOp2/3', 'MOp2/3', 'MOp2/3', 'MOp2/3', 'MOp2/3', 'MOp2/3',\n",
       "       'MOp2/3', 'MOp2/3', 'MOp2/3', 'MOp2/3', 'MOp2/3', 'MOp2/3',\n",
       "       'MOp2/3', 'MOp2/3', 'MOp2/3', 'MOp2/3', 'MOp2/3', 'MOp2/3',\n",
       "       'MOp2/3', 'MOp2/3', 'MOp2/3', 'MOp2/3', 'MOp2/3', 'MOp2/3',\n",
       "       'MOp2/3', 'MOp2/3', 'MOp2/3', 'MOp2/3', 'MOp2/3', 'MOp2/3',\n",
       "       'MOp2/3', 'MOp2/3', 'MOp2/3', 'MOp2/3', 'MOp2/3', 'MOp2/3',\n",
       "       'MOp2/3', 'MOp2/3', 'MOp2/3', 'MOp2/3', 'MOp2/3', 'MOp2/3',\n",
       "       'MOp2/3', 'MOp2/3', 'MOp2/3', 'MOp2/3', 'MOp1', 'MOp1', 'MOp1',\n",
       "       'MOp1', 'MOp1', 'MOp1', 'void', 'void', 'void', 'void', 'void',\n",
       "       'void', 'void', 'void', 'void', 'void', 'void', 'void', 'V3', 'V3',\n",
       "       'V3', 'V3', 'V3', 'V3', 'V3', 'V3', 'V3', 'V3', 'V3', 'V3', 'V3',\n",
       "       'V3', 'V3', 'V3', 'V3', 'V3', 'V3', 'V3', 'V3', 'V3', 'LSc', 'LSc',\n",
       "       'LSc', 'LSc', 'LSc', 'LSc', 'VL', 'VL', 'VL', 'VL', 'MOs6a',\n",
       "       'MOp5', 'MOp5', 'MOp5', 'MOp5', 'MOp5', 'MOp2/3', 'MOp2/3',\n",
       "       'MOp2/3', 'MOp2/3', 'MOp2/3', 'MOp5', 'MOp2/3', 'MOp2/3', 'MOp2/3',\n",
       "       'MOp2/3', 'MOp2/3', 'MOp2/3', 'MOp2/3', 'MOp2/3', 'MOp2/3',\n",
       "       'MOp2/3', 'MOp2/3', 'MOp2/3', 'MOp2/3', 'MOp2/3', 'MOp2/3',\n",
       "       'MOp2/3', 'MOp2/3', 'MOp2/3', 'MOp2/3', 'MOp2/3', 'MOp1', 'void',\n",
       "       'V3', 'V3', 'V3', 'V3', 'V3', 'V3', 'V3', 'V3', 'V3', 'V3', 'V3',\n",
       "       'V3', 'V3', 'LSc', 'VL', 'MOp5', 'MOp2/3', 'MOp2/3', 'MOp2/3',\n",
       "       'MOp2/3', 'MOp2/3', 'MOp2/3', 'MOp2/3', 'MOp2/3', 'MOp2/3', 'V3',\n",
       "       'V3', 'V3', 'V3', 'V3', 'MOp2/3', 'MOp2/3', 'MOp2/3', 'MOp2/3',\n",
       "       'V3'], dtype=object)"
      ]
     },
     "execution_count": 70,
     "metadata": {},
     "output_type": "execute_result"
    }
   ],
   "source": [
    "clusters['acronym']"
   ]
  },
  {
   "cell_type": "code",
   "execution_count": null,
   "metadata": {
    "colab": {
     "base_uri": "https://localhost:8080/"
    },
    "id": "gl7XYDVGL672",
    "outputId": "99057994-bb39-4770-cfa9-f05c77bfe0b9"
   },
   "outputs": [
    {
     "data": {
      "text/plain": [
       "287"
      ]
     },
     "execution_count": 67,
     "metadata": {},
     "output_type": "execute_result"
    }
   ],
   "source": [
    "max(spikes.clusters)"
   ]
  },
  {
   "cell_type": "code",
   "execution_count": null,
   "metadata": {
    "colab": {
     "base_uri": "https://localhost:8080/"
    },
    "id": "W48k-niD_vKr",
    "outputId": "de68c593-9f08-4c78-d2bc-e6ad122cccac"
   },
   "outputs": [
    {
     "name": "stdout",
     "output_type": "stream",
     "text": [
      "Found 1recording sessions\n"
     ]
    },
    {
     "data": {
      "text/plain": [
       "1"
      ]
     },
     "execution_count": 41,
     "metadata": {},
     "output_type": "execute_result"
    }
   ],
   "source": [
    "motor_dataset = {}\n",
    "\n",
    "for eid in motor_intersec:\n",
    "    region_2_dat = get_data_per_recording(eid, m_regions)\n",
    "    motor_dataset[eid] = region_2_dat"
   ]
  },
  {
   "cell_type": "code",
   "execution_count": null,
   "metadata": {
    "colab": {
     "base_uri": "https://localhost:8080/"
    },
    "id": "zhZenZM3aiaX",
    "outputId": "0537c1dc-167e-4cf0-83ed-f7e038b8e4bc"
   },
   "outputs": [
    {
     "name": "stdout",
     "output_type": "stream",
     "text": [
      "big {'ae8787b1-4229-4d56-b0c2-566b61a25b77', '9468fa93-21ae-4984-955c-e8402e280c83', '2e6e179c-fccc-4e8f-9448-ce5b6858a183', 'f8041c1e-5ef4-4ae6-afec-ed82d7a74dc1', 'ee8b36de-779f-4dea-901f-e0141c95722b', '65f5c9b4-4440-48b9-b914-c593a5184a18', '88d24c31-52e4-49cc-9f32-6adbeb9eba87', '36280321-555b-446d-9b7d-c2e17991e090', 'ff4187b5-4176-4e39-8894-53a24b7cf36b', '9e9c6fc0-4769-4d83-9ea4-b59a1230510e', '0f77ca5d-73c2-45bd-aa4c-4c5ed275dbde', '2c44a360-5a56-4971-8009-f469fb59de98', '1191f865-b10a-45c8-9c48-24a980fd9402', 'cf43dbb1-6992-40ec-a5f9-e8e838d0f643', 'dd4da095-4a99-4bf3-9727-f735077dba66', 'fb70ebf7-8175-42b0-9b7a-7c6e8612226e', 'ebc9392c-1ecb-4b4b-a545-4e3d70d23611', '196a2adf-ff83-49b2-823a-33f990049c2e', '8207abc6-6b23-4762-92b4-82e05bed5143', '81a78eac-9d36-4f90-a73a-7eb3ad7f770b', '1e45d992-c356-40e1-9be1-a506d944896f', 'ac7d3064-7f09-48a3-88d2-e86a4eb86461', 'aad23144-0e52-4eac-80c5-c4ee2decb198', '19b44992-d527-4a12-8bda-aa11379cb08c', '4ddb8a95-788b-48d0-8a0a-66c7c796da96', '1d4a7bd6-296a-48b9-b20e-bd0ac80750a5', 'd7e60cc3-6020-429e-a654-636c6cc677ea', '493170a6-fd94-4ee4-884f-cc018c17eeb9', '4ecb5d24-f5cc-402c-be28-9d0f7cb14b3a', '6f6d2c8e-28be-49f4-ae4d-06be2d3148c1', '8d316998-28c3-4265-b029-e2ca82375b2f', 'd839491f-55d8-4cbe-a298-7839208ba12b', 'f99ac31f-171b-4208-a55d-5644c0ad51c3', 'a4000c2f-fa75-4b3e-8f06-a7cf599b87ad', 'cb2ad999-a6cb-42ff-bf71-1774c57e5308', 'a405053a-eb13-4aa4-850c-5a337e5dc7fd', '78b4fff5-c5ec-44d9-b5f9-d59493063f00', 'f88d4dd4-ccd7-400e-9035-fa00be3bcfa8', 'dfbe628d-365b-461c-a07f-8b9911ba83aa', 'cc45c568-c3b9-4f74-836e-c87762e898c8', '4d8c7767-981c-4347-8e5e-5d5fffe38534', '752456f3-9f47-4fbf-bd44-9d131c0f41aa', '113c5b6c-940e-4b21-b462-789b4c2be0e5', 'f3ce3197-d534-4618-bf81-b687555d1883', 'a92c4b1d-46bd-457e-a1f4-414265f0e2d4', '259927fd-7563-4b03-bc5d-17b4d0fa7a55', '28741f91-c837-4147-939e-918d38d849f2', '5455a21c-1be7-4cae-ae8e-8853a8d5f55e', '360eac0c-7d2d-4cc1-9dcf-79fc7afc56e7', '5569f363-0934-464e-9a5b-77c8e67791a1'}\n",
      "Found 0 recording sessions\n",
      "[]\n"
     ]
    }
   ],
   "source": [
    "regions = ['VAL', 'VM', 'VPM', 'LP', 'VPL', 'MOs', 'MOp', 'VISp', 'CP', 'DN']\n",
    "regions = ['MOs', 'CP', '']\n",
    "bigset = set(gen_eds(regions[0]))\n",
    "\n",
    "print('big', bigset)\n",
    "for region in regions:\n",
    "    bigset = bigset & set(gen_eds(region))\n",
    "\n",
    "print(f'Found {len(list(bigset))} recording sessions')\n",
    "print(list(bigset))"
   ]
  },
  {
   "cell_type": "code",
   "execution_count": null,
   "metadata": {
    "colab": {
     "base_uri": "https://localhost:8080/"
    },
    "id": "uydHIVZ2V77A",
    "outputId": "561d2aa4-6f1b-469b-cb63-cb7f33066703"
   },
   "outputs": [
    {
     "data": {
      "text/plain": [
       "16"
      ]
     },
     "execution_count": 117,
     "metadata": {},
     "output_type": "execute_result"
    }
   ],
   "source": [
    "eid_cumulative = []\n",
    "from collections import Counter\n",
    "for roi in top_rois:\n",
    "    eid_cumulative += eid_dic[roi]\n",
    "eidcounts = Counter(eid_cumulative)\n",
    "max(eidcounts.values())"
   ]
  },
  {
   "cell_type": "code",
   "execution_count": null,
   "metadata": {
    "colab": {
     "base_uri": "https://localhost:8080/"
    },
    "id": "spMZX8AFWXKe",
    "outputId": "b3d5639e-b1ec-4150-e621-ffd6d801b5ec"
   },
   "outputs": [
    {
     "data": {
      "text/plain": [
       "16"
      ]
     },
     "execution_count": 110,
     "metadata": {},
     "output_type": "execute_result"
    }
   ],
   "source": [
    "sorted_eid = np.argsort(list(eidcounts.values()))\n",
    "eid_relev = list(eidcounts.keys())\n",
    "top50_eids = [eid_relev[i] for i in sorted_eid[-50:]]\n",
    "top50_eids.reverse()\n",
    "eidcounts[top50_eids[0]]"
   ]
  },
  {
   "cell_type": "code",
   "execution_count": null,
   "metadata": {
    "colab": {
     "base_uri": "https://localhost:8080/"
    },
    "id": "GJRPoKR_bU-x",
    "outputId": "01f163f5-3b93-4e59-b716-1a10db9a4e84"
   },
   "outputs": [
    {
     "data": {
      "text/plain": [
       "['VISpm',\n",
       " 'RSPagl',\n",
       " 'RSPd',\n",
       " 'RSPv',\n",
       " 'PTLp',\n",
       " 'CA1',\n",
       " 'CA2',\n",
       " 'CA3',\n",
       " 'DG',\n",
       " 'VPL',\n",
       " 'VPM',\n",
       " 'LGd',\n",
       " 'ZI',\n",
       " 'SCs',\n",
       " 'MRN',\n",
       " 'SCm',\n",
       " 'RN']"
      ]
     },
     "execution_count": 115,
     "metadata": {},
     "output_type": "execute_result"
    }
   ],
   "source": [
    "roi_dic[top50_eids[0]]"
   ]
  },
  {
   "cell_type": "code",
   "execution_count": null,
   "metadata": {
    "id": "Eo4yHuq1aSdA"
   },
   "outputs": [],
   "source": [
    "roiset = set(roi_dic[top50_eids[0]])\n",
    "for i,roi in enumerate(top50_eids):\n",
    "    if i == 0:\n",
    "      continue\n",
    "    roiset = roiset & set(roi_dic[top50_eids[i]])\n",
    "    print(len(roiset))"
   ]
  },
  {
   "cell_type": "code",
   "execution_count": null,
   "metadata": {
    "colab": {
     "base_uri": "https://localhost:8080/",
     "height": 321
    },
    "id": "27R4QwfJxE6H",
    "outputId": "526e9c47-eadb-4c12-dbff-df4d8467cfc6"
   },
   "outputs": [
    {
     "name": "stdout",
     "output_type": "stream",
     "text": [
      "The EID with the most simultaneous recordings is: 2c44a360-5a56-4971-8009-f469fb59de98 with 19\n",
      "Rois:  ['MOp', 'MOs', 'ACAd', 'ACAv', 'PL', 'ILA', 'TT', 'DP', 'CA3', 'DG', 'ACB', 'OT', 'LSr', 'SI', 'AMd', 'IAD', 'MD', 'PVT', 'CM']\n"
     ]
    },
    {
     "data": {
      "image/png": "[encoded data removed]",
      "text/plain": [
       "<Figure size 432x288 with 1 Axes>"
      ]
     },
     "metadata": {
      "needs_background": "light"
     },
     "output_type": "display_data"
    }
   ],
   "source": [
    "record_lens = [len(record) for record in roi_records]\n",
    "highscore_ind = np.argmax(record_lens)\n",
    "\n",
    "plt.hist(record_lens)\n",
    "\n",
    "# highscore_ind is the index corresponding to an eid\n",
    "# \n",
    "eid_most = all_eids[highscore_ind]\n",
    "corr_regions = roi_records[highscore_ind]\n",
    "print('The EID with the most simultaneous recordings is: ' + eid_most + ' with ' + str(len(corr_regions)))\n",
    "print('Rois: ', corr_regions)"
   ]
  },
  {
   "cell_type": "code",
   "execution_count": null,
   "metadata": {
    "id": "ZZnTEwb_57Ge"
   },
   "outputs": [],
   "source": []
  },
  {
   "cell_type": "markdown",
   "metadata": {
    "id": "1xnNs2z_xK9d"
   },
   "source": [
    "3) Dataset generation below"
   ]
  },
  {
   "cell_type": "code",
   "execution_count": null,
   "metadata": {
    "id": "yprP8tTPxF3u"
   },
   "outputs": [],
   "source": [
    "\n",
    "eid_most = '2c44a360-5a56-4971-8009-f469fb59de98'\n",
    "corr_regions = ['MOp', 'MOs', 'ACAd', 'ACAv', 'PL', 'ILA', 'TT', 'DP', 'CA3', 'DG', 'ACB', 'OT', 'LSr', 'SI', 'AMd', 'IAD', 'MD', 'PVT', 'CM']\n",
    "\n",
    "#this code is written for an eid with two pids (two probes)\n",
    "\n"
   ]
  },
  {
   "cell_type": "code",
   "execution_count": null,
   "metadata": {
    "colab": {
     "base_uri": "https://localhost:8080/"
    },
    "id": "NuYeN9wq4unN",
    "outputId": "2218c265-0a4b-44ba-b8e2-00493910295a"
   },
   "outputs": [
    {
     "name": "stdout",
     "output_type": "stream",
     "text": [
      "4.601481504547704\n"
     ]
    }
   ],
   "source": [
    "diff = 0\n",
    "for i,trial in enumerate(trials['goCueTrigger_times']):\n",
    "    if i == len(trials['goCueTrigger_times'])-1:\n",
    "        break\n",
    "    diff += trials['goCueTrigger_times'][i+1] - trials['goCueTrigger_times'][i]\n",
    "print(diff/i)"
   ]
  },
  {
   "cell_type": "code",
   "execution_count": null,
   "metadata": {
    "id": "uBNBn1BdxVzl"
   },
   "outputs": [],
   "source": [
    "#summarize dimensions\n",
    "#peth means is neurons by time (averaged over trials)\n",
    "#spike_counts is trials by neurons by time\n",
    "#trial_data contains behavioral parameters (choice, feedback, movement_initiation_time, etc)\n",
    "\n",
    "for roi in region_2_data:\n",
    "    print('ROI: ', roi)\n",
    "    for condition in [-1,1]:\n",
    "        print('Choice: ', condition)\n",
    "        print(region_2_data[roi][condition]['peth']['means'].shape)\n",
    "        print(region_2_data[roi][condition]['spike_counts'].shape)\n",
    "        print(region_2_data[roi][condition]['trial_data']['choices'].shape)"
   ]
  },
  {
   "cell_type": "code",
   "execution_count": null,
   "metadata": {
    "colab": {
     "base_uri": "https://localhost:8080/"
    },
    "id": "7DajQhgM2rN0",
    "outputId": "6cf0db10-f1fe-477f-8c28-d6c383aca433"
   },
   "outputs": [
    {
     "name": "stdout",
     "output_type": "stream",
     "text": [
      "yo madda\n",
      "yo madda\n",
      "(600, 120) (600,)\n",
      "yo madda\n",
      "yo madda\n",
      "(600, 120) (600,)\n",
      "yo madda\n",
      "yo madda\n",
      "(600, 120) (600,)\n",
      "yo madda\n",
      "yo madda\n",
      "(600, 120) (600,)\n",
      "yo madda\n",
      "yo madda\n",
      "(600, 120) (600,)\n",
      "yo madda\n",
      "yo madda\n",
      "(600, 120) (600,)\n",
      "yo madda\n",
      "yo madda\n",
      "(600, 120) (600,)\n"
     ]
    },
    {
     "name": "stderr",
     "output_type": "stream",
     "text": [
      "/usr/local/lib/python3.9/dist-packages/numpy/core/fromnumeric.py:3474: RuntimeWarning: Mean of empty slice.\n",
      "  return _methods._mean(a, axis=axis, dtype=dtype,\n",
      "/usr/local/lib/python3.9/dist-packages/numpy/core/_methods.py:181: RuntimeWarning: invalid value encountered in true_divide\n",
      "  ret = um.true_divide(\n"
     ]
    }
   ],
   "source": [
    "squash = 'mean'\n",
    "region_2_data = whole_dataset['e2b845a1-e313-4a08-bc61-a5f662ed295e']\n",
    "rois = region_2_data.keys()\n",
    "for ex_roi in rois:\n",
    "    num_trials = region_2_data[ex_roi][-1]['trial_data']['choices'].shape[0] + region_2_data[ex_roi][1]['trial_data']['choices'].shape[0]\n",
    "    training_size = 480\n",
    "    T = region_2_data[ex_roi][1]['spike_counts'].shape[-1]\n",
    "    whole_data = []\n",
    "    whole_outputs = []\n",
    "\n",
    "    for condition in [-1,1]:\n",
    "        spike_counts = region_2_data[ex_roi][condition]['spike_counts']\n",
    "        if squash == 'mean':\n",
    "            print(\"yo madda\")\n",
    "            # print(spike_counts.shape)\n",
    "            dat = np.mean(spike_counts, axis=1) #averaging over neurons\n",
    "            # print(dat.shape)\n",
    "        elif squash == 'vec':\n",
    "            dat = spike_counts.reshape(spike_counts.shape[0],-1)\n",
    "\n",
    "        whole_data.append(dat)\n",
    "        whole_outputs.append(region_2_data[ex_roi][condition]['trial_data']['choices'])\n",
    "    whole_data = np.vstack(whole_data)\n",
    "    whole_outputs = np.hstack(whole_outputs)\n",
    "    print(whole_data.shape, whole_outputs.shape)"
   ]
  },
  {
   "cell_type": "code",
   "execution_count": null,
   "metadata": {
    "id": "NdaJvZbw4-ir"
   },
   "outputs": [],
   "source": [
    "count = 0\n",
    "for eid in whole_dataset.keys():\n",
    "    for roi in whole_dataset[eid].keys():\n",
    "        for condition in [-1,1]:\n",
    "            count += 1\n",
    "            a = whole_dataset[eid][ex_roi][condition]['spike_counts']\n",
    "            print(whole_dataset[eid][ex_roi][condition]['spike_counts'].shape)\n",
    "print(count)"
   ]
  },
  {
   "cell_type": "markdown",
   "metadata": {
    "id": "NFyeXb5o8seN"
   },
   "source": [
    "# Making predictions"
   ]
  },
  {
   "cell_type": "code",
   "execution_count": null,
   "metadata": {
    "id": "ph59BwCQz2br"
   },
   "outputs": [],
   "source": [
    "#first pass classification task\n",
    "from sklearn.model_selection import train_test_split\n",
    "from sklearn import metrics\n",
    "def check_accuracy_peregion(big_data, model, squash = 'mean', across_recordings = True):\n",
    "\n",
    "    tall_mat = []\n",
    "    tall_outputs = []\n",
    "    print('KEYS: ', big_data.keys())\n",
    "\n",
    "    roi_2_datas = {}\n",
    "    roi_2_outputs = {}\n",
    "    for eid in big_data.keys():\n",
    "        print('**EID: ', eid)\n",
    "        region_2_data = big_data[eid]\n",
    "        rois = region_2_data.keys()\n",
    "        for ex_roi in rois:\n",
    "            num_trials = region_2_data[ex_roi][-1]['trial_data']['choices'].shape[0] + region_2_data[ex_roi][1]['trial_data']['choices'].shape[0]\n",
    "            print(num_trials)\n",
    "            training_size = 480\n",
    "            T = region_2_data[ex_roi][1]['spike_counts'].shape[-1]\n",
    "            whole_data = []\n",
    "            whole_outputs = []\n",
    "            dat = None\n",
    "            for condition in [-1,1]:\n",
    "                spike_counts = region_2_data[ex_roi][condition]['spike_counts']\n",
    "                if spike_counts.shape[1] == 0:\n",
    "                    continue\n",
    "                if squash == 'mean':\n",
    "                    # print(spike_counts.shape)\n",
    "                    dat = np.mean(spike_counts, axis=1) #averaging over neurons\n",
    "                    # print(dat.shape)\n",
    "                elif squash == 'vec':\n",
    "                    dat = spike_counts.reshape(spike_counts.shape[0],-1)\n",
    "\n",
    "                whole_data.append(dat)\n",
    "                whole_outputs.append(region_2_data[ex_roi][condition]['trial_data']['choices'])\n",
    "            if len(whole_data) == 0:\n",
    "                continue\n",
    "            whole_data = np.vstack(whole_data)\n",
    "            whole_outputs = np.hstack(whole_outputs)\n",
    "\n",
    "            if not across_recordings:\n",
    "                X_train, X_test, y_train, y_test = train_test_split(whole_data, whole_outputs, test_size=0.2)\n",
    "                model.fit(X_train, y_train)\n",
    "                y_pred = model.predict(X_test)\n",
    "                # Model Accuracy: how often is the classifier correct?\n",
    "                print(ex_roi + \" accuracy:\",metrics.accuracy_score(y_test, y_pred))\n",
    "\n",
    "            if ex_roi not in roi_2_datas.keys():\n",
    "                roi_2_datas[ex_roi] = []\n",
    "                roi_2_outputs[ex_roi] = []\n",
    "            roi_2_datas[ex_roi].append(whole_data)\n",
    "            roi_2_outputs[ex_roi].append(whole_outputs)\n",
    "            \n",
    "    if across_recordings:\n",
    "        for roi in rois:\n",
    "            massive_dat = np.vstack(roi_2_datas[roi])\n",
    "            massive_out = np.hstack(roi_2_outputs[roi])\n",
    "            print(\"massive_dat shape: \", massive_dat.shape)\n",
    "            print(\"massive_out.shape: \", massive_out.shape)\n",
    "            X_train, X_test, y_train, y_test = train_test_split(massive_dat, massive_out, test_size=0.2)\n",
    "            model.fit(X_train, y_train)\n",
    "            y_pred = model.predict(X_test)\n",
    "            # Model Accuracy: how often is the classifier correct?\n",
    "            print(roi + \" accuracy:\",metrics.accuracy_score(y_test, y_pred))\n",
    "\n",
    "from sklearn import svm\n",
    "clf = svm.SVC(kernel='rbf')\n",
    "check_accuracy_peregion(m_whole_dataset, clf, squash = 'mean', across_recordings = True)\n",
    "\n",
    "check_accuracy_peregion(m_whole_dataset, clf, squash = 'vec', across_recordings = False)"
   ]
  },
  {
   "cell_type": "markdown",
   "metadata": {
    "id": "bMooQtqHTh-M"
   },
   "source": [
    "# @Akash, making variants of the dataset w diff trial_definitions"
   ]
  },
  {
   "cell_type": "markdown",
   "metadata": {
    "id": "7UOqrQcEDGNb"
   },
   "source": [
    "Playing around with trial definitions"
   ]
  },
  {
   "cell_type": "code",
   "execution_count": null,
   "metadata": {
    "id": "P7g_C4drDF7x"
   },
   "outputs": [],
   "source": [
    "eid_list = ['ee8b36de-779f-4dea-901f-e0141c95722b', '81a78eac-9d36-4f90-a73a-7eb3ad7f770b', '88d24c31-52e4-49cc-9f32-6adbeb9eba87']\n",
    "m_whole_dataset_alt = {}\n",
    "for eid in eid_list:\n",
    "    region_2_dat = get_data_per_recording(eid, m_regions, trial_def = [2,2,0.025]) #[time before movement init, time after, timebin]\n",
    "    m_whole_dataset_alt[eid] = region_2_dat"
   ]
  },
  {
   "cell_type": "code",
   "execution_count": null,
   "metadata": {
    "colab": {
     "base_uri": "https://localhost:8080/"
    },
    "id": "gbQ1WiQMcgD4",
    "outputId": "f9ed4de0-c438-4647-ac88-6a5158c910f6"
   },
   "outputs": [
    {
     "name": "stdout",
     "output_type": "stream",
     "text": [
      "KEYS:  dict_keys(['ee8b36de-779f-4dea-901f-e0141c95722b', '81a78eac-9d36-4f90-a73a-7eb3ad7f770b', '88d24c31-52e4-49cc-9f32-6adbeb9eba87'])\n",
      "**EID:  ee8b36de-779f-4dea-901f-e0141c95722b\n",
      "551\n",
      "551\n",
      "551\n",
      "551\n",
      "**EID:  81a78eac-9d36-4f90-a73a-7eb3ad7f770b\n",
      "1103\n",
      "1103\n",
      "1103\n",
      "1103\n",
      "**EID:  88d24c31-52e4-49cc-9f32-6adbeb9eba87\n",
      "545\n",
      "545\n",
      "545\n",
      "545\n",
      "massive_dat shape:  (2199, 160)\n",
      "massive_out.shape:  (2199,)\n",
      "STRv accuracy: 0.6136363636363636\n",
      "massive_dat shape:  (2199, 160)\n",
      "massive_out.shape:  (2199,)\n",
      "STRd accuracy: 0.6568181818181819\n",
      "massive_dat shape:  (2199, 160)\n",
      "massive_out.shape:  (2199,)\n",
      "MOp accuracy: 0.6613636363636364\n",
      "massive_dat shape:  (2199, 160)\n",
      "massive_out.shape:  (2199,)\n",
      "MOs accuracy: 0.6136363636363636\n",
      "KEYS:  dict_keys(['ee8b36de-779f-4dea-901f-e0141c95722b', '81a78eac-9d36-4f90-a73a-7eb3ad7f770b', '88d24c31-52e4-49cc-9f32-6adbeb9eba87'])\n",
      "**EID:  ee8b36de-779f-4dea-901f-e0141c95722b\n",
      "551\n",
      "STRv accuracy: 0.7837837837837838\n",
      "551\n",
      "STRd accuracy: 0.9099099099099099\n",
      "551\n",
      "MOp accuracy: 0.8738738738738738\n",
      "551\n",
      "MOs accuracy: 0.7117117117117117\n",
      "**EID:  81a78eac-9d36-4f90-a73a-7eb3ad7f770b\n",
      "1103\n",
      "STRv accuracy: 0.6561085972850679\n",
      "1103\n",
      "STRd accuracy: 0.9321266968325792\n",
      "1103\n",
      "MOp accuracy: 0.9773755656108597\n",
      "1103\n",
      "MOs accuracy: 0.7375565610859729\n",
      "**EID:  88d24c31-52e4-49cc-9f32-6adbeb9eba87\n",
      "545\n",
      "STRv accuracy: 0.8532110091743119\n",
      "545\n",
      "STRd accuracy: 0.8715596330275229\n",
      "545\n",
      "MOp accuracy: 0.8165137614678899\n",
      "545\n",
      "MOs accuracy: 0.6697247706422018\n"
     ]
    }
   ],
   "source": [
    "check_accuracy_peregion(m_whole_dataset_alt, clf, squash = 'mean', across_recordings = True)\n",
    "\n",
    "check_accuracy_peregion(m_whole_dataset_alt, clf, squash = 'vec', across_recordings = False)"
   ]
  },
  {
   "cell_type": "code",
   "execution_count": null,
   "metadata": {
    "id": "r3_Fmk1KQ7SC"
   },
   "outputs": [],
   "source": [
    "eid_list = ['ee8b36de-779f-4dea-901f-e0141c95722b', '81a78eac-9d36-4f90-a73a-7eb3ad7f770b', '88d24c31-52e4-49cc-9f32-6adbeb9eba87']\n",
    "m_whole_dataset_stim_aligned = {}\n",
    "for eid in eid_list:\n",
    "    region_2_dat = get_data_per_recording(eid, m_regions, trial_def = [2,4,0.05], trial_timing = 'stimOn_times') #this we align trials on the stimulus time (not movement)\n",
    "    m_whole_dataset_stim_aligned[eid] = region_2_dat"
   ]
  },
  {
   "cell_type": "code",
   "execution_count": null,
   "metadata": {
    "colab": {
     "base_uri": "https://localhost:8080/"
    },
    "id": "U6nuSSslb42F",
    "outputId": "a4c1ea51-fd58-469a-83df-87c93dd038e4"
   },
   "outputs": [
    {
     "name": "stdout",
     "output_type": "stream",
     "text": [
      "KEYS:  dict_keys(['ee8b36de-779f-4dea-901f-e0141c95722b', '81a78eac-9d36-4f90-a73a-7eb3ad7f770b', '88d24c31-52e4-49cc-9f32-6adbeb9eba87'])\n",
      "**EID:  ee8b36de-779f-4dea-901f-e0141c95722b\n",
      "551\n",
      "551\n",
      "551\n",
      "551\n",
      "**EID:  81a78eac-9d36-4f90-a73a-7eb3ad7f770b\n",
      "1103\n",
      "1103\n",
      "1103\n",
      "1103\n",
      "**EID:  88d24c31-52e4-49cc-9f32-6adbeb9eba87\n",
      "546\n",
      "546\n",
      "546\n",
      "546\n",
      "massive_dat shape:  (2200, 120)\n",
      "massive_out.shape:  (2200,)\n",
      "STRv accuracy: 0.5977272727272728\n",
      "massive_dat shape:  (2200, 120)\n",
      "massive_out.shape:  (2200,)\n",
      "STRd accuracy: 0.6840909090909091\n",
      "massive_dat shape:  (2200, 120)\n",
      "massive_out.shape:  (2200,)\n",
      "MOp accuracy: 0.7068181818181818\n",
      "massive_dat shape:  (2200, 120)\n",
      "massive_out.shape:  (2200,)\n",
      "MOs accuracy: 0.7068181818181818\n",
      "KEYS:  dict_keys(['ee8b36de-779f-4dea-901f-e0141c95722b', '81a78eac-9d36-4f90-a73a-7eb3ad7f770b', '88d24c31-52e4-49cc-9f32-6adbeb9eba87'])\n",
      "**EID:  ee8b36de-779f-4dea-901f-e0141c95722b\n",
      "551\n",
      "STRv accuracy: 0.7477477477477478\n",
      "551\n",
      "STRd accuracy: 0.918918918918919\n",
      "551\n",
      "MOp accuracy: 0.8378378378378378\n",
      "551\n",
      "MOs accuracy: 0.6666666666666666\n",
      "**EID:  81a78eac-9d36-4f90-a73a-7eb3ad7f770b\n",
      "1103\n",
      "STRv accuracy: 0.6968325791855203\n",
      "1103\n",
      "STRd accuracy: 0.8959276018099548\n",
      "1103\n",
      "MOp accuracy: 0.8959276018099548\n",
      "1103\n",
      "MOs accuracy: 0.746606334841629\n",
      "**EID:  88d24c31-52e4-49cc-9f32-6adbeb9eba87\n",
      "546\n",
      "STRv accuracy: 0.8\n",
      "546\n",
      "STRd accuracy: 0.8727272727272727\n",
      "546\n",
      "MOp accuracy: 0.8454545454545455\n",
      "546\n",
      "MOs accuracy: 0.6454545454545455\n"
     ]
    }
   ],
   "source": [
    "check_accuracy_peregion(m_whole_dataset_stim_aligned, clf, squash = 'mean', across_recordings = True)\n",
    "\n",
    "check_accuracy_peregion(m_whole_dataset_stim_aligned, clf, squash = 'vec', across_recordings = False)"
   ]
  },
  {
   "cell_type": "code",
   "execution_count": null,
   "metadata": {
    "id": "DTmggCqj-7NN"
   },
   "outputs": [],
   "source": [
    "\n",
    "\n",
    "check_accuracy_peregion(whole_dataset, clf, squash = 'mean')\n",
    "print('\\nWith vectorize')\n",
    "check_accuracy_peregion(whole_dataset, clf, quash = 'vec')"
   ]
  },
  {
   "cell_type": "code",
   "execution_count": null,
   "metadata": {
    "colab": {
     "base_uri": "https://localhost:8080/",
     "height": 782
    },
    "id": "WJSDVl20DTxv",
    "outputId": "af2cfecc-c7f4-4e1f-e8d9-078359bca12c"
   },
   "outputs": [
    {
     "ename": "ValueError",
     "evalue": "ignored",
     "output_type": "error",
     "traceback": [
      "\u001b[0;31m---------------------------------------------------------------------------\u001b[0m",
      "\u001b[0;31mValueError\u001b[0m                                Traceback (most recent call last)",
      "\u001b[0;32m<ipython-input-83-1985e33dc864>\u001b[0m in \u001b[0;36m<module>\u001b[0;34m\u001b[0m\n\u001b[1;32m      1\u001b[0m \u001b[0;32mfrom\u001b[0m \u001b[0msklearn\u001b[0m \u001b[0;32mimport\u001b[0m \u001b[0msvm\u001b[0m\u001b[0;34m\u001b[0m\u001b[0;34m\u001b[0m\u001b[0m\n\u001b[1;32m      2\u001b[0m \u001b[0mclf\u001b[0m \u001b[0;34m=\u001b[0m \u001b[0msvm\u001b[0m\u001b[0;34m.\u001b[0m\u001b[0mSVC\u001b[0m\u001b[0;34m(\u001b[0m\u001b[0mkernel\u001b[0m\u001b[0;34m=\u001b[0m\u001b[0;34m'rbf'\u001b[0m\u001b[0;34m)\u001b[0m\u001b[0;34m\u001b[0m\u001b[0;34m\u001b[0m\u001b[0m\n\u001b[0;32m----> 3\u001b[0;31m \u001b[0mcheck_accuracy_peregion\u001b[0m\u001b[0;34m(\u001b[0m\u001b[0mclf\u001b[0m\u001b[0;34m,\u001b[0m \u001b[0msquash\u001b[0m \u001b[0;34m=\u001b[0m \u001b[0;34m'mean'\u001b[0m\u001b[0;34m)\u001b[0m\u001b[0;34m\u001b[0m\u001b[0;34m\u001b[0m\u001b[0m\n\u001b[0m\u001b[1;32m      4\u001b[0m \u001b[0mprint\u001b[0m\u001b[0;34m(\u001b[0m\u001b[0;34m'\\nWith vectorize'\u001b[0m\u001b[0;34m)\u001b[0m\u001b[0;34m\u001b[0m\u001b[0;34m\u001b[0m\u001b[0m\n\u001b[1;32m      5\u001b[0m \u001b[0mcheck_accuracy_peregion\u001b[0m\u001b[0;34m(\u001b[0m\u001b[0mclf\u001b[0m\u001b[0;34m,\u001b[0m \u001b[0msquash\u001b[0m \u001b[0;34m=\u001b[0m \u001b[0;34m'vec'\u001b[0m\u001b[0;34m)\u001b[0m\u001b[0;34m\u001b[0m\u001b[0;34m\u001b[0m\u001b[0m\n",
      "\u001b[0;32m<ipython-input-82-c0903719a5e5>\u001b[0m in \u001b[0;36mcheck_accuracy_peregion\u001b[0;34m(model, squash)\u001b[0m\n\u001b[1;32m     24\u001b[0m         \u001b[0mwhole_outputs\u001b[0m \u001b[0;34m=\u001b[0m \u001b[0mnp\u001b[0m\u001b[0;34m.\u001b[0m\u001b[0mhstack\u001b[0m\u001b[0;34m(\u001b[0m\u001b[0mwhole_outputs\u001b[0m\u001b[0;34m)\u001b[0m\u001b[0;34m\u001b[0m\u001b[0;34m\u001b[0m\u001b[0m\n\u001b[1;32m     25\u001b[0m \u001b[0;34m\u001b[0m\u001b[0m\n\u001b[0;32m---> 26\u001b[0;31m         \u001b[0mX_train\u001b[0m\u001b[0;34m,\u001b[0m \u001b[0mX_test\u001b[0m\u001b[0;34m,\u001b[0m \u001b[0my_train\u001b[0m\u001b[0;34m,\u001b[0m \u001b[0my_test\u001b[0m \u001b[0;34m=\u001b[0m \u001b[0mtrain_test_split\u001b[0m\u001b[0;34m(\u001b[0m\u001b[0mwhole_data\u001b[0m\u001b[0;34m,\u001b[0m \u001b[0mwhole_outputs\u001b[0m\u001b[0;34m,\u001b[0m \u001b[0mtest_size\u001b[0m\u001b[0;34m=\u001b[0m\u001b[0;36m0.2\u001b[0m\u001b[0;34m)\u001b[0m\u001b[0;34m\u001b[0m\u001b[0;34m\u001b[0m\u001b[0m\n\u001b[0m\u001b[1;32m     27\u001b[0m \u001b[0;34m\u001b[0m\u001b[0m\n\u001b[1;32m     28\u001b[0m         \u001b[0mmodel\u001b[0m\u001b[0;34m.\u001b[0m\u001b[0mfit\u001b[0m\u001b[0;34m(\u001b[0m\u001b[0mX_train\u001b[0m\u001b[0;34m,\u001b[0m \u001b[0my_train\u001b[0m\u001b[0;34m)\u001b[0m\u001b[0;34m\u001b[0m\u001b[0;34m\u001b[0m\u001b[0m\n",
      "\u001b[0;32m/usr/local/lib/python3.9/dist-packages/sklearn/model_selection/_split.py\u001b[0m in \u001b[0;36mtrain_test_split\u001b[0;34m(test_size, train_size, random_state, shuffle, stratify, *arrays)\u001b[0m\n\u001b[1;32m   2557\u001b[0m         \u001b[0;32mraise\u001b[0m \u001b[0mValueError\u001b[0m\u001b[0;34m(\u001b[0m\u001b[0;34m\"At least one array required as input\"\u001b[0m\u001b[0;34m)\u001b[0m\u001b[0;34m\u001b[0m\u001b[0;34m\u001b[0m\u001b[0m\n\u001b[1;32m   2558\u001b[0m \u001b[0;34m\u001b[0m\u001b[0m\n\u001b[0;32m-> 2559\u001b[0;31m     \u001b[0marrays\u001b[0m \u001b[0;34m=\u001b[0m \u001b[0mindexable\u001b[0m\u001b[0;34m(\u001b[0m\u001b[0;34m*\u001b[0m\u001b[0marrays\u001b[0m\u001b[0;34m)\u001b[0m\u001b[0;34m\u001b[0m\u001b[0;34m\u001b[0m\u001b[0m\n\u001b[0m\u001b[1;32m   2560\u001b[0m \u001b[0;34m\u001b[0m\u001b[0m\n\u001b[1;32m   2561\u001b[0m     \u001b[0mn_samples\u001b[0m \u001b[0;34m=\u001b[0m \u001b[0m_num_samples\u001b[0m\u001b[0;34m(\u001b[0m\u001b[0marrays\u001b[0m\u001b[0;34m[\u001b[0m\u001b[0;36m0\u001b[0m\u001b[0;34m]\u001b[0m\u001b[0;34m)\u001b[0m\u001b[0;34m\u001b[0m\u001b[0;34m\u001b[0m\u001b[0m\n",
      "\u001b[0;32m/usr/local/lib/python3.9/dist-packages/sklearn/utils/validation.py\u001b[0m in \u001b[0;36mindexable\u001b[0;34m(*iterables)\u001b[0m\n\u001b[1;32m    441\u001b[0m \u001b[0;34m\u001b[0m\u001b[0m\n\u001b[1;32m    442\u001b[0m     \u001b[0mresult\u001b[0m \u001b[0;34m=\u001b[0m \u001b[0;34m[\u001b[0m\u001b[0m_make_indexable\u001b[0m\u001b[0;34m(\u001b[0m\u001b[0mX\u001b[0m\u001b[0;34m)\u001b[0m \u001b[0;32mfor\u001b[0m \u001b[0mX\u001b[0m \u001b[0;32min\u001b[0m \u001b[0miterables\u001b[0m\u001b[0;34m]\u001b[0m\u001b[0;34m\u001b[0m\u001b[0;34m\u001b[0m\u001b[0m\n\u001b[0;32m--> 443\u001b[0;31m     \u001b[0mcheck_consistent_length\u001b[0m\u001b[0;34m(\u001b[0m\u001b[0;34m*\u001b[0m\u001b[0mresult\u001b[0m\u001b[0;34m)\u001b[0m\u001b[0;34m\u001b[0m\u001b[0;34m\u001b[0m\u001b[0m\n\u001b[0m\u001b[1;32m    444\u001b[0m     \u001b[0;32mreturn\u001b[0m \u001b[0mresult\u001b[0m\u001b[0;34m\u001b[0m\u001b[0;34m\u001b[0m\u001b[0m\n\u001b[1;32m    445\u001b[0m \u001b[0;34m\u001b[0m\u001b[0m\n",
      "\u001b[0;32m/usr/local/lib/python3.9/dist-packages/sklearn/utils/validation.py\u001b[0m in \u001b[0;36mcheck_consistent_length\u001b[0;34m(*arrays)\u001b[0m\n\u001b[1;32m    395\u001b[0m     \u001b[0muniques\u001b[0m \u001b[0;34m=\u001b[0m \u001b[0mnp\u001b[0m\u001b[0;34m.\u001b[0m\u001b[0munique\u001b[0m\u001b[0;34m(\u001b[0m\u001b[0mlengths\u001b[0m\u001b[0;34m)\u001b[0m\u001b[0;34m\u001b[0m\u001b[0;34m\u001b[0m\u001b[0m\n\u001b[1;32m    396\u001b[0m     \u001b[0;32mif\u001b[0m \u001b[0mlen\u001b[0m\u001b[0;34m(\u001b[0m\u001b[0muniques\u001b[0m\u001b[0;34m)\u001b[0m \u001b[0;34m>\u001b[0m \u001b[0;36m1\u001b[0m\u001b[0;34m:\u001b[0m\u001b[0;34m\u001b[0m\u001b[0;34m\u001b[0m\u001b[0m\n\u001b[0;32m--> 397\u001b[0;31m         raise ValueError(\n\u001b[0m\u001b[1;32m    398\u001b[0m             \u001b[0;34m\"Found input variables with inconsistent numbers of samples: %r\"\u001b[0m\u001b[0;34m\u001b[0m\u001b[0;34m\u001b[0m\u001b[0m\n\u001b[1;32m    399\u001b[0m             \u001b[0;34m%\u001b[0m \u001b[0;34m[\u001b[0m\u001b[0mint\u001b[0m\u001b[0;34m(\u001b[0m\u001b[0ml\u001b[0m\u001b[0;34m)\u001b[0m \u001b[0;32mfor\u001b[0m \u001b[0ml\u001b[0m \u001b[0;32min\u001b[0m \u001b[0mlengths\u001b[0m\u001b[0;34m]\u001b[0m\u001b[0;34m\u001b[0m\u001b[0;34m\u001b[0m\u001b[0m\n",
      "\u001b[0;31mValueError\u001b[0m: Found input variables with inconsistent numbers of samples: [30, 600]"
     ]
    }
   ],
   "source": [
    "from sklearn import svm\n",
    "clf = svm.SVC(kernel='rbf')\n",
    "check_accuracy_peregion(clf, squash = 'mean')\n",
    "print('\\nWith vectorize')\n",
    "check_accuracy_peregion(clf, squash = 'vec')"
   ]
  },
  {
   "cell_type": "code",
   "execution_count": null,
   "metadata": {
    "colab": {
     "base_uri": "https://localhost:8080/"
    },
    "id": "r0RULJps_pWL",
    "outputId": "ca8e0696-cb9b-46f4-daf3-37f669cc6022"
   },
   "outputs": [
    {
     "name": "stdout",
     "output_type": "stream",
     "text": [
      "MOp accuracy: 0.5833333333333334\n",
      "MOs accuracy: 0.6416666666666667\n",
      "ACAd accuracy: 0.6833333333333333\n",
      "ACAv accuracy: 0.6166666666666667\n",
      "PL accuracy: 0.7166666666666667\n",
      "ILA accuracy: 0.6583333333333333\n",
      "TT accuracy: 0.5833333333333334\n",
      "DP accuracy: 0.5666666666666667\n",
      "CA3 accuracy: 0.6416666666666667\n",
      "DG accuracy: 0.5583333333333333\n",
      "ACB accuracy: 0.5833333333333334\n",
      "OT accuracy: 0.5583333333333333\n",
      "LSr accuracy: 0.5833333333333334\n",
      "SI accuracy: 0.6\n",
      "AMd accuracy: 0.5666666666666667\n",
      "IAD accuracy: 0.6416666666666667\n",
      "MD accuracy: 0.6\n",
      "PVT accuracy: 0.6166666666666667\n",
      "CM accuracy: 0.5833333333333334\n"
     ]
    }
   ],
   "source": [
    "from sklearn.naive_bayes import GaussianNB\n",
    "gnb = GaussianNB()\n",
    "check_accuracy_peregion(clf)"
   ]
  },
  {
   "cell_type": "code",
   "execution_count": null,
   "metadata": {
    "colab": {
     "base_uri": "https://localhost:8080/"
    },
    "id": "otGFfSJP_zoj",
    "outputId": "6820eddc-71d1-4ced-9536-6a2217ec59c2"
   },
   "outputs": [
    {
     "name": "stdout",
     "output_type": "stream",
     "text": [
      "MOp accuracy: 0.6083333333333333\n",
      "MOs accuracy: 0.7166666666666667\n",
      "ACAd accuracy: 0.7083333333333334\n",
      "ACAv accuracy: 0.65\n",
      "PL accuracy: 0.725\n",
      "ILA accuracy: 0.7\n",
      "TT accuracy: 0.625\n",
      "DP accuracy: 0.5916666666666667\n",
      "CA3 accuracy: 0.6333333333333333\n",
      "DG accuracy: 0.6166666666666667\n",
      "ACB accuracy: 0.675\n",
      "OT accuracy: 0.5\n",
      "LSr accuracy: 0.5583333333333333\n",
      "SI accuracy: 0.625\n",
      "AMd accuracy: 0.55\n",
      "IAD accuracy: 0.6083333333333333\n",
      "MD accuracy: 0.5916666666666667\n",
      "PVT accuracy: 0.5583333333333333\n",
      "CM accuracy: 0.55\n"
     ]
    }
   ],
   "source": [
    "from sklearn.linear_model import LogisticRegression\n",
    "clf_logr = LogisticRegression(random_state=0)\n",
    "check_accuracy_peregion(clf_logr)"
   ]
  },
  {
   "cell_type": "code",
   "execution_count": null,
   "metadata": {
    "colab": {
     "base_uri": "https://localhost:8080/"
    },
    "id": "t24OvORC885J",
    "outputId": "90e16df2-bef4-4f3f-f3ac-e166f27b20c2"
   },
   "outputs": [
    {
     "name": "stdout",
     "output_type": "stream",
     "text": [
      "(480, 15) (480, 117)\n",
      "(480, 132) (480, 38)\n",
      "(480, 170) (480, 33)\n",
      "(480, 203) (480, 39)\n",
      "(480, 242) (480, 212)\n",
      "(480, 454) (480, 9)\n",
      "(480, 463) (480, 3)\n",
      "(480, 466) (480, 23)\n",
      "(480, 489) (480, 27)\n",
      "(480, 516) (480, 251)\n",
      "(480, 767) (480, 4)\n",
      "(480, 771) (480, 98)\n",
      "(480, 869) (480, 55)\n",
      "(480, 924) (480, 13)\n",
      "(480, 937) (480, 27)\n",
      "(480, 964) (480, 46)\n",
      "(480, 1010) (480, 84)\n",
      "(480, 1094) (480, 16)\n",
      "(480, 1110)\n",
      "(120, 1110)\n"
     ]
    }
   ],
   "source": [
    "#first pass classification task\n",
    "\n",
    "rois = region_2_data.keys()\n",
    "X_trains = None\n",
    "X_tests = None\n",
    "\n",
    "for ex_roi in rois:\n",
    "    num_trials = region_2_data[ex_roi][-1]['trial_data']['choices'].shape[0] + region_2_data[ex_roi][1]['trial_data']['choices'].shape[0]\n",
    "    training_size = 480\n",
    "\n",
    "    T = region_2_data[ex_roi][1]['spike_counts'].shape[-1]\n",
    "    whole_data = []\n",
    "    whole_outputs = []\n",
    "\n",
    "    for condition in [-1,1]:\n",
    "        spike_counts = region_2_data[ex_roi][condition]['spike_counts']\n",
    "\n",
    "        whole_data.append(dat)\n",
    "        whole_outputs.append(region_2_data[ex_roi][condition]['trial_data']['choices'])\n",
    "    whole_data = np.vstack(whole_data)\n",
    "    whole_outputs = np.hstack(whole_outputs)\n",
    "\n",
    "    from sklearn.model_selection import train_test_split\n",
    "    X_train, X_test, y_train, y_test = train_test_split(whole_data, whole_outputs, test_size=0.2)\n",
    "    if X_trains is None:\n",
    "        X_trains = X_train\n",
    "        X_tests = X_test\n",
    "    else:\n",
    "        print(X_trains.shape, X_train.shape)\n",
    "        X_trains = np.hstack([X_trains, X_train])\n",
    "        X_tests = np.hstack([X_tests, X_test])\n",
    "    \n",
    "\n",
    "print(X_trains.shape)\n",
    "print(X_tests.shape)\n",
    "\n"
   ]
  },
  {
   "cell_type": "code",
   "execution_count": null,
   "metadata": {
    "colab": {
     "base_uri": "https://localhost:8080/"
    },
    "id": "pag-3eoA95EV",
    "outputId": "ec09b565-1b8c-42eb-d4a4-3622f3a9a423"
   },
   "outputs": [
    {
     "name": "stdout",
     "output_type": "stream",
     "text": [
      "CM accuracy: 0.5833333333333334\n"
     ]
    }
   ],
   "source": [
    "from sklearn import svm\n",
    "clf = svm.SVC(kernel='rbf')\n",
    "clf.fit(X_trains, y_train)\n",
    "y_pred = clf.predict(X_tests)\n",
    "from sklearn import metrics\n",
    "\n",
    "# Model Accuracy: how often is the classifier correct?\n",
    "print(ex_roi + \" accuracy:\",metrics.accuracy_score(y_test, y_pred))"
   ]
  }
 ],
 "metadata": {
  "colab": {
   "provenance": [],
   "toc_visible": true
  },
  "kernelspec": {
   "display_name": "Python 3 (ipykernel)",
   "language": "python",
   "name": "python3"
  },
  "language_info": {
   "codemirror_mode": {
    "name": "ipython",
    "version": 3
   },
   "file_extension": ".py",
   "mimetype": "text/x-python",
   "name": "python",
   "nbconvert_exporter": "python",
   "pygments_lexer": "ipython3",
   "version": "3.10.6"
  }
 },
 "nbformat": 4,
 "nbformat_minor": 1
}
